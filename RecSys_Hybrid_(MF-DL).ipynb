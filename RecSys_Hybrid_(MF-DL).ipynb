{
  "nbformat": 4,
  "nbformat_minor": 0,
  "metadata": {
    "colab": {
      "provenance": [],
      "collapsed_sections": [
        "zoVtFSgh21wE"
      ],
      "authorship_tag": "ABX9TyO/erxyD1ySUI4R+4QP77dS",
      "include_colab_link": true
    },
    "kernelspec": {
      "name": "python3",
      "display_name": "Python 3"
    },
    "language_info": {
      "name": "python"
    },
    "gpuClass": "standard",
    "accelerator": "GPU"
  },
  "cells": [
    {
      "cell_type": "markdown",
      "metadata": {
        "id": "view-in-github",
        "colab_type": "text"
      },
      "source": [
        "<a href=\"https://colab.research.google.com/github/CP2J/cp2j/blob/ACJ-14-Hybrid_Model/RecSys_Hybrid_(MF-DL).ipynb\" target=\"_parent\"><img src=\"https://colab.research.google.com/assets/colab-badge.svg\" alt=\"Open In Colab\"/></a>"
      ]
    },
    {
      "cell_type": "markdown",
      "source": [
        "# 하이브리드 추천시스템 (MF_SGD + DL)"
      ],
      "metadata": {
        "id": "BvWwCwyQsmKG"
      }
    },
    {
      "cell_type": "code",
      "execution_count": 1,
      "metadata": {
        "id": "-4VKCeENpw-2"
      },
      "outputs": [],
      "source": [
        "import numpy as np\n",
        "import pandas as pd"
      ]
    },
    {
      "cell_type": "code",
      "source": [
        "from google.colab import drive\n",
        "drive.mount('/content/drive')\n",
        "#rating = pd.read_csv('/content/drive/MyDrive/ml-100k/u.data', sep='\\t', header=None, names=['user_id', 'item_id', 'rating', 'timestamp'])"
      ],
      "metadata": {
        "colab": {
          "base_uri": "https://localhost:8080/"
        },
        "id": "2CkMxfW6tNVH",
        "outputId": "3425a50e-0a63-42c0-ce3b-ffb14c8e4e48"
      },
      "execution_count": 2,
      "outputs": [
        {
          "output_type": "stream",
          "name": "stdout",
          "text": [
            "Mounted at /content/drive\n"
          ]
        }
      ]
    },
    {
      "cell_type": "code",
      "source": [
        "# 데이터 읽어 오기 \n",
        "r_cols = ['user_id', 'movie_id', 'rating', 'timestamp']\n",
        "ratings = pd.read_csv('/content/drive/MyDrive/ml-100k/u.data', names=r_cols,  sep='\\t',encoding='latin-1')\n",
        "ratings = ratings[['user_id', 'movie_id', 'rating']].astype(int)            # timestamp 제거"
      ],
      "metadata": {
        "id": "wgDyHUCCtUH2"
      },
      "execution_count": 3,
      "outputs": []
    },
    {
      "cell_type": "code",
      "source": [
        "# train test 분리\n",
        "from sklearn.utils import shuffle\n",
        "TRAIN_SIZE = 0.75\n",
        "ratings = shuffle(ratings, random_state=1)\n",
        "cutoff = int(TRAIN_SIZE * len(ratings))\n",
        "ratings_train = ratings.iloc[:cutoff]\n",
        "ratings_test = ratings.iloc[cutoff:]"
      ],
      "metadata": {
        "id": "5DpxnLgntbsJ"
      },
      "execution_count": 4,
      "outputs": []
    },
    {
      "cell_type": "code",
      "source": [
        "# 정확도(RMSE)를 계산하는 함수 \n",
        "def RMSE(y_true, y_pred):\n",
        "    return np.sqrt(np.mean((np.array(y_true) - np.array(y_pred))**2))"
      ],
      "metadata": {
        "id": "QkJKXYgdxYl7"
      },
      "execution_count": 5,
      "outputs": []
    },
    {
      "cell_type": "markdown",
      "source": [
        "# MF-SGD"
      ],
      "metadata": {
        "id": "1NWGs_Nf26QX"
      }
    },
    {
      "cell_type": "code",
      "source": [
        "##### MF-SGD 추천 알고리즘 >>>>>>>>>>>>>>>\n",
        "class NEW_MF():\n",
        "    def __init__(self, ratings, K, alpha, beta, iterations, verbose=True):  # 클래스 생성시 실행되는 초기화 함수\n",
        "        self.R = np.array(ratings)    # df ratings를 np.array로 바꿔 self.R에 저장\n",
        "\n",
        "        item_id_index = []    # 변수 초기화\n",
        "        index_item_id = []    # 변수 초기화\n",
        "        for i, one_id in enumerate(ratings):        # df ratings의 각 items에 대해서 아래 작업 수행\n",
        "            item_id_index.append([one_id, i])       # save id - index \n",
        "            index_item_id.append([i, one_id])       # save index - id\n",
        "        self.item_id_index = dict(item_id_index)    # dict로 변환\n",
        "        self.index_item_id = dict(index_item_id)    # dict로 변환\n",
        "\n",
        "        user_id_index = []                          # 사용자에 대해서도 실행\n",
        "        index_user_id = []\n",
        "        for i, one_id in enumerate(ratings.T):\n",
        "            user_id_index.append([one_id, i])\n",
        "            index_user_id.append([i, one_id])\n",
        "        self.user_id_index = dict(user_id_index)    # dict로 변환\n",
        "        self.index_user_id = dict(index_user_id)\n",
        "\n",
        "        self.num_users, self.num_items = np.shape(self.R)\n",
        "        self.K = K                                  # 잠재요인 수\n",
        "        self.alpha = alpha                          # 학습률\n",
        "        self.beta = beta                            # 정규화계수\n",
        "        self.iterations = iterations                # SGD 계산 반복 횟수\n",
        "        self.verbose = verbose                      # 중간 학습과정 출력여부\n",
        "\n",
        "    # train set의 RMSE 계산\n",
        "    def rmse(self):                            # 현재 P,Q로 RMSE 계산\n",
        "        xs, ys = self.R.nonzero()              # R에서 평점이 있는(NOT NULL) 요소의 인덱스들\n",
        "        self.predictions = []\n",
        "        self.errors = []\n",
        "        for x, y in zip(xs, ys):                            # 평점이 있는 요소(사용자 x, 아이템 y)에 대해:\n",
        "            prediction = self.get_prediction(x, y)\n",
        "            self.predictions.append(prediction)             # 예측값을 예측리스트에,\n",
        "            self.errors.append(self.R[x, y] - prediction)   # 오차를 오차리스트에 저장\n",
        "        self.predictions = np.array(self.predictions)\n",
        "        self.errors = np.array(self.errors)\n",
        "        return np.sqrt(np.mean(self.errors**2))\n",
        "\n",
        "    # Predict Ratings for user i and item j\n",
        "    def get_prediction(self, i, j):\n",
        "        prediction = self.b + self.b_u[i] + self.b_d[j] + self.P[i, :].dot(self.Q[j, :].T)    # 평점 예측치(r^)의 식에 사용자, 아이템 편향 추가한 식\n",
        "        # b : 전체평균, b_u[i] : 사용자i 평가경향(bias), b_d[j] : 아이템j 평가경향, 넷째항 : P, Q.T를 내적한 예측평점\n",
        "        return prediction\n",
        "\n",
        "    # Stochastic gradient descent to get optimized P and Q matrix\n",
        "    def sgd(self):\n",
        "        for i, j, r in self.samples:                # samples의 (user-item-rating) set에 대해 sgd적용\n",
        "            prediction = self.get_prediction(i, j)\n",
        "            e = (r - prediction)                    # 오차 = 실제평점 - 예측\n",
        "\n",
        "            self.b_u[i] += self.alpha * (e - self.beta * self.b_u[i])     # 사용자,아이템의 경향성을 고려된 평점예측식의 편미분식으로 사용자 평가경향 업데이트\n",
        "            self.b_d[j] += self.alpha * (e - self.beta * self.b_d[j])     # 아이템 평가경향 업데이트\n",
        "\n",
        "            self.P[i, :] += self.alpha * (e * self.Q[j, :] - self.beta * self.P[i,:])   # 정규화항 추가된 평점예측식의 편미분식으로 P행렬 업뎃\n",
        "            self.Q[j, :] += self.alpha * (e * self.P[i, :] - self.beta * self.Q[j,:])   # Q 업뎃\n",
        "\n",
        "    # Test set을 선정 - 분리된 test set을 넘겨받아서 클래스 내부의 test set을 만드는 함수\n",
        "    def set_test(self, ratings_test):\n",
        "        test_set = []\n",
        "        for i in range(len(ratings_test)):\n",
        "            x = self.user_id_index[ratings_test.iloc[i, 0]]   # 현재 사용자의 인덱스를 user_id_index(매핑 리스트)에서 받아옴\n",
        "            y = self.item_id_index[ratings_test.iloc[i, 1]]   # 현재 아이템의 인덱스를 item_id_index(매핑 리스트)에서 받아옴\n",
        "            z = ratings_test.iloc[i, 2]                       # 현재 (사용자-아이템)의 평점\n",
        "            test_set.append([x, y, z])          # 현재 (사용자-아이템-평점)을 test_set에 추가\n",
        "            self.R[x, y] = 0                    # Setting test set ratings to 0 : MF는 R 전체를 사용해서 학습하기 때문에 test set은 평점을 지움\n",
        "        self.test_set = test_set                # test_set을 클래스에 저장한다.\n",
        "        return test_set                         # Return test set\n",
        "\n",
        "    # Test set의 RMSE 계산\n",
        "    def test_rmse(self):\n",
        "        error = 0\n",
        "        for one_set in self.test_set:\n",
        "            predicted = self.get_prediction(one_set[0], one_set[1])\n",
        "            error += pow(one_set[2] - predicted, 2)       # 오차(평점 실제값 - 예측평점)의 제곱을 누적한 값이 저장된다.\n",
        "        return np.sqrt(error/len(self.test_set))          # error를 RMSE로 변환해서 돌려준다.\n",
        "\n",
        "    # Training 하면서 test set의 정확도를 계산\n",
        "    def test(self):   # MF모델을 SGD방식으로 훈련하는 핵심 함수이다.\n",
        "        # Initializing user-feature and item-feature matrix\n",
        "        self.P = np.random.normal(scale=1./self.K, size=(self.num_users, self.K))   # P행렬을 (평균 0, 표준편차 1/K인 정규분포 난수)로 초기화한다.\n",
        "        self.Q = np.random.normal(scale=1./self.K, size=(self.num_items, self.K))   # Q행렬 초기화한다.\n",
        "\n",
        "        # Initializing the bias terms\n",
        "        self.b_u = np.zeros(self.num_users)           # 사용자 평가경향을 초기화, array크기는 사용자수(num_users)와 동일하다.\n",
        "        self.b_d = np.zeros(self.num_items)           # 아이템 평가경향을 초기화한다.\n",
        "        self.b = np.mean(self.R[self.R.nonzero()])    # 전체 평균을 구해서 저장한다.\n",
        "\n",
        "        # List of training samples\n",
        "        rows, columns = self.R.nonzero()              # 평점행렬 R 중에서 평점있는 요소의 인덱스를 가져온다.\n",
        "        self.samples = [(i, j, self.R[i,j]) for i, j in zip(rows, columns)]   \n",
        "        # SGD를 적용할 대상, 즉 평점이 있는 요소의 인덱스와 평점을 리스트로 만들어 samples에 저장한다.\n",
        "\n",
        "        # Stochastic gradient descent for given number of iterations\n",
        "        training_process = []                             # training_process 를 초기화한다. SGD를 한번 실행할 때마다 RMSE가 얼마나 개선되는지를 기록한다.\n",
        "        for i in range(self.iterations):                  # 지정된 반복 횟수만큼 SGD를 실행한다.\n",
        "            np.random.shuffle(self.samples)               # samples 를 임의로 섞는다. 출발점에 따라 수렴의 속도가 달라질 수 있기 때문이다.\n",
        "            self.sgd()                                    # SGD를 실행하는 함수를 호출한다.\n",
        "            rmse1 = self.rmse()                           # SGD로 P, Q, bu, bd가 업데이트 되었으므로 이에 따른 RMSE를 계산한다.\n",
        "            rmse2 = self.test_rmse()                      # test set은 별도로 계산한다.\n",
        "            training_process.append((i+1, rmse1, rmse2))  # 결과를 저장한다.\n",
        "            if self.verbose:                              # verbose가 True이면 10회 반복마다 중간 결과를 표시한다.\n",
        "                if (i+1) % 10 == 0:\n",
        "                    print(\"Iteration: %d ; Train RMSE = %.4f ; Test RMSE = %.4f\" % (i+1, rmse1, rmse2))\n",
        "        return training_process\n",
        "\n",
        "    # Ratings for given user_id and item_id\n",
        "    def get_one_prediction(self, user_id, item_id):\n",
        "        prediction = self.get_prediction(self.user_id_index[user_id], self.item_id_index[item_id])\n",
        "        return prediction\n",
        "\n",
        "    # Full user-movie rating matrix (모든 사용자의 모든 아이템에 대한 예측치(Full matrix)를 계산해서 돌려준다)\n",
        "    def full_prediction(self):\n",
        "        return self.b + self.b_u[:,np.newaxis] + self.b_d[np.newaxis,:] + self.P.dot(self.Q.T)\n",
        "        # $\\hat{r}_{ij}=b+bu_i+bd_j+\\sum_{k=1}^Kp_{ik}q_{kj}$\n"
      ],
      "metadata": {
        "id": "kyRxSHB4CLKq"
      },
      "execution_count": 6,
      "outputs": []
    },
    {
      "cell_type": "code",
      "source": [
        "# MF클래스 생성 및 학습\n",
        "R_temp = ratings.pivot(index='user_id', columns='movie_id', values='rating').fillna(0)    # 전체 데이터를 full matrix로 변환한다.\n",
        "mf = NEW_MF(R_temp, K=200, alpha=0.001, beta=0.02, iterations=300, verbose=True)          # NEW-MF 클래스를 생성한다.\n",
        "test_set = mf.set_test(ratings_test)    # ratings_test를 테스트 데이터로 지정하도록 set_test() 함수를 호출한다.\n",
        "result = mf.test()                      # 정해진 파라미터에 따라 MF 훈련과 정확도 계산을 실행한다."
      ],
      "metadata": {
        "colab": {
          "base_uri": "https://localhost:8080/"
        },
        "id": "zwrF4tqY70R1",
        "outputId": "0029a21b-c38d-4ed4-85f1-8ae783618b31"
      },
      "execution_count": 7,
      "outputs": [
        {
          "output_type": "stream",
          "name": "stdout",
          "text": [
            "Iteration: 10 ; Train RMSE = 0.9664 ; Test RMSE = 0.9834\n",
            "Iteration: 20 ; Train RMSE = 0.9420 ; Test RMSE = 0.9644\n",
            "Iteration: 30 ; Train RMSE = 0.9313 ; Test RMSE = 0.9566\n",
            "Iteration: 40 ; Train RMSE = 0.9253 ; Test RMSE = 0.9523\n",
            "Iteration: 50 ; Train RMSE = 0.9214 ; Test RMSE = 0.9497\n",
            "Iteration: 60 ; Train RMSE = 0.9186 ; Test RMSE = 0.9480\n",
            "Iteration: 70 ; Train RMSE = 0.9165 ; Test RMSE = 0.9468\n",
            "Iteration: 80 ; Train RMSE = 0.9147 ; Test RMSE = 0.9459\n",
            "Iteration: 90 ; Train RMSE = 0.9130 ; Test RMSE = 0.9451\n",
            "Iteration: 100 ; Train RMSE = 0.9111 ; Test RMSE = 0.9444\n",
            "Iteration: 110 ; Train RMSE = 0.9088 ; Test RMSE = 0.9435\n",
            "Iteration: 120 ; Train RMSE = 0.9056 ; Test RMSE = 0.9423\n",
            "Iteration: 130 ; Train RMSE = 0.9010 ; Test RMSE = 0.9405\n",
            "Iteration: 140 ; Train RMSE = 0.8945 ; Test RMSE = 0.9380\n",
            "Iteration: 150 ; Train RMSE = 0.8859 ; Test RMSE = 0.9348\n",
            "Iteration: 160 ; Train RMSE = 0.8753 ; Test RMSE = 0.9312\n",
            "Iteration: 170 ; Train RMSE = 0.8630 ; Test RMSE = 0.9276\n",
            "Iteration: 180 ; Train RMSE = 0.8494 ; Test RMSE = 0.9242\n",
            "Iteration: 190 ; Train RMSE = 0.8345 ; Test RMSE = 0.9211\n",
            "Iteration: 200 ; Train RMSE = 0.8179 ; Test RMSE = 0.9183\n",
            "Iteration: 210 ; Train RMSE = 0.7998 ; Test RMSE = 0.9159\n",
            "Iteration: 220 ; Train RMSE = 0.7799 ; Test RMSE = 0.9138\n",
            "Iteration: 230 ; Train RMSE = 0.7585 ; Test RMSE = 0.9122\n",
            "Iteration: 240 ; Train RMSE = 0.7359 ; Test RMSE = 0.9112\n",
            "Iteration: 250 ; Train RMSE = 0.7124 ; Test RMSE = 0.9107\n",
            "Iteration: 260 ; Train RMSE = 0.6883 ; Test RMSE = 0.9108\n",
            "Iteration: 270 ; Train RMSE = 0.6640 ; Test RMSE = 0.9115\n",
            "Iteration: 280 ; Train RMSE = 0.6397 ; Test RMSE = 0.9125\n",
            "Iteration: 290 ; Train RMSE = 0.6158 ; Test RMSE = 0.9140\n",
            "Iteration: 300 ; Train RMSE = 0.5922 ; Test RMSE = 0.9157\n"
          ]
        }
      ]
    },
    {
      "cell_type": "markdown",
      "source": [
        "# DL"
      ],
      "metadata": {
        "id": "2Fn_1Uh0MXNi"
      }
    },
    {
      "cell_type": "code",
      "source": [
        "##### (1)\n",
        "import tensorflow as tf\n",
        "from tensorflow.keras import layers\n",
        "from tensorflow.keras.models import Model\n",
        "from tensorflow.keras.layers import Input, Embedding, Dot, Add, Flatten\n",
        "from tensorflow.keras.regularizers import l2\n",
        "from tensorflow.keras.optimizers import SGD, Adamax"
      ],
      "metadata": {
        "id": "8tgw3_ikMWll"
      },
      "execution_count": 8,
      "outputs": []
    },
    {
      "cell_type": "code",
      "source": [
        "# Variable 초기화\n",
        "K = 200                               # Latent factor(잠재요인) 수\n",
        "mu = ratings_train.rating.mean()      # 전체 평균\n",
        "M = ratings.user_id.max() +1          # 사용자 아이디 최대값+1 : Number of users로 간주, 추후 Embedding에 사용\n",
        "# 사용자 아이디는 1부터 943이지만(위 describe 참고)\n",
        "# adding 1 ensures that all user IDs from 0 to the maximum ID are included in the embedding layer.\n",
        "N = ratings.movie_id.max() +1         # Number of movies\n",
        "\n",
        "# RMSE 정의\n",
        "def RMSE(y_true, y_pred):\n",
        "    return tf.sqrt(tf.reduce_mean(tf.square(y_true - y_pred)))"
      ],
      "metadata": {
        "id": "B880jNpHNmK0"
      },
      "execution_count": 9,
      "outputs": []
    },
    {
      "cell_type": "code",
      "source": [
        "##### (2)\n",
        "# Keras model\n",
        "user = Input(shape=(1, ))                                             # 사용자 데이터 입력 형식 지정(id만 받음)\n",
        "item = Input(shape=(1, ))                                             # 아이템 데이터 입력 형식 지정(id만 받음)\n",
        "P_embedding = Embedding(M, K, embeddings_regularizer=l2())(user)      # 사용자 Embedding layer 지정 (M, 1, K) : (M X K)의 연결을 가진다.\n",
        "Q_embedding = Embedding(N, K, embeddings_regularizer=l2())(item)      # 아이템 Embedding layer 지정 (N, 1, K) : (N X K)의 연결을 가진다.\n",
        "user_bias = Embedding(M, 1, embeddings_regularizer=l2())(user)        # User bias term (M, 1, ) : (M X 1)의 연결\n",
        "item_bias = Embedding(N, 1, embeddings_regularizer=l2())(item)        # Item bias term (N, 1, ) : (N X 1)의 연결\n",
        "\n",
        "# Concatenate layers\n",
        "from tensorflow.keras.layers import Dense, Concatenate, Activation    # 나중에 layer 구성에서 사용할 메소드 로드\n",
        "P_embedding = Flatten()(P_embedding)          # (K, )\n",
        "Q_embedding = Flatten()(Q_embedding)          # (K, )\n",
        "user_bias = Flatten()(user_bias)              # (1, )\n",
        "item_bias = Flatten()(item_bias)              # (1, )\n",
        "# Concatenate() 위해서 1차원으로 줄인다.\n",
        "R = Concatenate()([P_embedding, Q_embedding, user_bias, item_bias])   # (2K+2, )\n",
        "# P, Q, 사용자 bias, 아이템 bias를 붙여서 하나의 layer를 만든다.\n",
        "\n",
        "# Neural network\n",
        "R = Dense(2048)(R)              # 노드가 2048개인 dense layer 추가\n",
        "R = Activation('relu')(R)       # 이 layer의 activation 함수 : 'relu'\n",
        "R = Dense(256)(R)               # 노드가 256개인 dense layer 하나 더 추가\n",
        "R = Activation('linear')(R)     # 이 layer의 activation 함수 : 'linear'\n",
        "R = Dense(1)(R)                 # 노드가 1개인 dense layer를 하나 더 추가 한다. 이 layer가 출력에 연결된다.\n",
        "\n",
        "# Model setting : 위의 신경망과 입력을 연결해서 모델을 구성한다.\n",
        "model = Model(inputs = [user, item], outputs = R)\n",
        "model.compile(\n",
        "    loss = RMSE,                # loss함수\n",
        "    optimizer = SGD(),\n",
        "    #optimizer = Adamax(),\n",
        "    metrics = [RMSE]            # 측정지표\n",
        ")\n",
        "\n",
        "model.summary()"
      ],
      "metadata": {
        "id": "7Xtk3JPsN5Aj",
        "outputId": "219ec9ac-5668-411b-e5d7-59e55cddf603",
        "colab": {
          "base_uri": "https://localhost:8080/"
        }
      },
      "execution_count": 10,
      "outputs": [
        {
          "output_type": "stream",
          "name": "stdout",
          "text": [
            "Model: \"model\"\n",
            "__________________________________________________________________________________________________\n",
            " Layer (type)                   Output Shape         Param #     Connected to                     \n",
            "==================================================================================================\n",
            " input_1 (InputLayer)           [(None, 1)]          0           []                               \n",
            "                                                                                                  \n",
            " input_2 (InputLayer)           [(None, 1)]          0           []                               \n",
            "                                                                                                  \n",
            " embedding (Embedding)          (None, 1, 200)       188800      ['input_1[0][0]']                \n",
            "                                                                                                  \n",
            " embedding_1 (Embedding)        (None, 1, 200)       336600      ['input_2[0][0]']                \n",
            "                                                                                                  \n",
            " embedding_2 (Embedding)        (None, 1, 1)         944         ['input_1[0][0]']                \n",
            "                                                                                                  \n",
            " embedding_3 (Embedding)        (None, 1, 1)         1683        ['input_2[0][0]']                \n",
            "                                                                                                  \n",
            " flatten (Flatten)              (None, 200)          0           ['embedding[0][0]']              \n",
            "                                                                                                  \n",
            " flatten_1 (Flatten)            (None, 200)          0           ['embedding_1[0][0]']            \n",
            "                                                                                                  \n",
            " flatten_2 (Flatten)            (None, 1)            0           ['embedding_2[0][0]']            \n",
            "                                                                                                  \n",
            " flatten_3 (Flatten)            (None, 1)            0           ['embedding_3[0][0]']            \n",
            "                                                                                                  \n",
            " concatenate (Concatenate)      (None, 402)          0           ['flatten[0][0]',                \n",
            "                                                                  'flatten_1[0][0]',              \n",
            "                                                                  'flatten_2[0][0]',              \n",
            "                                                                  'flatten_3[0][0]']              \n",
            "                                                                                                  \n",
            " dense (Dense)                  (None, 2048)         825344      ['concatenate[0][0]']            \n",
            "                                                                                                  \n",
            " activation (Activation)        (None, 2048)         0           ['dense[0][0]']                  \n",
            "                                                                                                  \n",
            " dense_1 (Dense)                (None, 256)          524544      ['activation[0][0]']             \n",
            "                                                                                                  \n",
            " activation_1 (Activation)      (None, 256)          0           ['dense_1[0][0]']                \n",
            "                                                                                                  \n",
            " dense_2 (Dense)                (None, 1)            257         ['activation_1[0][0]']           \n",
            "                                                                                                  \n",
            "==================================================================================================\n",
            "Total params: 1,878,172\n",
            "Trainable params: 1,878,172\n",
            "Non-trainable params: 0\n",
            "__________________________________________________________________________________________________\n"
          ]
        }
      ]
    },
    {
      "cell_type": "code",
      "source": [
        "# Model fitting (위에서 구성한 신경망을 학습시킨다)\n",
        "result = model.fit(\n",
        "    x = [ratings_train.user_id.values, ratings_train.movie_id.values],\n",
        "    # 입력(독립변수)은 train set의 사용자, 아이템 id\n",
        "    y = ratings_train.rating.values - mu,\n",
        "    # 출력(종속변수)은 평점에서 전체평균을 뺀 것으로 지정\n",
        "    epochs = 65,              # 반복횟수\n",
        "    batch_size = 512,         # 한번에 학습(연산)하는 batch 크기를 지정\n",
        "    validation_data = (\n",
        "      [ratings_test.user_id.values, ratings_test.movie_id.values],  # 검증을 위한 입력\n",
        "      ratings_test.rating.values - mu                               # 검증에 쓰이는 출력\n",
        "    )\n",
        ")"
      ],
      "metadata": {
        "id": "NjOcJ49HN7O5",
        "outputId": "78a46094-5032-4aab-8c03-a04ade1784b6",
        "colab": {
          "base_uri": "https://localhost:8080/"
        }
      },
      "execution_count": 11,
      "outputs": [
        {
          "output_type": "stream",
          "name": "stdout",
          "text": [
            "Epoch 1/65\n",
            "147/147 [==============================] - 7s 9ms/step - loss: 5.3960 - RMSE: 1.1254 - val_loss: 5.2705 - val_RMSE: 1.1251\n",
            "Epoch 2/65\n",
            "147/147 [==============================] - 1s 5ms/step - loss: 5.1512 - RMSE: 1.1244 - val_loss: 5.0329 - val_RMSE: 1.1243\n",
            "Epoch 3/65\n",
            "147/147 [==============================] - 1s 5ms/step - loss: 4.9202 - RMSE: 1.1232 - val_loss: 4.8090 - val_RMSE: 1.1235\n",
            "Epoch 4/65\n",
            "147/147 [==============================] - 1s 5ms/step - loss: 4.7026 - RMSE: 1.1224 - val_loss: 4.5977 - val_RMSE: 1.1227\n",
            "Epoch 5/65\n",
            "147/147 [==============================] - 1s 5ms/step - loss: 4.4973 - RMSE: 1.1216 - val_loss: 4.3986 - val_RMSE: 1.1220\n",
            "Epoch 6/65\n",
            "147/147 [==============================] - 1s 4ms/step - loss: 4.3038 - RMSE: 1.1208 - val_loss: 4.2106 - val_RMSE: 1.1210\n",
            "Epoch 7/65\n",
            "147/147 [==============================] - 1s 5ms/step - loss: 4.1211 - RMSE: 1.1201 - val_loss: 4.0335 - val_RMSE: 1.1203\n",
            "Epoch 8/65\n",
            "147/147 [==============================] - 1s 5ms/step - loss: 3.9489 - RMSE: 1.1190 - val_loss: 3.8662 - val_RMSE: 1.1192\n",
            "Epoch 9/65\n",
            "147/147 [==============================] - 1s 5ms/step - loss: 3.7864 - RMSE: 1.1176 - val_loss: 3.7085 - val_RMSE: 1.1183\n",
            "Epoch 10/65\n",
            "147/147 [==============================] - 1s 5ms/step - loss: 3.6331 - RMSE: 1.1167 - val_loss: 3.5597 - val_RMSE: 1.1172\n",
            "Epoch 11/65\n",
            "147/147 [==============================] - 1s 5ms/step - loss: 3.4884 - RMSE: 1.1155 - val_loss: 3.4193 - val_RMSE: 1.1162\n",
            "Epoch 12/65\n",
            "147/147 [==============================] - 1s 5ms/step - loss: 3.3518 - RMSE: 1.1142 - val_loss: 3.2869 - val_RMSE: 1.1150\n",
            "Epoch 13/65\n",
            "147/147 [==============================] - 1s 5ms/step - loss: 3.2229 - RMSE: 1.1130 - val_loss: 3.1616 - val_RMSE: 1.1136\n",
            "Epoch 14/65\n",
            "147/147 [==============================] - 1s 5ms/step - loss: 3.1011 - RMSE: 1.1116 - val_loss: 3.0434 - val_RMSE: 1.1121\n",
            "Epoch 15/65\n",
            "147/147 [==============================] - 1s 7ms/step - loss: 2.9859 - RMSE: 1.1096 - val_loss: 2.9316 - val_RMSE: 1.1102\n",
            "Epoch 16/65\n",
            "147/147 [==============================] - 1s 7ms/step - loss: 2.8772 - RMSE: 1.1079 - val_loss: 2.8259 - val_RMSE: 1.1082\n",
            "Epoch 17/65\n",
            "147/147 [==============================] - 1s 7ms/step - loss: 2.7742 - RMSE: 1.1053 - val_loss: 2.7266 - val_RMSE: 1.1066\n",
            "Epoch 18/65\n",
            "147/147 [==============================] - 1s 7ms/step - loss: 2.6768 - RMSE: 1.1028 - val_loss: 2.6312 - val_RMSE: 1.1033\n",
            "Epoch 19/65\n",
            "147/147 [==============================] - 1s 5ms/step - loss: 2.5844 - RMSE: 1.1001 - val_loss: 2.5415 - val_RMSE: 1.1003\n",
            "Epoch 20/65\n",
            "147/147 [==============================] - 1s 5ms/step - loss: 2.4967 - RMSE: 1.0964 - val_loss: 2.4562 - val_RMSE: 1.0966\n",
            "Epoch 21/65\n",
            "147/147 [==============================] - 1s 5ms/step - loss: 2.4135 - RMSE: 1.0925 - val_loss: 2.3759 - val_RMSE: 1.0933\n",
            "Epoch 22/65\n",
            "147/147 [==============================] - 1s 5ms/step - loss: 2.3340 - RMSE: 1.0877 - val_loss: 2.2991 - val_RMSE: 1.0890\n",
            "Epoch 23/65\n",
            "147/147 [==============================] - 1s 5ms/step - loss: 2.2585 - RMSE: 1.0825 - val_loss: 2.2248 - val_RMSE: 1.0829\n",
            "Epoch 24/65\n",
            "147/147 [==============================] - 1s 5ms/step - loss: 2.1862 - RMSE: 1.0767 - val_loss: 2.1544 - val_RMSE: 1.0766\n",
            "Epoch 25/65\n",
            "147/147 [==============================] - 1s 5ms/step - loss: 2.1173 - RMSE: 1.0697 - val_loss: 2.0876 - val_RMSE: 1.0702\n",
            "Epoch 26/65\n",
            "147/147 [==============================] - 1s 5ms/step - loss: 2.0510 - RMSE: 1.0621 - val_loss: 2.0229 - val_RMSE: 1.0623\n",
            "Epoch 27/65\n",
            "147/147 [==============================] - 1s 5ms/step - loss: 1.9874 - RMSE: 1.0535 - val_loss: 1.9615 - val_RMSE: 1.0544\n",
            "Epoch 28/65\n",
            "147/147 [==============================] - 1s 5ms/step - loss: 1.9264 - RMSE: 1.0444 - val_loss: 1.9026 - val_RMSE: 1.0457\n",
            "Epoch 29/65\n",
            "147/147 [==============================] - 1s 5ms/step - loss: 1.8681 - RMSE: 1.0348 - val_loss: 1.8467 - val_RMSE: 1.0371\n",
            "Epoch 30/65\n",
            "147/147 [==============================] - 1s 5ms/step - loss: 1.8123 - RMSE: 1.0254 - val_loss: 1.7931 - val_RMSE: 1.0280\n",
            "Epoch 31/65\n",
            "147/147 [==============================] - 1s 5ms/step - loss: 1.7591 - RMSE: 1.0149 - val_loss: 1.7427 - val_RMSE: 1.0196\n",
            "Epoch 32/65\n",
            "147/147 [==============================] - 1s 6ms/step - loss: 1.7090 - RMSE: 1.0057 - val_loss: 1.6949 - val_RMSE: 1.0113\n",
            "Epoch 33/65\n",
            "147/147 [==============================] - 1s 7ms/step - loss: 1.6616 - RMSE: 0.9968 - val_loss: 1.6503 - val_RMSE: 1.0040\n",
            "Epoch 34/65\n",
            "147/147 [==============================] - 1s 8ms/step - loss: 1.6171 - RMSE: 0.9880 - val_loss: 1.6085 - val_RMSE: 0.9974\n",
            "Epoch 35/65\n",
            "147/147 [==============================] - 1s 6ms/step - loss: 1.5752 - RMSE: 0.9807 - val_loss: 1.5693 - val_RMSE: 0.9914\n",
            "Epoch 36/65\n",
            "147/147 [==============================] - 1s 5ms/step - loss: 1.5362 - RMSE: 0.9741 - val_loss: 1.5335 - val_RMSE: 0.9871\n",
            "Epoch 37/65\n",
            "147/147 [==============================] - 1s 5ms/step - loss: 1.4996 - RMSE: 0.9680 - val_loss: 1.4991 - val_RMSE: 0.9824\n",
            "Epoch 38/65\n",
            "147/147 [==============================] - 1s 5ms/step - loss: 1.4654 - RMSE: 0.9627 - val_loss: 1.4682 - val_RMSE: 0.9796\n",
            "Epoch 39/65\n",
            "147/147 [==============================] - 1s 5ms/step - loss: 1.4335 - RMSE: 0.9583 - val_loss: 1.4361 - val_RMSE: 0.9740\n",
            "Epoch 40/65\n",
            "147/147 [==============================] - 1s 5ms/step - loss: 1.4034 - RMSE: 0.9539 - val_loss: 1.4078 - val_RMSE: 0.9708\n",
            "Epoch 41/65\n",
            "147/147 [==============================] - 1s 5ms/step - loss: 1.3753 - RMSE: 0.9502 - val_loss: 1.3816 - val_RMSE: 0.9683\n",
            "Epoch 42/65\n",
            "147/147 [==============================] - 1s 5ms/step - loss: 1.3487 - RMSE: 0.9471 - val_loss: 1.3561 - val_RMSE: 0.9651\n",
            "Epoch 43/65\n",
            "147/147 [==============================] - 1s 5ms/step - loss: 1.3240 - RMSE: 0.9438 - val_loss: 1.3334 - val_RMSE: 0.9636\n",
            "Epoch 44/65\n",
            "147/147 [==============================] - 1s 5ms/step - loss: 1.3010 - RMSE: 0.9415 - val_loss: 1.3108 - val_RMSE: 0.9610\n",
            "Epoch 45/65\n",
            "147/147 [==============================] - 1s 5ms/step - loss: 1.2790 - RMSE: 0.9386 - val_loss: 1.2903 - val_RMSE: 0.9594\n",
            "Epoch 46/65\n",
            "147/147 [==============================] - 1s 5ms/step - loss: 1.2584 - RMSE: 0.9364 - val_loss: 1.2709 - val_RMSE: 0.9577\n",
            "Epoch 47/65\n",
            "147/147 [==============================] - 1s 5ms/step - loss: 1.2393 - RMSE: 0.9345 - val_loss: 1.2527 - val_RMSE: 0.9563\n",
            "Epoch 48/65\n",
            "147/147 [==============================] - 1s 5ms/step - loss: 1.2211 - RMSE: 0.9327 - val_loss: 1.2354 - val_RMSE: 0.9548\n",
            "Epoch 49/65\n",
            "147/147 [==============================] - 1s 7ms/step - loss: 1.2038 - RMSE: 0.9311 - val_loss: 1.2188 - val_RMSE: 0.9533\n",
            "Epoch 50/65\n",
            "147/147 [==============================] - 1s 7ms/step - loss: 1.1880 - RMSE: 0.9295 - val_loss: 1.2062 - val_RMSE: 0.9548\n",
            "Epoch 51/65\n",
            "147/147 [==============================] - 1s 8ms/step - loss: 1.1729 - RMSE: 0.9281 - val_loss: 1.1890 - val_RMSE: 0.9509\n",
            "Epoch 52/65\n",
            "147/147 [==============================] - 1s 6ms/step - loss: 1.1587 - RMSE: 0.9272 - val_loss: 1.1764 - val_RMSE: 0.9509\n",
            "Epoch 53/65\n",
            "147/147 [==============================] - 1s 5ms/step - loss: 1.1456 - RMSE: 0.9259 - val_loss: 1.1630 - val_RMSE: 0.9494\n",
            "Epoch 54/65\n",
            "147/147 [==============================] - 1s 5ms/step - loss: 1.1331 - RMSE: 0.9251 - val_loss: 1.1515 - val_RMSE: 0.9492\n",
            "Epoch 55/65\n",
            "147/147 [==============================] - 1s 5ms/step - loss: 1.1214 - RMSE: 0.9242 - val_loss: 1.1405 - val_RMSE: 0.9488\n",
            "Epoch 56/65\n",
            "147/147 [==============================] - 1s 5ms/step - loss: 1.1102 - RMSE: 0.9236 - val_loss: 1.1296 - val_RMSE: 0.9479\n",
            "Epoch 57/65\n",
            "147/147 [==============================] - 1s 5ms/step - loss: 1.0999 - RMSE: 0.9229 - val_loss: 1.1221 - val_RMSE: 0.9498\n",
            "Epoch 58/65\n",
            "147/147 [==============================] - 1s 5ms/step - loss: 1.0901 - RMSE: 0.9222 - val_loss: 1.1103 - val_RMSE: 0.9470\n",
            "Epoch 59/65\n",
            "147/147 [==============================] - 1s 5ms/step - loss: 1.0809 - RMSE: 0.9218 - val_loss: 1.1020 - val_RMSE: 0.9471\n",
            "Epoch 60/65\n",
            "147/147 [==============================] - 1s 5ms/step - loss: 1.0721 - RMSE: 0.9214 - val_loss: 1.0926 - val_RMSE: 0.9457\n",
            "Epoch 61/65\n",
            "147/147 [==============================] - 1s 5ms/step - loss: 1.0641 - RMSE: 0.9209 - val_loss: 1.0855 - val_RMSE: 0.9461\n",
            "Epoch 62/65\n",
            "147/147 [==============================] - 1s 5ms/step - loss: 1.0564 - RMSE: 0.9207 - val_loss: 1.0773 - val_RMSE: 0.9450\n",
            "Epoch 63/65\n",
            "147/147 [==============================] - 1s 5ms/step - loss: 1.0491 - RMSE: 0.9203 - val_loss: 1.0708 - val_RMSE: 0.9452\n",
            "Epoch 64/65\n",
            "147/147 [==============================] - 1s 5ms/step - loss: 1.0423 - RMSE: 0.9198 - val_loss: 1.0668 - val_RMSE: 0.9476\n",
            "Epoch 65/65\n",
            "147/147 [==============================] - 1s 5ms/step - loss: 1.0359 - RMSE: 0.9199 - val_loss: 1.0579 - val_RMSE: 0.9447\n"
          ]
        }
      ]
    },
    {
      "cell_type": "code",
      "source": [
        "# 학습과정에서 측정지표의 변화\n",
        "import matplotlib.pyplot as plt\n",
        "plt.plot(result.history['RMSE'], label=\"Train RMSE\")\n",
        "plt.plot(result.history['val_RMSE'], label=\"Test RMSE\")\n",
        "plt.xlabel('epoch')\n",
        "plt.ylabel('RMSE')\n",
        "plt.legend()\n",
        "plt.show()"
      ],
      "metadata": {
        "id": "lJ9THnS0N9nI",
        "outputId": "eafb8788-74f1-492b-c1f8-a40f04cce6b7",
        "colab": {
          "base_uri": "https://localhost:8080/",
          "height": 449
        }
      },
      "execution_count": 12,
      "outputs": [
        {
          "output_type": "display_data",
          "data": {
            "text/plain": [
              "<Figure size 640x480 with 1 Axes>"
            ],
            "image/png": "[encoded data removed]"
          },
          "metadata": {}
        }
      ]
    },
    {
      "cell_type": "code",
      "source": [
        "# 신경망에서 예측한 결과의 실제 RMSE 계산\n",
        "def RMSE2(y_true, y_pred):\n",
        "    return np.sqrt( np.mean( ( np.array(y_true) - np.array(y_pred) )**2 ) )\n",
        "\n",
        "user_ids = ratings_test.user_id.values\n",
        "movie_ids = ratings_test.movie_id.values\n",
        "\n",
        "y_pred = model.predict([user_ids, movie_ids]) + mu\n",
        "# Keras의 Model 클래스에서 제공하는 predict() 메소드는 신경망에 입력을 넣어주면 해당 신경망을 적용한 예측값을 계산해준다.\n",
        "y_pred = np.ravel(y_pred, order = 'C')\n",
        "# predict()로 얻은 예측값은 2차원(N X 1)의 array로 되어있으므로 np.ravel을 사용, 1차원 array로 바꿔준다.\n",
        "y_true = np.array(ratings_test.rating)\n",
        "# 실제 평점값을 가져온다.\n",
        "RMSE2(y_true, y_pred)"
      ],
      "metadata": {
        "id": "hINzk-3COKxt",
        "outputId": "d45bd183-8108-4946-c1b1-c1dd37a272ad",
        "colab": {
          "base_uri": "https://localhost:8080/"
        }
      },
      "execution_count": 13,
      "outputs": [
        {
          "output_type": "stream",
          "name": "stdout",
          "text": [
            "782/782 [==============================] - 2s 2ms/step\n"
          ]
        },
        {
          "output_type": "execute_result",
          "data": {
            "text/plain": [
              "0.9450759256957006"
            ]
          },
          "metadata": {},
          "execution_count": 13
        }
      ]
    },
    {
      "cell_type": "markdown",
      "source": [
        "# 하이브리드 모델"
      ],
      "metadata": {
        "id": "9jlnvJkpORe2"
      }
    },
    {
      "cell_type": "code",
      "source": [
        "##### Hybrid 추천 알고리즘\n",
        "\n",
        "def recommender0(recomm_list, mf):              # MF 알고리즘의 예측값을 받아오는 함수이다. \n",
        "    recommendations = np.array([mf.get_one_prediction(user, movie) for (user, movie) in recomm_list])\n",
        "    # 추천대상 리스트(recomm_list)의 항목 각각에 대해서 MF클래스의 get_one_prediction() 함수를 불러서 예측값을 받아온 후에 np.array로 변환한다.\n",
        "    return recommendations\n",
        "\n",
        "def recommender1(recomm_list, model):           # DL 알고리즘의 예측값을 받아오는 함수이다.\n",
        "    for (user, movie) in recomm_list:\n",
        "      recommendations = model.predict([user, movie]) + mu\n",
        "      # 추천대상 리스트(recomm_list)의 항목 각각에 대해서 Keras의 Model 클래스에서 제공하는 predict() 메소드는 신경망에 입력을 넣어주면 \n",
        "      # 해당 신경망을 적용한 예측값을 계산해준다. \n",
        "      recommendations = np.ravel(recommendations, order = 'C')\n",
        "      # predict()로 얻은 예측값은 2차원(N X 1)의 array로 되어있으므로 np.ravel을 사용, 1차원 array로 바꿔준다.\n",
        "      # 예측값을 받아온 후에 np.array로 변환한다.\n",
        "    return recommendations\n",
        "\n",
        "recomm_list = np.array(ratings_test.iloc[:, [0, 1]])      # test set을 np.array형식의 추천 대상 리스트로 만든다.\n",
        "predictions0 = recommender0(recomm_list, mf)              # MF기반 알고리즘의 예측값을 받아온다.\n",
        "RMSE(ratings_test.iloc[:, 2], predictions0)               # MF기반 알고리즘의 RMSE를 계산한다.\n",
        "predictions1 = recommender1(recomm_list, model)           # DL기반 알고리즘의 예측값을 받아온다.\n",
        "RMSE(ratings_test.iloc[:, 2], predictions1)               # DL기반 알고리즘의 RMSE를 계산한다.\n",
        "\n",
        "weight = [0.8, 0.2]                                                 # 두 알고리즘의 결합 가중치를 지정한다.\n",
        "predictions = predictions0 * weight[0] + predictions1 * weight[1]   # 가중치에 따라 두 추천 알고리즘에서 가져온 예측값을 가중평균한다.\n",
        "RMSE(ratings_test.iloc[:, 2], predictions)                          # 하이브리드 모델의 RMSE를 계산한다."
      ],
      "metadata": {
        "colab": {
          "base_uri": "https://localhost:8080/",
          "height": 381
        },
        "id": "DxWG_gO3HJtP",
        "outputId": "d5713827-e8e9-4242-8fe2-bd86e6152aa5"
      },
      "execution_count": 14,
      "outputs": [
        {
          "output_type": "error",
          "ename": "ValueError",
          "evalue": "ignored",
          "traceback": [
            "\u001b[0;31m---------------------------------------------------------------------------\u001b[0m",
            "\u001b[0;31mValueError\u001b[0m                                Traceback (most recent call last)",
            "\u001b[0;32m<ipython-input-14-19f489ac442e>\u001b[0m in \u001b[0;36m<cell line: 21>\u001b[0;34m()\u001b[0m\n\u001b[1;32m     19\u001b[0m \u001b[0mpredictions0\u001b[0m \u001b[0;34m=\u001b[0m \u001b[0mrecommender0\u001b[0m\u001b[0;34m(\u001b[0m\u001b[0mrecomm_list\u001b[0m\u001b[0;34m,\u001b[0m \u001b[0mmf\u001b[0m\u001b[0;34m)\u001b[0m              \u001b[0;31m# MF기반 알고리즘의 예측값을 받아온다.\u001b[0m\u001b[0;34m\u001b[0m\u001b[0;34m\u001b[0m\u001b[0m\n\u001b[1;32m     20\u001b[0m \u001b[0mRMSE\u001b[0m\u001b[0;34m(\u001b[0m\u001b[0mratings_test\u001b[0m\u001b[0;34m.\u001b[0m\u001b[0miloc\u001b[0m\u001b[0;34m[\u001b[0m\u001b[0;34m:\u001b[0m\u001b[0;34m,\u001b[0m \u001b[0;36m2\u001b[0m\u001b[0;34m]\u001b[0m\u001b[0;34m,\u001b[0m \u001b[0mpredictions0\u001b[0m\u001b[0;34m)\u001b[0m               \u001b[0;31m# MF기반 알고리즘의 RMSE를 계산한다.\u001b[0m\u001b[0;34m\u001b[0m\u001b[0;34m\u001b[0m\u001b[0m\n\u001b[0;32m---> 21\u001b[0;31m \u001b[0mpredictions1\u001b[0m \u001b[0;34m=\u001b[0m \u001b[0mrecommender1\u001b[0m\u001b[0;34m(\u001b[0m\u001b[0mrecomm_list\u001b[0m\u001b[0;34m,\u001b[0m \u001b[0mmodel\u001b[0m\u001b[0;34m)\u001b[0m           \u001b[0;31m# DL기반 알고리즘의 예측값을 받아온다.\u001b[0m\u001b[0;34m\u001b[0m\u001b[0;34m\u001b[0m\u001b[0m\n\u001b[0m\u001b[1;32m     22\u001b[0m \u001b[0mRMSE\u001b[0m\u001b[0;34m(\u001b[0m\u001b[0mratings_test\u001b[0m\u001b[0;34m.\u001b[0m\u001b[0miloc\u001b[0m\u001b[0;34m[\u001b[0m\u001b[0;34m:\u001b[0m\u001b[0;34m,\u001b[0m \u001b[0;36m2\u001b[0m\u001b[0;34m]\u001b[0m\u001b[0;34m,\u001b[0m \u001b[0mpredictions1\u001b[0m\u001b[0;34m)\u001b[0m               \u001b[0;31m# DL기반 알고리즘의 RMSE를 계산한다.\u001b[0m\u001b[0;34m\u001b[0m\u001b[0;34m\u001b[0m\u001b[0m\n\u001b[1;32m     23\u001b[0m \u001b[0;34m\u001b[0m\u001b[0m\n",
            "\u001b[0;32m<ipython-input-14-19f489ac442e>\u001b[0m in \u001b[0;36mrecommender1\u001b[0;34m(recomm_list, model)\u001b[0m\n\u001b[1;32m      8\u001b[0m \u001b[0;32mdef\u001b[0m \u001b[0mrecommender1\u001b[0m\u001b[0;34m(\u001b[0m\u001b[0mrecomm_list\u001b[0m\u001b[0;34m,\u001b[0m \u001b[0mmodel\u001b[0m\u001b[0;34m)\u001b[0m\u001b[0;34m:\u001b[0m           \u001b[0;31m# DL 알고리즘의 예측값을 받아오는 함수이다.\u001b[0m\u001b[0;34m\u001b[0m\u001b[0;34m\u001b[0m\u001b[0m\n\u001b[1;32m      9\u001b[0m     \u001b[0;32mfor\u001b[0m \u001b[0;34m(\u001b[0m\u001b[0muser\u001b[0m\u001b[0;34m,\u001b[0m \u001b[0mmovie\u001b[0m\u001b[0;34m)\u001b[0m \u001b[0;32min\u001b[0m \u001b[0mrecomm_list\u001b[0m\u001b[0;34m:\u001b[0m\u001b[0;34m\u001b[0m\u001b[0;34m\u001b[0m\u001b[0m\n\u001b[0;32m---> 10\u001b[0;31m       \u001b[0mrecommendations\u001b[0m \u001b[0;34m=\u001b[0m \u001b[0mmodel\u001b[0m\u001b[0;34m.\u001b[0m\u001b[0mpredict\u001b[0m\u001b[0;34m(\u001b[0m\u001b[0;34m[\u001b[0m\u001b[0muser\u001b[0m\u001b[0;34m,\u001b[0m \u001b[0mmovie\u001b[0m\u001b[0;34m]\u001b[0m\u001b[0;34m)\u001b[0m \u001b[0;34m+\u001b[0m \u001b[0mmu\u001b[0m\u001b[0;34m\u001b[0m\u001b[0;34m\u001b[0m\u001b[0m\n\u001b[0m\u001b[1;32m     11\u001b[0m       \u001b[0;31m# 추천대상 리스트(recomm_list)의 항목 각각에 대해서 Keras의 Model 클래스에서 제공하는 predict() 메소드는 신경망에 입력을 넣어주면\u001b[0m\u001b[0;34m\u001b[0m\u001b[0;34m\u001b[0m\u001b[0m\n\u001b[1;32m     12\u001b[0m       \u001b[0;31m# 해당 신경망을 적용한 예측값을 계산해준다.\u001b[0m\u001b[0;34m\u001b[0m\u001b[0;34m\u001b[0m\u001b[0m\n",
            "\u001b[0;32m/usr/local/lib/python3.9/dist-packages/keras/utils/traceback_utils.py\u001b[0m in \u001b[0;36merror_handler\u001b[0;34m(*args, **kwargs)\u001b[0m\n\u001b[1;32m     68\u001b[0m             \u001b[0;31m# To get the full stack trace, call:\u001b[0m\u001b[0;34m\u001b[0m\u001b[0;34m\u001b[0m\u001b[0m\n\u001b[1;32m     69\u001b[0m             \u001b[0;31m# `tf.debugging.disable_traceback_filtering()`\u001b[0m\u001b[0;34m\u001b[0m\u001b[0;34m\u001b[0m\u001b[0m\n\u001b[0;32m---> 70\u001b[0;31m             \u001b[0;32mraise\u001b[0m \u001b[0me\u001b[0m\u001b[0;34m.\u001b[0m\u001b[0mwith_traceback\u001b[0m\u001b[0;34m(\u001b[0m\u001b[0mfiltered_tb\u001b[0m\u001b[0;34m)\u001b[0m \u001b[0;32mfrom\u001b[0m \u001b[0;32mNone\u001b[0m\u001b[0;34m\u001b[0m\u001b[0;34m\u001b[0m\u001b[0m\n\u001b[0m\u001b[1;32m     71\u001b[0m         \u001b[0;32mfinally\u001b[0m\u001b[0;34m:\u001b[0m\u001b[0;34m\u001b[0m\u001b[0;34m\u001b[0m\u001b[0m\n\u001b[1;32m     72\u001b[0m             \u001b[0;32mdel\u001b[0m \u001b[0mfiltered_tb\u001b[0m\u001b[0;34m\u001b[0m\u001b[0;34m\u001b[0m\u001b[0m\n",
            "\u001b[0;32m/usr/local/lib/python3.9/dist-packages/keras/engine/data_adapter.py\u001b[0m in \u001b[0;36mselect_data_adapter\u001b[0;34m(x, y)\u001b[0m\n\u001b[1;32m   1080\u001b[0m     \u001b[0;32mif\u001b[0m \u001b[0;32mnot\u001b[0m \u001b[0madapter_cls\u001b[0m\u001b[0;34m:\u001b[0m\u001b[0;34m\u001b[0m\u001b[0;34m\u001b[0m\u001b[0m\n\u001b[1;32m   1081\u001b[0m         \u001b[0;31m# TODO(scottzhu): This should be a less implementation-specific error.\u001b[0m\u001b[0;34m\u001b[0m\u001b[0;34m\u001b[0m\u001b[0m\n\u001b[0;32m-> 1082\u001b[0;31m         raise ValueError(\n\u001b[0m\u001b[1;32m   1083\u001b[0m             \"Failed to find data adapter that can handle input: {}, {}\".format(\n\u001b[1;32m   1084\u001b[0m                 \u001b[0m_type_name\u001b[0m\u001b[0;34m(\u001b[0m\u001b[0mx\u001b[0m\u001b[0;34m)\u001b[0m\u001b[0;34m,\u001b[0m \u001b[0m_type_name\u001b[0m\u001b[0;34m(\u001b[0m\u001b[0my\u001b[0m\u001b[0;34m)\u001b[0m\u001b[0;34m\u001b[0m\u001b[0;34m\u001b[0m\u001b[0m\n",
            "\u001b[0;31mValueError\u001b[0m: Failed to find data adapter that can handle input: (<class 'list'> containing values of types {\"<class 'numpy.int64'>\"}), <class 'NoneType'>"
          ]
        }
      ]
    },
    {
      "cell_type": "code",
      "source": [
        "# 가중치를 0~1까지 0.01 간격으로 바꿔가면서 RMSE 계산\n",
        "for i in np.arange(0, 1, 0.01):\n",
        "    weight = [i, 1.0 - i]\n",
        "    predictions = predictions0 * weight[0] + predictions1 * weight[1]\n",
        "    print(\"Weights - %.2f : %.2f ; RMSE = %.7f\" % (weight[0], \n",
        "           weight[1], RMSE(ratings_test.iloc[:, 2], predictions)))"
      ],
      "metadata": {
        "id": "9E1mKDWsRGRa"
      },
      "execution_count": null,
      "outputs": []
    },
    {
      "cell_type": "markdown",
      "source": [
        "- 베스트 : Weights - 0.91 : 0.09 ; RMSE = 0.9069064\n",
        "\n",
        "\n",
        "                    (MF-SGD 91%, DL   %)"
      ],
      "metadata": {
        "id": "PYuPRVdHSAhF"
      }
    }
  ]
}
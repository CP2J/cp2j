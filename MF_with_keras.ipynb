{
  "nbformat": 4,
  "nbformat_minor": 0,
  "metadata": {
    "colab": {
      "provenance": [],
      "include_colab_link": true
    },
    "kernelspec": {
      "name": "python3",
      "display_name": "Python 3"
    },
    "language_info": {
      "name": "python"
    }
  },
  "cells": [
    {
      "cell_type": "markdown",
      "metadata": {
        "id": "view-in-github",
        "colab_type": "text"
      },
      "source": [
        "<a href=\"https://colab.research.google.com/github/CP2J/cp2j/blob/ACJ-11-opt1-RecSys_by_DL/MF_with_keras.ipynb\" target=\"_parent\"><img src=\"https://colab.research.google.com/assets/colab-badge.svg\" alt=\"Open In Colab\"/></a>"
      ]
    },
    {
      "cell_type": "markdown",
      "source": [
        "# 딥러닝을 사용한 추천 시스템"
      ],
      "metadata": {
        "id": "OF1efUCsdLVx"
      }
    },
    {
      "cell_type": "markdown",
      "source": [
        "# 1. MF를 신경망으로 변환하기\n",
        "- DL에 들어가기 전 은닉층이 없는 신경망 모형을 Keras로 구성해 보기로 한다.\n",
        "\n",
        "<img src=\"https://drive.google.com/uc?id=1sQDSBAViZvh9YhfLUQj2QiiMzNGtGmIc\" alt=\"MF를 신경망으로 변환\" height=\"300\" width=\"400\">"
      ],
      "metadata": {
        "id": "Hb4u76CpdQej"
      }
    },
    {
      "cell_type": "code",
      "source": [
        "from google.colab import drive\n",
        "drive.mount('/content/drive')"
      ],
      "metadata": {
        "colab": {
          "base_uri": "https://localhost:8080/"
        },
        "id": "kEmknauNpkZO",
        "outputId": "ab5bf2ad-6fb7-4689-88de-2b3f9ea44f66"
      },
      "execution_count": null,
      "outputs": [
        {
          "output_type": "stream",
          "name": "stdout",
          "text": [
            "Mounted at /content/drive\n"
          ]
        }
      ]
    },
    {
      "cell_type": "code",
      "execution_count": null,
      "metadata": {
        "id": "UkiBvn_CdEr5"
      },
      "outputs": [],
      "source": [
        "import pandas as pd\n",
        "import numpy as np\n",
        "\n",
        "# csv 파일에서 불러오기\n",
        "r_cols = ['user_id', 'movie_id', 'rating', 'timestamp']\n",
        "ratings = pd.read_csv('/content/drive/MyDrive/ml-100k/u.data', names=r_cols,  sep='\\t',encoding='latin-1')\n",
        "ratings = ratings[['user_id', 'movie_id', 'rating']].astype(int)            # timestamp 제거, 정수형 변환"
      ]
    },
    {
      "cell_type": "code",
      "source": [
        "# Train-test 분리 (이렇게 나누는 방법도 있군)\n",
        "from sklearn.utils import shuffle\n",
        "TRAIN_SIZE = 0.75                         # 0.75 : 0.25\n",
        "ratings = shuffle(ratings)                # row를 섞는다.\n",
        "cutoff = int(TRAIN_SIZE * len(ratings))   # 끊는 지점\n",
        "ratings_train = ratings.iloc[:cutoff]\n",
        "ratings_test = ratings.iloc[cutoff:]"
      ],
      "metadata": {
        "id": "865cjkleqC9F"
      },
      "execution_count": null,
      "outputs": []
    },
    {
      "cell_type": "code",
      "source": [
        "import tensorflow as tf\n",
        "from tensorflow.keras import layers\n",
        "from tensorflow.keras.models import Model\n",
        "from tensorflow.keras.layers import Input, Embedding, Dot, Add, Flatten\n",
        "from tensorflow.keras.regularizers import l2\n",
        "from tensorflow.keras.optimizers import SGD, Adamax"
      ],
      "metadata": {
        "id": "w1L45qetq8Go"
      },
      "execution_count": null,
      "outputs": []
    },
    {
      "cell_type": "code",
      "source": [
        "# Variable 초기화\n",
        "K = 200                               # Latent factor(잠재요인) 수\n",
        "mu = ratings_train.rating.mean()      # 전체 평균\n",
        "M = ratings.user_id.max() +1          # Number of users, 사용자 아이디 최대값 : 추후 Embedding에 사용\n",
        "N = ratings.movie_id.max() +1         # Number of movies\n",
        "\n",
        "# RMSE 정의\n",
        "def RMSE(y_true, y_pred):\n",
        "    return tf.sqrt(tf.reduce_mean(tf.square(y_true - y_pred)))"
      ],
      "metadata": {
        "id": "j-U9344OrNI5"
      },
      "execution_count": null,
      "outputs": []
    },
    {
      "cell_type": "markdown",
      "source": [
        "<img src=\"https://drive.google.com/uc?id=1sQO8nAgg5aNkX36QZj6I2NaH9Mkz7STM\" alt=\"최종 MF 신경망 모델\" height=\"300\" width=\"400\">"
      ],
      "metadata": {
        "id": "nMl29583tVQw"
      }
    },
    {
      "cell_type": "code",
      "source": [
        "# Keras model\n",
        "user = Input(shape=(1, ))                                             # 사용자 데이터 입력 형식 지정\n",
        "item = Input(shape=(1, ))\n",
        "P_embedding = Embedding(M, K, embeddings_regularizer=l2())(user)      # 사용자 Embedding layer 지정 (M, 1, K) : (M X K)의 연결을 가진다.\n",
        "Q_embedding = Embedding(N, K, embeddings_regularizer=l2())(item)      # 아이템 Embedding layer 지정 (N, 1, K) : (N X K)의 연결을 가진다.\n",
        "user_bias = Embedding(M, 1, embeddings_regularizer=l2())(user)        # User bias term (M, 1, ) : (M X 1)의 연결\n",
        "item_bias = Embedding(N, 1, embeddings_regularizer=l2())(item)        # Item bias term (N, 1, ) : (N X 1)의 연결\n",
        "\n",
        "R = layers.dot([P_embedding, Q_embedding], axes=2)                    # (1, 1, 1)\n",
        "# 유저 임베딩과 아이템 임베딩의 내적을 계산해 예측평점을 만드는 레이어( R = Dot(axes=2)([P_embedding, Q_embedding]) 도 가능 )\n",
        "\n",
        "R = layers.add([R, user_bias, item_bias])\n",
        "# 사용자 bias와 아이템 bias를 더한다.(R = Add()([R, user_bias, item_bias])도 가능)\n",
        "\n",
        "R = Flatten()(R)                                                      # (1,1)\n",
        "# 차원을 압축(1차원 배열로 변경)\n",
        "\n",
        "# Model setting\n",
        "model = Model(inputs=[user,item], outputs=R)                          # 모델 입출력 정의\n",
        "model.compile(                                                        # 모델 컴파일 조건\n",
        "    loss = RMSE,\n",
        "    optimizer = SGD(),\n",
        "    #optimizer = Adamax(),\n",
        "    metrics = [RMSE]\n",
        ")\n",
        "model.summary()"
      ],
      "metadata": {
        "id": "5Kaw5F8zzmK5",
        "colab": {
          "base_uri": "https://localhost:8080/"
        },
        "outputId": "1ef3c8d8-fb1f-450e-db01-20eb56ddaeb3"
      },
      "execution_count": null,
      "outputs": [
        {
          "output_type": "stream",
          "name": "stdout",
          "text": [
            "Model: \"model\"\n",
            "__________________________________________________________________________________________________\n",
            " Layer (type)                   Output Shape         Param #     Connected to                     \n",
            "==================================================================================================\n",
            " input_5 (InputLayer)           [(None, 1)]          0           []                               \n",
            "                                                                                                  \n",
            " input_6 (InputLayer)           [(None, 1)]          0           []                               \n",
            "                                                                                                  \n",
            " embedding_4 (Embedding)        (None, 1, 200)       188800      ['input_5[0][0]']                \n",
            "                                                                                                  \n",
            " embedding_5 (Embedding)        (None, 1, 200)       336600      ['input_6[0][0]']                \n",
            "                                                                                                  \n",
            " dot_1 (Dot)                    (None, 1, 1)         0           ['embedding_4[0][0]',            \n",
            "                                                                  'embedding_5[0][0]']            \n",
            "                                                                                                  \n",
            " embedding_6 (Embedding)        (None, 1, 1)         944         ['input_5[0][0]']                \n",
            "                                                                                                  \n",
            " embedding_7 (Embedding)        (None, 1, 1)         1683        ['input_6[0][0]']                \n",
            "                                                                                                  \n",
            " add (Add)                      (None, 1, 1)         0           ['dot_1[0][0]',                  \n",
            "                                                                  'embedding_6[0][0]',            \n",
            "                                                                  'embedding_7[0][0]']            \n",
            "                                                                                                  \n",
            " flatten (Flatten)              (None, 1)            0           ['add[0][0]']                    \n",
            "                                                                                                  \n",
            "==================================================================================================\n",
            "Total params: 528,027\n",
            "Trainable params: 528,027\n",
            "Non-trainable params: 0\n",
            "__________________________________________________________________________________________________\n"
          ]
        }
      ]
    },
    {
      "cell_type": "markdown",
      "source": [
        "* embedding_4, 5(실행마다 번호는 다름)는 각각 사용자와 아이템의 잠재요인, 즉 P, Q를 나타냄\n",
        "* 현재 train set에서 사용자(M) 944, 아이템(N) 1,683 이고, 각 사용자, 아이템에 대해서 K=200의 잠재요인을 지정했기 때문에 총 연결(Parameter)은 아래와 같다.\n",
        "  * 사용자의 경우 944 * 200 = 188,800\n",
        "  * 아이템의 경우 1,683 * 200 = 336,600\n",
        "* embedding_6, 7은 bias layer로 사용자와 아이템 하나에 대해서 1개씩의 연결이 생기기 때문에 각각 944, 1683개의 연결(Parameter)이 만들어진다."
      ],
      "metadata": {
        "id": "J2oozr_xY-WG"
      }
    },
    {
      "cell_type": "code",
      "source": [
        "# Model fitting (위에서 구성한 신경망을 학습시킨다)\n",
        "result = model.fit(\n",
        "    x = [ratings_train.user_id.values, ratings_train.movie_id.values],\n",
        "    # train set의 입력(독립변수) 지정. 입력은 각 사용자와 아이템 구분용 One-hot encoding을 위한 id\n",
        "    y = ratings_train.rating.values - mu,\n",
        "    # train set의 출력(종속변수) 지정.\n",
        "    # 신경망 구성의 용이성을 위해 '평점값에서 전체적 경향성을 고려하기 위한 전체 평균을 뺀 값'을 쓰고,\n",
        "    # 나중에 예측값에서 다시 더해줄 예정\n",
        "\n",
        "    epochs = 60,                              # 반복횟수\n",
        "    batch_size = 256,                         # 한번에 학습하는 batch 크기를 지정\n",
        "    validation_data=(                         #정확도 측정을 위한 test set 지정\n",
        "        [ratings_test.user_id.values, ratings_test.movie_id.values],\n",
        "        ratings_test.rating.values - mu\n",
        "    )\n",
        ")"
      ],
      "metadata": {
        "colab": {
          "base_uri": "https://localhost:8080/"
        },
        "id": "eTNuAdxBaCmI",
        "outputId": "6665ccf7-dca4-4823-ae30-3ccfc051fae0"
      },
      "execution_count": null,
      "outputs": [
        {
          "output_type": "stream",
          "name": "stdout",
          "text": [
            "Epoch 1/60\n",
            "293/293 [==============================] - 2s 4ms/step - loss: 5.2850 - RMSE: 1.1239 - val_loss: 5.0460 - val_RMSE: 1.1252\n",
            "Epoch 2/60\n",
            "293/293 [==============================] - 1s 3ms/step - loss: 4.8228 - RMSE: 1.1219 - val_loss: 4.6106 - val_RMSE: 1.1233\n",
            "Epoch 3/60\n",
            "293/293 [==============================] - 1s 3ms/step - loss: 4.4116 - RMSE: 1.1199 - val_loss: 4.2234 - val_RMSE: 1.1217\n",
            "Epoch 4/60\n",
            "293/293 [==============================] - 1s 3ms/step - loss: 4.0462 - RMSE: 1.1183 - val_loss: 3.8790 - val_RMSE: 1.1201\n",
            "Epoch 5/60\n",
            "293/293 [==============================] - 1s 3ms/step - loss: 3.7209 - RMSE: 1.1165 - val_loss: 3.5728 - val_RMSE: 1.1186\n",
            "Epoch 6/60\n",
            "293/293 [==============================] - 2s 6ms/step - loss: 3.4319 - RMSE: 1.1152 - val_loss: 3.3004 - val_RMSE: 1.1173\n",
            "Epoch 7/60\n",
            "293/293 [==============================] - 2s 5ms/step - loss: 3.1748 - RMSE: 1.1138 - val_loss: 3.0582 - val_RMSE: 1.1160\n",
            "Epoch 8/60\n",
            "293/293 [==============================] - 1s 3ms/step - loss: 2.9462 - RMSE: 1.1125 - val_loss: 2.8429 - val_RMSE: 1.1149\n",
            "Epoch 9/60\n",
            "293/293 [==============================] - 1s 3ms/step - loss: 2.7429 - RMSE: 1.1114 - val_loss: 2.6513 - val_RMSE: 1.1138\n",
            "Epoch 10/60\n",
            "293/293 [==============================] - 1s 3ms/step - loss: 2.5620 - RMSE: 1.1102 - val_loss: 2.4810 - val_RMSE: 1.1128\n",
            "Epoch 11/60\n",
            "293/293 [==============================] - 1s 3ms/step - loss: 2.4012 - RMSE: 1.1092 - val_loss: 2.3295 - val_RMSE: 1.1119\n",
            "Epoch 12/60\n",
            "293/293 [==============================] - 1s 3ms/step - loss: 2.2580 - RMSE: 1.1081 - val_loss: 2.1948 - val_RMSE: 1.1110\n",
            "Epoch 13/60\n",
            "293/293 [==============================] - 1s 3ms/step - loss: 2.1307 - RMSE: 1.1071 - val_loss: 2.0750 - val_RMSE: 1.1102\n",
            "Epoch 14/60\n",
            "293/293 [==============================] - 1s 4ms/step - loss: 2.0177 - RMSE: 1.1063 - val_loss: 1.9684 - val_RMSE: 1.1095\n",
            "Epoch 15/60\n",
            "293/293 [==============================] - 1s 3ms/step - loss: 1.9171 - RMSE: 1.1056 - val_loss: 1.8737 - val_RMSE: 1.1088\n",
            "Epoch 16/60\n",
            "293/293 [==============================] - 1s 4ms/step - loss: 1.8277 - RMSE: 1.1049 - val_loss: 1.7894 - val_RMSE: 1.1081\n",
            "Epoch 17/60\n",
            "293/293 [==============================] - 1s 4ms/step - loss: 1.7482 - RMSE: 1.1043 - val_loss: 1.7145 - val_RMSE: 1.1075\n",
            "Epoch 18/60\n",
            "293/293 [==============================] - 2s 6ms/step - loss: 1.6774 - RMSE: 1.1037 - val_loss: 1.6479 - val_RMSE: 1.1069\n",
            "Epoch 19/60\n",
            "293/293 [==============================] - 1s 5ms/step - loss: 1.6145 - RMSE: 1.1032 - val_loss: 1.5886 - val_RMSE: 1.1064\n",
            "Epoch 20/60\n",
            "293/293 [==============================] - 1s 3ms/step - loss: 1.5585 - RMSE: 1.1025 - val_loss: 1.5359 - val_RMSE: 1.1059\n",
            "Epoch 21/60\n",
            "293/293 [==============================] - 1s 4ms/step - loss: 1.5087 - RMSE: 1.1020 - val_loss: 1.4890 - val_RMSE: 1.1055\n",
            "Epoch 22/60\n",
            "293/293 [==============================] - 1s 4ms/step - loss: 1.4644 - RMSE: 1.1016 - val_loss: 1.4473 - val_RMSE: 1.1050\n",
            "Epoch 23/60\n",
            "293/293 [==============================] - 1s 4ms/step - loss: 1.4251 - RMSE: 1.1012 - val_loss: 1.4103 - val_RMSE: 1.1046\n",
            "Epoch 24/60\n",
            "293/293 [==============================] - 1s 3ms/step - loss: 1.3900 - RMSE: 1.1006 - val_loss: 1.3773 - val_RMSE: 1.1043\n",
            "Epoch 25/60\n",
            "293/293 [==============================] - 1s 3ms/step - loss: 1.3589 - RMSE: 1.1003 - val_loss: 1.3480 - val_RMSE: 1.1039\n",
            "Epoch 26/60\n",
            "293/293 [==============================] - 1s 3ms/step - loss: 1.3312 - RMSE: 1.1000 - val_loss: 1.3219 - val_RMSE: 1.1036\n",
            "Epoch 27/60\n",
            "293/293 [==============================] - 1s 3ms/step - loss: 1.3066 - RMSE: 1.0997 - val_loss: 1.2987 - val_RMSE: 1.1033\n",
            "Epoch 28/60\n",
            "293/293 [==============================] - 1s 3ms/step - loss: 1.2847 - RMSE: 1.0993 - val_loss: 1.2781 - val_RMSE: 1.1030\n",
            "Epoch 29/60\n",
            "293/293 [==============================] - 2s 6ms/step - loss: 1.2652 - RMSE: 1.0990 - val_loss: 1.2598 - val_RMSE: 1.1028\n",
            "Epoch 30/60\n",
            "293/293 [==============================] - 2s 5ms/step - loss: 1.2478 - RMSE: 1.0986 - val_loss: 1.2435 - val_RMSE: 1.1025\n",
            "Epoch 31/60\n",
            "293/293 [==============================] - 1s 4ms/step - loss: 1.2324 - RMSE: 1.0984 - val_loss: 1.2290 - val_RMSE: 1.1023\n",
            "Epoch 32/60\n",
            "293/293 [==============================] - 1s 4ms/step - loss: 1.2188 - RMSE: 1.0983 - val_loss: 1.2161 - val_RMSE: 1.1021\n",
            "Epoch 33/60\n",
            "293/293 [==============================] - 1s 4ms/step - loss: 1.2066 - RMSE: 1.0981 - val_loss: 1.2046 - val_RMSE: 1.1019\n",
            "Epoch 34/60\n",
            "293/293 [==============================] - 1s 4ms/step - loss: 1.1957 - RMSE: 1.0977 - val_loss: 1.1944 - val_RMSE: 1.1017\n",
            "Epoch 35/60\n",
            "293/293 [==============================] - 2s 5ms/step - loss: 1.1861 - RMSE: 1.0976 - val_loss: 1.1853 - val_RMSE: 1.1015\n",
            "Epoch 36/60\n",
            "293/293 [==============================] - 1s 3ms/step - loss: 1.1775 - RMSE: 1.0974 - val_loss: 1.1773 - val_RMSE: 1.1013\n",
            "Epoch 37/60\n",
            "293/293 [==============================] - 1s 3ms/step - loss: 1.1699 - RMSE: 1.0972 - val_loss: 1.1701 - val_RMSE: 1.1012\n",
            "Epoch 38/60\n",
            "293/293 [==============================] - 1s 4ms/step - loss: 1.1631 - RMSE: 1.0971 - val_loss: 1.1637 - val_RMSE: 1.1010\n",
            "Epoch 39/60\n",
            "293/293 [==============================] - 2s 6ms/step - loss: 1.1570 - RMSE: 1.0969 - val_loss: 1.1580 - val_RMSE: 1.1009\n",
            "Epoch 40/60\n",
            "293/293 [==============================] - 2s 7ms/step - loss: 1.1518 - RMSE: 1.0969 - val_loss: 1.1530 - val_RMSE: 1.1008\n",
            "Epoch 41/60\n",
            "293/293 [==============================] - 1s 4ms/step - loss: 1.1470 - RMSE: 1.0967 - val_loss: 1.1485 - val_RMSE: 1.1006\n",
            "Epoch 42/60\n",
            "293/293 [==============================] - 1s 5ms/step - loss: 1.1426 - RMSE: 1.0965 - val_loss: 1.1445 - val_RMSE: 1.1005\n",
            "Epoch 43/60\n",
            "293/293 [==============================] - 1s 5ms/step - loss: 1.1390 - RMSE: 1.0964 - val_loss: 1.1410 - val_RMSE: 1.1004\n",
            "Epoch 44/60\n",
            "293/293 [==============================] - 1s 4ms/step - loss: 1.1356 - RMSE: 1.0963 - val_loss: 1.1378 - val_RMSE: 1.1003\n",
            "Epoch 45/60\n",
            "293/293 [==============================] - 1s 3ms/step - loss: 1.1325 - RMSE: 1.0961 - val_loss: 1.1350 - val_RMSE: 1.1002\n",
            "Epoch 46/60\n",
            "293/293 [==============================] - 1s 5ms/step - loss: 1.1300 - RMSE: 1.0961 - val_loss: 1.1325 - val_RMSE: 1.1002\n",
            "Epoch 47/60\n",
            "293/293 [==============================] - 1s 4ms/step - loss: 1.1277 - RMSE: 1.0961 - val_loss: 1.1303 - val_RMSE: 1.1001\n",
            "Epoch 48/60\n",
            "293/293 [==============================] - 2s 6ms/step - loss: 1.1254 - RMSE: 1.0959 - val_loss: 1.1283 - val_RMSE: 1.1000\n",
            "Epoch 49/60\n",
            "293/293 [==============================] - 2s 7ms/step - loss: 1.1237 - RMSE: 1.0960 - val_loss: 1.1266 - val_RMSE: 1.0999\n",
            "Epoch 50/60\n",
            "293/293 [==============================] - 2s 6ms/step - loss: 1.1219 - RMSE: 1.0957 - val_loss: 1.1250 - val_RMSE: 1.0999\n",
            "Epoch 51/60\n",
            "293/293 [==============================] - 1s 4ms/step - loss: 1.1205 - RMSE: 1.0958 - val_loss: 1.1236 - val_RMSE: 1.0998\n",
            "Epoch 52/60\n",
            "293/293 [==============================] - 1s 5ms/step - loss: 1.1192 - RMSE: 1.0957 - val_loss: 1.1224 - val_RMSE: 1.0998\n",
            "Epoch 53/60\n",
            "293/293 [==============================] - 2s 5ms/step - loss: 1.1180 - RMSE: 1.0956 - val_loss: 1.1213 - val_RMSE: 1.0997\n",
            "Epoch 54/60\n",
            "293/293 [==============================] - 1s 4ms/step - loss: 1.1170 - RMSE: 1.0955 - val_loss: 1.1203 - val_RMSE: 1.0997\n",
            "Epoch 55/60\n",
            "293/293 [==============================] - 1s 5ms/step - loss: 1.1162 - RMSE: 1.0957 - val_loss: 1.1195 - val_RMSE: 1.0996\n",
            "Epoch 56/60\n",
            "293/293 [==============================] - 2s 6ms/step - loss: 1.1152 - RMSE: 1.0954 - val_loss: 1.1187 - val_RMSE: 1.0996\n",
            "Epoch 57/60\n",
            "293/293 [==============================] - 2s 7ms/step - loss: 1.1144 - RMSE: 1.0954 - val_loss: 1.1180 - val_RMSE: 1.0995\n",
            "Epoch 58/60\n",
            "293/293 [==============================] - 2s 6ms/step - loss: 1.1138 - RMSE: 1.0953 - val_loss: 1.1174 - val_RMSE: 1.0995\n",
            "Epoch 59/60\n",
            "293/293 [==============================] - 1s 4ms/step - loss: 1.1133 - RMSE: 1.0954 - val_loss: 1.1169 - val_RMSE: 1.0995\n",
            "Epoch 60/60\n",
            "293/293 [==============================] - 2s 5ms/step - loss: 1.1128 - RMSE: 1.0953 - val_loss: 1.1164 - val_RMSE: 1.0994\n"
          ]
        }
      ]
    },
    {
      "cell_type": "code",
      "source": [
        "# 학습과정에서 측정지표의 변화\n",
        "import matplotlib.pyplot as plt\n",
        "plt.plot(result.history['RMSE'], label=\"Train RMSE\")\n",
        "plt.plot(result.history['val_RMSE'], label=\"Test RMSE\")\n",
        "plt.xlabel('epoch')\n",
        "plt.ylabel('RMSE')\n",
        "plt.legend()\n",
        "plt.show()"
      ],
      "metadata": {
        "colab": {
          "base_uri": "https://localhost:8080/",
          "height": 449
        },
        "id": "aXfAk86HfNWO",
        "outputId": "65de45be-3fe4-415b-86a4-0495b077b485"
      },
      "execution_count": null,
      "outputs": [
        {
          "output_type": "display_data",
          "data": {
            "text/plain": [
              "<Figure size 640x480 with 1 Axes>"
            ],
            "image/png": "[encoded data removed]"
          },
          "metadata": {}
        }
      ]
    },
    {
      "cell_type": "code",
      "source": [
        "# Prediction (학습을 마친 신경망으로 예측을 수행)\n",
        "user_ids = ratings_test.user_id.values[0:6]\n",
        "movie_ids= ratings_test.movie_id.values[0:6]                # 예측 대상을 테스트셋 처음 6개로 정함\n",
        "predictions = model.predict([user_ids, movie_ids]) + mu     # 예측치를 구한 후 학습시 빼준 전체평균을 다시 더해줌\n",
        "print(\"Actuals: \\n\", ratings_test[0:6])\n",
        "print( )\n",
        "print(\"Predictions: \\n\", predictions)"
      ],
      "metadata": {
        "colab": {
          "base_uri": "https://localhost:8080/"
        },
        "id": "ovyJyQgdfudG",
        "outputId": "ed87457e-6244-418a-ea39-321025dd9597"
      },
      "execution_count": null,
      "outputs": [
        {
          "output_type": "stream",
          "name": "stdout",
          "text": [
            "1/1 [==============================] - 0s 84ms/step\n",
            "Actuals: \n",
            "        user_id  movie_id  rating\n",
            "29689      109       122       2\n",
            "31112       75       405       4\n",
            "92358      665       535       4\n",
            "41012      450        98       4\n",
            "97844      774       398       1\n",
            "64933      627       123       3\n",
            "\n",
            "Predictions: \n",
            " [[3.4763439]\n",
            " [3.504358 ]\n",
            " [3.516692 ]\n",
            " [3.709163 ]\n",
            " [3.3761878]\n",
            " [3.5000224]]\n"
          ]
        }
      ]
    },
    {
      "cell_type": "markdown",
      "source": [
        "* 꽤 차이가 있지만 경향성만은 비슷한 것 같다..."
      ],
      "metadata": {
        "id": "OeMoc_eLg_qA"
      }
    },
    {
      "cell_type": "code",
      "source": [
        "# 신경망에서 예측한 결과의 실제 RMSE 계산\n",
        "def RMSE2(y_true, y_pred):\n",
        "    return np.sqrt( np.mean( ( np.array(y_true) - np.array(y_pred) )**2 ) )\n",
        "\n",
        "user_ids = ratings_test.user_id.values\n",
        "movie_ids = ratings_test.movie_id.values\n",
        "\n",
        "y_pred = model.predict([user_ids, movie_ids]) + mu\n",
        "# Keras의 Model 클래스에서 제공하는 predict() 메소드는 신경망에 입력을 넣어주면 해당 신경망을 적용한 예측값을 계산해준다.\n",
        "y_pred = np.ravel(y_pred, order = 'C')\n",
        "# predict()로 얻은 예측값은 2차원(N X 1)의 array로 되어있으므로 np.ravel을 사용, 1차원 array로 바꿔준다.\n",
        "y_true = np.array(ratings_test.rating)\n",
        "# 실제 평점값을 가져온다.\n",
        "RMSE2(y_true, y_pred)"
      ],
      "metadata": {
        "id": "5_LXOEqbhEx-",
        "colab": {
          "base_uri": "https://localhost:8080/"
        },
        "outputId": "cf450e41-5b1d-4aaa-d5ab-49163c1c5764"
      },
      "execution_count": null,
      "outputs": [
        {
          "output_type": "stream",
          "name": "stdout",
          "text": [
            "782/782 [==============================] - 3s 4ms/step\n"
          ]
        },
        {
          "output_type": "execute_result",
          "data": {
            "text/plain": [
              "1.1000339087923083"
            ]
          },
          "metadata": {},
          "execution_count": 12
        }
      ]
    }
  ]
}
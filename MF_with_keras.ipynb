{
  "nbformat": 4,
  "nbformat_minor": 0,
  "metadata": {
    "colab": {
      "provenance": [],
      "include_colab_link": true
    },
    "kernelspec": {
      "name": "python3",
      "display_name": "Python 3"
    },
    "language_info": {
      "name": "python"
    },
    "accelerator": "GPU",
    "gpuClass": "standard"
  },
  "cells": [
    {
      "cell_type": "markdown",
      "metadata": {
        "id": "view-in-github",
        "colab_type": "text"
      },
      "source": [
        "<a href=\"https://colab.research.google.com/github/CP2J/cp2j/blob/ACJ-11-opt1-RecSys_by_DL/MF_with_keras.ipynb\" target=\"_parent\"><img src=\"https://colab.research.google.com/assets/colab-badge.svg\" alt=\"Open In Colab\"/></a>"
      ]
    },
    {
      "cell_type": "markdown",
      "source": [
        "# 딥러닝을 사용한 추천 시스템\n",
        "< Reference : Python을 이용한 개인화 추천 시스템 2판 >"
      ],
      "metadata": {
        "id": "OF1efUCsdLVx"
      }
    },
    {
      "cell_type": "markdown",
      "source": [
        "# 1. MF를 신경망으로 변환하기\n",
        "- DL에 들어가기 전 은닉층이 없는 신경망 모형을 Keras로 구성해 보기로 한다.\n",
        "\n",
        "<img src=\"https://drive.google.com/uc?id=1dmF6p0bNFDVpL9Un3J7Ja9A-0iF2Z1u0\" alt=\"MF를 신경망으로 변환\" height=\"300\" width=\"400\">"
      ],
      "metadata": {
        "id": "Hb4u76CpdQej"
      }
    },
    {
      "cell_type": "code",
      "source": [
        "from google.colab import drive\n",
        "drive.mount('/content/drive')"
      ],
      "metadata": {
        "colab": {
          "base_uri": "https://localhost:8080/"
        },
        "id": "kEmknauNpkZO",
        "outputId": "bb50e72d-39f0-4e00-a6af-16f723e6a885"
      },
      "execution_count": 1,
      "outputs": [
        {
          "output_type": "stream",
          "name": "stdout",
          "text": [
            "Mounted at /content/drive\n"
          ]
        }
      ]
    },
    {
      "cell_type": "code",
      "execution_count": 2,
      "metadata": {
        "id": "UkiBvn_CdEr5"
      },
      "outputs": [],
      "source": [
        "import pandas as pd\n",
        "import numpy as np\n",
        "\n",
        "# csv 파일에서 불러오기\n",
        "r_cols = ['user_id', 'movie_id', 'rating', 'timestamp']\n",
        "ratings = pd.read_csv('/content/drive/MyDrive/ml-100k/u.data', names=r_cols,  sep='\\t',encoding='latin-1')\n",
        "ratings = ratings[['user_id', 'movie_id', 'rating']].astype(int)            # timestamp 제거, 정수형 변환"
      ]
    },
    {
      "cell_type": "code",
      "source": [
        "ratings.describe()"
      ],
      "metadata": {
        "id": "1HX2JIIB8AqN",
        "outputId": "ef6d3324-f8f7-4cd7-96a1-27afa93a4bad",
        "colab": {
          "base_uri": "https://localhost:8080/",
          "height": 300
        }
      },
      "execution_count": 3,
      "outputs": [
        {
          "output_type": "execute_result",
          "data": {
            "text/plain": [
              "            user_id       movie_id         rating\n",
              "count  100000.00000  100000.000000  100000.000000\n",
              "mean      462.48475     425.530130       3.529860\n",
              "std       266.61442     330.798356       1.125674\n",
              "min         1.00000       1.000000       1.000000\n",
              "25%       254.00000     175.000000       3.000000\n",
              "50%       447.00000     322.000000       4.000000\n",
              "75%       682.00000     631.000000       4.000000\n",
              "max       943.00000    1682.000000       5.000000"
            ],
            "text/html": [
              "\n",
              "  <div id=\"df-61103523-64a7-4993-be97-fb6797ee9784\">\n",
              "    <div class=\"colab-df-container\">\n",
              "      <div>\n",
              "<style scoped>\n",
              "    .dataframe tbody tr th:only-of-type {\n",
              "        vertical-align: middle;\n",
              "    }\n",
              "\n",
              "    .dataframe tbody tr th {\n",
              "        vertical-align: top;\n",
              "    }\n",
              "\n",
              "    .dataframe thead th {\n",
              "        text-align: right;\n",
              "    }\n",
              "</style>\n",
              "<table border=\"1\" class=\"dataframe\">\n",
              "  <thead>\n",
              "    <tr style=\"text-align: right;\">\n",
              "      <th></th>\n",
              "      <th>user_id</th>\n",
              "      <th>movie_id</th>\n",
              "      <th>rating</th>\n",
              "    </tr>\n",
              "  </thead>\n",
              "  <tbody>\n",
              "    <tr>\n",
              "      <th>count</th>\n",
              "      <td>100000.00000</td>\n",
              "      <td>100000.000000</td>\n",
              "      <td>100000.000000</td>\n",
              "    </tr>\n",
              "    <tr>\n",
              "      <th>mean</th>\n",
              "      <td>462.48475</td>\n",
              "      <td>425.530130</td>\n",
              "      <td>3.529860</td>\n",
              "    </tr>\n",
              "    <tr>\n",
              "      <th>std</th>\n",
              "      <td>266.61442</td>\n",
              "      <td>330.798356</td>\n",
              "      <td>1.125674</td>\n",
              "    </tr>\n",
              "    <tr>\n",
              "      <th>min</th>\n",
              "      <td>1.00000</td>\n",
              "      <td>1.000000</td>\n",
              "      <td>1.000000</td>\n",
              "    </tr>\n",
              "    <tr>\n",
              "      <th>25%</th>\n",
              "      <td>254.00000</td>\n",
              "      <td>175.000000</td>\n",
              "      <td>3.000000</td>\n",
              "    </tr>\n",
              "    <tr>\n",
              "      <th>50%</th>\n",
              "      <td>447.00000</td>\n",
              "      <td>322.000000</td>\n",
              "      <td>4.000000</td>\n",
              "    </tr>\n",
              "    <tr>\n",
              "      <th>75%</th>\n",
              "      <td>682.00000</td>\n",
              "      <td>631.000000</td>\n",
              "      <td>4.000000</td>\n",
              "    </tr>\n",
              "    <tr>\n",
              "      <th>max</th>\n",
              "      <td>943.00000</td>\n",
              "      <td>1682.000000</td>\n",
              "      <td>5.000000</td>\n",
              "    </tr>\n",
              "  </tbody>\n",
              "</table>\n",
              "</div>\n",
              "      <button class=\"colab-df-convert\" onclick=\"convertToInteractive('df-61103523-64a7-4993-be97-fb6797ee9784')\"\n",
              "              title=\"Convert this dataframe to an interactive table.\"\n",
              "              style=\"display:none;\">\n",
              "        \n",
              "  <svg xmlns=\"http://www.w3.org/2000/svg\" height=\"24px\"viewBox=\"0 0 24 24\"\n",
              "       width=\"24px\">\n",
              "    <path d=\"M0 0h24v24H0V0z\" fill=\"none\"/>\n",
              "    <path d=\"M18.56 5.44l.94 2.06.94-2.06 2.06-.94-2.06-.94-.94-2.06-.94 2.06-2.06.94zm-11 1L8.5 8.5l.94-2.06 2.06-.94-2.06-.94L8.5 2.5l-.94 2.06-2.06.94zm10 10l.94 2.06.94-2.06 2.06-.94-2.06-.94-.94-2.06-.94 2.06-2.06.94z\"/><path d=\"M17.41 7.96l-1.37-1.37c-.4-.4-.92-.59-1.43-.59-.52 0-1.04.2-1.43.59L10.3 9.45l-7.72 7.72c-.78.78-.78 2.05 0 2.83L4 21.41c.39.39.9.59 1.41.59.51 0 1.02-.2 1.41-.59l7.78-7.78 2.81-2.81c.8-.78.8-2.07 0-2.86zM5.41 20L4 18.59l7.72-7.72 1.47 1.35L5.41 20z\"/>\n",
              "  </svg>\n",
              "      </button>\n",
              "      \n",
              "  <style>\n",
              "    .colab-df-container {\n",
              "      display:flex;\n",
              "      flex-wrap:wrap;\n",
              "      gap: 12px;\n",
              "    }\n",
              "\n",
              "    .colab-df-convert {\n",
              "      background-color: #E8F0FE;\n",
              "      border: none;\n",
              "      border-radius: 50%;\n",
              "      cursor: pointer;\n",
              "      display: none;\n",
              "      fill: #1967D2;\n",
              "      height: 32px;\n",
              "      padding: 0 0 0 0;\n",
              "      width: 32px;\n",
              "    }\n",
              "\n",
              "    .colab-df-convert:hover {\n",
              "      background-color: #E2EBFA;\n",
              "      box-shadow: 0px 1px 2px rgba(60, 64, 67, 0.3), 0px 1px 3px 1px rgba(60, 64, 67, 0.15);\n",
              "      fill: #174EA6;\n",
              "    }\n",
              "\n",
              "    [theme=dark] .colab-df-convert {\n",
              "      background-color: #3B4455;\n",
              "      fill: #D2E3FC;\n",
              "    }\n",
              "\n",
              "    [theme=dark] .colab-df-convert:hover {\n",
              "      background-color: #434B5C;\n",
              "      box-shadow: 0px 1px 3px 1px rgba(0, 0, 0, 0.15);\n",
              "      filter: drop-shadow(0px 1px 2px rgba(0, 0, 0, 0.3));\n",
              "      fill: #FFFFFF;\n",
              "    }\n",
              "  </style>\n",
              "\n",
              "      <script>\n",
              "        const buttonEl =\n",
              "          document.querySelector('#df-61103523-64a7-4993-be97-fb6797ee9784 button.colab-df-convert');\n",
              "        buttonEl.style.display =\n",
              "          google.colab.kernel.accessAllowed ? 'block' : 'none';\n",
              "\n",
              "        async function convertToInteractive(key) {\n",
              "          const element = document.querySelector('#df-61103523-64a7-4993-be97-fb6797ee9784');\n",
              "          const dataTable =\n",
              "            await google.colab.kernel.invokeFunction('convertToInteractive',\n",
              "                                                     [key], {});\n",
              "          if (!dataTable) return;\n",
              "\n",
              "          const docLinkHtml = 'Like what you see? Visit the ' +\n",
              "            '<a target=\"_blank\" href=https://colab.research.google.com/notebooks/data_table.ipynb>data table notebook</a>'\n",
              "            + ' to learn more about interactive tables.';\n",
              "          element.innerHTML = '';\n",
              "          dataTable['output_type'] = 'display_data';\n",
              "          await google.colab.output.renderOutput(dataTable, element);\n",
              "          const docLink = document.createElement('div');\n",
              "          docLink.innerHTML = docLinkHtml;\n",
              "          element.appendChild(docLink);\n",
              "        }\n",
              "      </script>\n",
              "    </div>\n",
              "  </div>\n",
              "  "
            ]
          },
          "metadata": {},
          "execution_count": 3
        }
      ]
    },
    {
      "cell_type": "code",
      "source": [
        "# Train-test 분리 (이렇게 나누는 방법도 있군)\n",
        "from sklearn.utils import shuffle\n",
        "TRAIN_SIZE = 0.75                         # 0.75 : 0.25\n",
        "ratings = shuffle(ratings)                # row를 섞는다.\n",
        "cutoff = int(TRAIN_SIZE * len(ratings))   # 끊는 지점\n",
        "ratings_train = ratings.iloc[:cutoff]\n",
        "ratings_test = ratings.iloc[cutoff:]"
      ],
      "metadata": {
        "id": "865cjkleqC9F"
      },
      "execution_count": 4,
      "outputs": []
    },
    {
      "cell_type": "code",
      "source": [
        "import tensorflow as tf\n",
        "from tensorflow.keras import layers\n",
        "from tensorflow.keras.models import Model\n",
        "from tensorflow.keras.layers import Input, Embedding, Dot, Add, Flatten\n",
        "from tensorflow.keras.regularizers import l2\n",
        "from tensorflow.keras.optimizers import SGD, Adamax"
      ],
      "metadata": {
        "id": "w1L45qetq8Go"
      },
      "execution_count": 5,
      "outputs": []
    },
    {
      "cell_type": "code",
      "source": [
        "# Variable 초기화\n",
        "K = 200                                 # Latent factor(잠재요인) 수\n",
        "mu = ratings_train.rating.mean()        # 전체 평균\n",
        "M = ratings.user_id.max() +1            # 사용자 아이디 최대값+1 : Number of users로 간주, 추후 Embedding에 사용\n",
        "# 사용자 아이디는 1부터 943이지만(위 describe 참고)\n",
        "# adding 1 ensures that all user IDs from 0 to the maximum ID are included in the embedding layer. \n",
        "N = ratings.movie_id.max() +1           # Number of movies\n",
        "\n",
        "# RMSE 정의\n",
        "def RMSE(y_true, y_pred):\n",
        "    return tf.sqrt(tf.reduce_mean(tf.square(y_true - y_pred)))"
      ],
      "metadata": {
        "id": "j-U9344OrNI5"
      },
      "execution_count": 6,
      "outputs": []
    },
    {
      "cell_type": "markdown",
      "source": [
        "<img src=\"https://drive.google.com/uc?id=1t-SuODMgtulPkinttPOTs4HW3cr4jpEj\" alt=\"최종 MF 신경망 모델\" height=\"300\" width=\"400\">\n",
        "\n",
        "<img src=\"https://drive.google.com/uc?id=1qOscXw43A0VPdNuoz3IVX8pIvAGea28n\" alt=\"최종 MF 신경망 모델\" height=\"300\" width=\"400\">\n",
        "\n",
        "* 사용자(아이템)에 대한 입력은 M(사용자 수) X M(feature, dummy variable) 차원의 One-hot Representation이다. 이는 위 그림처럼 해당 유저의 row는 그 유저 번호에 해당하는 dummy feature만 1이고 나머지는 0인 형태로 서로 다른 사용자를 구분해주는 encoding이다."
      ],
      "metadata": {
        "id": "nMl29583tVQw"
      }
    },
    {
      "cell_type": "code",
      "source": [
        "# Keras model\n",
        "user = Input(shape=(1, ))                                             # 사용자 데이터 입력 형식 지정(id만 받음)\n",
        "item = Input(shape=(1, ))                                             # 아이템 데이터 입력 형식 지정(id만 받음)\n",
        "P_embedding = Embedding(M, K, embeddings_regularizer=l2())(user)      # 사용자 Embedding layer 지정 (M, 1, K) : (M X K)의 연결을 가진다.\n",
        "Q_embedding = Embedding(N, K, embeddings_regularizer=l2())(item)      # 아이템 Embedding layer 지정 (N, 1, K) : (N X K)의 연결을 가진다.\n",
        "user_bias = Embedding(M, 1, embeddings_regularizer=l2())(user)        # User bias term (M, 1, ) : (M X 1)의 연결\n",
        "item_bias = Embedding(N, 1, embeddings_regularizer=l2())(item)        # Item bias term (N, 1, ) : (N X 1)의 연결\n",
        "\n",
        "R = layers.dot([P_embedding, Q_embedding], axes=2)                    # (1, 1, 1)\n",
        "# 유저 임베딩과 아이템 임베딩의 내적을 계산해 예측평점을 만드는 레이어( R = Dot(axes=2)([P_embedding, Q_embedding]) 도 가능 )\n",
        "\n",
        "R = layers.add([R, user_bias, item_bias])\n",
        "# 사용자 bias와 아이템 bias를 더한다.(R = Add()([R, user_bias, item_bias])도 가능)\n",
        "\n",
        "R = Flatten()(R)                                                      # (1,1)\n",
        "# 차원을 압축(1차원 배열로 변경)\n",
        "\n",
        "# Model setting\n",
        "model = Model(inputs=[user,item], outputs=R)                          # 모델 입출력 정의\n",
        "model.compile(                                                        # 모델 컴파일 조건\n",
        "    loss = RMSE,\n",
        "    optimizer = SGD(),\n",
        "    #optimizer = Adamax(),\n",
        "    metrics = [RMSE]\n",
        ")\n",
        "model.summary()"
      ],
      "metadata": {
        "id": "5Kaw5F8zzmK5",
        "colab": {
          "base_uri": "https://localhost:8080/"
        },
        "outputId": "f2f1989a-351f-4d0b-8ef6-f580f1f02a3d"
      },
      "execution_count": 7,
      "outputs": [
        {
          "output_type": "stream",
          "name": "stdout",
          "text": [
            "Model: \"model\"\n",
            "__________________________________________________________________________________________________\n",
            " Layer (type)                   Output Shape         Param #     Connected to                     \n",
            "==================================================================================================\n",
            " input_1 (InputLayer)           [(None, 1)]          0           []                               \n",
            "                                                                                                  \n",
            " input_2 (InputLayer)           [(None, 1)]          0           []                               \n",
            "                                                                                                  \n",
            " embedding (Embedding)          (None, 1, 200)       188800      ['input_1[0][0]']                \n",
            "                                                                                                  \n",
            " embedding_1 (Embedding)        (None, 1, 200)       336600      ['input_2[0][0]']                \n",
            "                                                                                                  \n",
            " dot (Dot)                      (None, 1, 1)         0           ['embedding[0][0]',              \n",
            "                                                                  'embedding_1[0][0]']            \n",
            "                                                                                                  \n",
            " embedding_2 (Embedding)        (None, 1, 1)         944         ['input_1[0][0]']                \n",
            "                                                                                                  \n",
            " embedding_3 (Embedding)        (None, 1, 1)         1683        ['input_2[0][0]']                \n",
            "                                                                                                  \n",
            " add (Add)                      (None, 1, 1)         0           ['dot[0][0]',                    \n",
            "                                                                  'embedding_2[0][0]',            \n",
            "                                                                  'embedding_3[0][0]']            \n",
            "                                                                                                  \n",
            " flatten (Flatten)              (None, 1)            0           ['add[0][0]']                    \n",
            "                                                                                                  \n",
            "==================================================================================================\n",
            "Total params: 528,027\n",
            "Trainable params: 528,027\n",
            "Non-trainable params: 0\n",
            "__________________________________________________________________________________________________\n"
          ]
        }
      ]
    },
    {
      "cell_type": "markdown",
      "source": [
        "* embedding_4, 5(실행마다 번호는 다름)는 각각 사용자와 아이템의 잠재요인, 즉 P, Q를 나타냄\n",
        "* 현재 train set에서 사용자(M) 944, 아이템(N) 1,683 이고, 각 사용자, 아이템에 대해서 K=200의 잠재요인을 지정했기 때문에 총 연결(Parameter)은 아래와 같다.\n",
        "  * 사용자의 경우 944 * 200 = 188,800\n",
        "  * 아이템의 경우 1,683 * 200 = 336,600\n",
        "* embedding_6, 7은 bias layer로 사용자와 아이템 하나에 대해서 1개씩의 연결이 생기기 때문에 각각 944, 1683개의 연결(Parameter)이 만들어진다."
      ],
      "metadata": {
        "id": "J2oozr_xY-WG"
      }
    },
    {
      "cell_type": "code",
      "source": [
        "# Model fitting (위에서 구성한 신경망을 학습시킨다)\n",
        "result = model.fit(\n",
        "    x = [ratings_train.user_id.values, ratings_train.movie_id.values],\n",
        "    # train set의 입력(독립변수) 지정. 입력은 각 사용자와 아이템 구분용 One-hot encoding을 위한 id\n",
        "    y = ratings_train.rating.values - mu,\n",
        "    # train set의 출력(종속변수) 지정.\n",
        "    # 신경망 구성의 용이성을 위해 '평점값에서 전체적 경향성을 고려하기 위한 전체 평균을 뺀 값'을 쓰고,\n",
        "    # 나중에 예측값에서 다시 더해줄 예정\n",
        "\n",
        "    epochs = 60,                              # 반복횟수\n",
        "    batch_size = 256,                         # 한번에 학습하는 batch 크기를 지정\n",
        "    validation_data=(                         #정확도 측정을 위한 test set 지정\n",
        "        [ratings_test.user_id.values, ratings_test.movie_id.values],\n",
        "        ratings_test.rating.values - mu\n",
        "    )\n",
        ")"
      ],
      "metadata": {
        "colab": {
          "base_uri": "https://localhost:8080/"
        },
        "id": "eTNuAdxBaCmI",
        "outputId": "8bce4519-f505-442c-9b50-c2b4aacf88da"
      },
      "execution_count": 8,
      "outputs": [
        {
          "output_type": "stream",
          "name": "stdout",
          "text": [
            "Epoch 1/60\n",
            "293/293 [==============================] - 8s 5ms/step - loss: 5.2708 - RMSE: 1.1260 - val_loss: 5.0302 - val_RMSE: 1.1245\n",
            "Epoch 2/60\n",
            "293/293 [==============================] - 1s 4ms/step - loss: 4.8102 - RMSE: 1.1239 - val_loss: 4.5963 - val_RMSE: 1.1225\n",
            "Epoch 3/60\n",
            "293/293 [==============================] - 1s 4ms/step - loss: 4.4005 - RMSE: 1.1218 - val_loss: 4.2104 - val_RMSE: 1.1208\n",
            "Epoch 4/60\n",
            "293/293 [==============================] - 1s 4ms/step - loss: 4.0361 - RMSE: 1.1199 - val_loss: 3.8673 - val_RMSE: 1.1191\n",
            "Epoch 5/60\n",
            "293/293 [==============================] - 1s 4ms/step - loss: 3.7125 - RMSE: 1.1185 - val_loss: 3.5621 - val_RMSE: 1.1176\n",
            "Epoch 6/60\n",
            "293/293 [==============================] - 2s 6ms/step - loss: 3.4243 - RMSE: 1.1169 - val_loss: 3.2907 - val_RMSE: 1.1161\n",
            "Epoch 7/60\n",
            "293/293 [==============================] - 2s 5ms/step - loss: 3.1681 - RMSE: 1.1154 - val_loss: 3.0494 - val_RMSE: 1.1148\n",
            "Epoch 8/60\n",
            "293/293 [==============================] - 1s 4ms/step - loss: 2.9402 - RMSE: 1.1140 - val_loss: 2.8348 - val_RMSE: 1.1136\n",
            "Epoch 9/60\n",
            "293/293 [==============================] - 1s 4ms/step - loss: 2.7377 - RMSE: 1.1128 - val_loss: 2.6439 - val_RMSE: 1.1124\n",
            "Epoch 10/60\n",
            "293/293 [==============================] - 1s 4ms/step - loss: 2.5575 - RMSE: 1.1116 - val_loss: 2.4742 - val_RMSE: 1.1114\n",
            "Epoch 11/60\n",
            "293/293 [==============================] - 1s 4ms/step - loss: 2.3972 - RMSE: 1.1105 - val_loss: 2.3232 - val_RMSE: 1.1104\n",
            "Epoch 12/60\n",
            "293/293 [==============================] - 1s 4ms/step - loss: 2.2546 - RMSE: 1.1095 - val_loss: 2.1890 - val_RMSE: 1.1094\n",
            "Epoch 13/60\n",
            "293/293 [==============================] - 1s 4ms/step - loss: 2.1279 - RMSE: 1.1086 - val_loss: 2.0696 - val_RMSE: 1.1086\n",
            "Epoch 14/60\n",
            "293/293 [==============================] - 1s 5ms/step - loss: 2.0150 - RMSE: 1.1075 - val_loss: 1.9634 - val_RMSE: 1.1078\n",
            "Epoch 15/60\n",
            "293/293 [==============================] - 2s 6ms/step - loss: 1.9149 - RMSE: 1.1068 - val_loss: 1.8690 - val_RMSE: 1.1071\n",
            "Epoch 16/60\n",
            "293/293 [==============================] - 2s 7ms/step - loss: 1.8258 - RMSE: 1.1061 - val_loss: 1.7850 - val_RMSE: 1.1064\n",
            "Epoch 17/60\n",
            "293/293 [==============================] - 2s 6ms/step - loss: 1.7466 - RMSE: 1.1055 - val_loss: 1.7103 - val_RMSE: 1.1057\n",
            "Epoch 18/60\n",
            "293/293 [==============================] - 1s 4ms/step - loss: 1.6760 - RMSE: 1.1047 - val_loss: 1.6439 - val_RMSE: 1.1051\n",
            "Epoch 19/60\n",
            "293/293 [==============================] - 1s 4ms/step - loss: 1.6133 - RMSE: 1.1041 - val_loss: 1.5849 - val_RMSE: 1.1046\n",
            "Epoch 20/60\n",
            "293/293 [==============================] - 1s 4ms/step - loss: 1.5576 - RMSE: 1.1037 - val_loss: 1.5324 - val_RMSE: 1.1040\n",
            "Epoch 21/60\n",
            "293/293 [==============================] - 1s 4ms/step - loss: 1.5079 - RMSE: 1.1029 - val_loss: 1.4857 - val_RMSE: 1.1035\n",
            "Epoch 22/60\n",
            "293/293 [==============================] - 1s 4ms/step - loss: 1.4639 - RMSE: 1.1026 - val_loss: 1.4441 - val_RMSE: 1.1031\n",
            "Epoch 23/60\n",
            "293/293 [==============================] - 1s 4ms/step - loss: 1.4246 - RMSE: 1.1021 - val_loss: 1.4072 - val_RMSE: 1.1027\n",
            "Epoch 24/60\n",
            "293/293 [==============================] - 1s 4ms/step - loss: 1.3897 - RMSE: 1.1016 - val_loss: 1.3743 - val_RMSE: 1.1023\n",
            "Epoch 25/60\n",
            "293/293 [==============================] - 1s 4ms/step - loss: 1.3587 - RMSE: 1.1012 - val_loss: 1.3451 - val_RMSE: 1.1019\n",
            "Epoch 26/60\n",
            "293/293 [==============================] - 1s 4ms/step - loss: 1.3311 - RMSE: 1.1008 - val_loss: 1.3191 - val_RMSE: 1.1015\n",
            "Epoch 27/60\n",
            "293/293 [==============================] - 2s 6ms/step - loss: 1.3066 - RMSE: 1.1005 - val_loss: 1.2960 - val_RMSE: 1.1012\n",
            "Epoch 28/60\n",
            "293/293 [==============================] - 2s 6ms/step - loss: 1.2848 - RMSE: 1.1002 - val_loss: 1.2755 - val_RMSE: 1.1009\n",
            "Epoch 29/60\n",
            "293/293 [==============================] - 1s 4ms/step - loss: 1.2653 - RMSE: 1.0998 - val_loss: 1.2572 - val_RMSE: 1.1006\n",
            "Epoch 30/60\n",
            "293/293 [==============================] - 1s 4ms/step - loss: 1.2480 - RMSE: 1.0995 - val_loss: 1.2410 - val_RMSE: 1.1004\n",
            "Epoch 31/60\n",
            "293/293 [==============================] - 1s 4ms/step - loss: 1.2327 - RMSE: 1.0992 - val_loss: 1.2265 - val_RMSE: 1.1001\n",
            "Epoch 32/60\n",
            "293/293 [==============================] - 1s 4ms/step - loss: 1.2190 - RMSE: 1.0989 - val_loss: 1.2137 - val_RMSE: 1.0999\n",
            "Epoch 33/60\n",
            "293/293 [==============================] - 1s 4ms/step - loss: 1.2069 - RMSE: 1.0987 - val_loss: 1.2022 - val_RMSE: 1.0997\n",
            "Epoch 34/60\n",
            "293/293 [==============================] - 1s 4ms/step - loss: 1.1962 - RMSE: 1.0986 - val_loss: 1.1921 - val_RMSE: 1.0995\n",
            "Epoch 35/60\n",
            "293/293 [==============================] - 1s 4ms/step - loss: 1.1865 - RMSE: 1.0983 - val_loss: 1.1830 - val_RMSE: 1.0993\n",
            "Epoch 36/60\n",
            "293/293 [==============================] - 1s 4ms/step - loss: 1.1779 - RMSE: 1.0980 - val_loss: 1.1750 - val_RMSE: 1.0991\n",
            "Epoch 37/60\n",
            "293/293 [==============================] - 1s 5ms/step - loss: 1.1703 - RMSE: 1.0979 - val_loss: 1.1678 - val_RMSE: 1.0989\n",
            "Epoch 38/60\n",
            "293/293 [==============================] - 2s 6ms/step - loss: 1.1635 - RMSE: 1.0977 - val_loss: 1.1615 - val_RMSE: 1.0988\n",
            "Epoch 39/60\n",
            "293/293 [==============================] - 2s 5ms/step - loss: 1.1576 - RMSE: 1.0976 - val_loss: 1.1558 - val_RMSE: 1.0986\n",
            "Epoch 40/60\n",
            "293/293 [==============================] - 1s 4ms/step - loss: 1.1523 - RMSE: 1.0975 - val_loss: 1.1508 - val_RMSE: 1.0985\n",
            "Epoch 41/60\n",
            "293/293 [==============================] - 1s 4ms/step - loss: 1.1476 - RMSE: 1.0974 - val_loss: 1.1463 - val_RMSE: 1.0984\n",
            "Epoch 42/60\n",
            "293/293 [==============================] - 1s 4ms/step - loss: 1.1433 - RMSE: 1.0972 - val_loss: 1.1424 - val_RMSE: 1.0983\n",
            "Epoch 43/60\n",
            "293/293 [==============================] - 1s 4ms/step - loss: 1.1395 - RMSE: 1.0971 - val_loss: 1.1388 - val_RMSE: 1.0982\n",
            "Epoch 44/60\n",
            "293/293 [==============================] - 1s 4ms/step - loss: 1.1361 - RMSE: 1.0969 - val_loss: 1.1357 - val_RMSE: 1.0980\n",
            "Epoch 45/60\n",
            "293/293 [==============================] - 2s 8ms/step - loss: 1.1331 - RMSE: 1.0968 - val_loss: 1.1329 - val_RMSE: 1.0980\n",
            "Epoch 46/60\n",
            "293/293 [==============================] - 1s 4ms/step - loss: 1.1306 - RMSE: 1.0968 - val_loss: 1.1304 - val_RMSE: 1.0979\n",
            "Epoch 47/60\n",
            "293/293 [==============================] - 2s 5ms/step - loss: 1.1282 - RMSE: 1.0967 - val_loss: 1.1282 - val_RMSE: 1.0978\n",
            "Epoch 48/60\n",
            "293/293 [==============================] - 2s 6ms/step - loss: 1.1262 - RMSE: 1.0967 - val_loss: 1.1262 - val_RMSE: 1.0977\n",
            "Epoch 49/60\n",
            "293/293 [==============================] - 1s 5ms/step - loss: 1.1243 - RMSE: 1.0965 - val_loss: 1.1245 - val_RMSE: 1.0976\n",
            "Epoch 50/60\n",
            "293/293 [==============================] - 1s 4ms/step - loss: 1.1227 - RMSE: 1.0966 - val_loss: 1.1229 - val_RMSE: 1.0975\n",
            "Epoch 51/60\n",
            "293/293 [==============================] - 1s 4ms/step - loss: 1.1211 - RMSE: 1.0964 - val_loss: 1.1215 - val_RMSE: 1.0975\n",
            "Epoch 52/60\n",
            "293/293 [==============================] - 1s 4ms/step - loss: 1.1199 - RMSE: 1.0963 - val_loss: 1.1203 - val_RMSE: 1.0974\n",
            "Epoch 53/60\n",
            "293/293 [==============================] - 1s 4ms/step - loss: 1.1186 - RMSE: 1.0962 - val_loss: 1.1192 - val_RMSE: 1.0974\n",
            "Epoch 54/60\n",
            "293/293 [==============================] - 1s 4ms/step - loss: 1.1176 - RMSE: 1.0962 - val_loss: 1.1182 - val_RMSE: 1.0973\n",
            "Epoch 55/60\n",
            "293/293 [==============================] - 1s 4ms/step - loss: 1.1166 - RMSE: 1.0960 - val_loss: 1.1174 - val_RMSE: 1.0973\n",
            "Epoch 56/60\n",
            "293/293 [==============================] - 1s 4ms/step - loss: 1.1158 - RMSE: 1.0960 - val_loss: 1.1166 - val_RMSE: 1.0972\n",
            "Epoch 57/60\n",
            "293/293 [==============================] - 1s 4ms/step - loss: 1.1150 - RMSE: 1.0959 - val_loss: 1.1159 - val_RMSE: 1.0972\n",
            "Epoch 58/60\n",
            "293/293 [==============================] - 2s 6ms/step - loss: 1.1145 - RMSE: 1.0959 - val_loss: 1.1153 - val_RMSE: 1.0971\n",
            "Epoch 59/60\n",
            "293/293 [==============================] - 2s 6ms/step - loss: 1.1139 - RMSE: 1.0959 - val_loss: 1.1148 - val_RMSE: 1.0971\n",
            "Epoch 60/60\n",
            "293/293 [==============================] - 1s 4ms/step - loss: 1.1135 - RMSE: 1.0959 - val_loss: 1.1143 - val_RMSE: 1.0971\n"
          ]
        }
      ]
    },
    {
      "cell_type": "code",
      "source": [
        "# 학습과정에서 측정지표의 변화\n",
        "import matplotlib.pyplot as plt\n",
        "plt.plot(result.history['RMSE'], label=\"Train RMSE\")\n",
        "plt.plot(result.history['val_RMSE'], label=\"Test RMSE\")\n",
        "plt.xlabel('epoch')\n",
        "plt.ylabel('RMSE')\n",
        "plt.legend()\n",
        "plt.show()"
      ],
      "metadata": {
        "colab": {
          "base_uri": "https://localhost:8080/",
          "height": 449
        },
        "id": "aXfAk86HfNWO",
        "outputId": "9f371f90-c942-43e8-d3f1-bdcac9f4ba43"
      },
      "execution_count": 9,
      "outputs": [
        {
          "output_type": "display_data",
          "data": {
            "text/plain": [
              "<Figure size 640x480 with 1 Axes>"
            ],
            "image/png": "[encoded data removed]"
          },
          "metadata": {}
        }
      ]
    },
    {
      "cell_type": "code",
      "source": [
        "# Prediction (학습을 마친 신경망으로 예측을 수행)\n",
        "user_ids = ratings_test.user_id.values[0:6]\n",
        "movie_ids= ratings_test.movie_id.values[0:6]                # 예측 대상을 테스트셋 처음 6개로 정함\n",
        "predictions = model.predict([user_ids, movie_ids]) + mu     # 예측치를 구한 후 학습시 빼준 전체평균을 다시 더해줌\n",
        "print(\"Actuals: \\n\", ratings_test[0:6])\n",
        "print( )\n",
        "print(\"Predictions: \\n\", predictions)"
      ],
      "metadata": {
        "colab": {
          "base_uri": "https://localhost:8080/"
        },
        "id": "ovyJyQgdfudG",
        "outputId": "0aece806-808d-4c61-8552-5b9ad02fd215"
      },
      "execution_count": 10,
      "outputs": [
        {
          "output_type": "stream",
          "name": "stdout",
          "text": [
            "1/1 [==============================] - 0s 96ms/step\n",
            "Actuals: \n",
            "        user_id  movie_id  rating\n",
            "24712       65       255       3\n",
            "79098      889       144       4\n",
            "33190       90       443       4\n",
            "45489      658       724       3\n",
            "11918      203        24       4\n",
            "1196        13       147       3\n",
            "\n",
            "Predictions: \n",
            " [[3.534406 ]\n",
            " [3.5473406]\n",
            " [3.6341217]\n",
            " [3.5377514]\n",
            " [3.5247507]\n",
            " [3.4362838]]\n"
          ]
        }
      ]
    },
    {
      "cell_type": "markdown",
      "source": [
        "* 꽤 차이가 있지만 경향성만은 비슷한 것 같다..."
      ],
      "metadata": {
        "id": "OeMoc_eLg_qA"
      }
    },
    {
      "cell_type": "code",
      "source": [
        "# 신경망에서 예측한 결과의 실제 RMSE 계산\n",
        "def RMSE2(y_true, y_pred):\n",
        "    return np.sqrt( np.mean( ( np.array(y_true) - np.array(y_pred) )**2 ) )\n",
        "\n",
        "user_ids = ratings_test.user_id.values\n",
        "movie_ids = ratings_test.movie_id.values\n",
        "\n",
        "y_pred = model.predict([user_ids, movie_ids]) + mu\n",
        "# Keras의 Model 클래스에서 제공하는 predict() 메소드는 신경망에 입력을 넣어주면 해당 신경망을 적용한 예측값을 계산해준다.\n",
        "y_pred = np.ravel(y_pred, order = 'C')\n",
        "# predict()로 얻은 예측값은 2차원(N X 1)의 array로 되어있으므로 np.ravel을 사용, 1차원 array로 바꿔준다.\n",
        "y_true = np.array(ratings_test.rating)\n",
        "# 실제 평점값을 가져온다.\n",
        "RMSE2(y_true, y_pred)"
      ],
      "metadata": {
        "id": "5_LXOEqbhEx-",
        "colab": {
          "base_uri": "https://localhost:8080/"
        },
        "outputId": "1421b122-8e38-4606-d083-95346309c845"
      },
      "execution_count": 11,
      "outputs": [
        {
          "output_type": "stream",
          "name": "stdout",
          "text": [
            "782/782 [==============================] - 1s 2ms/step\n"
          ]
        },
        {
          "output_type": "execute_result",
          "data": {
            "text/plain": [
              "1.0978791752384274"
            ]
          },
          "metadata": {},
          "execution_count": 11
        }
      ]
    }
  ]
}
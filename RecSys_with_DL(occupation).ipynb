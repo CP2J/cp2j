{
  "nbformat": 4,
  "nbformat_minor": 0,
  "metadata": {
    "colab": {
      "provenance": [],
      "authorship_tag": "ABX9TyNRToNGx6cKBPcADaJ+OPae",
      "include_colab_link": true
    },
    "kernelspec": {
      "name": "python3",
      "display_name": "Python 3"
    },
    "language_info": {
      "name": "python"
    },
    "accelerator": "GPU",
    "gpuClass": "standard"
  },
  "cells": [
    {
      "cell_type": "markdown",
      "metadata": {
        "id": "view-in-github",
        "colab_type": "text"
      },
      "source": [
        "<a href=\"https://colab.research.google.com/github/CP2J/cp2j/blob/ACJ-11-opt1-RecSys_by_DL/RecSys_with_DL(occupation).ipynb\" target=\"_parent\"><img src=\"https://colab.research.google.com/assets/colab-badge.svg\" alt=\"Open In Colab\"/></a>"
      ]
    },
    {
      "cell_type": "markdown",
      "source": [
        "# 딥러닝을 사용한 추천 시스템 - 변수추가\n",
        "* User, Item을 embedding해서 입력으로 넣으면 사용자와 아이템 간의 특성을 학습해서 추천(예측)에 이용할 수 있다.\n",
        "* 딥러닝 신경망은 필요하면 다양한 변수(사용자와 아이템의 features)를 추가할 수 있다.\n",
        "* 사용자의 직업에 따라 영화를 평가하는 패턴이 다르다는 가정을 한다면, 직업을 모델에서 고려하는 경우 예측이 더 정확해질 것이다.\n",
        "\n",
        "    < Reference : Python을 이용한 개인화 추천 시스템 2판 >"
      ],
      "metadata": {
        "id": "3h8EeAi-nH4T"
      }
    },
    {
      "cell_type": "code",
      "execution_count": 12,
      "metadata": {
        "colab": {
          "base_uri": "https://localhost:8080/"
        },
        "id": "OgnNJM71azUC",
        "outputId": "56b61fc7-d283-4477-aef3-faf64e0c6462"
      },
      "outputs": [
        {
          "output_type": "stream",
          "name": "stdout",
          "text": [
            "Drive already mounted at /content/drive; to attempt to forcibly remount, call drive.mount(\"/content/drive\", force_remount=True).\n"
          ]
        }
      ],
      "source": [
        "from google.colab import drive\n",
        "drive.mount('/content/drive')"
      ]
    },
    {
      "cell_type": "code",
      "source": [
        "import pandas as pd\n",
        "import numpy as np\n",
        "\n",
        "# csv 파일에서 불러오기\n",
        "r_cols = ['user_id', 'movie_id', 'rating', 'timestamp']\n",
        "ratings = pd.read_csv('/content/drive/MyDrive/ml-100k/u.data', names=r_cols,  sep='\\t',encoding='latin-1')\n",
        "ratings = ratings[['user_id', 'movie_id', 'rating']].astype(int)            # timestamp 제거, 정수형 변환"
      ],
      "metadata": {
        "id": "dq_3y8nqqMmY"
      },
      "execution_count": 13,
      "outputs": []
    },
    {
      "cell_type": "code",
      "source": [
        "# Train-test 분리 (이렇게 나누는 방법도 있군)\n",
        "from sklearn.utils import shuffle\n",
        "TRAIN_SIZE = 0.75                         # 0.75 : 0.25\n",
        "ratings = shuffle(ratings)                # row를 섞는다.\n",
        "cutoff = int(TRAIN_SIZE * len(ratings))   # 끊는 지점\n",
        "ratings_train = ratings.iloc[:cutoff]\n",
        "ratings_test = ratings.iloc[cutoff:]"
      ],
      "metadata": {
        "id": "nv2Wlq20rBxg"
      },
      "execution_count": 14,
      "outputs": []
    },
    {
      "cell_type": "code",
      "source": [
        "# 수정된 부분 1 >>>>>>>>>>\n",
        "# 사용자 데이터를 읽어와 id와 직업만 남긴다.\n",
        "u_cols = ['user_id', 'age', 'sex', 'occupation', 'zip_code']\n",
        "users = pd.read_csv('/content/drive/MyDrive/ml-100k/u.user', sep='|', names=u_cols, encoding='latin-1')\n",
        "users = users[['user_id', 'occupation']]"
      ],
      "metadata": {
        "id": "LEztGDwh2EvI"
      },
      "execution_count": 15,
      "outputs": []
    },
    {
      "cell_type": "code",
      "source": [
        "# Convert occupation(string to integer)\n",
        "occupation = {}\n",
        "# occupation을 dict 형식으로 바꾸기 위해 초기화\n",
        "def convert_occ(x):\n",
        "# occupation : string -> int\n",
        "    if x in occupation:\n",
        "        return occupation[x]\n",
        "    # 만일 현재 occupation에 대응하는 int값이 dict 에 존재하면, 해당 값을 반환\n",
        "    else:\n",
        "    # 만일 현재 occupation에 대응하는 int값이 dict 에 존재하지 않으면,\n",
        "        occupation[x] = len(occupation)\n",
        "        # 새로운 element를 새로운 int와 같이 dict 에 추가한다.\n",
        "        return occupation[x]\n",
        "        # 새로운 int 값을 반환한다.\n",
        "users['occupation'] = users['occupation'].apply(convert_occ)\n",
        "# 사용자 데이터의 'occupation' 컬럼을 int로 변환\n",
        "\n",
        "L = len(occupation)\n",
        "# occupation의 unique 값 개수를 저장(추후 embedding에 사용)\n",
        "train_occ = pd.merge(ratings_train, users, on = 'user_id')['occupation']\n",
        "# train set과 사용자 데이터를 merge. 딥러닝의 입력으로 사용자의 occupation을 같이 사용하려면 모든 user_id에 대해 occupation 필요하다. \n",
        "test_occ = pd.merge(ratings_test, users, on = 'user_id')['occupation']\n",
        "# test도 동일\n",
        "#<<<<<<<<< 수정된 부분 1"
      ],
      "metadata": {
        "id": "o2QKk9lW2h9Q"
      },
      "execution_count": 16,
      "outputs": []
    },
    {
      "cell_type": "code",
      "source": [
        "occupation           # 20개의 직업을 int에 대응시킨 dict"
      ],
      "metadata": {
        "colab": {
          "base_uri": "https://localhost:8080/"
        },
        "id": "dOSdSdC2969I",
        "outputId": "3261c38c-6764-4cf7-c6b9-d84278c27b82"
      },
      "execution_count": 17,
      "outputs": [
        {
          "output_type": "execute_result",
          "data": {
            "text/plain": [
              "{'technician': 0,\n",
              " 'other': 1,\n",
              " 'writer': 2,\n",
              " 'executive': 3,\n",
              " 'administrator': 4,\n",
              " 'student': 5,\n",
              " 'lawyer': 6,\n",
              " 'educator': 7,\n",
              " 'scientist': 8,\n",
              " 'entertainment': 9,\n",
              " 'programmer': 10,\n",
              " 'librarian': 11,\n",
              " 'homemaker': 12,\n",
              " 'artist': 13,\n",
              " 'engineer': 14,\n",
              " 'marketing': 15,\n",
              " 'none': 16,\n",
              " 'healthcare': 17,\n",
              " 'retired': 18,\n",
              " 'salesman': 19,\n",
              " 'doctor': 20}"
            ]
          },
          "metadata": {},
          "execution_count": 17
        }
      ]
    },
    {
      "cell_type": "code",
      "source": [
        "##### (1)\n",
        "\n",
        "import tensorflow as tf\n",
        "from tensorflow.keras import layers\n",
        "from tensorflow.keras.models import Model\n",
        "from tensorflow.keras.layers import Input, Embedding, Dot, Add, Flatten\n",
        "from tensorflow.keras.regularizers import l2\n",
        "from tensorflow.keras.optimizers import SGD, Adamax"
      ],
      "metadata": {
        "id": "d42VgGsErDcs"
      },
      "execution_count": 18,
      "outputs": []
    },
    {
      "cell_type": "code",
      "source": [
        "ratings.describe()"
      ],
      "metadata": {
        "colab": {
          "base_uri": "https://localhost:8080/",
          "height": 300
        },
        "id": "dfsPe1QKyq3R",
        "outputId": "1ca9ba40-ce04-4bbc-cd34-0f8611fbede5"
      },
      "execution_count": 19,
      "outputs": [
        {
          "output_type": "execute_result",
          "data": {
            "text/plain": [
              "            user_id       movie_id         rating\n",
              "count  100000.00000  100000.000000  100000.000000\n",
              "mean      462.48475     425.530130       3.529860\n",
              "std       266.61442     330.798356       1.125674\n",
              "min         1.00000       1.000000       1.000000\n",
              "25%       254.00000     175.000000       3.000000\n",
              "50%       447.00000     322.000000       4.000000\n",
              "75%       682.00000     631.000000       4.000000\n",
              "max       943.00000    1682.000000       5.000000"
            ],
            "text/html": [
              "\n",
              "  <div id=\"df-c36d34f9-5de2-4ecc-9692-c8896c67ee81\">\n",
              "    <div class=\"colab-df-container\">\n",
              "      <div>\n",
              "<style scoped>\n",
              "    .dataframe tbody tr th:only-of-type {\n",
              "        vertical-align: middle;\n",
              "    }\n",
              "\n",
              "    .dataframe tbody tr th {\n",
              "        vertical-align: top;\n",
              "    }\n",
              "\n",
              "    .dataframe thead th {\n",
              "        text-align: right;\n",
              "    }\n",
              "</style>\n",
              "<table border=\"1\" class=\"dataframe\">\n",
              "  <thead>\n",
              "    <tr style=\"text-align: right;\">\n",
              "      <th></th>\n",
              "      <th>user_id</th>\n",
              "      <th>movie_id</th>\n",
              "      <th>rating</th>\n",
              "    </tr>\n",
              "  </thead>\n",
              "  <tbody>\n",
              "    <tr>\n",
              "      <th>count</th>\n",
              "      <td>100000.00000</td>\n",
              "      <td>100000.000000</td>\n",
              "      <td>100000.000000</td>\n",
              "    </tr>\n",
              "    <tr>\n",
              "      <th>mean</th>\n",
              "      <td>462.48475</td>\n",
              "      <td>425.530130</td>\n",
              "      <td>3.529860</td>\n",
              "    </tr>\n",
              "    <tr>\n",
              "      <th>std</th>\n",
              "      <td>266.61442</td>\n",
              "      <td>330.798356</td>\n",
              "      <td>1.125674</td>\n",
              "    </tr>\n",
              "    <tr>\n",
              "      <th>min</th>\n",
              "      <td>1.00000</td>\n",
              "      <td>1.000000</td>\n",
              "      <td>1.000000</td>\n",
              "    </tr>\n",
              "    <tr>\n",
              "      <th>25%</th>\n",
              "      <td>254.00000</td>\n",
              "      <td>175.000000</td>\n",
              "      <td>3.000000</td>\n",
              "    </tr>\n",
              "    <tr>\n",
              "      <th>50%</th>\n",
              "      <td>447.00000</td>\n",
              "      <td>322.000000</td>\n",
              "      <td>4.000000</td>\n",
              "    </tr>\n",
              "    <tr>\n",
              "      <th>75%</th>\n",
              "      <td>682.00000</td>\n",
              "      <td>631.000000</td>\n",
              "      <td>4.000000</td>\n",
              "    </tr>\n",
              "    <tr>\n",
              "      <th>max</th>\n",
              "      <td>943.00000</td>\n",
              "      <td>1682.000000</td>\n",
              "      <td>5.000000</td>\n",
              "    </tr>\n",
              "  </tbody>\n",
              "</table>\n",
              "</div>\n",
              "      <button class=\"colab-df-convert\" onclick=\"convertToInteractive('df-c36d34f9-5de2-4ecc-9692-c8896c67ee81')\"\n",
              "              title=\"Convert this dataframe to an interactive table.\"\n",
              "              style=\"display:none;\">\n",
              "        \n",
              "  <svg xmlns=\"http://www.w3.org/2000/svg\" height=\"24px\"viewBox=\"0 0 24 24\"\n",
              "       width=\"24px\">\n",
              "    <path d=\"M0 0h24v24H0V0z\" fill=\"none\"/>\n",
              "    <path d=\"M18.56 5.44l.94 2.06.94-2.06 2.06-.94-2.06-.94-.94-2.06-.94 2.06-2.06.94zm-11 1L8.5 8.5l.94-2.06 2.06-.94-2.06-.94L8.5 2.5l-.94 2.06-2.06.94zm10 10l.94 2.06.94-2.06 2.06-.94-2.06-.94-.94-2.06-.94 2.06-2.06.94z\"/><path d=\"M17.41 7.96l-1.37-1.37c-.4-.4-.92-.59-1.43-.59-.52 0-1.04.2-1.43.59L10.3 9.45l-7.72 7.72c-.78.78-.78 2.05 0 2.83L4 21.41c.39.39.9.59 1.41.59.51 0 1.02-.2 1.41-.59l7.78-7.78 2.81-2.81c.8-.78.8-2.07 0-2.86zM5.41 20L4 18.59l7.72-7.72 1.47 1.35L5.41 20z\"/>\n",
              "  </svg>\n",
              "      </button>\n",
              "      \n",
              "  <style>\n",
              "    .colab-df-container {\n",
              "      display:flex;\n",
              "      flex-wrap:wrap;\n",
              "      gap: 12px;\n",
              "    }\n",
              "\n",
              "    .colab-df-convert {\n",
              "      background-color: #E8F0FE;\n",
              "      border: none;\n",
              "      border-radius: 50%;\n",
              "      cursor: pointer;\n",
              "      display: none;\n",
              "      fill: #1967D2;\n",
              "      height: 32px;\n",
              "      padding: 0 0 0 0;\n",
              "      width: 32px;\n",
              "    }\n",
              "\n",
              "    .colab-df-convert:hover {\n",
              "      background-color: #E2EBFA;\n",
              "      box-shadow: 0px 1px 2px rgba(60, 64, 67, 0.3), 0px 1px 3px 1px rgba(60, 64, 67, 0.15);\n",
              "      fill: #174EA6;\n",
              "    }\n",
              "\n",
              "    [theme=dark] .colab-df-convert {\n",
              "      background-color: #3B4455;\n",
              "      fill: #D2E3FC;\n",
              "    }\n",
              "\n",
              "    [theme=dark] .colab-df-convert:hover {\n",
              "      background-color: #434B5C;\n",
              "      box-shadow: 0px 1px 3px 1px rgba(0, 0, 0, 0.15);\n",
              "      filter: drop-shadow(0px 1px 2px rgba(0, 0, 0, 0.3));\n",
              "      fill: #FFFFFF;\n",
              "    }\n",
              "  </style>\n",
              "\n",
              "      <script>\n",
              "        const buttonEl =\n",
              "          document.querySelector('#df-c36d34f9-5de2-4ecc-9692-c8896c67ee81 button.colab-df-convert');\n",
              "        buttonEl.style.display =\n",
              "          google.colab.kernel.accessAllowed ? 'block' : 'none';\n",
              "\n",
              "        async function convertToInteractive(key) {\n",
              "          const element = document.querySelector('#df-c36d34f9-5de2-4ecc-9692-c8896c67ee81');\n",
              "          const dataTable =\n",
              "            await google.colab.kernel.invokeFunction('convertToInteractive',\n",
              "                                                     [key], {});\n",
              "          if (!dataTable) return;\n",
              "\n",
              "          const docLinkHtml = 'Like what you see? Visit the ' +\n",
              "            '<a target=\"_blank\" href=https://colab.research.google.com/notebooks/data_table.ipynb>data table notebook</a>'\n",
              "            + ' to learn more about interactive tables.';\n",
              "          element.innerHTML = '';\n",
              "          dataTable['output_type'] = 'display_data';\n",
              "          await google.colab.output.renderOutput(dataTable, element);\n",
              "          const docLink = document.createElement('div');\n",
              "          docLink.innerHTML = docLinkHtml;\n",
              "          element.appendChild(docLink);\n",
              "        }\n",
              "      </script>\n",
              "    </div>\n",
              "  </div>\n",
              "  "
            ]
          },
          "metadata": {},
          "execution_count": 19
        }
      ]
    },
    {
      "cell_type": "code",
      "source": [
        "# Variable 초기화\n",
        "K = 200                               # Latent factor(잠재요인) 수\n",
        "mu = ratings_train.rating.mean()      # 전체 평균\n",
        "M = ratings.user_id.max() +1          # 사용자 아이디 최대값+1 : Number of users로 간주, 추후 Embedding에 사용\n",
        "# 사용자 아이디는 1부터 943이지만(위 describe 참고)\n",
        "# adding 1 ensures that all user IDs from 0 to the maximum ID are included in the embedding layer.\n",
        "N = ratings.movie_id.max() +1         # Number of movies\n",
        "\n",
        "# RMSE 정의\n",
        "def RMSE(y_true, y_pred):\n",
        "    return tf.sqrt(tf.reduce_mean(tf.square(y_true - y_pred)))"
      ],
      "metadata": {
        "id": "szQzPyEqrJfU"
      },
      "execution_count": 20,
      "outputs": []
    },
    {
      "cell_type": "markdown",
      "source": [
        "<img src=\"https://drive.google.com/uc?id=1sdPLEYtb9eJ50DwhAS-yDjlYRW7eHraf\" alt=\"딥러닝 신경망 모델\" height=\"300\" width=\"400\">"
      ],
      "metadata": {
        "id": "AvEEZ3yArW6M"
      }
    },
    {
      "cell_type": "code",
      "source": [
        "##### (2)\n",
        "# Keras model\n",
        "user = Input(shape=(1, ))                                             # 사용자 데이터 입력 형식 지정(id만 받음)\n",
        "item = Input(shape=(1, ))                                             # 아이템 데이터 입력 형식 지정(id만 받음)\n",
        "P_embedding = Embedding(M, K, embeddings_regularizer=l2())(user)      # 사용자 Embedding layer 지정 (M, 1, K) : (M X K)의 연결을 가진다.\n",
        "Q_embedding = Embedding(N, K, embeddings_regularizer=l2())(item)      # 아이템 Embedding layer 지정 (N, 1, K) : (N X K)의 연결을 가진다.\n",
        "user_bias = Embedding(M, 1, embeddings_regularizer=l2())(user)        # User bias term (M, 1, ) : (M X 1)의 연결\n",
        "item_bias = Embedding(N, 1, embeddings_regularizer=l2())(item)        # Item bias term (N, 1, ) : (N X 1)의 연결\n",
        "\n",
        "# Concatenate layers\n",
        "from tensorflow.keras.layers import Dense, Concatenate, Activation    # 나중에 layer 구성에서 사용할 메소드 로드\n",
        "P_embedding = Flatten()(P_embedding)          # (K, )\n",
        "Q_embedding = Flatten()(Q_embedding)          # (K, )\n",
        "user_bias = Flatten()(user_bias)              # (1, )\n",
        "item_bias = Flatten()(item_bias)              # (1, )\n",
        "# Concatenate() 위해서 1차원으로 줄인다.\n",
        "\n",
        "# 수정된 부분 2 >>>>>>>>>>\n",
        "occ = Input(shape=(1, ))                                                          # occupation에 대한 입력을 새로 만든다.\n",
        "occ_embedding = Embedding(L, 3, embeddings_regularizer=l2())(occ)                 # occupation을 3개의 잠재요인으로 embedding한다. (K=3)\n",
        "occ_layer = Flatten()(occ_embedding)                                              # 합치기 위해 차원 줄이기\n",
        "R = Concatenate()([P_embedding, Q_embedding, user_bias, item_bias, occ_layer])    # (2K+2+3, )\n",
        "# P, Q, 사용자 bias, 아이템 bias, occupation까지 붙여서 하나의 layer를 만든다.\n",
        "#<<<<<<<<< 수정된 부분 2\n",
        "\n",
        "# Neural network\n",
        "R = Dense(2048)(R)              # 노드가 2048개인 dense layer 추가\n",
        "R = Activation('relu')(R)       # 이 layer의 activation 함수 : 'relu'\n",
        "R = Dense(256)(R)               # 노드가 256개인 dense layer 하나 더 추가\n",
        "R = Activation('linear')(R)     # 이 layer의 activation 함수 : 'linear'\n",
        "R = Dense(1)(R)                 # 노드가 1개인 dense layer를 하나 더 추가 한다. 이 layer가 출력에 연결된다.\n",
        "\n",
        "# 수정된 부분 3 >>>>>>>>>>\n",
        "# Model setting : 위의 신경망과 입력을 연결해서 모델을 구성한다.\n",
        "model = Model(inputs = [user, item, occ], outputs = R)\n",
        "#<<<<<<<<< 수정된 부분 3\n",
        "model.compile(\n",
        "    loss = RMSE,                # loss함수\n",
        "    optimizer = SGD(),\n",
        "    #optimizer = Adamax(),\n",
        "    metrics = [RMSE]            # 측정지표\n",
        ")\n",
        "\n",
        "model.summary()"
      ],
      "metadata": {
        "id": "8n5XiCMGrS5n",
        "outputId": "4b961fb2-79c6-49d4-c269-13f94fbc7d7a",
        "colab": {
          "base_uri": "https://localhost:8080/"
        }
      },
      "execution_count": 21,
      "outputs": [
        {
          "output_type": "stream",
          "name": "stdout",
          "text": [
            "Model: \"model_1\"\n",
            "__________________________________________________________________________________________________\n",
            " Layer (type)                   Output Shape         Param #     Connected to                     \n",
            "==================================================================================================\n",
            " input_4 (InputLayer)           [(None, 1)]          0           []                               \n",
            "                                                                                                  \n",
            " input_5 (InputLayer)           [(None, 1)]          0           []                               \n",
            "                                                                                                  \n",
            " input_6 (InputLayer)           [(None, 1)]          0           []                               \n",
            "                                                                                                  \n",
            " embedding_5 (Embedding)        (None, 1, 200)       188800      ['input_4[0][0]']                \n",
            "                                                                                                  \n",
            " embedding_6 (Embedding)        (None, 1, 200)       336600      ['input_5[0][0]']                \n",
            "                                                                                                  \n",
            " embedding_7 (Embedding)        (None, 1, 1)         944         ['input_4[0][0]']                \n",
            "                                                                                                  \n",
            " embedding_8 (Embedding)        (None, 1, 1)         1683        ['input_5[0][0]']                \n",
            "                                                                                                  \n",
            " embedding_9 (Embedding)        (None, 1, 3)         63          ['input_6[0][0]']                \n",
            "                                                                                                  \n",
            " flatten_5 (Flatten)            (None, 200)          0           ['embedding_5[0][0]']            \n",
            "                                                                                                  \n",
            " flatten_6 (Flatten)            (None, 200)          0           ['embedding_6[0][0]']            \n",
            "                                                                                                  \n",
            " flatten_7 (Flatten)            (None, 1)            0           ['embedding_7[0][0]']            \n",
            "                                                                                                  \n",
            " flatten_8 (Flatten)            (None, 1)            0           ['embedding_8[0][0]']            \n",
            "                                                                                                  \n",
            " flatten_9 (Flatten)            (None, 3)            0           ['embedding_9[0][0]']            \n",
            "                                                                                                  \n",
            " concatenate_1 (Concatenate)    (None, 405)          0           ['flatten_5[0][0]',              \n",
            "                                                                  'flatten_6[0][0]',              \n",
            "                                                                  'flatten_7[0][0]',              \n",
            "                                                                  'flatten_8[0][0]',              \n",
            "                                                                  'flatten_9[0][0]']              \n",
            "                                                                                                  \n",
            " dense_3 (Dense)                (None, 2048)         831488      ['concatenate_1[0][0]']          \n",
            "                                                                                                  \n",
            " activation_2 (Activation)      (None, 2048)         0           ['dense_3[0][0]']                \n",
            "                                                                                                  \n",
            " dense_4 (Dense)                (None, 256)          524544      ['activation_2[0][0]']           \n",
            "                                                                                                  \n",
            " activation_3 (Activation)      (None, 256)          0           ['dense_4[0][0]']                \n",
            "                                                                                                  \n",
            " dense_5 (Dense)                (None, 1)            257         ['activation_3[0][0]']           \n",
            "                                                                                                  \n",
            "==================================================================================================\n",
            "Total params: 1,884,379\n",
            "Trainable params: 1,884,379\n",
            "Non-trainable params: 0\n",
            "__________________________________________________________________________________________________\n"
          ]
        }
      ]
    },
    {
      "cell_type": "markdown",
      "source": [
        "* input layer 2개가 각각 embedding layer에 연결된다.\n",
        "* 사용자 수를 944(943+1)로 잡았기 때문에 200개의 잠재요인 layer(embedding)에 연결되는 파라미터의 수는 188,800(944 x 200)이 되고,\n",
        "* 아이템의 수는 1683(1682+1)개 이므로 200개의 잠재요인 layer(embedding_1)에 연결되는 파라미터의 수는 336,600(1683 x 200)이 된다.\n",
        "* 사용자 bias layer(embedding_2)는 944개, 아이템 bias layer(embedding_3)는 1683개의 파라미터를 갖는다.\n",
        "\n",
        "\n",
        "Occupation은 20개이고, 3개의 잠재요인 layer(embedding_4)에 연결되는 파라미터의 수는 63(20*3 + 3)개이다.\n",
        "\n",
        "\n",
        "* 이 5개의 embedding layer는 합쳐져서 하나의 layer(Concatenate)가 되고, 이 layer의 노드 수는 405개\n",
        "(사용자 임베딩 200 + 아이템 임베딩 200 + 사용자 bias 1 + 아이템 bias 1 + 직업 임베딩 3)\n",
        "* 다음으로 2048개의 노드를 갖는 Dense layer(dense)에 연결 : 이때 연결 파라미터 수는 831488((405+1) x 2048)개가 된다.\n",
        "* 다음으로 256개의 노드를 갖는 Dense layer(dense_1)에 연결 : 이때 연결 파라미터 수는 524544((2048+1) x 256)개가 된다.\n",
        "* 위 layer는 노드가 1개인 최종 layer(dense_2)에 연결되고 파라미터의 수는 257개가 된다.\n",
        "\n",
        "\n",
        "총 파라미터의 수는 이들을 모두 합한 **1,884,379개**가 된다."
      ],
      "metadata": {
        "id": "ouN-G1kI2Xx0"
      }
    },
    {
      "cell_type": "code",
      "source": [
        "# Model fitting (위에서 구성한 신경망을 학습시킨다)\n",
        "result = model.fit(\n",
        "    x = [ratings_train.user_id.values, ratings_train.movie_id.values, train_occ.values],\n",
        "    # 입력(독립변수)은 train set의 사용자, 아이템 id, occupation id\n",
        "    y = ratings_train.rating.values - mu,\n",
        "    # 출력(종속변수)은 평점에서 전체평균을 뺀 것으로 지정\n",
        "    epochs = 65,              # 반복횟수\n",
        "    batch_size = 512,         # 한번에 학습(연산)하는 batch 크기를 지정\n",
        "    validation_data = (\n",
        "      [ratings_test.user_id.values, ratings_test.movie_id.values, test_occ.values],  # 검증을 위한 입력\n",
        "      ratings_test.rating.values - mu                               # 검증에 쓰이는 출력\n",
        "    )\n",
        ")"
      ],
      "metadata": {
        "id": "yGHoKn3EIn8Z",
        "outputId": "0f0a599d-3429-4b03-d133-f2ead3a574a5",
        "colab": {
          "base_uri": "https://localhost:8080/"
        }
      },
      "execution_count": 22,
      "outputs": [
        {
          "output_type": "stream",
          "name": "stdout",
          "text": [
            "Epoch 1/65\n",
            "147/147 [==============================] - 7s 11ms/step - loss: 5.3990 - RMSE: 1.1247 - val_loss: 5.2717 - val_RMSE: 1.1229\n",
            "Epoch 2/65\n",
            "147/147 [==============================] - 1s 6ms/step - loss: 5.1540 - RMSE: 1.1236 - val_loss: 5.0339 - val_RMSE: 1.1220\n",
            "Epoch 3/65\n",
            "147/147 [==============================] - 1s 5ms/step - loss: 4.9228 - RMSE: 1.1228 - val_loss: 4.8097 - val_RMSE: 1.1212\n",
            "Epoch 4/65\n",
            "147/147 [==============================] - 1s 5ms/step - loss: 4.7051 - RMSE: 1.1219 - val_loss: 4.5983 - val_RMSE: 1.1204\n",
            "Epoch 5/65\n",
            "147/147 [==============================] - 1s 6ms/step - loss: 4.4996 - RMSE: 1.1211 - val_loss: 4.3989 - val_RMSE: 1.1195\n",
            "Epoch 6/65\n",
            "147/147 [==============================] - 1s 6ms/step - loss: 4.3058 - RMSE: 1.1197 - val_loss: 4.2108 - val_RMSE: 1.1186\n",
            "Epoch 7/65\n",
            "147/147 [==============================] - 1s 5ms/step - loss: 4.1230 - RMSE: 1.1190 - val_loss: 4.0334 - val_RMSE: 1.1176\n",
            "Epoch 8/65\n",
            "147/147 [==============================] - 1s 5ms/step - loss: 3.9506 - RMSE: 1.1181 - val_loss: 3.8661 - val_RMSE: 1.1167\n",
            "Epoch 9/65\n",
            "147/147 [==============================] - 1s 5ms/step - loss: 3.7877 - RMSE: 1.1169 - val_loss: 3.7083 - val_RMSE: 1.1158\n",
            "Epoch 10/65\n",
            "147/147 [==============================] - 1s 5ms/step - loss: 3.6341 - RMSE: 1.1157 - val_loss: 3.5592 - val_RMSE: 1.1146\n",
            "Epoch 11/65\n",
            "147/147 [==============================] - 1s 5ms/step - loss: 3.4892 - RMSE: 1.1141 - val_loss: 3.4182 - val_RMSE: 1.1130\n",
            "Epoch 12/65\n",
            "147/147 [==============================] - 1s 5ms/step - loss: 3.3523 - RMSE: 1.1129 - val_loss: 3.2855 - val_RMSE: 1.1117\n",
            "Epoch 13/65\n",
            "147/147 [==============================] - 1s 5ms/step - loss: 3.2229 - RMSE: 1.1107 - val_loss: 3.1598 - val_RMSE: 1.1098\n",
            "Epoch 14/65\n",
            "147/147 [==============================] - 1s 7ms/step - loss: 3.1008 - RMSE: 1.1092 - val_loss: 3.0413 - val_RMSE: 1.1081\n",
            "Epoch 15/65\n",
            "147/147 [==============================] - 1s 8ms/step - loss: 2.9851 - RMSE: 1.1069 - val_loss: 2.9289 - val_RMSE: 1.1057\n",
            "Epoch 16/65\n",
            "147/147 [==============================] - 1s 7ms/step - loss: 2.8758 - RMSE: 1.1046 - val_loss: 2.8227 - val_RMSE: 1.1032\n",
            "Epoch 17/65\n",
            "147/147 [==============================] - 1s 8ms/step - loss: 2.7722 - RMSE: 1.1013 - val_loss: 2.7221 - val_RMSE: 1.1002\n",
            "Epoch 18/65\n",
            "147/147 [==============================] - 1s 6ms/step - loss: 2.6739 - RMSE: 1.0982 - val_loss: 2.6267 - val_RMSE: 1.0969\n",
            "Epoch 19/65\n",
            "147/147 [==============================] - 1s 5ms/step - loss: 2.5807 - RMSE: 1.0942 - val_loss: 2.5360 - val_RMSE: 1.0929\n",
            "Epoch 20/65\n",
            "147/147 [==============================] - 1s 6ms/step - loss: 2.4921 - RMSE: 1.0896 - val_loss: 2.4498 - val_RMSE: 1.0884\n",
            "Epoch 21/65\n",
            "147/147 [==============================] - 1s 6ms/step - loss: 2.4076 - RMSE: 1.0844 - val_loss: 2.3677 - val_RMSE: 1.0831\n",
            "Epoch 22/65\n",
            "147/147 [==============================] - 1s 6ms/step - loss: 2.3268 - RMSE: 1.0785 - val_loss: 2.2897 - val_RMSE: 1.0775\n",
            "Epoch 23/65\n",
            "147/147 [==============================] - 1s 5ms/step - loss: 2.2498 - RMSE: 1.0718 - val_loss: 2.2146 - val_RMSE: 1.0705\n",
            "Epoch 24/65\n",
            "147/147 [==============================] - 1s 6ms/step - loss: 2.1760 - RMSE: 1.0642 - val_loss: 2.1426 - val_RMSE: 1.0626\n",
            "Epoch 25/65\n",
            "147/147 [==============================] - 1s 6ms/step - loss: 2.1051 - RMSE: 1.0556 - val_loss: 2.0739 - val_RMSE: 1.0541\n",
            "Epoch 26/65\n",
            "147/147 [==============================] - 1s 6ms/step - loss: 2.0371 - RMSE: 1.0455 - val_loss: 2.0085 - val_RMSE: 1.0454\n",
            "Epoch 27/65\n",
            "147/147 [==============================] - 1s 6ms/step - loss: 1.9722 - RMSE: 1.0359 - val_loss: 1.9454 - val_RMSE: 1.0356\n",
            "Epoch 28/65\n",
            "147/147 [==============================] - 1s 6ms/step - loss: 1.9102 - RMSE: 1.0255 - val_loss: 1.8859 - val_RMSE: 1.0264\n",
            "Epoch 29/65\n",
            "147/147 [==============================] - 1s 8ms/step - loss: 1.8511 - RMSE: 1.0153 - val_loss: 1.8294 - val_RMSE: 1.0172\n",
            "Epoch 30/65\n",
            "147/147 [==============================] - 1s 8ms/step - loss: 1.7955 - RMSE: 1.0054 - val_loss: 1.7764 - val_RMSE: 1.0087\n",
            "Epoch 31/65\n",
            "147/147 [==============================] - 1s 9ms/step - loss: 1.7430 - RMSE: 0.9965 - val_loss: 1.7266 - val_RMSE: 1.0010\n",
            "Epoch 32/65\n",
            "147/147 [==============================] - 1s 7ms/step - loss: 1.6938 - RMSE: 0.9880 - val_loss: 1.6801 - val_RMSE: 0.9942\n",
            "Epoch 33/65\n",
            "147/147 [==============================] - 1s 6ms/step - loss: 1.6473 - RMSE: 0.9804 - val_loss: 1.6368 - val_RMSE: 0.9884\n",
            "Epoch 34/65\n",
            "147/147 [==============================] - 1s 5ms/step - loss: 1.6044 - RMSE: 0.9735 - val_loss: 1.5958 - val_RMSE: 0.9829\n",
            "Epoch 35/65\n",
            "147/147 [==============================] - 1s 5ms/step - loss: 1.5639 - RMSE: 0.9678 - val_loss: 1.5578 - val_RMSE: 0.9785\n",
            "Epoch 36/65\n",
            "147/147 [==============================] - 1s 5ms/step - loss: 1.5261 - RMSE: 0.9625 - val_loss: 1.5221 - val_RMSE: 0.9744\n",
            "Epoch 37/65\n",
            "147/147 [==============================] - 1s 5ms/step - loss: 1.4905 - RMSE: 0.9580 - val_loss: 1.4886 - val_RMSE: 0.9708\n",
            "Epoch 38/65\n",
            "147/147 [==============================] - 1s 5ms/step - loss: 1.4573 - RMSE: 0.9537 - val_loss: 1.4574 - val_RMSE: 0.9679\n",
            "Epoch 39/65\n",
            "147/147 [==============================] - 1s 5ms/step - loss: 1.4261 - RMSE: 0.9500 - val_loss: 1.4277 - val_RMSE: 0.9649\n",
            "Epoch 40/65\n",
            "147/147 [==============================] - 1s 5ms/step - loss: 1.3969 - RMSE: 0.9467 - val_loss: 1.4011 - val_RMSE: 0.9635\n",
            "Epoch 41/65\n",
            "147/147 [==============================] - 1s 5ms/step - loss: 1.3693 - RMSE: 0.9437 - val_loss: 1.3740 - val_RMSE: 0.9601\n",
            "Epoch 42/65\n",
            "147/147 [==============================] - 1s 6ms/step - loss: 1.3433 - RMSE: 0.9406 - val_loss: 1.3506 - val_RMSE: 0.9593\n",
            "Epoch 43/65\n",
            "147/147 [==============================] - 1s 6ms/step - loss: 1.3192 - RMSE: 0.9387 - val_loss: 1.3276 - val_RMSE: 0.9574\n",
            "Epoch 44/65\n",
            "147/147 [==============================] - 1s 6ms/step - loss: 1.2964 - RMSE: 0.9364 - val_loss: 1.3057 - val_RMSE: 0.9555\n",
            "Epoch 45/65\n",
            "147/147 [==============================] - 1s 9ms/step - loss: 1.2749 - RMSE: 0.9340 - val_loss: 1.2848 - val_RMSE: 0.9535\n",
            "Epoch 46/65\n",
            "147/147 [==============================] - 1s 8ms/step - loss: 1.2548 - RMSE: 0.9328 - val_loss: 1.2679 - val_RMSE: 0.9545\n",
            "Epoch 47/65\n",
            "147/147 [==============================] - 1s 8ms/step - loss: 1.2361 - RMSE: 0.9311 - val_loss: 1.2478 - val_RMSE: 0.9512\n",
            "Epoch 48/65\n",
            "147/147 [==============================] - 1s 6ms/step - loss: 1.2183 - RMSE: 0.9297 - val_loss: 1.2308 - val_RMSE: 0.9501\n",
            "Epoch 49/65\n",
            "147/147 [==============================] - 1s 5ms/step - loss: 1.2015 - RMSE: 0.9284 - val_loss: 1.2174 - val_RMSE: 0.9518\n",
            "Epoch 50/65\n",
            "147/147 [==============================] - 1s 5ms/step - loss: 1.1856 - RMSE: 0.9272 - val_loss: 1.1999 - val_RMSE: 0.9484\n",
            "Epoch 51/65\n",
            "147/147 [==============================] - 1s 5ms/step - loss: 1.1711 - RMSE: 0.9264 - val_loss: 1.1885 - val_RMSE: 0.9503\n",
            "Epoch 52/65\n",
            "147/147 [==============================] - 1s 5ms/step - loss: 1.1574 - RMSE: 0.9258 - val_loss: 1.1726 - val_RMSE: 0.9472\n",
            "Epoch 53/65\n",
            "147/147 [==============================] - 1s 5ms/step - loss: 1.1440 - RMSE: 0.9248 - val_loss: 1.1603 - val_RMSE: 0.9468\n",
            "Epoch 54/65\n",
            "147/147 [==============================] - 1s 5ms/step - loss: 1.1318 - RMSE: 0.9240 - val_loss: 1.1491 - val_RMSE: 0.9468\n",
            "Epoch 55/65\n",
            "147/147 [==============================] - 1s 5ms/step - loss: 1.1202 - RMSE: 0.9234 - val_loss: 1.1392 - val_RMSE: 0.9475\n",
            "Epoch 56/65\n",
            "147/147 [==============================] - 1s 5ms/step - loss: 1.1094 - RMSE: 0.9229 - val_loss: 1.1266 - val_RMSE: 0.9450\n",
            "Epoch 57/65\n",
            "147/147 [==============================] - 1s 5ms/step - loss: 1.0990 - RMSE: 0.9223 - val_loss: 1.1171 - val_RMSE: 0.9450\n",
            "Epoch 58/65\n",
            "147/147 [==============================] - 1s 5ms/step - loss: 1.0895 - RMSE: 0.9219 - val_loss: 1.1074 - val_RMSE: 0.9442\n",
            "Epoch 59/65\n",
            "147/147 [==============================] - 1s 5ms/step - loss: 1.0804 - RMSE: 0.9216 - val_loss: 1.0987 - val_RMSE: 0.9440\n",
            "Epoch 60/65\n",
            "147/147 [==============================] - 1s 7ms/step - loss: 1.0717 - RMSE: 0.9211 - val_loss: 1.0934 - val_RMSE: 0.9467\n",
            "Epoch 61/65\n",
            "147/147 [==============================] - 1s 8ms/step - loss: 1.0637 - RMSE: 0.9209 - val_loss: 1.0825 - val_RMSE: 0.9433\n",
            "Epoch 62/65\n",
            "147/147 [==============================] - 1s 9ms/step - loss: 1.0560 - RMSE: 0.9204 - val_loss: 1.0757 - val_RMSE: 0.9437\n",
            "Epoch 63/65\n",
            "147/147 [==============================] - 1s 7ms/step - loss: 1.0488 - RMSE: 0.9203 - val_loss: 1.0682 - val_RMSE: 0.9429\n",
            "Epoch 64/65\n",
            "147/147 [==============================] - 1s 5ms/step - loss: 1.0421 - RMSE: 0.9198 - val_loss: 1.0634 - val_RMSE: 0.9444\n",
            "Epoch 65/65\n",
            "147/147 [==============================] - 1s 5ms/step - loss: 1.0356 - RMSE: 0.9200 - val_loss: 1.0557 - val_RMSE: 0.9428\n"
          ]
        }
      ]
    },
    {
      "cell_type": "code",
      "source": [
        "# 학습과정에서 측정지표의 변화\n",
        "import matplotlib.pyplot as plt\n",
        "plt.plot(result.history['RMSE'], label=\"Train RMSE\")\n",
        "plt.plot(result.history['val_RMSE'], label=\"Test RMSE\")\n",
        "plt.xlabel('epoch')\n",
        "plt.ylabel('RMSE')\n",
        "plt.legend()\n",
        "plt.show()"
      ],
      "metadata": {
        "id": "bPCcp8HlaM_F",
        "outputId": "d9bfa55c-0691-4a22-e258-d3f43b3e286b",
        "colab": {
          "base_uri": "https://localhost:8080/",
          "height": 449
        }
      },
      "execution_count": 23,
      "outputs": [
        {
          "output_type": "display_data",
          "data": {
            "text/plain": [
              "<Figure size 640x480 with 1 Axes>"
            ],
            "image/png": "[encoded data removed]"
          },
          "metadata": {}
        }
      ]
    },
    {
      "cell_type": "code",
      "source": [
        "# Prediction (학습을 마친 신경망으로 예측을 수행)\n",
        "user_ids = ratings_test.user_id.values[0:6]\n",
        "movie_ids= ratings_test.movie_id.values[0:6]                          # 예측 대상을 테스트셋 처음 6개로 정함\n",
        "user_occ = test_occ[0:6]\n",
        "predictions = model.predict([user_ids, movie_ids, user_occ]) + mu     # 예측치를 구한 후 학습시 빼준 전체평균을 다시 더해줌\n",
        "print(\"Actuals: \\n\", ratings_test[0:6])\n",
        "print( )\n",
        "print(\"Predictions: \\n\", predictions)"
      ],
      "metadata": {
        "id": "RDhUeQvJaZYX",
        "outputId": "e3e78020-3555-49d3-d485-a10e07f97cd4",
        "colab": {
          "base_uri": "https://localhost:8080/"
        }
      },
      "execution_count": 26,
      "outputs": [
        {
          "output_type": "stream",
          "name": "stdout",
          "text": [
            "1/1 [==============================] - 0s 123ms/step\n",
            "Actuals: \n",
            "        user_id  movie_id  rating\n",
            "92856      896       307       3\n",
            "77655      291        97       4\n",
            "33913      297       919       1\n",
            "5453       343        44       3\n",
            "16962      178       323       3\n",
            "52308      592       259       2\n",
            "\n",
            "Predictions: \n",
            " [[2.9178283]\n",
            " [4.103764 ]\n",
            " [3.5514154]\n",
            " [3.7080657]\n",
            " [2.987524 ]\n",
            " [2.9397125]]\n"
          ]
        }
      ]
    },
    {
      "cell_type": "code",
      "source": [
        "# 신경망에서 예측한 결과의 실제 RMSE 계산\n",
        "def RMSE2(y_true, y_pred):\n",
        "    return np.sqrt( np.mean( ( np.array(y_true) - np.array(y_pred) )**2 ) )\n",
        "\n",
        "user_ids = ratings_test.user_id.values\n",
        "movie_ids = ratings_test.movie_id.values\n",
        "\n",
        "y_pred = model.predict([user_ids, movie_ids, test_occ]) + mu\n",
        "# Keras의 Model 클래스에서 제공하는 predict() 메소드는 신경망에 입력을 넣어주면 해당 신경망을 적용한 예측값을 계산해준다.\n",
        "y_pred = np.ravel(y_pred, order = 'C')\n",
        "# predict()로 얻은 예측값은 2차원(N X 1)의 array로 되어있으므로 np.ravel을 사용, 1차원 array로 바꿔준다.\n",
        "y_true = np.array(ratings_test.rating)\n",
        "# 실제 평점값을 가져온다.\n",
        "RMSE2(y_true, y_pred)"
      ],
      "metadata": {
        "id": "SVRgFkP1aZg4",
        "outputId": "8848e537-22bf-47ae-c3fe-984c9e9ea600",
        "colab": {
          "base_uri": "https://localhost:8080/"
        }
      },
      "execution_count": 27,
      "outputs": [
        {
          "output_type": "stream",
          "name": "stdout",
          "text": [
            "782/782 [==============================] - 1s 2ms/step\n"
          ]
        },
        {
          "output_type": "execute_result",
          "data": {
            "text/plain": [
              "0.9433401348661025"
            ]
          },
          "metadata": {},
          "execution_count": 27
        }
      ]
    }
  ]
}
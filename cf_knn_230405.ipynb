{
  "nbformat": 4,
  "nbformat_minor": 0,
  "metadata": {
    "colab": {
      "provenance": [],
      "include_colab_link": true
    },
    "kernelspec": {
      "name": "python3",
      "display_name": "Python 3"
    },
    "language_info": {
      "name": "python"
    }
  },
  "cells": [
    {
      "cell_type": "markdown",
      "metadata": {
        "id": "view-in-github",
        "colab_type": "text"
      },
      "source": [
        "<a href=\"https://colab.research.google.com/github/CP2J/cp2j/blob/ACJ-17-knn-cf/cf_knn_230405.ipynb\" target=\"_parent\"><img src=\"https://colab.research.google.com/assets/colab-badge.svg\" alt=\"Open In Colab\"/></a>"
      ]
    },
    {
      "cell_type": "markdown",
      "source": [
        "# 협업필터링 + KNN"
      ],
      "metadata": {
        "id": "cCvftf7I-t0l"
      }
    },
    {
      "cell_type": "code",
      "source": [
        "import pandas as pd\n",
        "import numpy as np\n",
        "import warnings\n",
        "# 경고 제거\n",
        "warnings.filterwarnings(\"ignore\")"
      ],
      "metadata": {
        "id": "qCHrWD1l-z8e"
      },
      "execution_count": null,
      "outputs": []
    },
    {
      "cell_type": "code",
      "source": [
        "from google.colab import drive\n",
        "drive.mount('/content/drive')"
      ],
      "metadata": {
        "id": "FV8VHXg8-1T9"
      },
      "execution_count": null,
      "outputs": []
    },
    {
      "cell_type": "code",
      "execution_count": null,
      "metadata": {
        "id": "RwwXgc9h-ZDS"
      },
      "outputs": [],
      "source": [
        "# 전체 데이터 다시 로딩\n",
        "r_cols = ['user_id', 'movie_id', 'rating', 'timestamp']\n",
        "ratings = pd.read_csv('/content/drive/MyDrive/ml-100k/u.data', sep = '\\t', names=r_cols, header = None)\n",
        "ratings = ratings.drop('timestamp', axis=1) # timestamp 지우기\n",
        "\n",
        "# Rating df의 user_id를 타겟(종속변수, 예측값)으로 train, test stratified split 실시(user_id 기준)\n",
        "from sklearn.model_selection import train_test_split\n",
        "x = ratings.copy()\n",
        "y = ratings['user_id']\n",
        "x_train, x_test, y_train, y_test = train_test_split(x, y, test_size=0.25, stratify=y, random_state=12)\n",
        "\n",
        "# \"유저별 영화 평점\"을 알아보기 위해 pivot table 활용, 결측치 처리\n",
        "# train 셋을 full matrix로 변환\n",
        "rating_matrix = x_train.pivot_table(values = 'rating', index = 'user_id', columns = 'movie_id')\n",
        "rating_matrix = rating_matrix.fillna(0)\n",
        "\n",
        "# 유저들의 영화 평점 데이터프레임의 코사인유사도를 계산\n",
        "from sklearn.metrics.pairwise import cosine_similarity\n",
        "matrix_dummy = rating_matrix.copy().fillna(0)\n",
        "user_similarity = cosine_similarity(matrix_dummy, matrix_dummy)\n",
        "user_similarity = pd.DataFrame(user_similarity, index = rating_matrix.index, columns = rating_matrix.index)"
      ]
    },
    {
      "cell_type": "code",
      "source": [
        "# RMSE 계산함수 (오차(true-pred) 제곱 평균의 제곱근)\n",
        "def RMSE(y_true, y_pred):\n",
        "    return np.sqrt( np.mean(( np.array(y_true) - np.array(y_pred) )**2 ) )\n",
        "\n",
        "def score_2(model, neighbor_size=0):\n",
        "    id_pairs = zip(x_test['user_id'], x_test['movie_id']) # 테스트로 해야되나?\n",
        "    y_pred = np.array([model(user, movie, neighbor_size) for (user, movie) in id_pairs])\n",
        "    y_true = np.array(x_test['rating'])\n",
        "    return RMSE(y_true, y_pred)\n",
        "\n",
        "# CF + KNN\n",
        "def cf_knn(user_id, movie_id, neighbor_size=10):\n",
        "    # checks if the column with the name \"movie_id\" is present in the DataFrame \"rating_matrix\"\n",
        "    if movie_id in rating_matrix:\n",
        "        # 현재 사용자와 다른 사용자 간의 similarity 가져오기 (총 943개) \n",
        "        sim_scores = user_similarity[user_id]\n",
        "        \n",
        "        # 현재 영화에 대한 모든 사용자의 rating값 가져오기\n",
        "        this_movie_ratings = rating_matrix[movie_id]\n",
        "        \n",
        "        # 현재 영화를 평가하지 않은 사용자의 index 가져오기\n",
        "        none_rating_idx = rating_matrix[movie_id][rating_matrix[movie_id].isnull()].index\n",
        "        \n",
        "        # 현재 영화를 평가하지 않은 사용자의 rating (null) 제거\n",
        "        this_movie_ratings = this_movie_ratings.dropna()\n",
        "        \n",
        "        # 현재 영화를 평가하지 않은 사용자의 similarity값 제거 -> 평가한 사람들만의 유사도 점수가 됨\n",
        "        sim_scores = sim_scores.drop(none_rating_idx)\n",
        "\n",
        "        ### KNN 추가 부분\n",
        "        if neighbor_size == 0:  # neighbor_size 가 지정되지 않은 경우\n",
        "            # 현재 영화를 평가한 모든 사용자의 가중평균 구하기\n",
        "            mean_rating = np.dot(sim_scores, this_movie_ratings) / sim_scores.sum()\n",
        "\n",
        "        else:                   # neighbor_size 가 지정된 경우\n",
        "            # 지정된 neighbor_size와 해당 영화를 평가한 총 사용자수 중 작은 것으로 neighbor_size 결정\n",
        "            neighbor_size = min( neighbor_size, len(sim_scores) )\n",
        "\n",
        "            # array로 바꾸기 - argsort 를 사용하기 위해\n",
        "            sim_scores = np.array(sim_scores)\n",
        "            movie_ratings = np.array(rating_matrix) # 길이가 1163인 리스트 943개를 원소로 갖는 배열\n",
        "\n",
        "            # 요소 크기 오름차순 정렬한 인덱스(user_id) 배열 반환 : argsort - Returns: index_array\n",
        "            # https://codetorial.net/tips_and_examples/numpy_argsort.html\n",
        "            user_idx = np.argsort(sim_scores)\n",
        "\n",
        "            # 오름차순 정렬한 User 유사도 배열을 큰 것부터(뒤에서) neighbor_size 만큼 받기\n",
        "            sim_scores = sim_scores[user_idx][-neighbor_size:]\n",
        "\n",
        "            # 영화 Rating을 neighbor_size만큼 받기\n",
        "            movie_ratings = movie_ratings[user_idx][-neighbor_size:]\n",
        "\n",
        "            # 최종 예측값 계산\n",
        "            mean_rating = np.dot( sim_scores, movie_ratings ) / sim_scores.sum()\n",
        "    else:\n",
        "        # movie_id가 rating_matrix의 칼럼값에 없는 경우\n",
        "        mean_rating = 3.0\n",
        "        \n",
        "    return mean_rating"
      ],
      "metadata": {
        "id": "rb7CK-XJ-zqY"
      },
      "execution_count": null,
      "outputs": []
    },
    {
      "cell_type": "code",
      "source": [
        "score_2(cf_knn, 10)\n",
        "# neighbor 사이즈가 입력된 경우에도, 해당 영화를 평가한 유저의 수가 K 보다 적을 수 있으므로 한번 더 확인 해야함"
      ],
      "metadata": {
        "id": "4kfKwiR6--Ej"
      },
      "execution_count": null,
      "outputs": []
    },
    {
      "cell_type": "code",
      "source": [
        "#최적의 K값 확인 \n",
        "for k in (10,20,30,40,50):\n",
        "    print('k = ', k,'RMSE = ', score_2(cf_knn, k))"
      ],
      "metadata": {
        "id": "EMc_qpo2_BON"
      },
      "execution_count": null,
      "outputs": []
    },
    {
      "cell_type": "code",
      "source": [
        "# 추천하기\n",
        "def cf_knn_recommender(user, n_items=10, neighbor_size=10):\n",
        "    # 현재 사용자의 모든 아이템에 대한 예상 평점 계산\n",
        "    predictions = []\n",
        "\n",
        "    # 이미 평가한(not null) 영화의 열 인덱스(movie_id) 추출 -> 추천시 제외하기 위해\n",
        "    rated_index = rating_matrix.loc[user][rating_matrix.loc[user] > 0].index\n",
        "    items = rating_matrix.loc[user].drop(rated_index)\n",
        "    \n",
        "    # 여기서 파라미터 값이 3개 들어감 \n",
        "    # 예상평점 계산\n",
        "    for item in items.index:\n",
        "        predictions.append(cf_knn(user, item, neighbor_size))\n",
        "        \n",
        "    recommendations = pd.Series(data=predictions, index=items.index, dtype=float)\n",
        "    recommendations = recommendations.sort_values(ascending=False)[:n_items]    # 예상평점이 가장 높은 영화 선택\n",
        "    recommended_items = movies.loc[recommendations.index]['title']\n",
        "    return recommended_items\n",
        "\n",
        "# 영화 추천 함수 부르기\n",
        "cf_knn_recommender(2, 10, 20)"
      ],
      "metadata": {
        "id": "WCPWqEJe_GB5"
      },
      "execution_count": null,
      "outputs": []
    }
  ]
}
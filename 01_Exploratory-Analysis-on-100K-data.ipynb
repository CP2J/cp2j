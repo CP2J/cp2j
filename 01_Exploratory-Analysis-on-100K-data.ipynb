{
 "cells": [
  {
   "cell_type": "markdown",
   "metadata": {},
   "source": [
    "# MovieLens Project Part 1: Exploratory Data Analysis on 100K Dataset"
   ]
  },
  {
   "cell_type": "markdown",
   "metadata": {},
   "source": [
    "As part of a project sponsored by the data science team at [Air Liquide](https://www.airliquide.com/) here in Philadelphia, I'm diving deep into collaborative filtering algorithms. There are 2 main goals of this project:\n",
    "\n",
    "1. Gain understanding of a variety of collaborative filtering algorithms by implementing them myself\n",
    "2. Compare quality and speed of a variety of algorithms as a function of dataset size\n",
    "\n",
    "The data I'm using comes from the [GroupLens](https://grouplens.org/) research group, who has been collecting movie ratings from volunteers since 1995 and has curated datasets of a variety of sizes. For the initial development phase of the project, I'll focus on the 100K dataset, the smallest one, to enable faster iteration. I'll scale up to larger datasets later on.\n",
    "\n",
    "Before getting into any algorithm development, I want to get a picture of the data I'm working with, so I'll ask the questions on my mind and try to answer them with the data.\n",
    "\n",
    "## Get the data"
   ]
  },
  {
   "cell_type": "code",
   "execution_count": 1,
   "metadata": {},
   "outputs": [
    {
     "name": "stdout",
     "output_type": "stream",
     "text": [
      "  % Total    % Received % Xferd  Average Speed   Time    Time     Time  Current\n",
      "                                 Dload  Upload   Total   Spent    Left  Speed\n",
      "100 4808k  100 4808k    0     0  1783k      0  0:00:02  0:00:02 --:--:-- 1783k\n",
      "Archive:  ml-100k.zip\n",
      "  inflating: raw/ml-100k/allbut.pl   \n",
      "  inflating: raw/ml-100k/mku.sh      \n",
      "  inflating: raw/ml-100k/README      \n",
      "  inflating: raw/ml-100k/u.data      \n",
      "  inflating: raw/ml-100k/u.genre     \n",
      "  inflating: raw/ml-100k/u.info      \n",
      "  inflating: raw/ml-100k/u.item      \n",
      "  inflating: raw/ml-100k/u.occupation  \n",
      "  inflating: raw/ml-100k/u.user      \n",
      "  inflating: raw/ml-100k/u1.base     \n",
      "  inflating: raw/ml-100k/u1.test     \n",
      "  inflating: raw/ml-100k/u2.base     \n",
      "  inflating: raw/ml-100k/u2.test     \n",
      "  inflating: raw/ml-100k/u3.base     \n",
      "  inflating: raw/ml-100k/u3.test     \n",
      "  inflating: raw/ml-100k/u4.base     \n",
      "  inflating: raw/ml-100k/u4.test     \n",
      "  inflating: raw/ml-100k/u5.base     \n",
      "  inflating: raw/ml-100k/u5.test     \n",
      "  inflating: raw/ml-100k/ua.base     \n",
      "  inflating: raw/ml-100k/ua.test     \n",
      "  inflating: raw/ml-100k/ub.base     \n",
      "  inflating: raw/ml-100k/ub.test     \n"
     ]
    }
   ],
   "source": [
    "!mkdir -p raw\n",
    "!curl -O http://files.grouplens.org/datasets/movielens/ml-100k.zip\n",
    "!unzip -o ml-100k.zip -d raw/\n",
    "!rm ml-100k.zip"
   ]
  },
  {
   "cell_type": "code",
   "execution_count": 2,
   "metadata": {},
   "outputs": [],
   "source": [
    "# <!-- collapse=True -->\n",
    "%matplotlib inline\n",
    "from datetime import datetime\n",
    "from IPython.display import Markdown\n",
    "from os.path import join\n",
    "from os.path import exists\n",
    "import matplotlib.pyplot as plt\n",
    "import numpy as np\n",
    "import pandas as pd\n",
    "import seaborn as sns\n",
    "\n",
    "# Use modified seaborn-darkgrid style with bigger text\n",
    "plt.style.use('big-darkgrid.mplstyle')"
   ]
  },
  {
   "cell_type": "markdown",
   "metadata": {},
   "source": [
    "Let's load and examine the ratings data. I sort the data by `timestamp` and break the `timestamp` column out into `year` and `month` and display the first 5 and last 5 ratings in the dataset."
   ]
  },
  {
   "cell_type": "code",
   "execution_count": 3,
   "metadata": {},
   "outputs": [
    {
     "name": "stdout",
     "output_type": "stream",
     "text": [
      "First 5:\n"
     ]
    },
    {
     "data": {
      "text/html": [
       "<div>\n",
       "<style scoped>\n",
       "    .dataframe tbody tr th:only-of-type {\n",
       "        vertical-align: middle;\n",
       "    }\n",
       "\n",
       "    .dataframe tbody tr th {\n",
       "        vertical-align: top;\n",
       "    }\n",
       "\n",
       "    .dataframe thead th {\n",
       "        text-align: right;\n",
       "    }\n",
       "</style>\n",
       "<table border=\"1\" class=\"dataframe\">\n",
       "  <thead>\n",
       "    <tr style=\"text-align: right;\">\n",
       "      <th></th>\n",
       "      <th>userId</th>\n",
       "      <th>movieId</th>\n",
       "      <th>rating</th>\n",
       "      <th>timestamp</th>\n",
       "      <th>year</th>\n",
       "      <th>month</th>\n",
       "    </tr>\n",
       "  </thead>\n",
       "  <tbody>\n",
       "    <tr>\n",
       "      <th>214</th>\n",
       "      <td>259</td>\n",
       "      <td>255</td>\n",
       "      <td>4</td>\n",
       "      <td>1997-09-19 23:05:10</td>\n",
       "      <td>1997</td>\n",
       "      <td>9</td>\n",
       "    </tr>\n",
       "    <tr>\n",
       "      <th>83965</th>\n",
       "      <td>259</td>\n",
       "      <td>286</td>\n",
       "      <td>4</td>\n",
       "      <td>1997-09-19 23:05:27</td>\n",
       "      <td>1997</td>\n",
       "      <td>9</td>\n",
       "    </tr>\n",
       "    <tr>\n",
       "      <th>43027</th>\n",
       "      <td>259</td>\n",
       "      <td>298</td>\n",
       "      <td>4</td>\n",
       "      <td>1997-09-19 23:05:54</td>\n",
       "      <td>1997</td>\n",
       "      <td>9</td>\n",
       "    </tr>\n",
       "    <tr>\n",
       "      <th>21396</th>\n",
       "      <td>259</td>\n",
       "      <td>185</td>\n",
       "      <td>4</td>\n",
       "      <td>1997-09-19 23:06:21</td>\n",
       "      <td>1997</td>\n",
       "      <td>9</td>\n",
       "    </tr>\n",
       "    <tr>\n",
       "      <th>82655</th>\n",
       "      <td>259</td>\n",
       "      <td>173</td>\n",
       "      <td>4</td>\n",
       "      <td>1997-09-19 23:07:23</td>\n",
       "      <td>1997</td>\n",
       "      <td>9</td>\n",
       "    </tr>\n",
       "  </tbody>\n",
       "</table>\n",
       "</div>"
      ],
      "text/plain": [
       "       userId  movieId  rating           timestamp  year  month\n",
       "214       259      255       4 1997-09-19 23:05:10  1997      9\n",
       "83965     259      286       4 1997-09-19 23:05:27  1997      9\n",
       "43027     259      298       4 1997-09-19 23:05:54  1997      9\n",
       "21396     259      185       4 1997-09-19 23:06:21  1997      9\n",
       "82655     259      173       4 1997-09-19 23:07:23  1997      9"
      ]
     },
     "metadata": {},
     "output_type": "display_data"
    },
    {
     "name": "stdout",
     "output_type": "stream",
     "text": [
      "\n",
      "Last 5:\n"
     ]
    },
    {
     "data": {
      "text/html": [
       "<div>\n",
       "<style scoped>\n",
       "    .dataframe tbody tr th:only-of-type {\n",
       "        vertical-align: middle;\n",
       "    }\n",
       "\n",
       "    .dataframe tbody tr th {\n",
       "        vertical-align: top;\n",
       "    }\n",
       "\n",
       "    .dataframe thead th {\n",
       "        text-align: right;\n",
       "    }\n",
       "</style>\n",
       "<table border=\"1\" class=\"dataframe\">\n",
       "  <thead>\n",
       "    <tr style=\"text-align: right;\">\n",
       "      <th></th>\n",
       "      <th>userId</th>\n",
       "      <th>movieId</th>\n",
       "      <th>rating</th>\n",
       "      <th>timestamp</th>\n",
       "      <th>year</th>\n",
       "      <th>month</th>\n",
       "    </tr>\n",
       "  </thead>\n",
       "  <tbody>\n",
       "    <tr>\n",
       "      <th>46773</th>\n",
       "      <td>729</td>\n",
       "      <td>689</td>\n",
       "      <td>4</td>\n",
       "      <td>1998-04-22 19:10:38</td>\n",
       "      <td>1998</td>\n",
       "      <td>4</td>\n",
       "    </tr>\n",
       "    <tr>\n",
       "      <th>73008</th>\n",
       "      <td>729</td>\n",
       "      <td>313</td>\n",
       "      <td>3</td>\n",
       "      <td>1998-04-22 19:10:38</td>\n",
       "      <td>1998</td>\n",
       "      <td>4</td>\n",
       "    </tr>\n",
       "    <tr>\n",
       "      <th>46574</th>\n",
       "      <td>729</td>\n",
       "      <td>328</td>\n",
       "      <td>3</td>\n",
       "      <td>1998-04-22 19:10:38</td>\n",
       "      <td>1998</td>\n",
       "      <td>4</td>\n",
       "    </tr>\n",
       "    <tr>\n",
       "      <th>64312</th>\n",
       "      <td>729</td>\n",
       "      <td>748</td>\n",
       "      <td>4</td>\n",
       "      <td>1998-04-22 19:10:38</td>\n",
       "      <td>1998</td>\n",
       "      <td>4</td>\n",
       "    </tr>\n",
       "    <tr>\n",
       "      <th>79208</th>\n",
       "      <td>729</td>\n",
       "      <td>272</td>\n",
       "      <td>4</td>\n",
       "      <td>1998-04-22 19:10:38</td>\n",
       "      <td>1998</td>\n",
       "      <td>4</td>\n",
       "    </tr>\n",
       "  </tbody>\n",
       "</table>\n",
       "</div>"
      ],
      "text/plain": [
       "       userId  movieId  rating           timestamp  year  month\n",
       "46773     729      689       4 1998-04-22 19:10:38  1998      4\n",
       "73008     729      313       3 1998-04-22 19:10:38  1998      4\n",
       "46574     729      328       3 1998-04-22 19:10:38  1998      4\n",
       "64312     729      748       4 1998-04-22 19:10:38  1998      4\n",
       "79208     729      272       4 1998-04-22 19:10:38  1998      4"
      ]
     },
     "metadata": {},
     "output_type": "display_data"
    }
   ],
   "source": [
    "# <!-- collapse=True -->\n",
    "ratings_df = pd.read_csv('raw/ml-100k/u.data', sep='\\t', header=None, \n",
    "                         names=['userId', 'movieId', 'rating', 'timestamp'])\n",
    "ratings_df['timestamp'] = ratings_df['timestamp'].apply(datetime.fromtimestamp)\n",
    "ratings_df['year'] = ratings_df['timestamp'].dt.year\n",
    "ratings_df['month'] = ratings_df['timestamp'].dt.month\n",
    "ratings_df = ratings_df.sort_values('timestamp')\n",
    "print('First 5:')\n",
    "display(ratings_df.head())\n",
    "print()\n",
    "print('Last 5:')\n",
    "display(ratings_df.tail())"
   ]
  },
  {
   "cell_type": "markdown",
   "metadata": {},
   "source": [
    "We can see from these rows that this part of the dataset is user-movie-rating triplets at different points in time. Let's ask some questions about the data to get a feel for what we're working with:"
   ]
  },
  {
   "cell_type": "markdown",
   "metadata": {},
   "source": [
    "# 1. How are the ratings distributed?\n",
    "\n",
    "I'd like to see what ratings are common and uncommon, so let's just plot counts of each rating:"
   ]
  },
  {
   "cell_type": "code",
   "execution_count": 4,
   "metadata": {},
   "outputs": [
    {
     "data": {
      "image/png": "[encoded data removed]",
      "text/plain": [
       "<Figure size 432x288 with 1 Axes>"
      ]
     },
     "metadata": {},
     "output_type": "display_data"
    }
   ],
   "source": [
    "# <!-- collapse=True -->\n",
    "norm_counts = (\n",
    "    ratings_df['rating']\n",
    "    .value_counts(normalize=True, sort=False)\n",
    "    .multiply(100)\n",
    "    .reset_index()\n",
    "    .rename(columns={'rating': 'percent', 'index': 'rating'})\n",
    ")\n",
    "ax = sns.barplot(x='rating', y='percent', data=norm_counts)\n",
    "ax.set_title('Rating Frequencies')\n",
    "plt.show()"
   ]
  },
  {
   "cell_type": "markdown",
   "metadata": {},
   "source": [
    "# 2. How many ratings were submitted per month?"
   ]
  },
  {
   "cell_type": "code",
   "execution_count": 5,
   "metadata": {},
   "outputs": [
    {
     "data": {
      "text/html": [
       "<div>\n",
       "<style scoped>\n",
       "    .dataframe tbody tr th:only-of-type {\n",
       "        vertical-align: middle;\n",
       "    }\n",
       "\n",
       "    .dataframe tbody tr th {\n",
       "        vertical-align: top;\n",
       "    }\n",
       "\n",
       "    .dataframe thead th {\n",
       "        text-align: right;\n",
       "    }\n",
       "</style>\n",
       "<table border=\"1\" class=\"dataframe\">\n",
       "  <thead>\n",
       "    <tr style=\"text-align: right;\">\n",
       "      <th></th>\n",
       "      <th>year</th>\n",
       "      <th>month</th>\n",
       "      <th># of Ratings</th>\n",
       "    </tr>\n",
       "    <tr>\n",
       "      <th>Date</th>\n",
       "      <th></th>\n",
       "      <th></th>\n",
       "      <th></th>\n",
       "    </tr>\n",
       "  </thead>\n",
       "  <tbody>\n",
       "    <tr>\n",
       "      <th>1997-09-01</th>\n",
       "      <td>1997</td>\n",
       "      <td>9</td>\n",
       "      <td>6808</td>\n",
       "    </tr>\n",
       "    <tr>\n",
       "      <th>1997-10-01</th>\n",
       "      <td>1997</td>\n",
       "      <td>10</td>\n",
       "      <td>10368</td>\n",
       "    </tr>\n",
       "    <tr>\n",
       "      <th>1997-11-01</th>\n",
       "      <td>1997</td>\n",
       "      <td>11</td>\n",
       "      <td>24073</td>\n",
       "    </tr>\n",
       "    <tr>\n",
       "      <th>1997-12-01</th>\n",
       "      <td>1997</td>\n",
       "      <td>12</td>\n",
       "      <td>11695</td>\n",
       "    </tr>\n",
       "    <tr>\n",
       "      <th>1998-01-01</th>\n",
       "      <td>1998</td>\n",
       "      <td>1</td>\n",
       "      <td>14100</td>\n",
       "    </tr>\n",
       "    <tr>\n",
       "      <th>1998-02-01</th>\n",
       "      <td>1998</td>\n",
       "      <td>2</td>\n",
       "      <td>10961</td>\n",
       "    </tr>\n",
       "    <tr>\n",
       "      <th>1998-03-01</th>\n",
       "      <td>1998</td>\n",
       "      <td>3</td>\n",
       "      <td>12987</td>\n",
       "    </tr>\n",
       "    <tr>\n",
       "      <th>1998-04-01</th>\n",
       "      <td>1998</td>\n",
       "      <td>4</td>\n",
       "      <td>9008</td>\n",
       "    </tr>\n",
       "  </tbody>\n",
       "</table>\n",
       "</div>"
      ],
      "text/plain": [
       "            year month  # of Ratings\n",
       "Date                                \n",
       "1997-09-01  1997     9          6808\n",
       "1997-10-01  1997    10         10368\n",
       "1997-11-01  1997    11         24073\n",
       "1997-12-01  1997    12         11695\n",
       "1998-01-01  1998     1         14100\n",
       "1998-02-01  1998     2         10961\n",
       "1998-03-01  1998     3         12987\n",
       "1998-04-01  1998     4          9008"
      ]
     },
     "metadata": {},
     "output_type": "display_data"
    },
    {
     "data": {
      "image/png": "[encoded data removed]",
      "text/plain": [
       "<Figure size 432x288 with 1 Axes>"
      ]
     },
     "metadata": {},
     "output_type": "display_data"
    }
   ],
   "source": [
    "# <!-- collapse=True -->\n",
    "month_counts = ratings_df[['year', 'month', 'rating']].groupby(['year', 'month']).count()\n",
    "month_counts = month_counts.rename(index=str, columns={'rating': '# of Ratings'})\n",
    "month_counts = month_counts.reset_index()\n",
    "month_counts['Date'] = month_counts[['year', 'month']].apply(\n",
    "    lambda x: datetime(year=int(x[0]), month=int(x[1]), day=1), axis=1\n",
    ")\n",
    "month_counts = month_counts.set_index('Date', drop=True)\n",
    "display(month_counts)\n",
    "month_counts['# of Ratings'].plot(style='o-')\n",
    "plt.ylabel('# of Ratings')\n",
    "plt.title('# of Ratings per Month')\n",
    "plt.ylim([0, 25000])\n",
    "plt.gca().grid(which='minor')\n",
    "plt.show()"
   ]
  },
  {
   "cell_type": "markdown",
   "metadata": {},
   "source": [
    "The number of ratings had a fairly large spike in November of 1998, but otherwise was relatively constant.\n",
    "\n",
    "This leads to another question about changes over time:\n",
    "\n",
    "# 5. How consistent are the average ratings over time?"
   ]
  },
  {
   "cell_type": "code",
   "execution_count": 6,
   "metadata": {},
   "outputs": [
    {
     "data": {
      "text/html": [
       "<div>\n",
       "<style scoped>\n",
       "    .dataframe tbody tr th:only-of-type {\n",
       "        vertical-align: middle;\n",
       "    }\n",
       "\n",
       "    .dataframe tbody tr th {\n",
       "        vertical-align: top;\n",
       "    }\n",
       "\n",
       "    .dataframe thead th {\n",
       "        text-align: right;\n",
       "    }\n",
       "</style>\n",
       "<table border=\"1\" class=\"dataframe\">\n",
       "  <thead>\n",
       "    <tr style=\"text-align: right;\">\n",
       "      <th></th>\n",
       "      <th>year</th>\n",
       "      <th>month</th>\n",
       "      <th>Rating</th>\n",
       "      <th>std</th>\n",
       "    </tr>\n",
       "    <tr>\n",
       "      <th>Date</th>\n",
       "      <th></th>\n",
       "      <th></th>\n",
       "      <th></th>\n",
       "      <th></th>\n",
       "    </tr>\n",
       "  </thead>\n",
       "  <tbody>\n",
       "    <tr>\n",
       "      <th>1997-09-01</th>\n",
       "      <td>1997</td>\n",
       "      <td>9</td>\n",
       "      <td>3.541569</td>\n",
       "      <td>1.091807</td>\n",
       "    </tr>\n",
       "    <tr>\n",
       "      <th>1997-10-01</th>\n",
       "      <td>1997</td>\n",
       "      <td>10</td>\n",
       "      <td>3.594425</td>\n",
       "      <td>1.097959</td>\n",
       "    </tr>\n",
       "    <tr>\n",
       "      <th>1997-11-01</th>\n",
       "      <td>1997</td>\n",
       "      <td>11</td>\n",
       "      <td>3.558759</td>\n",
       "      <td>1.110674</td>\n",
       "    </tr>\n",
       "    <tr>\n",
       "      <th>1997-12-01</th>\n",
       "      <td>1997</td>\n",
       "      <td>12</td>\n",
       "      <td>3.578367</td>\n",
       "      <td>1.110067</td>\n",
       "    </tr>\n",
       "    <tr>\n",
       "      <th>1998-01-01</th>\n",
       "      <td>1998</td>\n",
       "      <td>1</td>\n",
       "      <td>3.397092</td>\n",
       "      <td>1.187497</td>\n",
       "    </tr>\n",
       "    <tr>\n",
       "      <th>1998-02-01</th>\n",
       "      <td>1998</td>\n",
       "      <td>2</td>\n",
       "      <td>3.456619</td>\n",
       "      <td>1.128093</td>\n",
       "    </tr>\n",
       "    <tr>\n",
       "      <th>1998-03-01</th>\n",
       "      <td>1998</td>\n",
       "      <td>3</td>\n",
       "      <td>3.548395</td>\n",
       "      <td>1.109802</td>\n",
       "    </tr>\n",
       "    <tr>\n",
       "      <th>1998-04-01</th>\n",
       "      <td>1998</td>\n",
       "      <td>4</td>\n",
       "      <td>3.576710</td>\n",
       "      <td>1.142116</td>\n",
       "    </tr>\n",
       "  </tbody>\n",
       "</table>\n",
       "</div>"
      ],
      "text/plain": [
       "            year month    Rating       std\n",
       "Date                                      \n",
       "1997-09-01  1997     9  3.541569  1.091807\n",
       "1997-10-01  1997    10  3.594425  1.097959\n",
       "1997-11-01  1997    11  3.558759  1.110674\n",
       "1997-12-01  1997    12  3.578367  1.110067\n",
       "1998-01-01  1998     1  3.397092  1.187497\n",
       "1998-02-01  1998     2  3.456619  1.128093\n",
       "1998-03-01  1998     3  3.548395  1.109802\n",
       "1998-04-01  1998     4  3.576710  1.142116"
      ]
     },
     "metadata": {},
     "output_type": "display_data"
    },
    {
     "data": {
      "image/png": "[encoded data removed]",
      "text/plain": [
       "<Figure size 432x288 with 1 Axes>"
      ]
     },
     "metadata": {},
     "output_type": "display_data"
    }
   ],
   "source": [
    "# <!-- collapse=True -->\n",
    "month_counts = ratings_df.groupby(['year', 'month'])['rating'].agg([np.mean, np.std])\n",
    "month_counts = month_counts.rename(index=str, columns={'mean': 'Rating'})\n",
    "month_counts = month_counts.reset_index()\n",
    "month_counts['Date'] = month_counts[['year', 'month']].apply(\n",
    "    lambda x: datetime(year=int(x[0]), month=int(x[1]), day=1), axis=1\n",
    ")\n",
    "month_counts = month_counts.set_index('Date', drop=True)\n",
    "display(month_counts)\n",
    "month_counts['Rating'].plot(style='o-')\n",
    "plt.fill_between(month_counts.index,\n",
    "                 month_counts['Rating'] - month_counts['std'],\n",
    "                 month_counts['Rating'] + month_counts['std'],\n",
    "                 alpha=0.3,\n",
    "                )\n",
    "plt.ylim([0, 5])\n",
    "plt.ylabel('Rating')\n",
    "plt.gca().grid(which='minor')\n",
    "plt.title('Rating Consistency over Time')\n",
    "plt.show()"
   ]
  },
  {
   "cell_type": "markdown",
   "metadata": {},
   "source": [
    "This average ratings were fairly consistent around 3.5. The lack of large changes over time will simplify modeling a little bit.\n",
    "\n",
    "One last thing I'm curious about (for now) when it comes to changes over time:\n",
    "\n",
    "# 6. How quickly do the movie and user bases grow over time?\n",
    "\n",
    "I'll assume that a user has joined on her first rating, and that she remains a user from then on."
   ]
  },
  {
   "cell_type": "code",
   "execution_count": 7,
   "metadata": {},
   "outputs": [
    {
     "data": {
      "text/html": [
       "<div>\n",
       "<style scoped>\n",
       "    .dataframe tbody tr th:only-of-type {\n",
       "        vertical-align: middle;\n",
       "    }\n",
       "\n",
       "    .dataframe tbody tr th {\n",
       "        vertical-align: top;\n",
       "    }\n",
       "\n",
       "    .dataframe thead th {\n",
       "        text-align: right;\n",
       "    }\n",
       "</style>\n",
       "<table border=\"1\" class=\"dataframe\">\n",
       "  <thead>\n",
       "    <tr style=\"text-align: right;\">\n",
       "      <th></th>\n",
       "      <th>userId</th>\n",
       "      <th>movieId</th>\n",
       "      <th>rating</th>\n",
       "      <th>timestamp</th>\n",
       "      <th>year</th>\n",
       "      <th>month</th>\n",
       "      <th>Date</th>\n",
       "    </tr>\n",
       "  </thead>\n",
       "  <tbody>\n",
       "    <tr>\n",
       "      <th>214</th>\n",
       "      <td>259</td>\n",
       "      <td>255</td>\n",
       "      <td>4</td>\n",
       "      <td>1997-09-19 23:05:10</td>\n",
       "      <td>1997</td>\n",
       "      <td>9</td>\n",
       "      <td>1997-09-01</td>\n",
       "    </tr>\n",
       "    <tr>\n",
       "      <th>83965</th>\n",
       "      <td>259</td>\n",
       "      <td>286</td>\n",
       "      <td>4</td>\n",
       "      <td>1997-09-19 23:05:27</td>\n",
       "      <td>1997</td>\n",
       "      <td>9</td>\n",
       "      <td>1997-09-01</td>\n",
       "    </tr>\n",
       "    <tr>\n",
       "      <th>43027</th>\n",
       "      <td>259</td>\n",
       "      <td>298</td>\n",
       "      <td>4</td>\n",
       "      <td>1997-09-19 23:05:54</td>\n",
       "      <td>1997</td>\n",
       "      <td>9</td>\n",
       "      <td>1997-09-01</td>\n",
       "    </tr>\n",
       "    <tr>\n",
       "      <th>21396</th>\n",
       "      <td>259</td>\n",
       "      <td>185</td>\n",
       "      <td>4</td>\n",
       "      <td>1997-09-19 23:06:21</td>\n",
       "      <td>1997</td>\n",
       "      <td>9</td>\n",
       "      <td>1997-09-01</td>\n",
       "    </tr>\n",
       "    <tr>\n",
       "      <th>82655</th>\n",
       "      <td>259</td>\n",
       "      <td>173</td>\n",
       "      <td>4</td>\n",
       "      <td>1997-09-19 23:07:23</td>\n",
       "      <td>1997</td>\n",
       "      <td>9</td>\n",
       "      <td>1997-09-01</td>\n",
       "    </tr>\n",
       "  </tbody>\n",
       "</table>\n",
       "</div>"
      ],
      "text/plain": [
       "       userId  movieId  rating           timestamp  year  month       Date\n",
       "214       259      255       4 1997-09-19 23:05:10  1997      9 1997-09-01\n",
       "83965     259      286       4 1997-09-19 23:05:27  1997      9 1997-09-01\n",
       "43027     259      298       4 1997-09-19 23:05:54  1997      9 1997-09-01\n",
       "21396     259      185       4 1997-09-19 23:06:21  1997      9 1997-09-01\n",
       "82655     259      173       4 1997-09-19 23:07:23  1997      9 1997-09-01"
      ]
     },
     "metadata": {},
     "output_type": "display_data"
    },
    {
     "data": {
      "image/png": "[encoded data removed]",
      "text/plain": [
       "<Figure size 432x288 with 1 Axes>"
      ]
     },
     "metadata": {},
     "output_type": "display_data"
    }
   ],
   "source": [
    "# <!-- collapse=True -->\n",
    "ratings_df['Date'] = ratings_df[['year', 'month']].apply(\n",
    "    lambda x: datetime(year=int(x[0]), month=int(x[1]), day=1), axis=1\n",
    ")\n",
    "display(ratings_df.head())\n",
    "n_users = []\n",
    "n_movies = []\n",
    "dates = np.unique(ratings_df['Date'])\n",
    "for date in dates:\n",
    "    n_users.append(ratings_df[ratings_df['Date'] <= date]['userId'].nunique())\n",
    "    n_movies.append(ratings_df[ratings_df['Date'] <= date]['movieId'].nunique())\n",
    "df_users = pd.DataFrame({'Date': dates, '# of Users': n_users}).set_index('Date')\n",
    "df_movies = pd.DataFrame({'Date': dates, '# of Movies': n_movies}).set_index('Date')\n",
    "fig, ax = plt.subplots()\n",
    "df_movies['# of Movies'].plot(style='o-', ax=ax)\n",
    "df_users['# of Users'].plot(style='o-', ax=ax)\n",
    "plt.ylabel('Count')\n",
    "plt.ylim([0, 2000])\n",
    "ax.grid(which='minor')\n",
    "plt.tight_layout()\n",
    "plt.legend()\n",
    "plt.show()"
   ]
  },
  {
   "cell_type": "markdown",
   "metadata": {},
   "source": [
    "New users seen in the dataset look fairly linear over time, although the number of movies start out withover 1000 already in the system.\n",
    "\n",
    "# 7. How sparse is the user/movies matrix we'll be dealing with?\n",
    "\n",
    "Sparsity is a very common challenge to overcome in many collaborative filtering applications. By sparsity, I mean that if we create a matrix $R$ with dimensions $n_{users} \\times n_{movies}$ where each element $r_{ij}$ is a single rating by user $i$ of movie $j$, this matrix will be very empty because most users have only rated a few of the 25,000+ movies available. Let's see how bad it is."
   ]
  },
  {
   "cell_type": "markdown",
   "metadata": {},
   "source": [
    "Here's one way to visualize the sparsity. The plot below shows a single, tiny black square for every user/movie combination we have. If everyone rated every movie, you'd see a solid black rectangle. Instead what we see is a lot of white--lots of user/movie combinations for which we don't have a rating (yet). You especially see a lot of white in the top right corner. This is probably because early raters had access to fewer movies to rate, and new users progressively had more movies to rate as they were added to the system.\n",
    "\n"
   ]
  },
  {
   "cell_type": "code",
   "execution_count": 8,
   "metadata": {},
   "outputs": [
    {
     "data": {
      "image/png": "[encoded data removed]",
      "text/plain": [
       "<Figure size 432x288 with 1 Axes>"
      ]
     },
     "metadata": {},
     "output_type": "display_data"
    },
    {
     "data": {
      "text/markdown": [
       "The matrix density is $n_{ratings}/(n_{users} \\times n_{movies}) = 0.063$"
      ],
      "text/plain": [
       "<IPython.core.display.Markdown object>"
      ]
     },
     "execution_count": 8,
     "metadata": {},
     "output_type": "execute_result"
    }
   ],
   "source": [
    "# <!-- collapse=True -->\n",
    "from cf_utils import get_rating_matrix\n",
    "rating_matrix, user_map, item_map = get_rating_matrix(ratings_df)\n",
    "with plt.style.context('seaborn-white'):\n",
    "    rating_matrix_binary = rating_matrix > 0\n",
    "    plt.imshow(rating_matrix_binary)\n",
    "    plt.xlabel('Movie')\n",
    "    plt.ylabel('User')\n",
    "    plt.show()\n",
    "\n",
    "Markdown(\n",
    "    r\"The matrix density is $n_{{ratings}}/(n_{{users}} \\times n_{{movies}}) = {:0.3f}$\"\n",
    "    .format(np.sum(rating_matrix_binary) / np.prod(rating_matrix.shape))\n",
    ")"
   ]
  },
  {
   "cell_type": "markdown",
   "metadata": {},
   "source": [
    "In the plot above you also notice that there are a few darker rows and columns, but most rows and columns are pretty bare. Let's visualize the distributions of number of ratings by user and by movie. The way I chose to visualize this is with an [Empirical Cumulative Distribution Function (ECDF) plot](https://www.youtube.com/watch?v=ap4mfGvgDsM). An ECDF plot has an advantage compared to a histogram that all data points can be plotted in a meaningful way, and no bin size has to be chosen to average arbitrary chunks of it. This is especially helpful with the long-tailed distributions here."
   ]
  },
  {
   "cell_type": "code",
   "execution_count": 11,
   "metadata": {},
   "outputs": [
    {
     "data": {
      "image/png": "[encoded data removed]",
      "text/plain": [
       "<Figure size 432x288 with 1 Axes>"
      ]
     },
     "metadata": {},
     "output_type": "display_data"
    }
   ],
   "source": [
    "# <!-- collapse=True -->\n",
    "user_counts = ratings_df['userId'].value_counts(ascending=True)\n",
    "user_counts.index = np.arange(len(user_counts)) / len(user_counts)\n",
    "plt.plot(user_counts, user_counts.index, '.', label='Users')\n",
    "movie_counts = ratings_df['movieId'].value_counts(ascending=True)\n",
    "movie_counts.index = np.arange(len(movie_counts)) / len(movie_counts)\n",
    "plt.plot(movie_counts, movie_counts.index, '.', label='Movies')\n",
    "plt.xlabel('Number of Ratings')\n",
    "plt.ylabel('ECDF')\n",
    "plt.legend()\n",
    "plt.show()"
   ]
  },
  {
   "cell_type": "markdown",
   "metadata": {},
   "source": [
    "In the plot above, you can learn, for example, that 40% of all users rated 50 or less movies, and 90% of movies have 169 or less ratings. In general, we seen that a large fraction of movies and users have few ratings associated with them, but a few movies and users have many more ratings.\n",
    "\n",
    "The main thing to take from this though is that the matrix of possible ratings is quite sparse, and that we need to use models that deal with this lack of data."
   ]
  }
 ],
 "metadata": {
  "kernelspec": {
   "display_name": "Python 3",
   "language": "python",
   "name": "python3"
  },
  "language_info": {
   "codemirror_mode": {
    "name": "ipython",
    "version": 3
   },
   "file_extension": ".py",
   "mimetype": "text/x-python",
   "name": "python",
   "nbconvert_exporter": "python",
   "pygments_lexer": "ipython3",
   "version": "3.6.4"
  }
 },
 "nbformat": 4,
 "nbformat_minor": 2
}

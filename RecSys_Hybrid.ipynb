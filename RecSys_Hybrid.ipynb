{
  "nbformat": 4,
  "nbformat_minor": 0,
  "metadata": {
    "colab": {
      "provenance": [],
      "collapsed_sections": [
        "zoVtFSgh21wE"
      ],
      "authorship_tag": "ABX9TyOZZF+t1wWK8LgZiam4/604",
      "include_colab_link": true
    },
    "kernelspec": {
      "name": "python3",
      "display_name": "Python 3"
    },
    "language_info": {
      "name": "python"
    },
    "gpuClass": "standard"
  },
  "cells": [
    {
      "cell_type": "markdown",
      "metadata": {
        "id": "view-in-github",
        "colab_type": "text"
      },
      "source": [
        "<a href=\"https://colab.research.google.com/github/CP2J/cp2j/blob/ACJ-14-Hybrid_Model/RecSys_Hybrid.ipynb\" target=\"_parent\"><img src=\"https://colab.research.google.com/assets/colab-badge.svg\" alt=\"Open In Colab\"/></a>"
      ]
    },
    {
      "cell_type": "markdown",
      "source": [
        "# 하이브리드 추천시스템 (CF_KNN + MF_SGD)"
      ],
      "metadata": {
        "id": "BvWwCwyQsmKG"
      }
    },
    {
      "cell_type": "code",
      "execution_count": 1,
      "metadata": {
        "id": "-4VKCeENpw-2"
      },
      "outputs": [],
      "source": [
        "import numpy as np\n",
        "import pandas as pd"
      ]
    },
    {
      "cell_type": "code",
      "source": [
        "from google.colab import drive\n",
        "drive.mount('/content/drive')\n",
        "#rating = pd.read_csv('/content/drive/MyDrive/ml-100k/u.data', sep='\\t', header=None, names=['user_id', 'item_id', 'rating', 'timestamp'])"
      ],
      "metadata": {
        "colab": {
          "base_uri": "https://localhost:8080/"
        },
        "id": "2CkMxfW6tNVH",
        "outputId": "ac15f4f3-a66d-44d5-8e2b-cf91c94f9edb"
      },
      "execution_count": 2,
      "outputs": [
        {
          "output_type": "stream",
          "name": "stdout",
          "text": [
            "Drive already mounted at /content/drive; to attempt to forcibly remount, call drive.mount(\"/content/drive\", force_remount=True).\n"
          ]
        }
      ]
    },
    {
      "cell_type": "code",
      "source": [
        "# 데이터 읽어 오기 \n",
        "r_cols = ['user_id', 'movie_id', 'rating', 'timestamp']\n",
        "ratings = pd.read_csv('/content/drive/MyDrive/ml-100k/u.data', names=r_cols,  sep='\\t',encoding='latin-1')\n",
        "ratings = ratings[['user_id', 'movie_id', 'rating']].astype(int)            # timestamp 제거"
      ],
      "metadata": {
        "id": "wgDyHUCCtUH2"
      },
      "execution_count": 3,
      "outputs": []
    },
    {
      "cell_type": "code",
      "source": [
        "# train test 분리\n",
        "from sklearn.utils import shuffle\n",
        "TRAIN_SIZE = 0.75\n",
        "ratings = shuffle(ratings, random_state=1)\n",
        "cutoff = int(TRAIN_SIZE * len(ratings))\n",
        "ratings_train = ratings.iloc[:cutoff]\n",
        "ratings_test = ratings.iloc[cutoff:]"
      ],
      "metadata": {
        "id": "5DpxnLgntbsJ"
      },
      "execution_count": 4,
      "outputs": []
    },
    {
      "cell_type": "code",
      "source": [
        "# 정확도(RMSE)를 계산하는 함수 \n",
        "def RMSE(y_true, y_pred):\n",
        "    return np.sqrt(np.mean((np.array(y_true) - np.array(y_pred))**2))"
      ],
      "metadata": {
        "id": "QkJKXYgdxYl7"
      },
      "execution_count": 5,
      "outputs": []
    },
    {
      "cell_type": "markdown",
      "source": [
        "# CF-KNN"
      ],
      "metadata": {
        "id": "zoVtFSgh21wE"
      }
    },
    {
      "cell_type": "code",
      "source": [
        "##### CF_KNN 추천 알고리즘 >>>>>>>>>>>>>>>\n",
        "# \"유저별 영화 평점\"을 알아보기 위해 pivot table 활용, 결측치 처리\n",
        "# train 셋을 full matrix로 변환\n",
        "rating_matrix = ratings_train.pivot_table(values = 'rating', index = 'user_id', columns = 'movie_id')\n",
        "\n",
        "# 유저들의 영화 평점 데이터프레임의 코사인유사도를 계산\n",
        "from sklearn.metrics.pairwise import cosine_similarity\n",
        "matrix_dummy = rating_matrix.copy().fillna(0)\n",
        "user_similarity = cosine_similarity(matrix_dummy, matrix_dummy)\n",
        "user_similarity = pd.DataFrame(user_similarity, index = rating_matrix.index, columns = rating_matrix.index)"
      ],
      "metadata": {
        "id": "L4B0pOi7xdPl"
      },
      "execution_count": 6,
      "outputs": []
    },
    {
      "cell_type": "code",
      "source": [
        "# 모델 평가 함수(RMSE)\n",
        "def score_2(model, neighbor_size=0):\n",
        "    id_pairs = zip(ratings_train['user_id'], ratings_train['movie_id'])\n",
        "    y_pred = np.array([model(user, movie, neighbor_size) for (user, movie) in id_pairs])\n",
        "    y_true = np.array(ratings_train['rating'])\n",
        "    return RMSE(y_true, y_pred)\n",
        "    # neighbor_size 입력받지 못하면 score_2 함수는 기본값 0으로 진행하고, cf_knn은 모든 사용자의 가중평균으로 예측\n",
        "    # neighbor_size 입력된 경우에도, 해당 영화를 평가한 유저의 수가 K 보다 적을 수 있으므로 한번 더 확인 해야함\n",
        "\n",
        "# CF + KNN\n",
        "def cf_knn(user_id, movie_id, neighbor_size=0):\n",
        "    # checks if the column with the name \"movie_id\" is present in the DataFrame \"rating_matrix\"\n",
        "    if movie_id in rating_matrix:\n",
        "        # 현재 사용자와 다른 사용자 간의 similarity 가져오기 (총 943개) : 'Series'\n",
        "        sim_scores = user_similarity[user_id]\n",
        "        \n",
        "        # 현재 영화에 대한 모든 사용자의 rating값 가져오기 : 'Series'\n",
        "        this_movie_ratings = rating_matrix[movie_id]\n",
        "        \n",
        "        # 현재 영화를 평가하지 않은 사용자의 index 가져오기\n",
        "        none_rating_idx = rating_matrix[movie_id][rating_matrix[movie_id].isnull()].index\n",
        "        \n",
        "        # 현재 영화를 평가하지 않은 사용자 제거\n",
        "        this_movie_ratings = this_movie_ratings.drop(none_rating_idx)\n",
        "        \n",
        "        # 현재 영화를 평가하지 않은 사용자의 similarity값 제거 -> 평가한 사람들만의 유사도 점수가 됨\n",
        "        sim_scores = sim_scores.drop(none_rating_idx)\n",
        "\n",
        "        ### KNN 추가 부분\n",
        "\n",
        "        # neighbor_size 가 지정되지 않은 경우(나머지 전체 사용자 활용)\n",
        "        if neighbor_size == 0:\n",
        "            # 현재 영화를 평가한 모든 사용자의 가중평균 구하기\n",
        "            mean_rating = np.dot(sim_scores, this_movie_ratings) / sim_scores.sum()\n",
        "\n",
        "        # neighbor_size 가 지정된 경우\n",
        "        else:\n",
        "            # 지정된 neighbor_size와 해당 영화를 평가한 총 사용자수 중 작은 것으로 neighbor_size 결정\n",
        "            neighbor_size = min( neighbor_size, len(sim_scores) )\n",
        "\n",
        "            # array로 바꾸기 (argsort 사용하기 위해)\n",
        "            sim_scores = np.array(sim_scores)\n",
        "            this_movie_ratings = np.array(this_movie_ratings) # 오타... rating matrix를 어레이로 바꾸는게 아닌 현재 영화 평점을 바꾸는 것\n",
        "\n",
        "            # 요소 크기 오름차순 정렬한 인덱스(user_id) 배열 반환 : argsort - Returns: index_array\n",
        "            # https://codetorial.net/tips_and_examples/numpy_argsort.html\n",
        "            user_idx = np.argsort(sim_scores)\n",
        "\n",
        "            # 오름차순 정렬한 User 유사도 배열을 큰 것부터(뒤에서) neighbor_size 만큼 받기\n",
        "            sim_scores = sim_scores[user_idx][-neighbor_size:]\n",
        "\n",
        "            # 영화 Rating을 neighbor_size만큼 받기\n",
        "            this_movie_ratings = this_movie_ratings[user_idx][-neighbor_size:]\n",
        "\n",
        "            # 최종 예측값 계산\n",
        "            mean_rating = np.dot( sim_scores, this_movie_ratings ) / sim_scores.sum()\n",
        "    else:\n",
        "        # movie_id가 rating_matrix의 칼럼값에 없는 경우\n",
        "        mean_rating = 3.0\n",
        "        \n",
        "    return mean_rating"
      ],
      "metadata": {
        "id": "qF9Gn2dgyRMj"
      },
      "execution_count": 7,
      "outputs": []
    },
    {
      "cell_type": "code",
      "source": [
        "#최적의 K값 확인 \n",
        "for k in (10,20,30,40,50):\n",
        "    print('k = ', k,'RMSE = ', score_2(cf_knn, k))"
      ],
      "metadata": {
        "colab": {
          "base_uri": "https://localhost:8080/"
        },
        "id": "EUGyMHwEycNY",
        "outputId": "ac8e9f9c-b6be-49bc-95d6-1754f477811d"
      },
      "execution_count": 8,
      "outputs": [
        {
          "output_type": "stream",
          "name": "stdout",
          "text": [
            "k =  10 RMSE =  0.7586709162900331\n",
            "k =  20 RMSE =  0.8411380746934589\n",
            "k =  30 RMSE =  0.8722816313119262\n",
            "k =  40 RMSE =  0.8896266842811573\n",
            "k =  50 RMSE =  0.9001864275830908\n"
          ]
        }
      ]
    },
    {
      "cell_type": "markdown",
      "source": [
        "# MF-SGD"
      ],
      "metadata": {
        "id": "1NWGs_Nf26QX"
      }
    },
    {
      "cell_type": "code",
      "source": [
        "##### MF-SGD 추천 알고리즘 >>>>>>>>>>>>>>>\n",
        "class NEW_MF():\n",
        "    def __init__(self, ratings, K, alpha, beta, iterations, verbose=True):  # 클래스 생성시 실행되는 초기화 함수\n",
        "        self.R = np.array(ratings)    # df ratings를 np.array로 바꿔 self.R에 저장\n",
        "\n",
        "        item_id_index = []    # 변수 초기화\n",
        "        index_item_id = []    # 변수 초기화\n",
        "        for i, one_id in enumerate(ratings):        # df ratings의 각 items에 대해서 아래 작업 수행\n",
        "            item_id_index.append([one_id, i])       # save id - index \n",
        "            index_item_id.append([i, one_id])       # save index - id\n",
        "        self.item_id_index = dict(item_id_index)    # dict로 변환\n",
        "        self.index_item_id = dict(index_item_id)    # dict로 변환\n",
        "\n",
        "        user_id_index = []                          # 사용자에 대해서도 실행\n",
        "        index_user_id = []\n",
        "        for i, one_id in enumerate(ratings.T):\n",
        "            user_id_index.append([one_id, i])\n",
        "            index_user_id.append([i, one_id])\n",
        "        self.user_id_index = dict(user_id_index)    # dict로 변환\n",
        "        self.index_user_id = dict(index_user_id)\n",
        "\n",
        "        self.num_users, self.num_items = np.shape(self.R)\n",
        "        self.K = K                                  # 잠재요인 수\n",
        "        self.alpha = alpha                          # 학습률\n",
        "        self.beta = beta                            # 정규화계수\n",
        "        self.iterations = iterations                # SGD 계산 반복 횟수\n",
        "        self.verbose = verbose                      # 중간 학습과정 출력여부\n",
        "\n",
        "    # train set의 RMSE 계산\n",
        "    def rmse(self):                            # 현재 P,Q로 RMSE 계산\n",
        "        xs, ys = self.R.nonzero()              # R에서 평점이 있는(NOT NULL) 요소의 인덱스들\n",
        "        self.predictions = []\n",
        "        self.errors = []\n",
        "        for x, y in zip(xs, ys):                            # 평점이 있는 요소(사용자 x, 아이템 y)에 대해:\n",
        "            prediction = self.get_prediction(x, y)\n",
        "            self.predictions.append(prediction)             # 예측값을 예측리스트에,\n",
        "            self.errors.append(self.R[x, y] - prediction)   # 오차를 오차리스트에 저장\n",
        "        self.predictions = np.array(self.predictions)\n",
        "        self.errors = np.array(self.errors)\n",
        "        return np.sqrt(np.mean(self.errors**2))\n",
        "\n",
        "    # Predict Ratings for user i and item j\n",
        "    def get_prediction(self, i, j):\n",
        "        prediction = self.b + self.b_u[i] + self.b_d[j] + self.P[i, :].dot(self.Q[j, :].T)    # 평점 예측치(r^)의 식에 사용자, 아이템 편향 추가한 식\n",
        "        # b : 전체평균, b_u[i] : 사용자i 평가경향(bias), b_d[j] : 아이템j 평가경향, 넷째항 : P, Q.T를 내적한 예측평점\n",
        "        return prediction\n",
        "\n",
        "    # Stochastic gradient descent to get optimized P and Q matrix\n",
        "    def sgd(self):\n",
        "        for i, j, r in self.samples:                # samples의 (user-item-rating) set에 대해 sgd적용\n",
        "            prediction = self.get_prediction(i, j)\n",
        "            e = (r - prediction)                    # 오차 = 실제평점 - 예측\n",
        "\n",
        "            self.b_u[i] += self.alpha * (e - self.beta * self.b_u[i])     # 사용자,아이템의 경향성을 고려된 평점예측식의 편미분식으로 사용자 평가경향 업데이트\n",
        "            self.b_d[j] += self.alpha * (e - self.beta * self.b_d[j])     # 아이템 평가경향 업데이트\n",
        "\n",
        "            self.P[i, :] += self.alpha * (e * self.Q[j, :] - self.beta * self.P[i,:])   # 정규화항 추가된 평점예측식의 편미분식으로 P행렬 업뎃\n",
        "            self.Q[j, :] += self.alpha * (e * self.P[i, :] - self.beta * self.Q[j,:])   # Q 업뎃\n",
        "\n",
        "    # Test set을 선정 - 분리된 test set을 넘겨받아서 클래스 내부의 test set을 만드는 함수\n",
        "    def set_test(self, ratings_test):\n",
        "        test_set = []\n",
        "        for i in range(len(ratings_test)):\n",
        "            x = self.user_id_index[ratings_test.iloc[i, 0]]   # 현재 사용자의 인덱스를 user_id_index(매핑 리스트)에서 받아옴\n",
        "            y = self.item_id_index[ratings_test.iloc[i, 1]]   # 현재 아이템의 인덱스를 item_id_index(매핑 리스트)에서 받아옴\n",
        "            z = ratings_test.iloc[i, 2]                       # 현재 (사용자-아이템)의 평점\n",
        "            test_set.append([x, y, z])          # 현재 (사용자-아이템-평점)을 test_set에 추가\n",
        "            self.R[x, y] = 0                    # Setting test set ratings to 0 : MF는 R 전체를 사용해서 학습하기 때문에 test set은 평점을 지움\n",
        "        self.test_set = test_set                # test_set을 클래스에 저장한다.\n",
        "        return test_set                         # Return test set\n",
        "\n",
        "    # Test set의 RMSE 계산\n",
        "    def test_rmse(self):\n",
        "        error = 0\n",
        "        for one_set in self.test_set:\n",
        "            predicted = self.get_prediction(one_set[0], one_set[1])\n",
        "            error += pow(one_set[2] - predicted, 2)       # 오차(평점 실제값 - 예측평점)의 제곱을 누적한 값이 저장된다.\n",
        "        return np.sqrt(error/len(self.test_set))          # error를 RMSE로 변환해서 돌려준다.\n",
        "\n",
        "    # Training 하면서 test set의 정확도를 계산\n",
        "    def test(self):   # MF모델을 SGD방식으로 훈련하는 핵심 함수이다.\n",
        "        # Initializing user-feature and item-feature matrix\n",
        "        self.P = np.random.normal(scale=1./self.K, size=(self.num_users, self.K))   # P행렬을 (평균 0, 표준편차 1/K인 정규분포 난수)로 초기화한다.\n",
        "        self.Q = np.random.normal(scale=1./self.K, size=(self.num_items, self.K))   # Q행렬 초기화한다.\n",
        "\n",
        "        # Initializing the bias terms\n",
        "        self.b_u = np.zeros(self.num_users)           # 사용자 평가경향을 초기화, array크기는 사용자수(num_users)와 동일하다.\n",
        "        self.b_d = np.zeros(self.num_items)           # 아이템 평가경향을 초기화한다.\n",
        "        self.b = np.mean(self.R[self.R.nonzero()])    # 전체 평균을 구해서 저장한다.\n",
        "\n",
        "        # List of training samples\n",
        "        rows, columns = self.R.nonzero()              # 평점행렬 R 중에서 평점있는 요소의 인덱스를 가져온다.\n",
        "        self.samples = [(i, j, self.R[i,j]) for i, j in zip(rows, columns)]   \n",
        "        # SGD를 적용할 대상, 즉 평점이 있는 요소의 인덱스와 평점을 리스트로 만들어 samples에 저장한다.\n",
        "\n",
        "        # Stochastic gradient descent for given number of iterations\n",
        "        training_process = []                             # training_process 를 초기화한다. SGD를 한번 실행할 때마다 RMSE가 얼마나 개선되는지를 기록한다.\n",
        "        for i in range(self.iterations):                  # 지정된 반복 횟수만큼 SGD를 실행한다.\n",
        "            np.random.shuffle(self.samples)               # samples 를 임의로 섞는다. 출발점에 따라 수렴의 속도가 달라질 수 있기 때문이다.\n",
        "            self.sgd()                                    # SGD를 실행하는 함수를 호출한다.\n",
        "            rmse1 = self.rmse()                           # SGD로 P, Q, bu, bd가 업데이트 되었으므로 이에 따른 RMSE를 계산한다.\n",
        "            rmse2 = self.test_rmse()                      # test set은 별도로 계산한다.\n",
        "            training_process.append((i+1, rmse1, rmse2))  # 결과를 저장한다.\n",
        "            if self.verbose:                              # verbose가 True이면 10회 반복마다 중간 결과를 표시한다.\n",
        "                if (i+1) % 10 == 0:\n",
        "                    print(\"Iteration: %d ; Train RMSE = %.4f ; Test RMSE = %.4f\" % (i+1, rmse1, rmse2))\n",
        "        return training_process\n",
        "\n",
        "    # Ratings for given user_id and item_id\n",
        "    def get_one_prediction(self, user_id, item_id):\n",
        "        prediction = self.get_prediction(self.user_id_index[user_id], self.item_id_index[item_id])\n",
        "        return prediction\n",
        "\n",
        "    # Full user-movie rating matrix (모든 사용자의 모든 아이템에 대한 예측치(Full matrix)를 계산해서 돌려준다)\n",
        "    def full_prediction(self):\n",
        "        return self.b + self.b_u[:,np.newaxis] + self.b_d[np.newaxis,:] + self.P.dot(self.Q.T)\n",
        "        # $\\hat{r}_{ij}=b+bu_i+bd_j+\\sum_{k=1}^Kp_{ik}q_{kj}$\n"
      ],
      "metadata": {
        "id": "kyRxSHB4CLKq"
      },
      "execution_count": 9,
      "outputs": []
    },
    {
      "cell_type": "code",
      "source": [
        "# MF클래스 생성 및 학습\n",
        "R_temp = ratings.pivot(index='user_id', columns='movie_id', values='rating').fillna(0)    # 전체 데이터를 full matrix로 변환한다.\n",
        "mf = NEW_MF(R_temp, K=200, alpha=0.001, beta=0.02, iterations=250, verbose=True)          # NEW-MF 클래스를 생성한다.\n",
        "test_set = mf.set_test(ratings_test)    # ratings_test를 테스트 데이터로 지정하도록 set_test() 함수를 호출한다.\n",
        "result = mf.test()                      # 정해진 파라미터에 따라 MF 훈련과 정확도 계산을 실행한다."
      ],
      "metadata": {
        "colab": {
          "base_uri": "https://localhost:8080/"
        },
        "id": "zwrF4tqY70R1",
        "outputId": "fac52b74-b85a-4ca9-a466-b9fae8854766"
      },
      "execution_count": 10,
      "outputs": [
        {
          "output_type": "stream",
          "name": "stdout",
          "text": [
            "Iteration: 10 ; Train RMSE = 0.9664 ; Test RMSE = 0.9834\n",
            "Iteration: 20 ; Train RMSE = 0.9420 ; Test RMSE = 0.9644\n",
            "Iteration: 30 ; Train RMSE = 0.9313 ; Test RMSE = 0.9566\n",
            "Iteration: 40 ; Train RMSE = 0.9253 ; Test RMSE = 0.9524\n",
            "Iteration: 50 ; Train RMSE = 0.9214 ; Test RMSE = 0.9497\n",
            "Iteration: 60 ; Train RMSE = 0.9186 ; Test RMSE = 0.9480\n",
            "Iteration: 70 ; Train RMSE = 0.9165 ; Test RMSE = 0.9468\n",
            "Iteration: 80 ; Train RMSE = 0.9147 ; Test RMSE = 0.9459\n",
            "Iteration: 90 ; Train RMSE = 0.9130 ; Test RMSE = 0.9451\n",
            "Iteration: 100 ; Train RMSE = 0.9111 ; Test RMSE = 0.9444\n",
            "Iteration: 110 ; Train RMSE = 0.9088 ; Test RMSE = 0.9435\n",
            "Iteration: 120 ; Train RMSE = 0.9056 ; Test RMSE = 0.9423\n",
            "Iteration: 130 ; Train RMSE = 0.9011 ; Test RMSE = 0.9406\n",
            "Iteration: 140 ; Train RMSE = 0.8946 ; Test RMSE = 0.9382\n",
            "Iteration: 150 ; Train RMSE = 0.8860 ; Test RMSE = 0.9350\n",
            "Iteration: 160 ; Train RMSE = 0.8754 ; Test RMSE = 0.9313\n",
            "Iteration: 170 ; Train RMSE = 0.8631 ; Test RMSE = 0.9277\n",
            "Iteration: 180 ; Train RMSE = 0.8494 ; Test RMSE = 0.9242\n",
            "Iteration: 190 ; Train RMSE = 0.8343 ; Test RMSE = 0.9210\n",
            "Iteration: 200 ; Train RMSE = 0.8177 ; Test RMSE = 0.9182\n",
            "Iteration: 210 ; Train RMSE = 0.7994 ; Test RMSE = 0.9157\n",
            "Iteration: 220 ; Train RMSE = 0.7794 ; Test RMSE = 0.9136\n",
            "Iteration: 230 ; Train RMSE = 0.7580 ; Test RMSE = 0.9121\n",
            "Iteration: 240 ; Train RMSE = 0.7353 ; Test RMSE = 0.9111\n",
            "Iteration: 250 ; Train RMSE = 0.7119 ; Test RMSE = 0.9107\n"
          ]
        }
      ]
    },
    {
      "cell_type": "code",
      "source": [
        "# iteration = 200\n",
        "# learning_rate = 0.01\n",
        "# lmbda = 0.01"
      ],
      "metadata": {
        "id": "ub7JfffC3ck5"
      },
      "execution_count": 11,
      "outputs": []
    },
    {
      "cell_type": "code",
      "source": [
        "##### Hybrid 추천 알고리즘\n",
        "\n",
        "def recommender0(recomm_list, mf):                        # MF 알고리즘의 예측값을 받아오는 함수이다. \n",
        "    recommendations = np.array([mf.get_one_prediction(user, movie) for (user, movie) in recomm_list])\n",
        "    # 추천대상 리스트(recomm_list)의 항목 각각에 대해서 MF클래스의 get_one_prediction() 함수를 불러서 예측값을 받아온 후에 np.array로 변환한다.\n",
        "    return recommendations\n",
        "\n",
        "def recommender1(recomm_list, neighbor_size=0):           # CF 알고리즘의 예측값을 받아오는 함수이다.\n",
        "    recommendations = np.array([cf_knn(user, movie, neighbor_size) for (user, movie) in recomm_list])\n",
        "    # 추천대상 리스트(recomm_list)의 항목 각각에 대해서 cf_knn 함수로 예측값을 받아 np.array로 변환한다.\n",
        "    return recommendations\n",
        "\n",
        "recomm_list = np.array(ratings_test.iloc[:, [0, 1]])      # test set을 np.array형식의 추천 대상 리스트로 만든다.\n",
        "predictions0 = recommender0(recomm_list, mf)              # MF기반 알고리즘의 예측값을 받아온다.\n",
        "RMSE(ratings_test.iloc[:, 2], predictions0)               # MF기반 알고리즘의 RMSE를 계산한다.\n",
        "predictions1 = recommender1(recomm_list, 40)              # CF기반 알고리즘의 예측값을 받아온다.\n",
        "RMSE(ratings_test.iloc[:, 2], predictions1)               # CF기반 알고리즘의 RMSE를 계산한다.\n",
        "\n",
        "weight = [0.8, 0.2]                                                 # 두 알고리즘의 결합 가중치를 지정한다.\n",
        "predictions = predictions0 * weight[0] + predictions1 * weight[1]   # 가중치에 따라 두 추천 알고리즘에서 가져온 예측값을 가중평균한다.\n",
        "RMSE(ratings_test.iloc[:, 2], predictions)                          # 하이브리드 모델의 RMSE를 계산한다."
      ],
      "metadata": {
        "colab": {
          "base_uri": "https://localhost:8080/"
        },
        "id": "DxWG_gO3HJtP",
        "outputId": "94bc64e3-46f5-45d6-fa61-09220d8e958e"
      },
      "execution_count": 12,
      "outputs": [
        {
          "output_type": "execute_result",
          "data": {
            "text/plain": [
              "0.9114388438903243"
            ]
          },
          "metadata": {},
          "execution_count": 12
        }
      ]
    },
    {
      "cell_type": "code",
      "source": [
        "# 가중치를 0~1까지 0.01 간격으로 바꿔가면서 RMSE 계산\n",
        "for i in np.arange(0, 1, 0.01):\n",
        "    weight = [i, 1.0 - i]\n",
        "    predictions = predictions0 * weight[0] + predictions1 * weight[1]\n",
        "    print(\"Weights - %.2f : %.2f ; RMSE = %.7f\" % (weight[0], \n",
        "           weight[1], RMSE(ratings_test.iloc[:, 2], predictions)))"
      ],
      "metadata": {
        "colab": {
          "base_uri": "https://localhost:8080/"
        },
        "id": "9E1mKDWsRGRa",
        "outputId": "bc74276d-9026-40f6-996a-3ad5b630649d"
      },
      "execution_count": 14,
      "outputs": [
        {
          "output_type": "stream",
          "name": "stdout",
          "text": [
            "Weights - 0.00 : 1.00 ; RMSE = 1.0131178\n",
            "Weights - 0.01 : 0.99 ; RMSE = 1.0109799\n",
            "Weights - 0.02 : 0.98 ; RMSE = 1.0088612\n",
            "Weights - 0.03 : 0.97 ; RMSE = 1.0067617\n",
            "Weights - 0.04 : 0.96 ; RMSE = 1.0046814\n",
            "Weights - 0.05 : 0.95 ; RMSE = 1.0026206\n",
            "Weights - 0.06 : 0.94 ; RMSE = 1.0005794\n",
            "Weights - 0.07 : 0.93 ; RMSE = 0.9985578\n",
            "Weights - 0.08 : 0.92 ; RMSE = 0.9965560\n",
            "Weights - 0.09 : 0.91 ; RMSE = 0.9945742\n",
            "Weights - 0.10 : 0.90 ; RMSE = 0.9926123\n",
            "Weights - 0.11 : 0.89 ; RMSE = 0.9906706\n",
            "Weights - 0.12 : 0.88 ; RMSE = 0.9887492\n",
            "Weights - 0.13 : 0.87 ; RMSE = 0.9868482\n",
            "Weights - 0.14 : 0.86 ; RMSE = 0.9849677\n",
            "Weights - 0.15 : 0.85 ; RMSE = 0.9831078\n",
            "Weights - 0.16 : 0.84 ; RMSE = 0.9812686\n",
            "Weights - 0.17 : 0.83 ; RMSE = 0.9794503\n",
            "Weights - 0.18 : 0.82 ; RMSE = 0.9776530\n",
            "Weights - 0.19 : 0.81 ; RMSE = 0.9758767\n",
            "Weights - 0.20 : 0.80 ; RMSE = 0.9741217\n",
            "Weights - 0.21 : 0.79 ; RMSE = 0.9723880\n",
            "Weights - 0.22 : 0.78 ; RMSE = 0.9706757\n",
            "Weights - 0.23 : 0.77 ; RMSE = 0.9689849\n",
            "Weights - 0.24 : 0.76 ; RMSE = 0.9673159\n",
            "Weights - 0.25 : 0.75 ; RMSE = 0.9656686\n",
            "Weights - 0.26 : 0.74 ; RMSE = 0.9640431\n",
            "Weights - 0.27 : 0.73 ; RMSE = 0.9624397\n",
            "Weights - 0.28 : 0.72 ; RMSE = 0.9608584\n",
            "Weights - 0.29 : 0.71 ; RMSE = 0.9592993\n",
            "Weights - 0.30 : 0.70 ; RMSE = 0.9577625\n",
            "Weights - 0.31 : 0.69 ; RMSE = 0.9562481\n",
            "Weights - 0.32 : 0.68 ; RMSE = 0.9547563\n",
            "Weights - 0.33 : 0.67 ; RMSE = 0.9532872\n",
            "Weights - 0.34 : 0.66 ; RMSE = 0.9518407\n",
            "Weights - 0.35 : 0.65 ; RMSE = 0.9504172\n",
            "Weights - 0.36 : 0.64 ; RMSE = 0.9490165\n",
            "Weights - 0.37 : 0.63 ; RMSE = 0.9476390\n",
            "Weights - 0.38 : 0.62 ; RMSE = 0.9462846\n",
            "Weights - 0.39 : 0.61 ; RMSE = 0.9449534\n",
            "Weights - 0.40 : 0.60 ; RMSE = 0.9436456\n",
            "Weights - 0.41 : 0.59 ; RMSE = 0.9423613\n",
            "Weights - 0.42 : 0.58 ; RMSE = 0.9411005\n",
            "Weights - 0.43 : 0.57 ; RMSE = 0.9398633\n",
            "Weights - 0.44 : 0.56 ; RMSE = 0.9386499\n",
            "Weights - 0.45 : 0.55 ; RMSE = 0.9374604\n",
            "Weights - 0.46 : 0.54 ; RMSE = 0.9362947\n",
            "Weights - 0.47 : 0.53 ; RMSE = 0.9351530\n",
            "Weights - 0.48 : 0.52 ; RMSE = 0.9340355\n",
            "Weights - 0.49 : 0.51 ; RMSE = 0.9329421\n",
            "Weights - 0.50 : 0.50 ; RMSE = 0.9318730\n",
            "Weights - 0.51 : 0.49 ; RMSE = 0.9308282\n",
            "Weights - 0.52 : 0.48 ; RMSE = 0.9298079\n",
            "Weights - 0.53 : 0.47 ; RMSE = 0.9288121\n",
            "Weights - 0.54 : 0.46 ; RMSE = 0.9278409\n",
            "Weights - 0.55 : 0.45 ; RMSE = 0.9268944\n",
            "Weights - 0.56 : 0.44 ; RMSE = 0.9259726\n",
            "Weights - 0.57 : 0.43 ; RMSE = 0.9250756\n",
            "Weights - 0.58 : 0.42 ; RMSE = 0.9242035\n",
            "Weights - 0.59 : 0.41 ; RMSE = 0.9233564\n",
            "Weights - 0.60 : 0.40 ; RMSE = 0.9225344\n",
            "Weights - 0.61 : 0.39 ; RMSE = 0.9217374\n",
            "Weights - 0.62 : 0.38 ; RMSE = 0.9209656\n",
            "Weights - 0.63 : 0.37 ; RMSE = 0.9202190\n",
            "Weights - 0.64 : 0.36 ; RMSE = 0.9194977\n",
            "Weights - 0.65 : 0.35 ; RMSE = 0.9188017\n",
            "Weights - 0.66 : 0.34 ; RMSE = 0.9181312\n",
            "Weights - 0.67 : 0.33 ; RMSE = 0.9174861\n",
            "Weights - 0.68 : 0.32 ; RMSE = 0.9168665\n",
            "Weights - 0.69 : 0.31 ; RMSE = 0.9162726\n",
            "Weights - 0.70 : 0.30 ; RMSE = 0.9157042\n",
            "Weights - 0.71 : 0.29 ; RMSE = 0.9151615\n",
            "Weights - 0.72 : 0.28 ; RMSE = 0.9146445\n",
            "Weights - 0.73 : 0.27 ; RMSE = 0.9141532\n",
            "Weights - 0.74 : 0.26 ; RMSE = 0.9136878\n",
            "Weights - 0.75 : 0.25 ; RMSE = 0.9132481\n",
            "Weights - 0.76 : 0.24 ; RMSE = 0.9128344\n",
            "Weights - 0.77 : 0.23 ; RMSE = 0.9124466\n",
            "Weights - 0.78 : 0.22 ; RMSE = 0.9120847\n",
            "Weights - 0.79 : 0.21 ; RMSE = 0.9117488\n",
            "Weights - 0.80 : 0.20 ; RMSE = 0.9114388\n",
            "Weights - 0.81 : 0.19 ; RMSE = 0.9111550\n",
            "Weights - 0.82 : 0.18 ; RMSE = 0.9108971\n",
            "Weights - 0.83 : 0.17 ; RMSE = 0.9106653\n",
            "Weights - 0.84 : 0.16 ; RMSE = 0.9104597\n",
            "Weights - 0.85 : 0.15 ; RMSE = 0.9102801\n",
            "Weights - 0.86 : 0.14 ; RMSE = 0.9101267\n",
            "Weights - 0.87 : 0.13 ; RMSE = 0.9099994\n",
            "Weights - 0.88 : 0.12 ; RMSE = 0.9098982\n",
            "Weights - 0.89 : 0.11 ; RMSE = 0.9098233\n",
            "Weights - 0.90 : 0.10 ; RMSE = 0.9097744\n",
            "Weights - 0.91 : 0.09 ; RMSE = 0.9097518\n",
            "Weights - 0.92 : 0.08 ; RMSE = 0.9097553\n",
            "Weights - 0.93 : 0.07 ; RMSE = 0.9097850\n",
            "Weights - 0.94 : 0.06 ; RMSE = 0.9098409\n",
            "Weights - 0.95 : 0.05 ; RMSE = 0.9099229\n",
            "Weights - 0.96 : 0.04 ; RMSE = 0.9100311\n",
            "Weights - 0.97 : 0.03 ; RMSE = 0.9101654\n",
            "Weights - 0.98 : 0.02 ; RMSE = 0.9103259\n",
            "Weights - 0.99 : 0.01 ; RMSE = 0.9105125\n"
          ]
        }
      ]
    },
    {
      "cell_type": "markdown",
      "source": [
        "- 베스트 : Weights - 0.91 : 0.09 ; RMSE = 0.9097518\n",
        "\n",
        "\n",
        "                    (MF-SGD 91%, CF-KNN 9%)"
      ],
      "metadata": {
        "id": "PYuPRVdHSAhF"
      }
    }
  ]
}
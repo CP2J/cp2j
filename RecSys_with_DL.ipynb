{
  "nbformat": 4,
  "nbformat_minor": 0,
  "metadata": {
    "colab": {
      "provenance": [],
      "authorship_tag": "ABX9TyObeymitpTFmpHtfxI8Gbjs",
      "include_colab_link": true
    },
    "kernelspec": {
      "name": "python3",
      "display_name": "Python 3"
    },
    "language_info": {
      "name": "python"
    },
    "accelerator": "GPU",
    "gpuClass": "standard"
  },
  "cells": [
    {
      "cell_type": "markdown",
      "metadata": {
        "id": "view-in-github",
        "colab_type": "text"
      },
      "source": [
        "<a href=\"https://colab.research.google.com/github/CP2J/cp2j/blob/ACJ-11-opt1-RecSys_by_DL/RecSys_with_DL.ipynb\" target=\"_parent\"><img src=\"https://colab.research.google.com/assets/colab-badge.svg\" alt=\"Open In Colab\"/></a>"
      ]
    },
    {
      "cell_type": "markdown",
      "source": [
        "# 딥러닝을 사용한 추천 시스템\n",
        "* User, Item을 embedding해서 입력으로 넣으면 사용자와 아이템 간의 특성을 학습해서 추천(예측)에 이용할 수 있다.\n",
        "\n",
        "\n",
        "  * < Reference : Python을 이용한 개인화 추천 시스템 2판 >"
      ],
      "metadata": {
        "id": "3h8EeAi-nH4T"
      }
    },
    {
      "cell_type": "code",
      "execution_count": 1,
      "metadata": {
        "colab": {
          "base_uri": "https://localhost:8080/"
        },
        "id": "OgnNJM71azUC",
        "outputId": "fb10a7ef-86f9-4d0f-e33b-0253fea457e8"
      },
      "outputs": [
        {
          "output_type": "stream",
          "name": "stdout",
          "text": [
            "Mounted at /content/drive\n"
          ]
        }
      ],
      "source": [
        "from google.colab import drive\n",
        "drive.mount('/content/drive')"
      ]
    },
    {
      "cell_type": "code",
      "source": [
        "import pandas as pd\n",
        "import numpy as np\n",
        "\n",
        "# csv 파일에서 불러오기\n",
        "r_cols = ['user_id', 'movie_id', 'rating', 'timestamp']\n",
        "ratings = pd.read_csv('/content/drive/MyDrive/ml-100k/u.data', names=r_cols,  sep='\\t',encoding='latin-1')\n",
        "ratings = ratings[['user_id', 'movie_id', 'rating']].astype(int)            # timestamp 제거, 정수형 변환"
      ],
      "metadata": {
        "id": "dq_3y8nqqMmY"
      },
      "execution_count": 2,
      "outputs": []
    },
    {
      "cell_type": "code",
      "source": [
        "# Train-test 분리 (이렇게 나누는 방법도 있군)\n",
        "from sklearn.utils import shuffle\n",
        "TRAIN_SIZE = 0.75                         # 0.75 : 0.25\n",
        "ratings = shuffle(ratings)                # row를 섞는다.\n",
        "cutoff = int(TRAIN_SIZE * len(ratings))   # 끊는 지점\n",
        "ratings_train = ratings.iloc[:cutoff]\n",
        "ratings_test = ratings.iloc[cutoff:]"
      ],
      "metadata": {
        "id": "nv2Wlq20rBxg"
      },
      "execution_count": null,
      "outputs": []
    },
    {
      "cell_type": "code",
      "source": [
        "##### (1)\n",
        "import tensorflow as tf\n",
        "from tensorflow.keras import layers\n",
        "from tensorflow.keras.models import Model\n",
        "from tensorflow.keras.layers import Input, Embedding, Dot, Add, Flatten\n",
        "from tensorflow.keras.regularizers import l2\n",
        "from tensorflow.keras.optimizers import SGD, Adamax"
      ],
      "metadata": {
        "id": "d42VgGsErDcs"
      },
      "execution_count": null,
      "outputs": []
    },
    {
      "cell_type": "code",
      "source": [
        "ratings.describe()"
      ],
      "metadata": {
        "id": "dfsPe1QKyq3R",
        "outputId": "4c77f138-979a-45a4-f717-50f47bf213e6",
        "colab": {
          "base_uri": "https://localhost:8080/",
          "height": 300
        }
      },
      "execution_count": 3,
      "outputs": [
        {
          "output_type": "execute_result",
          "data": {
            "text/plain": [
              "            user_id       movie_id         rating\n",
              "count  100000.00000  100000.000000  100000.000000\n",
              "mean      462.48475     425.530130       3.529860\n",
              "std       266.61442     330.798356       1.125674\n",
              "min         1.00000       1.000000       1.000000\n",
              "25%       254.00000     175.000000       3.000000\n",
              "50%       447.00000     322.000000       4.000000\n",
              "75%       682.00000     631.000000       4.000000\n",
              "max       943.00000    1682.000000       5.000000"
            ],
            "text/html": [
              "\n",
              "  <div id=\"df-281be671-5020-40c1-a445-3390b07c023f\">\n",
              "    <div class=\"colab-df-container\">\n",
              "      <div>\n",
              "<style scoped>\n",
              "    .dataframe tbody tr th:only-of-type {\n",
              "        vertical-align: middle;\n",
              "    }\n",
              "\n",
              "    .dataframe tbody tr th {\n",
              "        vertical-align: top;\n",
              "    }\n",
              "\n",
              "    .dataframe thead th {\n",
              "        text-align: right;\n",
              "    }\n",
              "</style>\n",
              "<table border=\"1\" class=\"dataframe\">\n",
              "  <thead>\n",
              "    <tr style=\"text-align: right;\">\n",
              "      <th></th>\n",
              "      <th>user_id</th>\n",
              "      <th>movie_id</th>\n",
              "      <th>rating</th>\n",
              "    </tr>\n",
              "  </thead>\n",
              "  <tbody>\n",
              "    <tr>\n",
              "      <th>count</th>\n",
              "      <td>100000.00000</td>\n",
              "      <td>100000.000000</td>\n",
              "      <td>100000.000000</td>\n",
              "    </tr>\n",
              "    <tr>\n",
              "      <th>mean</th>\n",
              "      <td>462.48475</td>\n",
              "      <td>425.530130</td>\n",
              "      <td>3.529860</td>\n",
              "    </tr>\n",
              "    <tr>\n",
              "      <th>std</th>\n",
              "      <td>266.61442</td>\n",
              "      <td>330.798356</td>\n",
              "      <td>1.125674</td>\n",
              "    </tr>\n",
              "    <tr>\n",
              "      <th>min</th>\n",
              "      <td>1.00000</td>\n",
              "      <td>1.000000</td>\n",
              "      <td>1.000000</td>\n",
              "    </tr>\n",
              "    <tr>\n",
              "      <th>25%</th>\n",
              "      <td>254.00000</td>\n",
              "      <td>175.000000</td>\n",
              "      <td>3.000000</td>\n",
              "    </tr>\n",
              "    <tr>\n",
              "      <th>50%</th>\n",
              "      <td>447.00000</td>\n",
              "      <td>322.000000</td>\n",
              "      <td>4.000000</td>\n",
              "    </tr>\n",
              "    <tr>\n",
              "      <th>75%</th>\n",
              "      <td>682.00000</td>\n",
              "      <td>631.000000</td>\n",
              "      <td>4.000000</td>\n",
              "    </tr>\n",
              "    <tr>\n",
              "      <th>max</th>\n",
              "      <td>943.00000</td>\n",
              "      <td>1682.000000</td>\n",
              "      <td>5.000000</td>\n",
              "    </tr>\n",
              "  </tbody>\n",
              "</table>\n",
              "</div>\n",
              "      <button class=\"colab-df-convert\" onclick=\"convertToInteractive('df-281be671-5020-40c1-a445-3390b07c023f')\"\n",
              "              title=\"Convert this dataframe to an interactive table.\"\n",
              "              style=\"display:none;\">\n",
              "        \n",
              "  <svg xmlns=\"http://www.w3.org/2000/svg\" height=\"24px\"viewBox=\"0 0 24 24\"\n",
              "       width=\"24px\">\n",
              "    <path d=\"M0 0h24v24H0V0z\" fill=\"none\"/>\n",
              "    <path d=\"M18.56 5.44l.94 2.06.94-2.06 2.06-.94-2.06-.94-.94-2.06-.94 2.06-2.06.94zm-11 1L8.5 8.5l.94-2.06 2.06-.94-2.06-.94L8.5 2.5l-.94 2.06-2.06.94zm10 10l.94 2.06.94-2.06 2.06-.94-2.06-.94-.94-2.06-.94 2.06-2.06.94z\"/><path d=\"M17.41 7.96l-1.37-1.37c-.4-.4-.92-.59-1.43-.59-.52 0-1.04.2-1.43.59L10.3 9.45l-7.72 7.72c-.78.78-.78 2.05 0 2.83L4 21.41c.39.39.9.59 1.41.59.51 0 1.02-.2 1.41-.59l7.78-7.78 2.81-2.81c.8-.78.8-2.07 0-2.86zM5.41 20L4 18.59l7.72-7.72 1.47 1.35L5.41 20z\"/>\n",
              "  </svg>\n",
              "      </button>\n",
              "      \n",
              "  <style>\n",
              "    .colab-df-container {\n",
              "      display:flex;\n",
              "      flex-wrap:wrap;\n",
              "      gap: 12px;\n",
              "    }\n",
              "\n",
              "    .colab-df-convert {\n",
              "      background-color: #E8F0FE;\n",
              "      border: none;\n",
              "      border-radius: 50%;\n",
              "      cursor: pointer;\n",
              "      display: none;\n",
              "      fill: #1967D2;\n",
              "      height: 32px;\n",
              "      padding: 0 0 0 0;\n",
              "      width: 32px;\n",
              "    }\n",
              "\n",
              "    .colab-df-convert:hover {\n",
              "      background-color: #E2EBFA;\n",
              "      box-shadow: 0px 1px 2px rgba(60, 64, 67, 0.3), 0px 1px 3px 1px rgba(60, 64, 67, 0.15);\n",
              "      fill: #174EA6;\n",
              "    }\n",
              "\n",
              "    [theme=dark] .colab-df-convert {\n",
              "      background-color: #3B4455;\n",
              "      fill: #D2E3FC;\n",
              "    }\n",
              "\n",
              "    [theme=dark] .colab-df-convert:hover {\n",
              "      background-color: #434B5C;\n",
              "      box-shadow: 0px 1px 3px 1px rgba(0, 0, 0, 0.15);\n",
              "      filter: drop-shadow(0px 1px 2px rgba(0, 0, 0, 0.3));\n",
              "      fill: #FFFFFF;\n",
              "    }\n",
              "  </style>\n",
              "\n",
              "      <script>\n",
              "        const buttonEl =\n",
              "          document.querySelector('#df-281be671-5020-40c1-a445-3390b07c023f button.colab-df-convert');\n",
              "        buttonEl.style.display =\n",
              "          google.colab.kernel.accessAllowed ? 'block' : 'none';\n",
              "\n",
              "        async function convertToInteractive(key) {\n",
              "          const element = document.querySelector('#df-281be671-5020-40c1-a445-3390b07c023f');\n",
              "          const dataTable =\n",
              "            await google.colab.kernel.invokeFunction('convertToInteractive',\n",
              "                                                     [key], {});\n",
              "          if (!dataTable) return;\n",
              "\n",
              "          const docLinkHtml = 'Like what you see? Visit the ' +\n",
              "            '<a target=\"_blank\" href=https://colab.research.google.com/notebooks/data_table.ipynb>data table notebook</a>'\n",
              "            + ' to learn more about interactive tables.';\n",
              "          element.innerHTML = '';\n",
              "          dataTable['output_type'] = 'display_data';\n",
              "          await google.colab.output.renderOutput(dataTable, element);\n",
              "          const docLink = document.createElement('div');\n",
              "          docLink.innerHTML = docLinkHtml;\n",
              "          element.appendChild(docLink);\n",
              "        }\n",
              "      </script>\n",
              "    </div>\n",
              "  </div>\n",
              "  "
            ]
          },
          "metadata": {},
          "execution_count": 3
        }
      ]
    },
    {
      "cell_type": "code",
      "source": [
        "# Variable 초기화\n",
        "K = 200                               # Latent factor(잠재요인) 수\n",
        "mu = ratings_train.rating.mean()      # 전체 평균\n",
        "M = ratings.user_id.max() +1          # 사용자 아이디 최대값+1 : Number of users로 간주, 추후 Embedding에 사용\n",
        "# 사용자 아이디는 1부터 943이지만(위 describe 참고)\n",
        "# adding 1 ensures that all user IDs from 0 to the maximum ID are included in the embedding layer.\n",
        "N = ratings.movie_id.max() +1         # Number of movies\n",
        "\n",
        "# RMSE 정의\n",
        "def RMSE(y_true, y_pred):\n",
        "    return tf.sqrt(tf.reduce_mean(tf.square(y_true - y_pred)))"
      ],
      "metadata": {
        "id": "szQzPyEqrJfU"
      },
      "execution_count": null,
      "outputs": []
    },
    {
      "cell_type": "markdown",
      "source": [
        "<img src=\"https://drive.google.com/uc?id=1sdPLEYtb9eJ50DwhAS-yDjlYRW7eHraf\" alt=\"딥러닝 신경망 모델\" height=\"300\" width=\"400\">"
      ],
      "metadata": {
        "id": "AvEEZ3yArW6M"
      }
    },
    {
      "cell_type": "code",
      "source": [
        "##### (2)\n",
        "# Keras model\n",
        "user = Input(shape=(1, ))                                             # 사용자 데이터 입력 형식 지정(id만 받음)\n",
        "item = Input(shape=(1, ))                                             # 아이템 데이터 입력 형식 지정(id만 받음)\n",
        "P_embedding = Embedding(M, K, embeddings_regularizer=l2())(user)      # 사용자 Embedding layer 지정 (M, 1, K) : (M X K)의 연결을 가진다.\n",
        "Q_embedding = Embedding(N, K, embeddings_regularizer=l2())(item)      # 아이템 Embedding layer 지정 (N, 1, K) : (N X K)의 연결을 가진다.\n",
        "user_bias = Embedding(M, 1, embeddings_regularizer=l2())(user)        # User bias term (M, 1, ) : (M X 1)의 연결\n",
        "item_bias = Embedding(N, 1, embeddings_regularizer=l2())(item)        # Item bias term (N, 1, ) : (N X 1)의 연결\n",
        "\n",
        "# Concatenate layers\n",
        "from tensorflow.keras.layers import Dense, Concatenate, Activation    # 나중에 layer 구성에서 사용할 메소드 로드\n",
        "P_embedding = Flatten()(P_embedding)          # (K, )\n",
        "Q_embedding = Flatten()(Q_embedding)          # (K, )\n",
        "user_bias = Flatten()(user_bias)              # (1, )\n",
        "item_bias = Flatten()(item_bias)              # (1, )\n",
        "# Concatenate() 위해서 1차원으로 줄인다.\n",
        "R = Concatenate()([P_embedding, Q_embedding, user_bias, item_bias])   # (2K+2, )\n",
        "# P, Q, 사용자 bias, 아이템 bias를 붙여서 하나의 layer를 만든다.\n",
        "\n",
        "# Neural network\n",
        "R = Dense(2048)(R)              # 노드가 2048개인 dense layer 추가\n",
        "R = Activation('relu')(R)       # 이 layer의 activation 함수 : 'relu'\n",
        "R = Dense(256)(R)               # 노드가 256개인 dense layer 하나 더 추가\n",
        "R = Activation('linear')(R)     # 이 layer의 activation 함수 : 'linear'\n",
        "R = Dense(1)(R)                 # 노드가 1개인 dense layer를 하나 더 추가 한다. 이 layer가 출력에 연결된다.\n",
        "\n",
        "# Model setting : 위의 신경망과 입력을 연결해서 모델을 구성한다.\n",
        "model = Model(inputs = [user, item], outputs = R)\n",
        "model.compile(\n",
        "    loss = RMSE,                # loss함수\n",
        "    optimizer = SGD(),\n",
        "    #optimizer = Adamax(),\n",
        "    metrics = [RMSE]            # 측정지표\n",
        ")\n",
        "\n",
        "model.summary()"
      ],
      "metadata": {
        "id": "8n5XiCMGrS5n",
        "outputId": "87936355-2c0d-4e9a-ef87-3ec86e144286",
        "colab": {
          "base_uri": "https://localhost:8080/"
        }
      },
      "execution_count": null,
      "outputs": [
        {
          "output_type": "stream",
          "name": "stdout",
          "text": [
            "Model: \"model\"\n",
            "__________________________________________________________________________________________________\n",
            " Layer (type)                   Output Shape         Param #     Connected to                     \n",
            "==================================================================================================\n",
            " input_1 (InputLayer)           [(None, 1)]          0           []                               \n",
            "                                                                                                  \n",
            " input_2 (InputLayer)           [(None, 1)]          0           []                               \n",
            "                                                                                                  \n",
            " embedding (Embedding)          (None, 1, 200)       188800      ['input_1[0][0]']                \n",
            "                                                                                                  \n",
            " embedding_1 (Embedding)        (None, 1, 200)       336600      ['input_2[0][0]']                \n",
            "                                                                                                  \n",
            " embedding_2 (Embedding)        (None, 1, 1)         944         ['input_1[0][0]']                \n",
            "                                                                                                  \n",
            " embedding_3 (Embedding)        (None, 1, 1)         1683        ['input_2[0][0]']                \n",
            "                                                                                                  \n",
            " flatten (Flatten)              (None, 200)          0           ['embedding[0][0]']              \n",
            "                                                                                                  \n",
            " flatten_1 (Flatten)            (None, 200)          0           ['embedding_1[0][0]']            \n",
            "                                                                                                  \n",
            " flatten_2 (Flatten)            (None, 1)            0           ['embedding_2[0][0]']            \n",
            "                                                                                                  \n",
            " flatten_3 (Flatten)            (None, 1)            0           ['embedding_3[0][0]']            \n",
            "                                                                                                  \n",
            " concatenate (Concatenate)      (None, 402)          0           ['flatten[0][0]',                \n",
            "                                                                  'flatten_1[0][0]',              \n",
            "                                                                  'flatten_2[0][0]',              \n",
            "                                                                  'flatten_3[0][0]']              \n",
            "                                                                                                  \n",
            " dense (Dense)                  (None, 2048)         825344      ['concatenate[0][0]']            \n",
            "                                                                                                  \n",
            " activation (Activation)        (None, 2048)         0           ['dense[0][0]']                  \n",
            "                                                                                                  \n",
            " dense_1 (Dense)                (None, 256)          524544      ['activation[0][0]']             \n",
            "                                                                                                  \n",
            " activation_1 (Activation)      (None, 256)          0           ['dense_1[0][0]']                \n",
            "                                                                                                  \n",
            " dense_2 (Dense)                (None, 1)            257         ['activation_1[0][0]']           \n",
            "                                                                                                  \n",
            "==================================================================================================\n",
            "Total params: 1,878,172\n",
            "Trainable params: 1,878,172\n",
            "Non-trainable params: 0\n",
            "__________________________________________________________________________________________________\n"
          ]
        }
      ]
    },
    {
      "cell_type": "markdown",
      "source": [
        "* input layer 2개가 각각 embedding layer에 연결된다.\n",
        "* 사용자 수를 944(943+1)로 잡았기 때문에 200개의 잠재요인 layer(embedding)에 연결되는 파라미터의 수는 188,800(944 x 200)이 되고,\n",
        "* 아이템의 수는 1683(1682+1)개 이므로 200개의 잠재요인 layer(embedding_1)에 연결되는 파라미터의 수는 336,600(1683 x 200)이 된다.\n",
        "* 사용자 bias layer(embedding_2)는 944개, 아이템 bias layer(embedding_3)는 1683개의 파라미터를 갖는다.\n",
        "\n",
        "\n",
        "* 이 4개의 embedding layer는 합쳐져서 하나의 layer(Concatenate)가 되고, 이 layer의 노드 수는 402개(사용자 임베딩 200 + 아이템 임베딩 200 + 사용자 bias 1 + 아이템 bias 1)\n",
        "* 다음으로 2048개의 노드를 갖는 Dense layer(dense)에 연결 : 이때 연결 파라미터 수는 825344((402+1) x 2048)개가 된다.\n",
        "* 다음으로 256개의 노드를 갖는 Dense layer(dense_1)에 연결 : 이때 연결 파라미터 수는 524544((2048+1) x 256)개가 된다.\n",
        "* 위 layer는 노드가 1개인 최종 layer(dense_2)에 연결되고 파라미터의 수는 257개가 된다.\n",
        "\n",
        "\n",
        "* 총 파라미터의 수는 이들을 모두 합한 **1,878,172개**가 된다."
      ],
      "metadata": {
        "id": "ouN-G1kI2Xx0"
      }
    },
    {
      "cell_type": "code",
      "source": [
        "# Model fitting (위에서 구성한 신경망을 학습시킨다)\n",
        "result = model.fit(\n",
        "    x = [ratings_train.user_id.values, ratings_train.movie_id.values],\n",
        "    # 입력(독립변수)은 train set의 사용자, 아이템 id\n",
        "    y = ratings_train.rating.values - mu,\n",
        "    # 출력(종속변수)은 평점에서 전체평균을 뺀 것으로 지정\n",
        "    epochs = 65,              # 반복횟수\n",
        "    batch_size = 512,         # 한번에 학습(연산)하는 batch 크기를 지정\n",
        "    validation_data = (\n",
        "      [ratings_test.user_id.values, ratings_test.movie_id.values],  # 검증을 위한 입력\n",
        "      ratings_test.rating.values - mu                               # 검증에 쓰이는 출력\n",
        "    )\n",
        ")"
      ],
      "metadata": {
        "id": "yGHoKn3EIn8Z",
        "outputId": "295eaffd-4f15-47de-dc35-40866b82f333",
        "colab": {
          "base_uri": "https://localhost:8080/"
        }
      },
      "execution_count": null,
      "outputs": [
        {
          "output_type": "stream",
          "name": "stdout",
          "text": [
            "Epoch 1/65\n",
            "147/147 [==============================] - 7s 7ms/step - loss: 5.4076 - RMSE: 1.1252 - val_loss: 5.2784 - val_RMSE: 1.1221\n",
            "Epoch 2/65\n",
            "147/147 [==============================] - 1s 5ms/step - loss: 5.1621 - RMSE: 1.1245 - val_loss: 5.0403 - val_RMSE: 1.1213\n",
            "Epoch 3/65\n",
            "147/147 [==============================] - 1s 5ms/step - loss: 4.9308 - RMSE: 1.1238 - val_loss: 4.8158 - val_RMSE: 1.1206\n",
            "Epoch 4/65\n",
            "147/147 [==============================] - 1s 5ms/step - loss: 4.7127 - RMSE: 1.1231 - val_loss: 4.6041 - val_RMSE: 1.1199\n",
            "Epoch 5/65\n",
            "147/147 [==============================] - 1s 5ms/step - loss: 4.5069 - RMSE: 1.1222 - val_loss: 4.4044 - val_RMSE: 1.1191\n",
            "Epoch 6/65\n",
            "147/147 [==============================] - 1s 5ms/step - loss: 4.3129 - RMSE: 1.1216 - val_loss: 4.2162 - val_RMSE: 1.1184\n",
            "Epoch 7/65\n",
            "147/147 [==============================] - 1s 5ms/step - loss: 4.1299 - RMSE: 1.1206 - val_loss: 4.0386 - val_RMSE: 1.1176\n",
            "Epoch 8/65\n",
            "147/147 [==============================] - 1s 6ms/step - loss: 3.9573 - RMSE: 1.1197 - val_loss: 3.8710 - val_RMSE: 1.1168\n",
            "Epoch 9/65\n",
            "147/147 [==============================] - 1s 7ms/step - loss: 3.7945 - RMSE: 1.1189 - val_loss: 3.7130 - val_RMSE: 1.1159\n",
            "Epoch 10/65\n",
            "147/147 [==============================] - 1s 7ms/step - loss: 3.6408 - RMSE: 1.1180 - val_loss: 3.5639 - val_RMSE: 1.1149\n",
            "Epoch 11/65\n",
            "147/147 [==============================] - 1s 7ms/step - loss: 3.4959 - RMSE: 1.1167 - val_loss: 3.4231 - val_RMSE: 1.1139\n",
            "Epoch 12/65\n",
            "147/147 [==============================] - 1s 6ms/step - loss: 3.3590 - RMSE: 1.1154 - val_loss: 3.2903 - val_RMSE: 1.1126\n",
            "Epoch 13/65\n",
            "147/147 [==============================] - 1s 5ms/step - loss: 3.2298 - RMSE: 1.1146 - val_loss: 3.1648 - val_RMSE: 1.1113\n",
            "Epoch 14/65\n",
            "147/147 [==============================] - 1s 5ms/step - loss: 3.1077 - RMSE: 1.1125 - val_loss: 3.0464 - val_RMSE: 1.1099\n",
            "Epoch 15/65\n",
            "147/147 [==============================] - 1s 5ms/step - loss: 2.9923 - RMSE: 1.1110 - val_loss: 2.9343 - val_RMSE: 1.1081\n",
            "Epoch 16/65\n",
            "147/147 [==============================] - 1s 5ms/step - loss: 2.8834 - RMSE: 1.1096 - val_loss: 2.8283 - val_RMSE: 1.1061\n",
            "Epoch 17/65\n",
            "147/147 [==============================] - 1s 5ms/step - loss: 2.7799 - RMSE: 1.1072 - val_loss: 2.7283 - val_RMSE: 1.1040\n",
            "Epoch 18/65\n",
            "147/147 [==============================] - 1s 5ms/step - loss: 2.6825 - RMSE: 1.1045 - val_loss: 2.6331 - val_RMSE: 1.1012\n",
            "Epoch 19/65\n",
            "147/147 [==============================] - 1s 5ms/step - loss: 2.5899 - RMSE: 1.1014 - val_loss: 2.5432 - val_RMSE: 1.0982\n",
            "Epoch 20/65\n",
            "147/147 [==============================] - 1s 5ms/step - loss: 2.5021 - RMSE: 1.0982 - val_loss: 2.4577 - val_RMSE: 1.0946\n",
            "Epoch 21/65\n",
            "147/147 [==============================] - 1s 5ms/step - loss: 2.4187 - RMSE: 1.0945 - val_loss: 2.3766 - val_RMSE: 1.0907\n",
            "Epoch 22/65\n",
            "147/147 [==============================] - 1s 5ms/step - loss: 2.3393 - RMSE: 1.0896 - val_loss: 2.2992 - val_RMSE: 1.0859\n",
            "Epoch 23/65\n",
            "147/147 [==============================] - 1s 5ms/step - loss: 2.2635 - RMSE: 1.0846 - val_loss: 2.2255 - val_RMSE: 1.0806\n",
            "Epoch 24/65\n",
            "147/147 [==============================] - 1s 5ms/step - loss: 2.1912 - RMSE: 1.0785 - val_loss: 2.1549 - val_RMSE: 1.0744\n",
            "Epoch 25/65\n",
            "147/147 [==============================] - 1s 5ms/step - loss: 2.1220 - RMSE: 1.0717 - val_loss: 2.0874 - val_RMSE: 1.0675\n",
            "Epoch 26/65\n",
            "147/147 [==============================] - 1s 7ms/step - loss: 2.0555 - RMSE: 1.0641 - val_loss: 2.0227 - val_RMSE: 1.0597\n",
            "Epoch 27/65\n",
            "147/147 [==============================] - 1s 7ms/step - loss: 1.9918 - RMSE: 1.0561 - val_loss: 1.9606 - val_RMSE: 1.0513\n",
            "Epoch 28/65\n",
            "147/147 [==============================] - 1s 8ms/step - loss: 1.9306 - RMSE: 1.0464 - val_loss: 1.9013 - val_RMSE: 1.0423\n",
            "Epoch 29/65\n",
            "147/147 [==============================] - 1s 6ms/step - loss: 1.8718 - RMSE: 1.0367 - val_loss: 1.8446 - val_RMSE: 1.0330\n",
            "Epoch 30/65\n",
            "147/147 [==============================] - 1s 5ms/step - loss: 1.8159 - RMSE: 1.0268 - val_loss: 1.7915 - val_RMSE: 1.0246\n",
            "Epoch 31/65\n",
            "147/147 [==============================] - 1s 5ms/step - loss: 1.7625 - RMSE: 1.0165 - val_loss: 1.7393 - val_RMSE: 1.0143\n",
            "Epoch 32/65\n",
            "147/147 [==============================] - 1s 5ms/step - loss: 1.7120 - RMSE: 1.0070 - val_loss: 1.6914 - val_RMSE: 1.0060\n",
            "Epoch 33/65\n",
            "147/147 [==============================] - 1s 5ms/step - loss: 1.6645 - RMSE: 0.9979 - val_loss: 1.6460 - val_RMSE: 0.9979\n",
            "Epoch 34/65\n",
            "147/147 [==============================] - 1s 5ms/step - loss: 1.6197 - RMSE: 0.9892 - val_loss: 1.6038 - val_RMSE: 0.9910\n",
            "Epoch 35/65\n",
            "147/147 [==============================] - 1s 5ms/step - loss: 1.5780 - RMSE: 0.9821 - val_loss: 1.5644 - val_RMSE: 0.9850\n",
            "Epoch 36/65\n",
            "147/147 [==============================] - 1s 5ms/step - loss: 1.5386 - RMSE: 0.9751 - val_loss: 1.5273 - val_RMSE: 0.9793\n",
            "Epoch 37/65\n",
            "147/147 [==============================] - 1s 5ms/step - loss: 1.5019 - RMSE: 0.9688 - val_loss: 1.4928 - val_RMSE: 0.9746\n",
            "Epoch 38/65\n",
            "147/147 [==============================] - 1s 4ms/step - loss: 1.4677 - RMSE: 0.9636 - val_loss: 1.4606 - val_RMSE: 0.9706\n",
            "Epoch 39/65\n",
            "147/147 [==============================] - 1s 5ms/step - loss: 1.4357 - RMSE: 0.9590 - val_loss: 1.4303 - val_RMSE: 0.9669\n",
            "Epoch 40/65\n",
            "147/147 [==============================] - 1s 5ms/step - loss: 1.4055 - RMSE: 0.9550 - val_loss: 1.4027 - val_RMSE: 0.9645\n",
            "Epoch 41/65\n",
            "147/147 [==============================] - 1s 5ms/step - loss: 1.3773 - RMSE: 0.9508 - val_loss: 1.3759 - val_RMSE: 0.9613\n",
            "Epoch 42/65\n",
            "147/147 [==============================] - 1s 5ms/step - loss: 1.3507 - RMSE: 0.9473 - val_loss: 1.3506 - val_RMSE: 0.9585\n",
            "Epoch 43/65\n",
            "147/147 [==============================] - 1s 6ms/step - loss: 1.3259 - RMSE: 0.9443 - val_loss: 1.3272 - val_RMSE: 0.9563\n",
            "Epoch 44/65\n",
            "147/147 [==============================] - 1s 7ms/step - loss: 1.3026 - RMSE: 0.9416 - val_loss: 1.3059 - val_RMSE: 0.9550\n",
            "Epoch 45/65\n",
            "147/147 [==============================] - 1s 7ms/step - loss: 1.2807 - RMSE: 0.9393 - val_loss: 1.2862 - val_RMSE: 0.9542\n",
            "Epoch 46/65\n",
            "147/147 [==============================] - 1s 7ms/step - loss: 1.2602 - RMSE: 0.9372 - val_loss: 1.2655 - val_RMSE: 0.9513\n",
            "Epoch 47/65\n",
            "147/147 [==============================] - 1s 5ms/step - loss: 1.2406 - RMSE: 0.9348 - val_loss: 1.2479 - val_RMSE: 0.9505\n",
            "Epoch 48/65\n",
            "147/147 [==============================] - 1s 5ms/step - loss: 1.2226 - RMSE: 0.9333 - val_loss: 1.2302 - val_RMSE: 0.9487\n",
            "Epoch 49/65\n",
            "147/147 [==============================] - 1s 5ms/step - loss: 1.2055 - RMSE: 0.9318 - val_loss: 1.2160 - val_RMSE: 0.9494\n",
            "Epoch 50/65\n",
            "147/147 [==============================] - 1s 5ms/step - loss: 1.1895 - RMSE: 0.9301 - val_loss: 1.1990 - val_RMSE: 0.9466\n",
            "Epoch 51/65\n",
            "147/147 [==============================] - 1s 5ms/step - loss: 1.1742 - RMSE: 0.9288 - val_loss: 1.1849 - val_RMSE: 0.9459\n",
            "Epoch 52/65\n",
            "147/147 [==============================] - 1s 5ms/step - loss: 1.1601 - RMSE: 0.9274 - val_loss: 1.1726 - val_RMSE: 0.9462\n",
            "Epoch 53/65\n",
            "147/147 [==============================] - 1s 5ms/step - loss: 1.1470 - RMSE: 0.9268 - val_loss: 1.1596 - val_RMSE: 0.9451\n",
            "Epoch 54/65\n",
            "147/147 [==============================] - 1s 5ms/step - loss: 1.1344 - RMSE: 0.9258 - val_loss: 1.1474 - val_RMSE: 0.9443\n",
            "Epoch 55/65\n",
            "147/147 [==============================] - 1s 5ms/step - loss: 1.1226 - RMSE: 0.9250 - val_loss: 1.1361 - val_RMSE: 0.9435\n",
            "Epoch 56/65\n",
            "147/147 [==============================] - 1s 5ms/step - loss: 1.1113 - RMSE: 0.9240 - val_loss: 1.1259 - val_RMSE: 0.9435\n",
            "Epoch 57/65\n",
            "147/147 [==============================] - 1s 8ms/step - loss: 1.1010 - RMSE: 0.9235 - val_loss: 1.1157 - val_RMSE: 0.9428\n",
            "Epoch 58/65\n",
            "147/147 [==============================] - 1s 7ms/step - loss: 1.0914 - RMSE: 0.9232 - val_loss: 1.1064 - val_RMSE: 0.9424\n",
            "Epoch 59/65\n",
            "147/147 [==============================] - 1s 5ms/step - loss: 1.0821 - RMSE: 0.9228 - val_loss: 1.0977 - val_RMSE: 0.9421\n",
            "Epoch 60/65\n",
            "147/147 [==============================] - 1s 7ms/step - loss: 1.0731 - RMSE: 0.9219 - val_loss: 1.0903 - val_RMSE: 0.9427\n",
            "Epoch 61/65\n",
            "147/147 [==============================] - 1s 7ms/step - loss: 1.0651 - RMSE: 0.9217 - val_loss: 1.0817 - val_RMSE: 0.9417\n",
            "Epoch 62/65\n",
            "147/147 [==============================] - 1s 8ms/step - loss: 1.0577 - RMSE: 0.9216 - val_loss: 1.0747 - val_RMSE: 0.9419\n",
            "Epoch 63/65\n",
            "147/147 [==============================] - 1s 5ms/step - loss: 1.0499 - RMSE: 0.9205 - val_loss: 1.0680 - val_RMSE: 0.9419\n",
            "Epoch 64/65\n",
            "147/147 [==============================] - 1s 5ms/step - loss: 1.0434 - RMSE: 0.9205 - val_loss: 1.0618 - val_RMSE: 0.9420\n",
            "Epoch 65/65\n",
            "147/147 [==============================] - 1s 5ms/step - loss: 1.0369 - RMSE: 0.9201 - val_loss: 1.0556 - val_RMSE: 0.9419\n"
          ]
        }
      ]
    },
    {
      "cell_type": "code",
      "source": [
        "# 학습과정에서 측정지표의 변화\n",
        "import matplotlib.pyplot as plt\n",
        "plt.plot(result.history['RMSE'], label=\"Train RMSE\")\n",
        "plt.plot(result.history['val_RMSE'], label=\"Test RMSE\")\n",
        "plt.xlabel('epoch')\n",
        "plt.ylabel('RMSE')\n",
        "plt.legend()\n",
        "plt.show()"
      ],
      "metadata": {
        "id": "bPCcp8HlaM_F",
        "outputId": "fcb6682d-9cb4-4c3b-e96d-93c7a4c30acf",
        "colab": {
          "base_uri": "https://localhost:8080/",
          "height": 449
        }
      },
      "execution_count": null,
      "outputs": [
        {
          "output_type": "display_data",
          "data": {
            "text/plain": [
              "<Figure size 640x480 with 1 Axes>"
            ],
            "image/png": "[encoded data removed]"
          },
          "metadata": {}
        }
      ]
    },
    {
      "cell_type": "code",
      "source": [
        "# Prediction (학습을 마친 신경망으로 예측을 수행)\n",
        "user_ids = ratings_test.user_id.values[0:6]\n",
        "movie_ids= ratings_test.movie_id.values[0:6]                # 예측 대상을 테스트셋 처음 6개로 정함\n",
        "predictions = model.predict([user_ids, movie_ids]) + mu     # 예측치를 구한 후 학습시 빼준 전체평균을 다시 더해줌\n",
        "print(\"Actuals: \\n\", ratings_test[0:6])\n",
        "print( )\n",
        "print(\"Predictions: \\n\", predictions)"
      ],
      "metadata": {
        "id": "RDhUeQvJaZYX",
        "outputId": "2df302a4-814f-41ef-fb37-d698c729be67",
        "colab": {
          "base_uri": "https://localhost:8080/"
        }
      },
      "execution_count": null,
      "outputs": [
        {
          "output_type": "stream",
          "name": "stdout",
          "text": [
            "1/1 [==============================] - 0s 107ms/step\n",
            "Actuals: \n",
            "        user_id  movie_id  rating\n",
            "49240      457       658       4\n",
            "73602       21       619       2\n",
            "61378      350       480       5\n",
            "5042       158        42       3\n",
            "56114      416       182       4\n",
            "85865      757       143       3\n",
            "\n",
            "Predictions: \n",
            " [[4.0781555]\n",
            " [2.7162924]\n",
            " [4.7071013]\n",
            " [4.0287037]\n",
            " [4.541567 ]\n",
            " [3.7512894]]\n"
          ]
        }
      ]
    },
    {
      "cell_type": "code",
      "source": [
        "# 신경망에서 예측한 결과의 실제 RMSE 계산\n",
        "def RMSE2(y_true, y_pred):\n",
        "    return np.sqrt( np.mean( ( np.array(y_true) - np.array(y_pred) )**2 ) )\n",
        "\n",
        "user_ids = ratings_test.user_id.values\n",
        "movie_ids = ratings_test.movie_id.values\n",
        "\n",
        "y_pred = model.predict([user_ids, movie_ids]) + mu\n",
        "# Keras의 Model 클래스에서 제공하는 predict() 메소드는 신경망에 입력을 넣어주면 해당 신경망을 적용한 예측값을 계산해준다.\n",
        "y_pred = np.ravel(y_pred, order = 'C')\n",
        "# predict()로 얻은 예측값은 2차원(N X 1)의 array로 되어있으므로 np.ravel을 사용, 1차원 array로 바꿔준다.\n",
        "y_true = np.array(ratings_test.rating)\n",
        "# 실제 평점값을 가져온다.\n",
        "RMSE2(y_true, y_pred)"
      ],
      "metadata": {
        "id": "SVRgFkP1aZg4",
        "outputId": "66b06cc0-753f-49a1-ad99-a4c923348bb1",
        "colab": {
          "base_uri": "https://localhost:8080/"
        }
      },
      "execution_count": null,
      "outputs": [
        {
          "output_type": "stream",
          "name": "stdout",
          "text": [
            "782/782 [==============================] - 1s 2ms/step\n"
          ]
        },
        {
          "output_type": "execute_result",
          "data": {
            "text/plain": [
              "0.9424049757119632"
            ]
          },
          "metadata": {},
          "execution_count": 10
        }
      ]
    }
  ]
}
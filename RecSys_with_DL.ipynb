{
  "nbformat": 4,
  "nbformat_minor": 0,
  "metadata": {
    "colab": {
      "provenance": [],
      "authorship_tag": "ABX9TyOI4zXevoGzKoJaDwm5eza3",
      "include_colab_link": true
    },
    "kernelspec": {
      "name": "python3",
      "display_name": "Python 3"
    },
    "language_info": {
      "name": "python"
    }
  },
  "cells": [
    {
      "cell_type": "markdown",
      "metadata": {
        "id": "view-in-github",
        "colab_type": "text"
      },
      "source": [
        "<a href=\"https://colab.research.google.com/github/CP2J/cp2j/blob/ACJ-11-opt1-RecSys_by_DL/RecSys_with_DL.ipynb\" target=\"_parent\"><img src=\"https://colab.research.google.com/assets/colab-badge.svg\" alt=\"Open In Colab\"/></a>"
      ]
    },
    {
      "cell_type": "markdown",
      "source": [
        "# 딥러닝을 사용한 추천 시스템\n",
        "* User, Item을 embedding해서 입력으로 넣으면 사용자와 아이템 간의 특성을 학습해서 추천(예측)에 이용할 수 있다.\n",
        "\n",
        "\n",
        "  * < Reference : Python을 이용한 개인화 추천 시스템 2판 >"
      ],
      "metadata": {
        "id": "3h8EeAi-nH4T"
      }
    },
    {
      "cell_type": "code",
      "execution_count": 1,
      "metadata": {
        "colab": {
          "base_uri": "https://localhost:8080/"
        },
        "id": "OgnNJM71azUC",
        "outputId": "d4ed5728-832d-4482-9ebb-845fa9acd0e0"
      },
      "outputs": [
        {
          "output_type": "stream",
          "name": "stdout",
          "text": [
            "Mounted at /content/drive\n"
          ]
        }
      ],
      "source": [
        "from google.colab import drive\n",
        "drive.mount('/content/drive')"
      ]
    },
    {
      "cell_type": "code",
      "source": [
        "import pandas as pd\n",
        "import numpy as np\n",
        "\n",
        "# csv 파일에서 불러오기\n",
        "r_cols = ['user_id', 'movie_id', 'rating', 'timestamp']\n",
        "ratings = pd.read_csv('/content/drive/MyDrive/ml-100k/u.data', names=r_cols,  sep='\\t',encoding='latin-1')\n",
        "ratings = ratings[['user_id', 'movie_id', 'rating']].astype(int)            # timestamp 제거, 정수형 변환"
      ],
      "metadata": {
        "id": "dq_3y8nqqMmY"
      },
      "execution_count": null,
      "outputs": []
    },
    {
      "cell_type": "code",
      "source": [
        "# Train-test 분리 (이렇게 나누는 방법도 있군)\n",
        "from sklearn.utils import shuffle\n",
        "TRAIN_SIZE = 0.75                         # 0.75 : 0.25\n",
        "ratings = shuffle(ratings)                # row를 섞는다.\n",
        "cutoff = int(TRAIN_SIZE * len(ratings))   # 끊는 지점\n",
        "ratings_train = ratings.iloc[:cutoff]\n",
        "ratings_test = ratings.iloc[cutoff:]"
      ],
      "metadata": {
        "id": "nv2Wlq20rBxg"
      },
      "execution_count": null,
      "outputs": []
    },
    {
      "cell_type": "code",
      "source": [
        "##### (1)\n",
        "import tensorflow as tf\n",
        "from tensorflow.keras import layers\n",
        "from tensorflow.keras.models import Model\n",
        "from tensorflow.keras.layers import Input, Embedding, Dot, Add, Flatten\n",
        "from tensorflow.keras.regularizers import l2\n",
        "from tensorflow.keras.optimizers import SGD, Adamax"
      ],
      "metadata": {
        "id": "d42VgGsErDcs"
      },
      "execution_count": null,
      "outputs": []
    },
    {
      "cell_type": "code",
      "source": [
        "# Variable 초기화\n",
        "K = 200                               # Latent factor(잠재요인) 수\n",
        "mu = ratings_train.rating.mean()      # 전체 평균\n",
        "M = ratings.user_id.max() +1          # Number of users, 사용자 아이디 최대값 : 추후 Embedding에 사용\n",
        "N = ratings.movie_id.max() +1         # Number of movies\n",
        "\n",
        "# RMSE 정의\n",
        "def RMSE(y_true, y_pred):\n",
        "    return tf.sqrt(tf.reduce_mean(tf.square(y_true - y_pred)))"
      ],
      "metadata": {
        "id": "szQzPyEqrJfU"
      },
      "execution_count": null,
      "outputs": []
    },
    {
      "cell_type": "markdown",
      "source": [
        "<img src=\"https://drive.google.com/uc?id=1sdPLEYtb9eJ50DwhAS-yDjlYRW7eHraf\" alt=\"딥러닝 신경망 모델\" height=\"300\" width=\"400\">"
      ],
      "metadata": {
        "id": "AvEEZ3yArW6M"
      }
    },
    {
      "cell_type": "code",
      "source": [
        "##### (2)\n",
        "# Keras model\n",
        "user = Input(shape=(1, ))                                             # 사용자 데이터 입력 형식 지정\n",
        "item = Input(shape=(1, ))\n",
        "P_embedding = Embedding(M, K, embeddings_regularizer=l2())(user)      # 사용자 Embedding layer 지정 (M, 1, K) : (M X K)의 연결을 가진다.\n",
        "Q_embedding = Embedding(N, K, embeddings_regularizer=l2())(item)      # 아이템 Embedding layer 지정 (N, 1, K) : (N X K)의 연결을 가진다.\n",
        "user_bias = Embedding(M, 1, embeddings_regularizer=l2())(user)        # User bias term (M, 1, ) : (M X 1)의 연결\n",
        "item_bias = Embedding(N, 1, embeddings_regularizer=l2())(item)        # Item bias term (N, 1, ) : (N X 1)의 연결\n",
        "\n",
        "# Concatenate layers\n",
        "from tensorflow.keras.layers import Dense, Concatenate, Activation    # 나중에 layer 구성에서 사용할 메소드 로드\n",
        "P_embedding = Flatten()(P_embedding)\n",
        "Q_embedding = Flatten()(Q_embedding)\n",
        "user_bias = Flatten()(user_bias)\n",
        "item_bias = Flatten()(item_bias)\n",
        "# Concatenate() 위해서 1차원으로 줄인다.\n",
        "R = Concatenate()([P_embedding, Q_embedding, user_bias, item_bias])\n",
        "# P, Q, 사용자 bias, 아이템 bias를 붙여서 하나의 layer를 만든다.\n",
        "\n",
        "# Neural network\n",
        "R = Dense(2048)(R)\n",
        "R = Activation('relu')(R)\n",
        "R = Dense(256)(R)\n",
        "R = A"
      ],
      "metadata": {
        "id": "8n5XiCMGrS5n"
      },
      "execution_count": null,
      "outputs": []
    }
  ]
}
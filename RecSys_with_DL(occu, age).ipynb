{
  "nbformat": 4,
  "nbformat_minor": 0,
  "metadata": {
    "colab": {
      "provenance": [],
      "authorship_tag": "ABX9TyOPOW3YH9kg/iSim4FRS7SX",
      "include_colab_link": true
    },
    "kernelspec": {
      "name": "python3",
      "display_name": "Python 3"
    },
    "language_info": {
      "name": "python"
    },
    "accelerator": "GPU",
    "gpuClass": "standard"
  },
  "cells": [
    {
      "cell_type": "markdown",
      "metadata": {
        "id": "view-in-github",
        "colab_type": "text"
      },
      "source": [
        "<a href=\"https://colab.research.google.com/github/CP2J/cp2j/blob/ACJ-11-opt1-RecSys_by_DL/RecSys_with_DL(occu%2C%20age).ipynb\" target=\"_parent\"><img src=\"https://colab.research.google.com/assets/colab-badge.svg\" alt=\"Open In Colab\"/></a>"
      ]
    },
    {
      "cell_type": "markdown",
      "source": [
        "# 딥러닝을 사용한 추천 시스템 - 변수추가\n",
        "* User, Item을 embedding해서 입력으로 넣으면 사용자와 아이템 간의 특성을 학습해서 추천(예측)에 이용할 수 있다.\n",
        "* 딥러닝 신경망은 필요하면 다양한 변수(사용자와 아이템의 features)를 추가할 수 있다.\n",
        "* 사용자의 직업에 따라 영화를 평가하는 패턴이 다르다는 가정을 한다면, 직업을 모델에서 고려하는 경우 예측이 더 정확해질 것이다.\n",
        "\n",
        "    < Reference : Python을 이용한 개인화 추천 시스템 2판 >"
      ],
      "metadata": {
        "id": "3h8EeAi-nH4T"
      }
    },
    {
      "cell_type": "code",
      "execution_count": null,
      "metadata": {
        "colab": {
          "base_uri": "https://localhost:8080/"
        },
        "id": "OgnNJM71azUC",
        "outputId": "7e30ef70-f532-47e1-bddc-614e78182011"
      },
      "outputs": [
        {
          "output_type": "stream",
          "name": "stdout",
          "text": [
            "Drive already mounted at /content/drive; to attempt to forcibly remount, call drive.mount(\"/content/drive\", force_remount=True).\n"
          ]
        }
      ],
      "source": [
        "from google.colab import drive\n",
        "drive.mount('/content/drive')"
      ]
    },
    {
      "cell_type": "code",
      "source": [
        "import pandas as pd\n",
        "import numpy as np\n",
        "\n",
        "# csv 파일에서 불러오기\n",
        "r_cols = ['user_id', 'movie_id', 'rating', 'timestamp']\n",
        "ratings = pd.read_csv('/content/drive/MyDrive/ml-100k/u.data', names=r_cols,  sep='\\t',encoding='latin-1')\n",
        "ratings = ratings[['user_id', 'movie_id', 'rating']].astype(int)            # timestamp 제거, 정수형 변환"
      ],
      "metadata": {
        "id": "dq_3y8nqqMmY"
      },
      "execution_count": null,
      "outputs": []
    },
    {
      "cell_type": "code",
      "source": [
        "# Train-test 분리 (이렇게 나누는 방법도 있군)\n",
        "from sklearn.utils import shuffle\n",
        "TRAIN_SIZE = 0.75                         # 0.75 : 0.25\n",
        "ratings = shuffle(ratings)                # row를 섞는다.\n",
        "cutoff = int(TRAIN_SIZE * len(ratings))   # 끊는 지점\n",
        "ratings_train = ratings.iloc[:cutoff]\n",
        "ratings_test = ratings.iloc[cutoff:]"
      ],
      "metadata": {
        "id": "nv2Wlq20rBxg"
      },
      "execution_count": null,
      "outputs": []
    },
    {
      "cell_type": "code",
      "source": [
        "# 수정된 부분 1 >>>>>>>>>>\n",
        "# 사용자 데이터를 읽어와 id와 나이, 직업만 남긴다.\n",
        "u_cols = ['user_id', 'age', 'sex', 'occupation', 'zip_code']\n",
        "users = pd.read_csv('/content/drive/MyDrive/ml-100k/u.user', sep='|', names=u_cols, encoding='latin-1')\n",
        "users = users[['user_id', 'age', 'occupation']]"
      ],
      "metadata": {
        "id": "LEztGDwh2EvI"
      },
      "execution_count": null,
      "outputs": []
    },
    {
      "cell_type": "code",
      "source": [
        "users.info()"
      ],
      "metadata": {
        "id": "-m8zWgFIJUlS",
        "outputId": "442dc4f1-226e-498e-99df-298e2a6026a7",
        "colab": {
          "base_uri": "https://localhost:8080/"
        }
      },
      "execution_count": null,
      "outputs": [
        {
          "output_type": "stream",
          "name": "stdout",
          "text": [
            "<class 'pandas.core.frame.DataFrame'>\n",
            "RangeIndex: 943 entries, 0 to 942\n",
            "Data columns (total 3 columns):\n",
            " #   Column      Non-Null Count  Dtype \n",
            "---  ------      --------------  ----- \n",
            " 0   user_id     943 non-null    int64 \n",
            " 1   age         943 non-null    int64 \n",
            " 2   occupation  943 non-null    object\n",
            "dtypes: int64(2), object(1)\n",
            "memory usage: 22.2+ KB\n"
          ]
        }
      ]
    },
    {
      "cell_type": "code",
      "source": [
        "# Convert occupation(string to integer)\n",
        "occupation = {}\n",
        "# occupation을 string -> int 형식으로 mapping 할 dict 선언\n",
        "def convert_occ(x):\n",
        "# occupation(string)이 입력되면 -> int를 mapping 해서 저장\n",
        "    if x in occupation:\n",
        "        return occupation[x]\n",
        "    # 만일 현재 occupation에 대응하는 int값이 dict 에 존재하면, 해당 값을 반환\n",
        "    else:\n",
        "    # 만일 현재 occupation에 대응하는 int값이 dict 에 존재하지 않으면,\n",
        "        occupation[x] = len(occupation)\n",
        "        # 새로운 element를 새로운 int와 같이 dict 에 추가한다.\n",
        "        return occupation[x]\n",
        "        # 새로운 int 값을 반환한다.\n",
        "users['occupation'] = users['occupation'].apply(convert_occ)\n",
        "# 사용자 데이터의 'occupation' 컬럼을 int로 변환\n",
        "\n",
        "L = len(occupation)\n",
        "# occupation의 unique 값 개수를 저장(추후 embedding에 사용)\n",
        "A = users['age'].nunique()\n",
        "# age의 unique 값 개수를 저장\n",
        "\n",
        "train_users = pd.merge(ratings_train, users, on = 'user_id')\n",
        "# train set과 사용자 데이터를 merge. 딥러닝의 입력으로 사용자의 모든 user_id에 대해 age와 occupation 필요하다. \n",
        "test_users = pd.merge(ratings_test, users, on = 'user_id')\n",
        "# test도 merge\n",
        "#<<<<<<<<< 수정된 부분 1"
      ],
      "metadata": {
        "id": "o2QKk9lW2h9Q"
      },
      "execution_count": null,
      "outputs": []
    },
    {
      "cell_type": "code",
      "source": [
        "train_users"
      ],
      "metadata": {
        "id": "ygr6Q75oQILt",
        "outputId": "9c5dc514-1f37-4ac8-c266-8df94a247ba8",
        "colab": {
          "base_uri": "https://localhost:8080/",
          "height": 423
        }
      },
      "execution_count": null,
      "outputs": [
        {
          "output_type": "execute_result",
          "data": {
            "text/plain": [
              "       user_id  movie_id  rating  age  occupation\n",
              "0          807        79       5   41          17\n",
              "1          807       511       5   41          17\n",
              "2          807       210       4   41          17\n",
              "3          807       843       2   41          17\n",
              "4          807       151       4   41          17\n",
              "...        ...       ...     ...  ...         ...\n",
              "74995       88      1191       5   49          11\n",
              "74996       88       311       5   49          11\n",
              "74997       88       315       4   49          11\n",
              "74998       88       319       3   49          11\n",
              "74999       88       301       4   49          11\n",
              "\n",
              "[75000 rows x 5 columns]"
            ],
            "text/html": [
              "\n",
              "  <div id=\"df-d1459329-7830-4b7f-9d86-7efa6edba4b2\">\n",
              "    <div class=\"colab-df-container\">\n",
              "      <div>\n",
              "<style scoped>\n",
              "    .dataframe tbody tr th:only-of-type {\n",
              "        vertical-align: middle;\n",
              "    }\n",
              "\n",
              "    .dataframe tbody tr th {\n",
              "        vertical-align: top;\n",
              "    }\n",
              "\n",
              "    .dataframe thead th {\n",
              "        text-align: right;\n",
              "    }\n",
              "</style>\n",
              "<table border=\"1\" class=\"dataframe\">\n",
              "  <thead>\n",
              "    <tr style=\"text-align: right;\">\n",
              "      <th></th>\n",
              "      <th>user_id</th>\n",
              "      <th>movie_id</th>\n",
              "      <th>rating</th>\n",
              "      <th>age</th>\n",
              "      <th>occupation</th>\n",
              "    </tr>\n",
              "  </thead>\n",
              "  <tbody>\n",
              "    <tr>\n",
              "      <th>0</th>\n",
              "      <td>807</td>\n",
              "      <td>79</td>\n",
              "      <td>5</td>\n",
              "      <td>41</td>\n",
              "      <td>17</td>\n",
              "    </tr>\n",
              "    <tr>\n",
              "      <th>1</th>\n",
              "      <td>807</td>\n",
              "      <td>511</td>\n",
              "      <td>5</td>\n",
              "      <td>41</td>\n",
              "      <td>17</td>\n",
              "    </tr>\n",
              "    <tr>\n",
              "      <th>2</th>\n",
              "      <td>807</td>\n",
              "      <td>210</td>\n",
              "      <td>4</td>\n",
              "      <td>41</td>\n",
              "      <td>17</td>\n",
              "    </tr>\n",
              "    <tr>\n",
              "      <th>3</th>\n",
              "      <td>807</td>\n",
              "      <td>843</td>\n",
              "      <td>2</td>\n",
              "      <td>41</td>\n",
              "      <td>17</td>\n",
              "    </tr>\n",
              "    <tr>\n",
              "      <th>4</th>\n",
              "      <td>807</td>\n",
              "      <td>151</td>\n",
              "      <td>4</td>\n",
              "      <td>41</td>\n",
              "      <td>17</td>\n",
              "    </tr>\n",
              "    <tr>\n",
              "      <th>...</th>\n",
              "      <td>...</td>\n",
              "      <td>...</td>\n",
              "      <td>...</td>\n",
              "      <td>...</td>\n",
              "      <td>...</td>\n",
              "    </tr>\n",
              "    <tr>\n",
              "      <th>74995</th>\n",
              "      <td>88</td>\n",
              "      <td>1191</td>\n",
              "      <td>5</td>\n",
              "      <td>49</td>\n",
              "      <td>11</td>\n",
              "    </tr>\n",
              "    <tr>\n",
              "      <th>74996</th>\n",
              "      <td>88</td>\n",
              "      <td>311</td>\n",
              "      <td>5</td>\n",
              "      <td>49</td>\n",
              "      <td>11</td>\n",
              "    </tr>\n",
              "    <tr>\n",
              "      <th>74997</th>\n",
              "      <td>88</td>\n",
              "      <td>315</td>\n",
              "      <td>4</td>\n",
              "      <td>49</td>\n",
              "      <td>11</td>\n",
              "    </tr>\n",
              "    <tr>\n",
              "      <th>74998</th>\n",
              "      <td>88</td>\n",
              "      <td>319</td>\n",
              "      <td>3</td>\n",
              "      <td>49</td>\n",
              "      <td>11</td>\n",
              "    </tr>\n",
              "    <tr>\n",
              "      <th>74999</th>\n",
              "      <td>88</td>\n",
              "      <td>301</td>\n",
              "      <td>4</td>\n",
              "      <td>49</td>\n",
              "      <td>11</td>\n",
              "    </tr>\n",
              "  </tbody>\n",
              "</table>\n",
              "<p>75000 rows × 5 columns</p>\n",
              "</div>\n",
              "      <button class=\"colab-df-convert\" onclick=\"convertToInteractive('df-d1459329-7830-4b7f-9d86-7efa6edba4b2')\"\n",
              "              title=\"Convert this dataframe to an interactive table.\"\n",
              "              style=\"display:none;\">\n",
              "        \n",
              "  <svg xmlns=\"http://www.w3.org/2000/svg\" height=\"24px\"viewBox=\"0 0 24 24\"\n",
              "       width=\"24px\">\n",
              "    <path d=\"M0 0h24v24H0V0z\" fill=\"none\"/>\n",
              "    <path d=\"M18.56 5.44l.94 2.06.94-2.06 2.06-.94-2.06-.94-.94-2.06-.94 2.06-2.06.94zm-11 1L8.5 8.5l.94-2.06 2.06-.94-2.06-.94L8.5 2.5l-.94 2.06-2.06.94zm10 10l.94 2.06.94-2.06 2.06-.94-2.06-.94-.94-2.06-.94 2.06-2.06.94z\"/><path d=\"M17.41 7.96l-1.37-1.37c-.4-.4-.92-.59-1.43-.59-.52 0-1.04.2-1.43.59L10.3 9.45l-7.72 7.72c-.78.78-.78 2.05 0 2.83L4 21.41c.39.39.9.59 1.41.59.51 0 1.02-.2 1.41-.59l7.78-7.78 2.81-2.81c.8-.78.8-2.07 0-2.86zM5.41 20L4 18.59l7.72-7.72 1.47 1.35L5.41 20z\"/>\n",
              "  </svg>\n",
              "      </button>\n",
              "      \n",
              "  <style>\n",
              "    .colab-df-container {\n",
              "      display:flex;\n",
              "      flex-wrap:wrap;\n",
              "      gap: 12px;\n",
              "    }\n",
              "\n",
              "    .colab-df-convert {\n",
              "      background-color: #E8F0FE;\n",
              "      border: none;\n",
              "      border-radius: 50%;\n",
              "      cursor: pointer;\n",
              "      display: none;\n",
              "      fill: #1967D2;\n",
              "      height: 32px;\n",
              "      padding: 0 0 0 0;\n",
              "      width: 32px;\n",
              "    }\n",
              "\n",
              "    .colab-df-convert:hover {\n",
              "      background-color: #E2EBFA;\n",
              "      box-shadow: 0px 1px 2px rgba(60, 64, 67, 0.3), 0px 1px 3px 1px rgba(60, 64, 67, 0.15);\n",
              "      fill: #174EA6;\n",
              "    }\n",
              "\n",
              "    [theme=dark] .colab-df-convert {\n",
              "      background-color: #3B4455;\n",
              "      fill: #D2E3FC;\n",
              "    }\n",
              "\n",
              "    [theme=dark] .colab-df-convert:hover {\n",
              "      background-color: #434B5C;\n",
              "      box-shadow: 0px 1px 3px 1px rgba(0, 0, 0, 0.15);\n",
              "      filter: drop-shadow(0px 1px 2px rgba(0, 0, 0, 0.3));\n",
              "      fill: #FFFFFF;\n",
              "    }\n",
              "  </style>\n",
              "\n",
              "      <script>\n",
              "        const buttonEl =\n",
              "          document.querySelector('#df-d1459329-7830-4b7f-9d86-7efa6edba4b2 button.colab-df-convert');\n",
              "        buttonEl.style.display =\n",
              "          google.colab.kernel.accessAllowed ? 'block' : 'none';\n",
              "\n",
              "        async function convertToInteractive(key) {\n",
              "          const element = document.querySelector('#df-d1459329-7830-4b7f-9d86-7efa6edba4b2');\n",
              "          const dataTable =\n",
              "            await google.colab.kernel.invokeFunction('convertToInteractive',\n",
              "                                                     [key], {});\n",
              "          if (!dataTable) return;\n",
              "\n",
              "          const docLinkHtml = 'Like what you see? Visit the ' +\n",
              "            '<a target=\"_blank\" href=https://colab.research.google.com/notebooks/data_table.ipynb>data table notebook</a>'\n",
              "            + ' to learn more about interactive tables.';\n",
              "          element.innerHTML = '';\n",
              "          dataTable['output_type'] = 'display_data';\n",
              "          await google.colab.output.renderOutput(dataTable, element);\n",
              "          const docLink = document.createElement('div');\n",
              "          docLink.innerHTML = docLinkHtml;\n",
              "          element.appendChild(docLink);\n",
              "        }\n",
              "      </script>\n",
              "    </div>\n",
              "  </div>\n",
              "  "
            ]
          },
          "metadata": {},
          "execution_count": 52
        }
      ]
    },
    {
      "cell_type": "code",
      "source": [
        "occupation           # 20개의 직업을 int에 대응시킨 dict"
      ],
      "metadata": {
        "colab": {
          "base_uri": "https://localhost:8080/"
        },
        "id": "dOSdSdC2969I",
        "outputId": "124b83d3-57bc-4e13-deae-0faad53a9651"
      },
      "execution_count": null,
      "outputs": [
        {
          "output_type": "execute_result",
          "data": {
            "text/plain": [
              "{'technician': 0,\n",
              " 'other': 1,\n",
              " 'writer': 2,\n",
              " 'executive': 3,\n",
              " 'administrator': 4,\n",
              " 'student': 5,\n",
              " 'lawyer': 6,\n",
              " 'educator': 7,\n",
              " 'scientist': 8,\n",
              " 'entertainment': 9,\n",
              " 'programmer': 10,\n",
              " 'librarian': 11,\n",
              " 'homemaker': 12,\n",
              " 'artist': 13,\n",
              " 'engineer': 14,\n",
              " 'marketing': 15,\n",
              " 'none': 16,\n",
              " 'healthcare': 17,\n",
              " 'retired': 18,\n",
              " 'salesman': 19,\n",
              " 'doctor': 20}"
            ]
          },
          "metadata": {},
          "execution_count": 53
        }
      ]
    },
    {
      "cell_type": "code",
      "source": [
        "users['age'].unique()"
      ],
      "metadata": {
        "id": "tPr6Bs-eOBFd",
        "outputId": "aaf58b0f-b0aa-4efe-cf0c-a7a3ddaeb534",
        "colab": {
          "base_uri": "https://localhost:8080/"
        }
      },
      "execution_count": null,
      "outputs": [
        {
          "output_type": "execute_result",
          "data": {
            "text/plain": [
              "array([24, 53, 23, 33, 42, 57, 36, 29, 39, 28, 47, 45, 49, 21, 30, 35, 40,\n",
              "       26, 25, 32, 41,  7, 38, 20, 19, 27, 18, 22, 37, 16, 50, 31, 51, 17,\n",
              "       48, 34, 43, 60, 55, 15, 61, 44, 54, 59, 46, 13, 52, 56, 14, 66, 62,\n",
              "       11, 65, 68, 63, 64, 10, 73, 58, 69, 70])"
            ]
          },
          "metadata": {},
          "execution_count": 54
        }
      ]
    },
    {
      "cell_type": "code",
      "source": [
        "A"
      ],
      "metadata": {
        "id": "tbPGSqRGN7yk",
        "outputId": "3ceeb6d1-8718-40a2-c39f-cfebe8cf35b8",
        "colab": {
          "base_uri": "https://localhost:8080/"
        }
      },
      "execution_count": null,
      "outputs": [
        {
          "output_type": "execute_result",
          "data": {
            "text/plain": [
              "61"
            ]
          },
          "metadata": {},
          "execution_count": 55
        }
      ]
    },
    {
      "cell_type": "code",
      "source": [
        "##### (1)\n",
        "\n",
        "import tensorflow as tf\n",
        "from tensorflow.keras import layers\n",
        "from tensorflow.keras.models import Model\n",
        "from tensorflow.keras.layers import Input, Embedding, Dot, Add, Flatten\n",
        "from tensorflow.keras.regularizers import l2\n",
        "from tensorflow.keras.optimizers import SGD, Adamax"
      ],
      "metadata": {
        "id": "d42VgGsErDcs"
      },
      "execution_count": null,
      "outputs": []
    },
    {
      "cell_type": "code",
      "source": [
        "ratings.describe()"
      ],
      "metadata": {
        "colab": {
          "base_uri": "https://localhost:8080/",
          "height": 300
        },
        "id": "dfsPe1QKyq3R",
        "outputId": "131fdc58-8b89-464b-c3f0-55321d443cbb"
      },
      "execution_count": null,
      "outputs": [
        {
          "output_type": "execute_result",
          "data": {
            "text/plain": [
              "            user_id       movie_id         rating\n",
              "count  100000.00000  100000.000000  100000.000000\n",
              "mean      462.48475     425.530130       3.529860\n",
              "std       266.61442     330.798356       1.125674\n",
              "min         1.00000       1.000000       1.000000\n",
              "25%       254.00000     175.000000       3.000000\n",
              "50%       447.00000     322.000000       4.000000\n",
              "75%       682.00000     631.000000       4.000000\n",
              "max       943.00000    1682.000000       5.000000"
            ],
            "text/html": [
              "\n",
              "  <div id=\"df-eb51fed7-a50a-449d-9deb-4437332af64b\">\n",
              "    <div class=\"colab-df-container\">\n",
              "      <div>\n",
              "<style scoped>\n",
              "    .dataframe tbody tr th:only-of-type {\n",
              "        vertical-align: middle;\n",
              "    }\n",
              "\n",
              "    .dataframe tbody tr th {\n",
              "        vertical-align: top;\n",
              "    }\n",
              "\n",
              "    .dataframe thead th {\n",
              "        text-align: right;\n",
              "    }\n",
              "</style>\n",
              "<table border=\"1\" class=\"dataframe\">\n",
              "  <thead>\n",
              "    <tr style=\"text-align: right;\">\n",
              "      <th></th>\n",
              "      <th>user_id</th>\n",
              "      <th>movie_id</th>\n",
              "      <th>rating</th>\n",
              "    </tr>\n",
              "  </thead>\n",
              "  <tbody>\n",
              "    <tr>\n",
              "      <th>count</th>\n",
              "      <td>100000.00000</td>\n",
              "      <td>100000.000000</td>\n",
              "      <td>100000.000000</td>\n",
              "    </tr>\n",
              "    <tr>\n",
              "      <th>mean</th>\n",
              "      <td>462.48475</td>\n",
              "      <td>425.530130</td>\n",
              "      <td>3.529860</td>\n",
              "    </tr>\n",
              "    <tr>\n",
              "      <th>std</th>\n",
              "      <td>266.61442</td>\n",
              "      <td>330.798356</td>\n",
              "      <td>1.125674</td>\n",
              "    </tr>\n",
              "    <tr>\n",
              "      <th>min</th>\n",
              "      <td>1.00000</td>\n",
              "      <td>1.000000</td>\n",
              "      <td>1.000000</td>\n",
              "    </tr>\n",
              "    <tr>\n",
              "      <th>25%</th>\n",
              "      <td>254.00000</td>\n",
              "      <td>175.000000</td>\n",
              "      <td>3.000000</td>\n",
              "    </tr>\n",
              "    <tr>\n",
              "      <th>50%</th>\n",
              "      <td>447.00000</td>\n",
              "      <td>322.000000</td>\n",
              "      <td>4.000000</td>\n",
              "    </tr>\n",
              "    <tr>\n",
              "      <th>75%</th>\n",
              "      <td>682.00000</td>\n",
              "      <td>631.000000</td>\n",
              "      <td>4.000000</td>\n",
              "    </tr>\n",
              "    <tr>\n",
              "      <th>max</th>\n",
              "      <td>943.00000</td>\n",
              "      <td>1682.000000</td>\n",
              "      <td>5.000000</td>\n",
              "    </tr>\n",
              "  </tbody>\n",
              "</table>\n",
              "</div>\n",
              "      <button class=\"colab-df-convert\" onclick=\"convertToInteractive('df-eb51fed7-a50a-449d-9deb-4437332af64b')\"\n",
              "              title=\"Convert this dataframe to an interactive table.\"\n",
              "              style=\"display:none;\">\n",
              "        \n",
              "  <svg xmlns=\"http://www.w3.org/2000/svg\" height=\"24px\"viewBox=\"0 0 24 24\"\n",
              "       width=\"24px\">\n",
              "    <path d=\"M0 0h24v24H0V0z\" fill=\"none\"/>\n",
              "    <path d=\"M18.56 5.44l.94 2.06.94-2.06 2.06-.94-2.06-.94-.94-2.06-.94 2.06-2.06.94zm-11 1L8.5 8.5l.94-2.06 2.06-.94-2.06-.94L8.5 2.5l-.94 2.06-2.06.94zm10 10l.94 2.06.94-2.06 2.06-.94-2.06-.94-.94-2.06-.94 2.06-2.06.94z\"/><path d=\"M17.41 7.96l-1.37-1.37c-.4-.4-.92-.59-1.43-.59-.52 0-1.04.2-1.43.59L10.3 9.45l-7.72 7.72c-.78.78-.78 2.05 0 2.83L4 21.41c.39.39.9.59 1.41.59.51 0 1.02-.2 1.41-.59l7.78-7.78 2.81-2.81c.8-.78.8-2.07 0-2.86zM5.41 20L4 18.59l7.72-7.72 1.47 1.35L5.41 20z\"/>\n",
              "  </svg>\n",
              "      </button>\n",
              "      \n",
              "  <style>\n",
              "    .colab-df-container {\n",
              "      display:flex;\n",
              "      flex-wrap:wrap;\n",
              "      gap: 12px;\n",
              "    }\n",
              "\n",
              "    .colab-df-convert {\n",
              "      background-color: #E8F0FE;\n",
              "      border: none;\n",
              "      border-radius: 50%;\n",
              "      cursor: pointer;\n",
              "      display: none;\n",
              "      fill: #1967D2;\n",
              "      height: 32px;\n",
              "      padding: 0 0 0 0;\n",
              "      width: 32px;\n",
              "    }\n",
              "\n",
              "    .colab-df-convert:hover {\n",
              "      background-color: #E2EBFA;\n",
              "      box-shadow: 0px 1px 2px rgba(60, 64, 67, 0.3), 0px 1px 3px 1px rgba(60, 64, 67, 0.15);\n",
              "      fill: #174EA6;\n",
              "    }\n",
              "\n",
              "    [theme=dark] .colab-df-convert {\n",
              "      background-color: #3B4455;\n",
              "      fill: #D2E3FC;\n",
              "    }\n",
              "\n",
              "    [theme=dark] .colab-df-convert:hover {\n",
              "      background-color: #434B5C;\n",
              "      box-shadow: 0px 1px 3px 1px rgba(0, 0, 0, 0.15);\n",
              "      filter: drop-shadow(0px 1px 2px rgba(0, 0, 0, 0.3));\n",
              "      fill: #FFFFFF;\n",
              "    }\n",
              "  </style>\n",
              "\n",
              "      <script>\n",
              "        const buttonEl =\n",
              "          document.querySelector('#df-eb51fed7-a50a-449d-9deb-4437332af64b button.colab-df-convert');\n",
              "        buttonEl.style.display =\n",
              "          google.colab.kernel.accessAllowed ? 'block' : 'none';\n",
              "\n",
              "        async function convertToInteractive(key) {\n",
              "          const element = document.querySelector('#df-eb51fed7-a50a-449d-9deb-4437332af64b');\n",
              "          const dataTable =\n",
              "            await google.colab.kernel.invokeFunction('convertToInteractive',\n",
              "                                                     [key], {});\n",
              "          if (!dataTable) return;\n",
              "\n",
              "          const docLinkHtml = 'Like what you see? Visit the ' +\n",
              "            '<a target=\"_blank\" href=https://colab.research.google.com/notebooks/data_table.ipynb>data table notebook</a>'\n",
              "            + ' to learn more about interactive tables.';\n",
              "          element.innerHTML = '';\n",
              "          dataTable['output_type'] = 'display_data';\n",
              "          await google.colab.output.renderOutput(dataTable, element);\n",
              "          const docLink = document.createElement('div');\n",
              "          docLink.innerHTML = docLinkHtml;\n",
              "          element.appendChild(docLink);\n",
              "        }\n",
              "      </script>\n",
              "    </div>\n",
              "  </div>\n",
              "  "
            ]
          },
          "metadata": {},
          "execution_count": 57
        }
      ]
    },
    {
      "cell_type": "code",
      "source": [
        "# Variable 초기화\n",
        "K = 200                               # Latent factor(잠재요인) 수\n",
        "mu = ratings_train.rating.mean()      # 전체 평균\n",
        "M = ratings.user_id.max() +1          # 사용자 아이디 최대값+1 : Number of users로 간주, 추후 Embedding에 사용\n",
        "# 사용자 아이디는 1부터 943이지만(위 describe 참고)\n",
        "# adding 1 ensures that all user IDs from 0 to the maximum ID are included in the embedding layer.\n",
        "N = ratings.movie_id.max() +1         # Number of movies\n",
        "\n",
        "# RMSE 정의\n",
        "def RMSE(y_true, y_pred):\n",
        "    return tf.sqrt(tf.reduce_mean(tf.square(y_true - y_pred)))"
      ],
      "metadata": {
        "id": "szQzPyEqrJfU"
      },
      "execution_count": null,
      "outputs": []
    },
    {
      "cell_type": "markdown",
      "source": [
        "<img src=\"https://drive.google.com/uc?id=1sdPLEYtb9eJ50DwhAS-yDjlYRW7eHraf\" alt=\"딥러닝 신경망 모델\" height=\"300\" width=\"400\">"
      ],
      "metadata": {
        "id": "AvEEZ3yArW6M"
      }
    },
    {
      "cell_type": "code",
      "source": [
        "##### (2)\n",
        "# Keras model\n",
        "user = Input(shape=(1, ))                                             # 사용자 데이터 입력 형식 지정(id만 받음)\n",
        "item = Input(shape=(1, ))                                             # 아이템 데이터 입력 형식 지정(id만 받음)\n",
        "P_embedding = Embedding(M, K, embeddings_regularizer=l2())(user)      # 사용자 Embedding layer 지정 (M, 1, K) : (M X K)의 연결을 가진다.\n",
        "Q_embedding = Embedding(N, K, embeddings_regularizer=l2())(item)      # 아이템 Embedding layer 지정 (N, 1, K) : (N X K)의 연결을 가진다.\n",
        "user_bias = Embedding(M, 1, embeddings_regularizer=l2())(user)        # User bias term (M, 1, ) : (M X 1)의 연결\n",
        "item_bias = Embedding(N, 1, embeddings_regularizer=l2())(item)        # Item bias term (N, 1, ) : (N X 1)의 연결\n",
        "\n",
        "# Concatenate layers\n",
        "from tensorflow.keras.layers import Dense, Concatenate, Activation    # 나중에 layer 구성에서 사용할 메소드 로드\n",
        "P_embedding = Flatten()(P_embedding)          # (K, )\n",
        "Q_embedding = Flatten()(Q_embedding)          # (K, )\n",
        "user_bias = Flatten()(user_bias)              # (1, )\n",
        "item_bias = Flatten()(item_bias)              # (1, )\n",
        "# Concatenate() 위해서 1차원으로 줄인다.\n",
        "\n",
        "# 수정된 부분 2 >>>>>>>>>>\n",
        "occ = Input(shape=(1, ))                                                          # occupation에 대한 입력을 새로 만든다.\n",
        "occ_embedding = Embedding(L, 3, embeddings_regularizer=l2())(occ)                 # occupation을 3개의 잠재요인으로 embedding한다. (K=3)\n",
        "occ_layer = Flatten()(occ_embedding)                                              # 합치기 위해 차원 줄이기\n",
        "age = Input(shape=(1, ))                                                          # age 에 대한 입력을 새로 만든다.\n",
        "age_layer = Dense(1)(age)                                                         # age 입력은 Dense layer 통과후 Concatenate\n",
        "\n",
        "R = Concatenate()([P_embedding, Q_embedding, user_bias, item_bias, occ_layer, age_layer])    # (2K+2+3+1, )\n",
        "# P, Q, 사용자 bias, 아이템 bias, occupation, age 까지 6개의 layer 붙여서 하나의 layer를 만든다.\n",
        "#<<<<<<<<< 수정된 부분 2\n",
        "\n",
        "# Neural network\n",
        "R = Dense(2048)(R)              # 노드가 2048개인 dense layer 추가\n",
        "R = Activation('relu')(R)       # 이 layer의 activation 함수 : 'relu'\n",
        "R = Dense(256)(R)               # 노드가 256개인 dense layer 하나 더 추가\n",
        "R = Activation('linear')(R)     # 이 layer의 activation 함수 : 'linear'\n",
        "R = Dense(1)(R)                 # 노드가 1개인 dense layer를 하나 더 추가 한다. 이 layer가 출력에 연결된다.\n",
        "\n",
        "# 수정된 부분 3 >>>>>>>>>>\n",
        "# Model setting : 위의 신경망과 입력을 연결해서 모델을 구성한다.\n",
        "model = Model(inputs = [user, item, occ, age], outputs = R)\n",
        "#<<<<<<<<< 수정된 부분 3\n",
        "model.compile(\n",
        "    loss = RMSE,                # loss함수\n",
        "    optimizer = SGD(),\n",
        "    #optimizer = Adamax(),\n",
        "    metrics = [RMSE]            # 측정지표\n",
        ")\n",
        "\n",
        "model.summary()"
      ],
      "metadata": {
        "id": "8n5XiCMGrS5n",
        "outputId": "2b3a5f89-89ed-4969-dcab-cface95582c5",
        "colab": {
          "base_uri": "https://localhost:8080/"
        }
      },
      "execution_count": null,
      "outputs": [
        {
          "output_type": "stream",
          "name": "stdout",
          "text": [
            "Model: \"model_2\"\n",
            "__________________________________________________________________________________________________\n",
            " Layer (type)                   Output Shape         Param #     Connected to                     \n",
            "==================================================================================================\n",
            " input_9 (InputLayer)           [(None, 1)]          0           []                               \n",
            "                                                                                                  \n",
            " input_10 (InputLayer)          [(None, 1)]          0           []                               \n",
            "                                                                                                  \n",
            " input_11 (InputLayer)          [(None, 1)]          0           []                               \n",
            "                                                                                                  \n",
            " embedding_10 (Embedding)       (None, 1, 200)       188800      ['input_9[0][0]']                \n",
            "                                                                                                  \n",
            " embedding_11 (Embedding)       (None, 1, 200)       336600      ['input_10[0][0]']               \n",
            "                                                                                                  \n",
            " embedding_12 (Embedding)       (None, 1, 1)         944         ['input_9[0][0]']                \n",
            "                                                                                                  \n",
            " embedding_13 (Embedding)       (None, 1, 1)         1683        ['input_10[0][0]']               \n",
            "                                                                                                  \n",
            " embedding_14 (Embedding)       (None, 1, 3)         63          ['input_11[0][0]']               \n",
            "                                                                                                  \n",
            " input_12 (InputLayer)          [(None, 1)]          0           []                               \n",
            "                                                                                                  \n",
            " flatten_10 (Flatten)           (None, 200)          0           ['embedding_10[0][0]']           \n",
            "                                                                                                  \n",
            " flatten_11 (Flatten)           (None, 200)          0           ['embedding_11[0][0]']           \n",
            "                                                                                                  \n",
            " flatten_12 (Flatten)           (None, 1)            0           ['embedding_12[0][0]']           \n",
            "                                                                                                  \n",
            " flatten_13 (Flatten)           (None, 1)            0           ['embedding_13[0][0]']           \n",
            "                                                                                                  \n",
            " flatten_14 (Flatten)           (None, 3)            0           ['embedding_14[0][0]']           \n",
            "                                                                                                  \n",
            " dense_6 (Dense)                (None, 1)            2           ['input_12[0][0]']               \n",
            "                                                                                                  \n",
            " concatenate_2 (Concatenate)    (None, 406)          0           ['flatten_10[0][0]',             \n",
            "                                                                  'flatten_11[0][0]',             \n",
            "                                                                  'flatten_12[0][0]',             \n",
            "                                                                  'flatten_13[0][0]',             \n",
            "                                                                  'flatten_14[0][0]',             \n",
            "                                                                  'dense_6[0][0]']                \n",
            "                                                                                                  \n",
            " dense_7 (Dense)                (None, 2048)         833536      ['concatenate_2[0][0]']          \n",
            "                                                                                                  \n",
            " activation_4 (Activation)      (None, 2048)         0           ['dense_7[0][0]']                \n",
            "                                                                                                  \n",
            " dense_8 (Dense)                (None, 256)          524544      ['activation_4[0][0]']           \n",
            "                                                                                                  \n",
            " activation_5 (Activation)      (None, 256)          0           ['dense_8[0][0]']                \n",
            "                                                                                                  \n",
            " dense_9 (Dense)                (None, 1)            257         ['activation_5[0][0]']           \n",
            "                                                                                                  \n",
            "==================================================================================================\n",
            "Total params: 1,886,429\n",
            "Trainable params: 1,886,429\n",
            "Non-trainable params: 0\n",
            "__________________________________________________________________________________________________\n"
          ]
        }
      ]
    },
    {
      "cell_type": "markdown",
      "source": [
        "* input layer 2개가 각각 embedding layer에 연결된다.\n",
        "* 사용자 수를 944(943+1)로 잡았기 때문에 200개의 잠재요인 layer(embedding)에 연결되는 파라미터의 수는 188,800(944 x 200)이 되고,\n",
        "* 아이템의 수는 1683(1682+1)개 이므로 200개의 잠재요인 layer(embedding_1)에 연결되는 파라미터의 수는 336,600(1683 x 200)이 된다.\n",
        "* 사용자 bias layer(embedding_2)는 944개, 아이템 bias layer(embedding_3)는 1683개의 파라미터를 갖는다.\n",
        "\n",
        "\n",
        "* input_3 : Occupation\n",
        "Occupation은 20개이고, 3개의 잠재요인 layer(embedding_4)에 연결되는 파라미터의 수는 63(20*3 + 3)개이다.\n",
        "\n",
        "\n",
        "* input_4 : Age\n",
        "* 이 6개의 embedding layer는 합쳐져서 하나의 layer(Concatenate)가 되고, 이 layer의 노드 수는 406개\n",
        "(사용자 임베딩 200 + 아이템 임베딩 200 + 사용자 bias 1 + 아이템 bias 1 + 직업 임베딩 3 + Age 1)\n",
        "* 다음으로 2048개의 노드를 갖는 Dense layer(dense)에 연결 : 이때 연결 파라미터 수는 833536((406+1) x 2048)개가 된다.\n",
        "* 다음으로 256개의 노드를 갖는 Dense layer(dense_1)에 연결 : 이때 연결 파라미터 수는 524544((2048+1) x 256)개가 된다.\n",
        "* 위 layer는 노드가 1개인 최종 layer(dense_2)에 연결되고 파라미터의 수는 257개가 된다.\n",
        "\n",
        "\n",
        "총 파라미터의 수는 이들을 모두 합한 **1,886,427개**가 된다."
      ],
      "metadata": {
        "id": "ouN-G1kI2Xx0"
      }
    },
    {
      "cell_type": "code",
      "source": [
        "# Model fitting (위에서 구성한 신경망을 학습시킨다)\n",
        "result = model.fit(\n",
        "    x = [ratings_train.user_id.values, ratings_train.movie_id.values, train_users.occupation.values, train_users.age.values],\n",
        "    # 입력(독립변수)은 train set의 사용자, 아이템 id, occupation id\n",
        "    y = ratings_train.rating.values - mu,\n",
        "    # 출력(종속변수)은 평점에서 전체평균을 뺀 것으로 지정\n",
        "    epochs = 65,              # 반복횟수\n",
        "    batch_size = 512,         # 한번에 학습(연산)하는 batch 크기를 지정\n",
        "    validation_data = (\n",
        "      [ratings_test.user_id.values, ratings_test.movie_id.values, test_users.occupation.values, test_users.age.values],  # 검증을 위한 입력\n",
        "      ratings_test.rating.values - mu                               # 검증에 쓰이는 출력\n",
        "    )\n",
        ")"
      ],
      "metadata": {
        "id": "yGHoKn3EIn8Z",
        "outputId": "5c1eed12-b5b5-445c-f5c4-08da0f0830d6",
        "colab": {
          "base_uri": "https://localhost:8080/"
        }
      },
      "execution_count": null,
      "outputs": [
        {
          "output_type": "stream",
          "name": "stdout",
          "text": [
            "Epoch 1/65\n",
            "147/147 [==============================] - 2s 8ms/step - loss: 5.6245 - RMSE: 1.3543 - val_loss: 5.2649 - val_RMSE: 1.1211\n",
            "Epoch 2/65\n",
            "147/147 [==============================] - 1s 5ms/step - loss: 5.1536 - RMSE: 1.1282 - val_loss: 5.0331 - val_RMSE: 1.1260\n",
            "Epoch 3/65\n",
            "147/147 [==============================] - 1s 6ms/step - loss: 4.9229 - RMSE: 1.1274 - val_loss: 4.8059 - val_RMSE: 1.1218\n",
            "Epoch 4/65\n",
            "147/147 [==============================] - 1s 6ms/step - loss: 4.7066 - RMSE: 1.1278 - val_loss: 4.5937 - val_RMSE: 1.1201\n",
            "Epoch 5/65\n",
            "147/147 [==============================] - 1s 6ms/step - loss: 4.5007 - RMSE: 1.1266 - val_loss: 4.3968 - val_RMSE: 1.1215\n",
            "Epoch 6/65\n",
            "147/147 [==============================] - 1s 8ms/step - loss: 4.3076 - RMSE: 1.1258 - val_loss: 4.2076 - val_RMSE: 1.1192\n",
            "Epoch 7/65\n",
            "147/147 [==============================] - 1s 9ms/step - loss: 4.1260 - RMSE: 1.1258 - val_loss: 4.0309 - val_RMSE: 1.1189\n",
            "Epoch 8/65\n",
            "147/147 [==============================] - 1s 7ms/step - loss: 3.9542 - RMSE: 1.1253 - val_loss: 3.8645 - val_RMSE: 1.1188\n",
            "Epoch 9/65\n",
            "147/147 [==============================] - 1s 6ms/step - loss: 3.7923 - RMSE: 1.1249 - val_loss: 3.7092 - val_RMSE: 1.1202\n",
            "Epoch 10/65\n",
            "147/147 [==============================] - 1s 5ms/step - loss: 3.6401 - RMSE: 1.1249 - val_loss: 3.5603 - val_RMSE: 1.1191\n",
            "Epoch 11/65\n",
            "147/147 [==============================] - 1s 6ms/step - loss: 3.4960 - RMSE: 1.1246 - val_loss: 3.4200 - val_RMSE: 1.1181\n",
            "Epoch 12/65\n",
            "147/147 [==============================] - 1s 5ms/step - loss: 3.3603 - RMSE: 1.1241 - val_loss: 3.2896 - val_RMSE: 1.1191\n",
            "Epoch 13/65\n",
            "147/147 [==============================] - 1s 5ms/step - loss: 3.2326 - RMSE: 1.1240 - val_loss: 3.1696 - val_RMSE: 1.1230\n",
            "Epoch 14/65\n",
            "147/147 [==============================] - 1s 6ms/step - loss: 3.1119 - RMSE: 1.1236 - val_loss: 3.0478 - val_RMSE: 1.1179\n",
            "Epoch 15/65\n",
            "147/147 [==============================] - 1s 6ms/step - loss: 2.9980 - RMSE: 1.1233 - val_loss: 2.9369 - val_RMSE: 1.1171\n",
            "Epoch 16/65\n",
            "147/147 [==============================] - 1s 6ms/step - loss: 2.8909 - RMSE: 1.1234 - val_loss: 2.8330 - val_RMSE: 1.1170\n",
            "Epoch 17/65\n",
            "147/147 [==============================] - 1s 7ms/step - loss: 2.7898 - RMSE: 1.1229 - val_loss: 2.7354 - val_RMSE: 1.1173\n",
            "Epoch 18/65\n",
            "147/147 [==============================] - 1s 6ms/step - loss: 2.6945 - RMSE: 1.1225 - val_loss: 2.6431 - val_RMSE: 1.1173\n",
            "Epoch 19/65\n",
            "147/147 [==============================] - 1s 6ms/step - loss: 2.6045 - RMSE: 1.1222 - val_loss: 2.5549 - val_RMSE: 1.1160\n",
            "Epoch 20/65\n",
            "147/147 [==============================] - 1s 7ms/step - loss: 2.5194 - RMSE: 1.1219 - val_loss: 2.4731 - val_RMSE: 1.1163\n",
            "Epoch 21/65\n",
            "147/147 [==============================] - 1s 9ms/step - loss: 2.4394 - RMSE: 1.1213 - val_loss: 2.3952 - val_RMSE: 1.1157\n",
            "Epoch 22/65\n",
            "147/147 [==============================] - 1s 9ms/step - loss: 2.3640 - RMSE: 1.1209 - val_loss: 2.3217 - val_RMSE: 1.1151\n",
            "Epoch 23/65\n",
            "147/147 [==============================] - 1s 6ms/step - loss: 2.2925 - RMSE: 1.1205 - val_loss: 2.2541 - val_RMSE: 1.1163\n",
            "Epoch 24/65\n",
            "147/147 [==============================] - 1s 5ms/step - loss: 2.2253 - RMSE: 1.1199 - val_loss: 2.1872 - val_RMSE: 1.1141\n",
            "Epoch 25/65\n",
            "147/147 [==============================] - 1s 5ms/step - loss: 2.1617 - RMSE: 1.1189 - val_loss: 2.1266 - val_RMSE: 1.1145\n",
            "Epoch 26/65\n",
            "147/147 [==============================] - 1s 5ms/step - loss: 2.1021 - RMSE: 1.1188 - val_loss: 2.0674 - val_RMSE: 1.1130\n",
            "Epoch 27/65\n",
            "147/147 [==============================] - 1s 6ms/step - loss: 2.0453 - RMSE: 1.1180 - val_loss: 2.0126 - val_RMSE: 1.1124\n",
            "Epoch 28/65\n",
            "147/147 [==============================] - 1s 6ms/step - loss: 1.9919 - RMSE: 1.1174 - val_loss: 1.9608 - val_RMSE: 1.1117\n",
            "Epoch 29/65\n",
            "147/147 [==============================] - 1s 6ms/step - loss: 1.9414 - RMSE: 1.1167 - val_loss: 1.9130 - val_RMSE: 1.1121\n",
            "Epoch 30/65\n",
            "147/147 [==============================] - 1s 6ms/step - loss: 1.8938 - RMSE: 1.1158 - val_loss: 1.8660 - val_RMSE: 1.1106\n",
            "Epoch 31/65\n",
            "147/147 [==============================] - 1s 5ms/step - loss: 1.8487 - RMSE: 1.1142 - val_loss: 1.8229 - val_RMSE: 1.1102\n",
            "Epoch 32/65\n",
            "147/147 [==============================] - 1s 5ms/step - loss: 1.8060 - RMSE: 1.1138 - val_loss: 1.7819 - val_RMSE: 1.1096\n",
            "Epoch 33/65\n",
            "147/147 [==============================] - 1s 6ms/step - loss: 1.7656 - RMSE: 1.1124 - val_loss: 1.7426 - val_RMSE: 1.1083\n",
            "Epoch 34/65\n",
            "147/147 [==============================] - 1s 6ms/step - loss: 1.7274 - RMSE: 1.1110 - val_loss: 1.7039 - val_RMSE: 1.1054\n",
            "Epoch 35/65\n",
            "147/147 [==============================] - 1s 7ms/step - loss: 1.6910 - RMSE: 1.1093 - val_loss: 1.6688 - val_RMSE: 1.1040\n",
            "Epoch 36/65\n",
            "147/147 [==============================] - 1s 9ms/step - loss: 1.6566 - RMSE: 1.1079 - val_loss: 1.6351 - val_RMSE: 1.1020\n",
            "Epoch 37/65\n",
            "147/147 [==============================] - 1s 9ms/step - loss: 1.6236 - RMSE: 1.1053 - val_loss: 1.6033 - val_RMSE: 1.1001\n",
            "Epoch 38/65\n",
            "147/147 [==============================] - 1s 6ms/step - loss: 1.5923 - RMSE: 1.1035 - val_loss: 1.5730 - val_RMSE: 1.0978\n",
            "Epoch 39/65\n",
            "147/147 [==============================] - 1s 5ms/step - loss: 1.5623 - RMSE: 1.1007 - val_loss: 1.5440 - val_RMSE: 1.0953\n",
            "Epoch 40/65\n",
            "147/147 [==============================] - 1s 5ms/step - loss: 1.5337 - RMSE: 1.0972 - val_loss: 1.5165 - val_RMSE: 1.0926\n",
            "Epoch 41/65\n",
            "147/147 [==============================] - 1s 5ms/step - loss: 1.5060 - RMSE: 1.0939 - val_loss: 1.4889 - val_RMSE: 1.0885\n",
            "Epoch 42/65\n",
            "147/147 [==============================] - 1s 5ms/step - loss: 1.4794 - RMSE: 1.0902 - val_loss: 1.4631 - val_RMSE: 1.0846\n",
            "Epoch 43/65\n",
            "147/147 [==============================] - 1s 6ms/step - loss: 1.4535 - RMSE: 1.0854 - val_loss: 1.4380 - val_RMSE: 1.0800\n",
            "Epoch 44/65\n",
            "147/147 [==============================] - 1s 5ms/step - loss: 1.4284 - RMSE: 1.0802 - val_loss: 1.4138 - val_RMSE: 1.0751\n",
            "Epoch 45/65\n",
            "147/147 [==============================] - 1s 6ms/step - loss: 1.4042 - RMSE: 1.0746 - val_loss: 1.3899 - val_RMSE: 1.0693\n",
            "Epoch 46/65\n",
            "147/147 [==============================] - 1s 5ms/step - loss: 1.3800 - RMSE: 1.0680 - val_loss: 1.3678 - val_RMSE: 1.0643\n",
            "Epoch 47/65\n",
            "147/147 [==============================] - 1s 5ms/step - loss: 1.3563 - RMSE: 1.0608 - val_loss: 1.3442 - val_RMSE: 1.0565\n",
            "Epoch 48/65\n",
            "147/147 [==============================] - 1s 5ms/step - loss: 1.3332 - RMSE: 1.0530 - val_loss: 1.3227 - val_RMSE: 1.0498\n",
            "Epoch 49/65\n",
            "147/147 [==============================] - 1s 5ms/step - loss: 1.3105 - RMSE: 1.0445 - val_loss: 1.3006 - val_RMSE: 1.0416\n",
            "Epoch 50/65\n",
            "147/147 [==============================] - 1s 6ms/step - loss: 1.2886 - RMSE: 1.0362 - val_loss: 1.2801 - val_RMSE: 1.0341\n",
            "Epoch 51/65\n",
            "147/147 [==============================] - 1s 9ms/step - loss: 1.2670 - RMSE: 1.0272 - val_loss: 1.2595 - val_RMSE: 1.0258\n",
            "Epoch 52/65\n",
            "147/147 [==============================] - 1s 9ms/step - loss: 1.2463 - RMSE: 1.0183 - val_loss: 1.2396 - val_RMSE: 1.0174\n",
            "Epoch 53/65\n",
            "147/147 [==============================] - 1s 6ms/step - loss: 1.2262 - RMSE: 1.0095 - val_loss: 1.2248 - val_RMSE: 1.0135\n",
            "Epoch 54/65\n",
            "147/147 [==============================] - 1s 6ms/step - loss: 1.2075 - RMSE: 1.0013 - val_loss: 1.2063 - val_RMSE: 1.0052\n",
            "Epoch 55/65\n",
            "147/147 [==============================] - 1s 6ms/step - loss: 1.1896 - RMSE: 0.9935 - val_loss: 1.1872 - val_RMSE: 0.9958\n",
            "Epoch 56/65\n",
            "147/147 [==============================] - 1s 5ms/step - loss: 1.1730 - RMSE: 0.9859 - val_loss: 1.1720 - val_RMSE: 0.9899\n",
            "Epoch 57/65\n",
            "147/147 [==============================] - 1s 6ms/step - loss: 1.1569 - RMSE: 0.9793 - val_loss: 1.1584 - val_RMSE: 0.9850\n",
            "Epoch 58/65\n",
            "147/147 [==============================] - 1s 5ms/step - loss: 1.1425 - RMSE: 0.9732 - val_loss: 1.1466 - val_RMSE: 0.9816\n",
            "Epoch 59/65\n",
            "147/147 [==============================] - 1s 5ms/step - loss: 1.1289 - RMSE: 0.9678 - val_loss: 1.1337 - val_RMSE: 0.9766\n",
            "Epoch 60/65\n",
            "147/147 [==============================] - 1s 6ms/step - loss: 1.1164 - RMSE: 0.9630 - val_loss: 1.1206 - val_RMSE: 0.9710\n",
            "Epoch 61/65\n",
            "147/147 [==============================] - 1s 6ms/step - loss: 1.1047 - RMSE: 0.9587 - val_loss: 1.1097 - val_RMSE: 0.9674\n",
            "Epoch 62/65\n",
            "147/147 [==============================] - 1s 6ms/step - loss: 1.0939 - RMSE: 0.9548 - val_loss: 1.1000 - val_RMSE: 0.9645\n",
            "Epoch 63/65\n",
            "147/147 [==============================] - 1s 5ms/step - loss: 1.0838 - RMSE: 0.9512 - val_loss: 1.0920 - val_RMSE: 0.9629\n",
            "Epoch 64/65\n",
            "147/147 [==============================] - 1s 6ms/step - loss: 1.0743 - RMSE: 0.9480 - val_loss: 1.0838 - val_RMSE: 0.9608\n",
            "Epoch 65/65\n",
            "147/147 [==============================] - 1s 7ms/step - loss: 1.0656 - RMSE: 0.9455 - val_loss: 1.0736 - val_RMSE: 0.9564\n"
          ]
        }
      ]
    },
    {
      "cell_type": "code",
      "source": [
        "# 학습과정에서 측정지표의 변화\n",
        "import matplotlib.pyplot as plt\n",
        "plt.plot(result.history['RMSE'], label=\"Train RMSE\")\n",
        "plt.plot(result.history['val_RMSE'], label=\"Test RMSE\")\n",
        "plt.xlabel('epoch')\n",
        "plt.ylabel('RMSE')\n",
        "plt.legend()\n",
        "plt.show()"
      ],
      "metadata": {
        "id": "bPCcp8HlaM_F",
        "outputId": "addc0a75-dd1f-40a0-9bac-fe23676bd756",
        "colab": {
          "base_uri": "https://localhost:8080/",
          "height": 449
        }
      },
      "execution_count": null,
      "outputs": [
        {
          "output_type": "display_data",
          "data": {
            "text/plain": [
              "<Figure size 640x480 with 1 Axes>"
            ],
            "image/png": "[encoded data removed]"
          },
          "metadata": {}
        }
      ]
    },
    {
      "cell_type": "code",
      "source": [
        "# Prediction (학습을 마친 신경망으로 예측을 수행)\n",
        "user_ids = ratings_test.user_id.values[0:6]\n",
        "movie_ids= ratings_test.movie_id.values[0:6]                          # 예측 대상을 테스트셋 처음 6개로 정함\n",
        "test_occ = test_users.occupation.values[0:6]\n",
        "test_age = test_users.age.values[0:6]\n",
        "predictions = model.predict([user_ids, movie_ids, test_occ, test_age]) + mu     # 예측치를 구한 후 학습시 빼준 전체평균을 다시 더해줌\n",
        "print(\"Actuals: \\n\", ratings_test[0:6])\n",
        "print( )\n",
        "print(\"Predictions: \\n\", predictions)"
      ],
      "metadata": {
        "id": "RDhUeQvJaZYX",
        "outputId": "cdb5eae8-aaf0-4673-eda2-bbed6f9a494c",
        "colab": {
          "base_uri": "https://localhost:8080/"
        }
      },
      "execution_count": null,
      "outputs": [
        {
          "output_type": "stream",
          "name": "stdout",
          "text": [
            "1/1 [==============================] - 0s 100ms/step\n",
            "Actuals: \n",
            "        user_id  movie_id  rating\n",
            "14060        6       521       4\n",
            "20175        1         9       5\n",
            "79399      830       176       3\n",
            "2690       151       429       5\n",
            "88903      838       750       4\n",
            "3312        22       687       1\n",
            "\n",
            "Predictions: \n",
            " [[3.5673556]\n",
            " [3.9187686]\n",
            " [4.06554  ]\n",
            " [4.2006693]\n",
            " [4.072749 ]\n",
            " [2.4339237]]\n"
          ]
        }
      ]
    },
    {
      "cell_type": "code",
      "source": [
        "# 신경망에서 예측한 결과의 실제 RMSE 계산\n",
        "def RMSE2(y_true, y_pred):\n",
        "    return np.sqrt( np.mean( ( np.array(y_true) - np.array(y_pred) )**2 ) )\n",
        "\n",
        "user_ids = ratings_test.user_id.values\n",
        "movie_ids = ratings_test.movie_id.values\n",
        "test_occ = test_users.occupation.values\n",
        "test_age = test_users.age.values\n",
        "\n",
        "y_pred = model.predict([user_ids, movie_ids, test_occ, test_age]) + mu\n",
        "# Keras의 Model 클래스에서 제공하는 predict() 메소드는 신경망에 입력을 넣어주면 해당 신경망을 적용한 예측값을 계산해준다.\n",
        "y_pred = np.ravel(y_pred, order = 'C')\n",
        "# predict()로 얻은 예측값은 2차원(N X 1)의 array로 되어있으므로 np.ravel을 사용, 1차원 array로 바꿔준다.\n",
        "y_true = np.array(ratings_test.rating)\n",
        "# 실제 평점값을 가져온다.\n",
        "RMSE2(y_true, y_pred)"
      ],
      "metadata": {
        "id": "SVRgFkP1aZg4",
        "outputId": "19da41a1-4856-455e-d024-1b7a6563ee36",
        "colab": {
          "base_uri": "https://localhost:8080/"
        }
      },
      "execution_count": null,
      "outputs": [
        {
          "output_type": "stream",
          "name": "stdout",
          "text": [
            "782/782 [==============================] - 2s 2ms/step\n"
          ]
        },
        {
          "output_type": "execute_result",
          "data": {
            "text/plain": [
              "0.9568027986138535"
            ]
          },
          "metadata": {},
          "execution_count": 63
        }
      ]
    }
  ]
}
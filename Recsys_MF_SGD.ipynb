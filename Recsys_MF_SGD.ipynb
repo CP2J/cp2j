{
  "nbformat": 4,
  "nbformat_minor": 0,
  "metadata": {
    "colab": {
      "provenance": []
    },
    "kernelspec": {
      "name": "python3",
      "display_name": "Python 3"
    },
    "language_info": {
      "name": "python"
    }
  },
  "cells": [
    {
      "cell_type": "markdown",
      "source": [
        " # MF-SGD (Matrix Factorization - Stochastic Gradient Descent)\n",
        "\n",
        " SVD에서 쓰인 행렬분해를 이용, 확률적 경사하강 기법으로 오차를 줄이는 방향으로 학습한다.  \n",
        "SVD의 행렬분해에서는 null값이 존재하면 안되기에 평균값, 최빈값 등을 사용했으나 여기서는 랜덤값 지정 후 오차를 줄이는 방향으로 학습.  \n",
        "결국 데이터가 sparse 할 수록 임의값에 의존하던 이전 모델들에 비해 성능이 더 잘 나오게 된다."
      ],
      "metadata": {
        "id": "tRma3N1V3c9O"
      }
    },
    {
      "cell_type": "code",
      "execution_count": 1,
      "metadata": {
        "id": "BJGCsWgzp_Z4"
      },
      "outputs": [],
      "source": [
        "import pandas as pd\n",
        "import numpy as np\n",
        "from google.colab import files\n",
        "from collections import Counter\n",
        "from sklearn.model_selection import train_test_split\n",
        "from scipy import sparse"
      ]
    },
    {
      "cell_type": "code",
      "source": [
        "files.upload();"
      ],
      "metadata": {
        "colab": {
          "base_uri": "https://localhost:8080/",
          "height": 143
        },
        "id": "-z4IzJK8qNb_",
        "outputId": "beb66109-e45b-495f-d2d3-8a073531f5d4"
      },
      "execution_count": 2,
      "outputs": [
        {
          "output_type": "display_data",
          "data": {
            "text/plain": [
              "<IPython.core.display.HTML object>"
            ],
            "text/html": [
              "\n",
              "     <input type=\"file\" id=\"files-58ae862c-f1c8-46a4-aa84-d1fd9fe33f63\" name=\"files[]\" multiple disabled\n",
              "        style=\"border:none\" />\n",
              "     <output id=\"result-58ae862c-f1c8-46a4-aa84-d1fd9fe33f63\">\n",
              "      Upload widget is only available when the cell has been executed in the\n",
              "      current browser session. Please rerun this cell to enable.\n",
              "      </output>\n",
              "      <script>// Copyright 2017 Google LLC\n",
              "//\n",
              "// Licensed under the Apache License, Version 2.0 (the \"License\");\n",
              "// you may not use this file except in compliance with the License.\n",
              "// You may obtain a copy of the License at\n",
              "//\n",
              "//      http://www.apache.org/licenses/LICENSE-2.0\n",
              "//\n",
              "// Unless required by applicable law or agreed to in writing, software\n",
              "// distributed under the License is distributed on an \"AS IS\" BASIS,\n",
              "// WITHOUT WARRANTIES OR CONDITIONS OF ANY KIND, either express or implied.\n",
              "// See the License for the specific language governing permissions and\n",
              "// limitations under the License.\n",
              "\n",
              "/**\n",
              " * @fileoverview Helpers for google.colab Python module.\n",
              " */\n",
              "(function(scope) {\n",
              "function span(text, styleAttributes = {}) {\n",
              "  const element = document.createElement('span');\n",
              "  element.textContent = text;\n",
              "  for (const key of Object.keys(styleAttributes)) {\n",
              "    element.style[key] = styleAttributes[key];\n",
              "  }\n",
              "  return element;\n",
              "}\n",
              "\n",
              "// Max number of bytes which will be uploaded at a time.\n",
              "const MAX_PAYLOAD_SIZE = 100 * 1024;\n",
              "\n",
              "function _uploadFiles(inputId, outputId) {\n",
              "  const steps = uploadFilesStep(inputId, outputId);\n",
              "  const outputElement = document.getElementById(outputId);\n",
              "  // Cache steps on the outputElement to make it available for the next call\n",
              "  // to uploadFilesContinue from Python.\n",
              "  outputElement.steps = steps;\n",
              "\n",
              "  return _uploadFilesContinue(outputId);\n",
              "}\n",
              "\n",
              "// This is roughly an async generator (not supported in the browser yet),\n",
              "// where there are multiple asynchronous steps and the Python side is going\n",
              "// to poll for completion of each step.\n",
              "// This uses a Promise to block the python side on completion of each step,\n",
              "// then passes the result of the previous step as the input to the next step.\n",
              "function _uploadFilesContinue(outputId) {\n",
              "  const outputElement = document.getElementById(outputId);\n",
              "  const steps = outputElement.steps;\n",
              "\n",
              "  const next = steps.next(outputElement.lastPromiseValue);\n",
              "  return Promise.resolve(next.value.promise).then((value) => {\n",
              "    // Cache the last promise value to make it available to the next\n",
              "    // step of the generator.\n",
              "    outputElement.lastPromiseValue = value;\n",
              "    return next.value.response;\n",
              "  });\n",
              "}\n",
              "\n",
              "/**\n",
              " * Generator function which is called between each async step of the upload\n",
              " * process.\n",
              " * @param {string} inputId Element ID of the input file picker element.\n",
              " * @param {string} outputId Element ID of the output display.\n",
              " * @return {!Iterable<!Object>} Iterable of next steps.\n",
              " */\n",
              "function* uploadFilesStep(inputId, outputId) {\n",
              "  const inputElement = document.getElementById(inputId);\n",
              "  inputElement.disabled = false;\n",
              "\n",
              "  const outputElement = document.getElementById(outputId);\n",
              "  outputElement.innerHTML = '';\n",
              "\n",
              "  const pickedPromise = new Promise((resolve) => {\n",
              "    inputElement.addEventListener('change', (e) => {\n",
              "      resolve(e.target.files);\n",
              "    });\n",
              "  });\n",
              "\n",
              "  const cancel = document.createElement('button');\n",
              "  inputElement.parentElement.appendChild(cancel);\n",
              "  cancel.textContent = 'Cancel upload';\n",
              "  const cancelPromise = new Promise((resolve) => {\n",
              "    cancel.onclick = () => {\n",
              "      resolve(null);\n",
              "    };\n",
              "  });\n",
              "\n",
              "  // Wait for the user to pick the files.\n",
              "  const files = yield {\n",
              "    promise: Promise.race([pickedPromise, cancelPromise]),\n",
              "    response: {\n",
              "      action: 'starting',\n",
              "    }\n",
              "  };\n",
              "\n",
              "  cancel.remove();\n",
              "\n",
              "  // Disable the input element since further picks are not allowed.\n",
              "  inputElement.disabled = true;\n",
              "\n",
              "  if (!files) {\n",
              "    return {\n",
              "      response: {\n",
              "        action: 'complete',\n",
              "      }\n",
              "    };\n",
              "  }\n",
              "\n",
              "  for (const file of files) {\n",
              "    const li = document.createElement('li');\n",
              "    li.append(span(file.name, {fontWeight: 'bold'}));\n",
              "    li.append(span(\n",
              "        `(${file.type || 'n/a'}) - ${file.size} bytes, ` +\n",
              "        `last modified: ${\n",
              "            file.lastModifiedDate ? file.lastModifiedDate.toLocaleDateString() :\n",
              "                                    'n/a'} - `));\n",
              "    const percent = span('0% done');\n",
              "    li.appendChild(percent);\n",
              "\n",
              "    outputElement.appendChild(li);\n",
              "\n",
              "    const fileDataPromise = new Promise((resolve) => {\n",
              "      const reader = new FileReader();\n",
              "      reader.onload = (e) => {\n",
              "        resolve(e.target.result);\n",
              "      };\n",
              "      reader.readAsArrayBuffer(file);\n",
              "    });\n",
              "    // Wait for the data to be ready.\n",
              "    let fileData = yield {\n",
              "      promise: fileDataPromise,\n",
              "      response: {\n",
              "        action: 'continue',\n",
              "      }\n",
              "    };\n",
              "\n",
              "    // Use a chunked sending to avoid message size limits. See b/62115660.\n",
              "    let position = 0;\n",
              "    do {\n",
              "      const length = Math.min(fileData.byteLength - position, MAX_PAYLOAD_SIZE);\n",
              "      const chunk = new Uint8Array(fileData, position, length);\n",
              "      position += length;\n",
              "\n",
              "      const base64 = btoa(String.fromCharCode.apply(null, chunk));\n",
              "      yield {\n",
              "        response: {\n",
              "          action: 'append',\n",
              "          file: file.name,\n",
              "          data: base64,\n",
              "        },\n",
              "      };\n",
              "\n",
              "      let percentDone = fileData.byteLength === 0 ?\n",
              "          100 :\n",
              "          Math.round((position / fileData.byteLength) * 100);\n",
              "      percent.textContent = `${percentDone}% done`;\n",
              "\n",
              "    } while (position < fileData.byteLength);\n",
              "  }\n",
              "\n",
              "  // All done.\n",
              "  yield {\n",
              "    response: {\n",
              "      action: 'complete',\n",
              "    }\n",
              "  };\n",
              "}\n",
              "\n",
              "scope.google = scope.google || {};\n",
              "scope.google.colab = scope.google.colab || {};\n",
              "scope.google.colab._files = {\n",
              "  _uploadFiles,\n",
              "  _uploadFilesContinue,\n",
              "};\n",
              "})(self);\n",
              "</script> "
            ]
          },
          "metadata": {}
        },
        {
          "output_type": "stream",
          "name": "stdout",
          "text": [
            "Saving movies.csv to movies.csv\n",
            "Saving ratings.csv to ratings.csv\n",
            "Saving users.csv to users.csv\n"
          ]
        }
      ]
    },
    {
      "cell_type": "code",
      "source": [
        "rating = pd.read_csv('ratings.csv')"
      ],
      "metadata": {
        "id": "o3_40qUKqPDQ"
      },
      "execution_count": 28,
      "outputs": []
    },
    {
      "cell_type": "code",
      "source": [
        "rating.head()"
      ],
      "metadata": {
        "colab": {
          "base_uri": "https://localhost:8080/",
          "height": 206
        },
        "id": "qsDiruJpwl1Q",
        "outputId": "9ed04ea2-0f19-407f-c0df-87dd10cccb1a"
      },
      "execution_count": 29,
      "outputs": [
        {
          "output_type": "execute_result",
          "data": {
            "text/plain": [
              "   user_id  item_id  rating            timestamp\n",
              "0      196      242       3  1997-12-04 15:55:49\n",
              "1      186      302       3  1998-04-04 19:22:22\n",
              "2       22      377       1  1997-11-07 07:18:36\n",
              "3      244       51       2  1997-11-27 05:02:03\n",
              "4      166      346       1  1998-02-02 05:33:16"
            ],
            "text/html": [
              "\n",
              "  <div id=\"df-fbd9a08d-2875-4945-bc8d-5cda0e672cf2\">\n",
              "    <div class=\"colab-df-container\">\n",
              "      <div>\n",
              "<style scoped>\n",
              "    .dataframe tbody tr th:only-of-type {\n",
              "        vertical-align: middle;\n",
              "    }\n",
              "\n",
              "    .dataframe tbody tr th {\n",
              "        vertical-align: top;\n",
              "    }\n",
              "\n",
              "    .dataframe thead th {\n",
              "        text-align: right;\n",
              "    }\n",
              "</style>\n",
              "<table border=\"1\" class=\"dataframe\">\n",
              "  <thead>\n",
              "    <tr style=\"text-align: right;\">\n",
              "      <th></th>\n",
              "      <th>user_id</th>\n",
              "      <th>item_id</th>\n",
              "      <th>rating</th>\n",
              "      <th>timestamp</th>\n",
              "    </tr>\n",
              "  </thead>\n",
              "  <tbody>\n",
              "    <tr>\n",
              "      <th>0</th>\n",
              "      <td>196</td>\n",
              "      <td>242</td>\n",
              "      <td>3</td>\n",
              "      <td>1997-12-04 15:55:49</td>\n",
              "    </tr>\n",
              "    <tr>\n",
              "      <th>1</th>\n",
              "      <td>186</td>\n",
              "      <td>302</td>\n",
              "      <td>3</td>\n",
              "      <td>1998-04-04 19:22:22</td>\n",
              "    </tr>\n",
              "    <tr>\n",
              "      <th>2</th>\n",
              "      <td>22</td>\n",
              "      <td>377</td>\n",
              "      <td>1</td>\n",
              "      <td>1997-11-07 07:18:36</td>\n",
              "    </tr>\n",
              "    <tr>\n",
              "      <th>3</th>\n",
              "      <td>244</td>\n",
              "      <td>51</td>\n",
              "      <td>2</td>\n",
              "      <td>1997-11-27 05:02:03</td>\n",
              "    </tr>\n",
              "    <tr>\n",
              "      <th>4</th>\n",
              "      <td>166</td>\n",
              "      <td>346</td>\n",
              "      <td>1</td>\n",
              "      <td>1998-02-02 05:33:16</td>\n",
              "    </tr>\n",
              "  </tbody>\n",
              "</table>\n",
              "</div>\n",
              "      <button class=\"colab-df-convert\" onclick=\"convertToInteractive('df-fbd9a08d-2875-4945-bc8d-5cda0e672cf2')\"\n",
              "              title=\"Convert this dataframe to an interactive table.\"\n",
              "              style=\"display:none;\">\n",
              "        \n",
              "  <svg xmlns=\"http://www.w3.org/2000/svg\" height=\"24px\"viewBox=\"0 0 24 24\"\n",
              "       width=\"24px\">\n",
              "    <path d=\"M0 0h24v24H0V0z\" fill=\"none\"/>\n",
              "    <path d=\"M18.56 5.44l.94 2.06.94-2.06 2.06-.94-2.06-.94-.94-2.06-.94 2.06-2.06.94zm-11 1L8.5 8.5l.94-2.06 2.06-.94-2.06-.94L8.5 2.5l-.94 2.06-2.06.94zm10 10l.94 2.06.94-2.06 2.06-.94-2.06-.94-.94-2.06-.94 2.06-2.06.94z\"/><path d=\"M17.41 7.96l-1.37-1.37c-.4-.4-.92-.59-1.43-.59-.52 0-1.04.2-1.43.59L10.3 9.45l-7.72 7.72c-.78.78-.78 2.05 0 2.83L4 21.41c.39.39.9.59 1.41.59.51 0 1.02-.2 1.41-.59l7.78-7.78 2.81-2.81c.8-.78.8-2.07 0-2.86zM5.41 20L4 18.59l7.72-7.72 1.47 1.35L5.41 20z\"/>\n",
              "  </svg>\n",
              "      </button>\n",
              "      \n",
              "  <style>\n",
              "    .colab-df-container {\n",
              "      display:flex;\n",
              "      flex-wrap:wrap;\n",
              "      gap: 12px;\n",
              "    }\n",
              "\n",
              "    .colab-df-convert {\n",
              "      background-color: #E8F0FE;\n",
              "      border: none;\n",
              "      border-radius: 50%;\n",
              "      cursor: pointer;\n",
              "      display: none;\n",
              "      fill: #1967D2;\n",
              "      height: 32px;\n",
              "      padding: 0 0 0 0;\n",
              "      width: 32px;\n",
              "    }\n",
              "\n",
              "    .colab-df-convert:hover {\n",
              "      background-color: #E2EBFA;\n",
              "      box-shadow: 0px 1px 2px rgba(60, 64, 67, 0.3), 0px 1px 3px 1px rgba(60, 64, 67, 0.15);\n",
              "      fill: #174EA6;\n",
              "    }\n",
              "\n",
              "    [theme=dark] .colab-df-convert {\n",
              "      background-color: #3B4455;\n",
              "      fill: #D2E3FC;\n",
              "    }\n",
              "\n",
              "    [theme=dark] .colab-df-convert:hover {\n",
              "      background-color: #434B5C;\n",
              "      box-shadow: 0px 1px 3px 1px rgba(0, 0, 0, 0.15);\n",
              "      filter: drop-shadow(0px 1px 2px rgba(0, 0, 0, 0.3));\n",
              "      fill: #FFFFFF;\n",
              "    }\n",
              "  </style>\n",
              "\n",
              "      <script>\n",
              "        const buttonEl =\n",
              "          document.querySelector('#df-fbd9a08d-2875-4945-bc8d-5cda0e672cf2 button.colab-df-convert');\n",
              "        buttonEl.style.display =\n",
              "          google.colab.kernel.accessAllowed ? 'block' : 'none';\n",
              "\n",
              "        async function convertToInteractive(key) {\n",
              "          const element = document.querySelector('#df-fbd9a08d-2875-4945-bc8d-5cda0e672cf2');\n",
              "          const dataTable =\n",
              "            await google.colab.kernel.invokeFunction('convertToInteractive',\n",
              "                                                     [key], {});\n",
              "          if (!dataTable) return;\n",
              "\n",
              "          const docLinkHtml = 'Like what you see? Visit the ' +\n",
              "            '<a target=\"_blank\" href=https://colab.research.google.com/notebooks/data_table.ipynb>data table notebook</a>'\n",
              "            + ' to learn more about interactive tables.';\n",
              "          element.innerHTML = '';\n",
              "          dataTable['output_type'] = 'display_data';\n",
              "          await google.colab.output.renderOutput(dataTable, element);\n",
              "          const docLink = document.createElement('div');\n",
              "          docLink.innerHTML = docLinkHtml;\n",
              "          element.appendChild(docLink);\n",
              "        }\n",
              "      </script>\n",
              "    </div>\n",
              "  </div>\n",
              "  "
            ]
          },
          "metadata": {},
          "execution_count": 29
        }
      ]
    },
    {
      "cell_type": "markdown",
      "source": [
        "train시 embedding layer 필요, df.pivot으로 해결되는지 추후 실험 필요\n"
      ],
      "metadata": {
        "id": "OMr2AyURJHId"
      }
    },
    {
      "cell_type": "markdown",
      "source": [
        "train_test_split 수행\n",
        "\n",
        "train data를 연속적 값으로 변환하는 목적(빠진 값이 있을 것, svd 함수 내 설명 참고)\n"
      ],
      "metadata": {
        "id": "8COLGEjxMV3Q"
      }
    },
    {
      "cell_type": "code",
      "source": [
        "rating = rating.drop(columns = ['timestamp'])"
      ],
      "metadata": {
        "id": "odldDxttNhUf"
      },
      "execution_count": 30,
      "outputs": []
    },
    {
      "cell_type": "code",
      "source": [
        "from sklearn.model_selection import train_test_split\n",
        "rating_train, rating_test = train_test_split(rating, test_size = 0.2)\n",
        "\n",
        "rating_train = rating_train.reset_index()[['user_id', 'item_id', 'rating']]\n",
        "rating_test = rating_test.reset_index()[['user_id', 'item_id', 'rating']]"
      ],
      "metadata": {
        "id": "n6g5pUXALpbX"
      },
      "execution_count": 49,
      "outputs": []
    },
    {
      "cell_type": "code",
      "source": [
        "def encode_column(column):\n",
        "  # 컬럼 을 연속 id로 인코딩\n",
        "  # 열 내 고유값 키\n",
        "  keys = column.unique()\n",
        "  #enumerate = 리스트 내 넘버와 값\n",
        "  key_to_id = {key:idx for idx, key in enumerate(keys)}\n",
        "  return key_to_id, np.array([key_to_id[x] for x in column]), len(keys)"
      ],
      "metadata": {
        "id": "-c9fHRri4whW"
      },
      "execution_count": 50,
      "outputs": []
    },
    {
      "cell_type": "code",
      "source": [
        "def encode_df(rating):\n",
        "  #rating 데이터를 연속적인 user와 item id 로 재 배열\n",
        "  #encode_column의 결과 값으로 들어온 df의 열 데이터를 바꿔서 반환\n",
        "  item_ids, rating['item_id'], num_item = encode_column(rating['item_id'])\n",
        "  user_ids, rating['user_id'], num_user = encode_column(rating['user_id'])\n",
        "  return rating, num_user, num_item, user_ids, item_ids"
      ],
      "metadata": {
        "id": "qjaD5Wd3KAPd"
      },
      "execution_count": 51,
      "outputs": []
    },
    {
      "cell_type": "code",
      "source": [
        "rating_df, num_user, num_item, user_ids, item_ids = encode_df(rating_train)\n",
        "print(\"Number of Users : \", num_user)\n",
        "print(\"Number of Items : \", num_item)\n",
        "rating_df.head()"
      ],
      "metadata": {
        "colab": {
          "base_uri": "https://localhost:8080/",
          "height": 241
        },
        "id": "fd2YfuT6MUVc",
        "outputId": "ca0d8f39-2758-4581-a387-ac238a7ce423"
      },
      "execution_count": 52,
      "outputs": [
        {
          "output_type": "stream",
          "name": "stdout",
          "text": [
            "Number of Users :  943\n",
            "Number of Items :  1651\n"
          ]
        },
        {
          "output_type": "execute_result",
          "data": {
            "text/plain": [
              "   user_id  item_id  rating\n",
              "0        0        0       3\n",
              "1        1        1       5\n",
              "2        2        2       2\n",
              "3        3        3       4\n",
              "4        4        4       5"
            ],
            "text/html": [
              "\n",
              "  <div id=\"df-84bf7cd7-5004-4965-bc03-6269b77bbfbc\">\n",
              "    <div class=\"colab-df-container\">\n",
              "      <div>\n",
              "<style scoped>\n",
              "    .dataframe tbody tr th:only-of-type {\n",
              "        vertical-align: middle;\n",
              "    }\n",
              "\n",
              "    .dataframe tbody tr th {\n",
              "        vertical-align: top;\n",
              "    }\n",
              "\n",
              "    .dataframe thead th {\n",
              "        text-align: right;\n",
              "    }\n",
              "</style>\n",
              "<table border=\"1\" class=\"dataframe\">\n",
              "  <thead>\n",
              "    <tr style=\"text-align: right;\">\n",
              "      <th></th>\n",
              "      <th>user_id</th>\n",
              "      <th>item_id</th>\n",
              "      <th>rating</th>\n",
              "    </tr>\n",
              "  </thead>\n",
              "  <tbody>\n",
              "    <tr>\n",
              "      <th>0</th>\n",
              "      <td>0</td>\n",
              "      <td>0</td>\n",
              "      <td>3</td>\n",
              "    </tr>\n",
              "    <tr>\n",
              "      <th>1</th>\n",
              "      <td>1</td>\n",
              "      <td>1</td>\n",
              "      <td>5</td>\n",
              "    </tr>\n",
              "    <tr>\n",
              "      <th>2</th>\n",
              "      <td>2</td>\n",
              "      <td>2</td>\n",
              "      <td>2</td>\n",
              "    </tr>\n",
              "    <tr>\n",
              "      <th>3</th>\n",
              "      <td>3</td>\n",
              "      <td>3</td>\n",
              "      <td>4</td>\n",
              "    </tr>\n",
              "    <tr>\n",
              "      <th>4</th>\n",
              "      <td>4</td>\n",
              "      <td>4</td>\n",
              "      <td>5</td>\n",
              "    </tr>\n",
              "  </tbody>\n",
              "</table>\n",
              "</div>\n",
              "      <button class=\"colab-df-convert\" onclick=\"convertToInteractive('df-84bf7cd7-5004-4965-bc03-6269b77bbfbc')\"\n",
              "              title=\"Convert this dataframe to an interactive table.\"\n",
              "              style=\"display:none;\">\n",
              "        \n",
              "  <svg xmlns=\"http://www.w3.org/2000/svg\" height=\"24px\"viewBox=\"0 0 24 24\"\n",
              "       width=\"24px\">\n",
              "    <path d=\"M0 0h24v24H0V0z\" fill=\"none\"/>\n",
              "    <path d=\"M18.56 5.44l.94 2.06.94-2.06 2.06-.94-2.06-.94-.94-2.06-.94 2.06-2.06.94zm-11 1L8.5 8.5l.94-2.06 2.06-.94-2.06-.94L8.5 2.5l-.94 2.06-2.06.94zm10 10l.94 2.06.94-2.06 2.06-.94-2.06-.94-.94-2.06-.94 2.06-2.06.94z\"/><path d=\"M17.41 7.96l-1.37-1.37c-.4-.4-.92-.59-1.43-.59-.52 0-1.04.2-1.43.59L10.3 9.45l-7.72 7.72c-.78.78-.78 2.05 0 2.83L4 21.41c.39.39.9.59 1.41.59.51 0 1.02-.2 1.41-.59l7.78-7.78 2.81-2.81c.8-.78.8-2.07 0-2.86zM5.41 20L4 18.59l7.72-7.72 1.47 1.35L5.41 20z\"/>\n",
              "  </svg>\n",
              "      </button>\n",
              "      \n",
              "  <style>\n",
              "    .colab-df-container {\n",
              "      display:flex;\n",
              "      flex-wrap:wrap;\n",
              "      gap: 12px;\n",
              "    }\n",
              "\n",
              "    .colab-df-convert {\n",
              "      background-color: #E8F0FE;\n",
              "      border: none;\n",
              "      border-radius: 50%;\n",
              "      cursor: pointer;\n",
              "      display: none;\n",
              "      fill: #1967D2;\n",
              "      height: 32px;\n",
              "      padding: 0 0 0 0;\n",
              "      width: 32px;\n",
              "    }\n",
              "\n",
              "    .colab-df-convert:hover {\n",
              "      background-color: #E2EBFA;\n",
              "      box-shadow: 0px 1px 2px rgba(60, 64, 67, 0.3), 0px 1px 3px 1px rgba(60, 64, 67, 0.15);\n",
              "      fill: #174EA6;\n",
              "    }\n",
              "\n",
              "    [theme=dark] .colab-df-convert {\n",
              "      background-color: #3B4455;\n",
              "      fill: #D2E3FC;\n",
              "    }\n",
              "\n",
              "    [theme=dark] .colab-df-convert:hover {\n",
              "      background-color: #434B5C;\n",
              "      box-shadow: 0px 1px 3px 1px rgba(0, 0, 0, 0.15);\n",
              "      filter: drop-shadow(0px 1px 2px rgba(0, 0, 0, 0.3));\n",
              "      fill: #FFFFFF;\n",
              "    }\n",
              "  </style>\n",
              "\n",
              "      <script>\n",
              "        const buttonEl =\n",
              "          document.querySelector('#df-84bf7cd7-5004-4965-bc03-6269b77bbfbc button.colab-df-convert');\n",
              "        buttonEl.style.display =\n",
              "          google.colab.kernel.accessAllowed ? 'block' : 'none';\n",
              "\n",
              "        async function convertToInteractive(key) {\n",
              "          const element = document.querySelector('#df-84bf7cd7-5004-4965-bc03-6269b77bbfbc');\n",
              "          const dataTable =\n",
              "            await google.colab.kernel.invokeFunction('convertToInteractive',\n",
              "                                                     [key], {});\n",
              "          if (!dataTable) return;\n",
              "\n",
              "          const docLinkHtml = 'Like what you see? Visit the ' +\n",
              "            '<a target=\"_blank\" href=https://colab.research.google.com/notebooks/data_table.ipynb>data table notebook</a>'\n",
              "            + ' to learn more about interactive tables.';\n",
              "          element.innerHTML = '';\n",
              "          dataTable['output_type'] = 'display_data';\n",
              "          await google.colab.output.renderOutput(dataTable, element);\n",
              "          const docLink = document.createElement('div');\n",
              "          docLink.innerHTML = docLinkHtml;\n",
              "          element.appendChild(docLink);\n",
              "        }\n",
              "      </script>\n",
              "    </div>\n",
              "  </div>\n",
              "  "
            ]
          },
          "metadata": {},
          "execution_count": 52
        }
      ]
    },
    {
      "cell_type": "markdown",
      "source": [
        "User and Item embeddings"
      ],
      "metadata": {
        "id": "Y27qSRMtO1z4"
      }
    },
    {
      "cell_type": "code",
      "source": [
        "def create_embeddings(n, K):\n",
        "  # 랜덤한 값의 넘파이 행력 생성 함수 (n, K)\n",
        "  # n = 아이템/유저의 수\n",
        "  # K = embedding 안의 고유값 개수\n",
        "  return 5* np.random.random((n, K)) / K"
      ],
      "metadata": {
        "id": "ms_PxhJUOy03"
      },
      "execution_count": 53,
      "outputs": []
    },
    {
      "cell_type": "code",
      "source": [
        "def create_sparse_matrix(df, rows, columns, column_name = 'rating'):\n",
        "  # scipy를 이용해 Sparse utility matrix 생성 함수\n",
        "  return sparse.csc_matrix((df[column_name].values, (df['user_id'].values, df['item_id'].values)),shape = (rows, columns))"
      ],
      "metadata": {
        "id": "pBGpW6JUNbEb"
      },
      "execution_count": 54,
      "outputs": []
    },
    {
      "cell_type": "code",
      "source": [
        "rating_df, num_user, num_item, user_ids, item_ids = encode_df(rating_train)\n",
        "Y = create_sparse_matrix(rating_df, num_user, num_item)"
      ],
      "metadata": {
        "id": "BljydfEvQFrQ"
      },
      "execution_count": 55,
      "outputs": []
    },
    {
      "cell_type": "code",
      "source": [
        "Y.todense()"
      ],
      "metadata": {
        "colab": {
          "base_uri": "https://localhost:8080/"
        },
        "id": "OcA8M2GeQWsz",
        "outputId": "ea612665-131d-41d7-937b-84a3a4804cf3"
      },
      "execution_count": 56,
      "outputs": [
        {
          "output_type": "execute_result",
          "data": {
            "text/plain": [
              "matrix([[3, 0, 0, ..., 0, 0, 0],\n",
              "        [0, 5, 0, ..., 0, 0, 0],\n",
              "        [0, 0, 2, ..., 0, 0, 0],\n",
              "        ...,\n",
              "        [0, 0, 0, ..., 0, 0, 0],\n",
              "        [0, 0, 0, ..., 0, 0, 0],\n",
              "        [0, 0, 0, ..., 0, 0, 0]])"
            ]
          },
          "metadata": {},
          "execution_count": 56
        }
      ]
    },
    {
      "cell_type": "markdown",
      "source": [
        "예측값 함수"
      ],
      "metadata": {
        "id": "Xtsx2CdlTB4r"
      }
    },
    {
      "cell_type": "code",
      "source": [
        "def predict(df, emb_user, emb_item):\n",
        "  # 행렬곱(U * V^T) 없이 예측값을 돌려주는 함수\n",
        "  # embedding 끼리의 같은 위치에 있는 값들의 곱(elementwise multiplication)의 합으로 u_i* v_j의 합을 구함\n",
        "  # 이걸로 U * V^T를 위한 행렬 생성이 필요없게 된다\n",
        "  df['prediction'] = np.sum(np.multiply(emb_item[df['item_id']], emb_user[df['user_id']]), axis = 1)\n",
        "  return df"
      ],
      "metadata": {
        "id": "rT8eRRWIQdLK"
      },
      "execution_count": 57,
      "outputs": []
    },
    {
      "cell_type": "markdown",
      "source": [
        "비용함수"
      ],
      "metadata": {
        "id": "NvN1CkWLTOzR"
      }
    },
    {
      "cell_type": "markdown",
      "source": [],
      "metadata": {
        "id": "ZdbmxYW8Tqie"
      }
    },
    {
      "cell_type": "code",
      "source": [
        "lmbda = 0.0002"
      ],
      "metadata": {
        "id": "QD4bkUr_V_hf"
      },
      "execution_count": 58,
      "outputs": []
    },
    {
      "cell_type": "code",
      "source": [
        "def cost(df, emb_user, emb_item) :\n",
        "  Y = create_sparse_matrix(df, emb_user.shape[0], emb_item.shape[0])\n",
        "  predicted = create_sparse_matrix(predict(df, emb_user, emb_item), emb_user.shape[0], emb_item.shape[0], 'prediction')\n",
        "  return np.sqrt(np.sum((Y-predicted).power(2))/df.shape[0])"
      ],
      "metadata": {
        "id": "zsoPPhIlTJM-"
      },
      "execution_count": 74,
      "outputs": []
    },
    {
      "cell_type": "markdown",
      "source": [
        "Gradient Descent(경사하강)"
      ],
      "metadata": {
        "id": "XjNi4SV6WFeV"
      }
    },
    {
      "cell_type": "code",
      "source": [
        "def gradient(df, emb_user, emb_item):\n",
        "  # embedding에 적용할 경사 설정\n",
        "  Y = create_sparse_matrix(df, emb_user.shape[0], emb_item.shape[0])\n",
        "  predicted = create_sparse_matrix(predict(df, emb_user, emb_item), emb_user.shape[0], emb_item.shape[0], 'prediction')\n",
        "  delta = (Y-predicted)\n",
        "  grad_user = (-2/df.shape[0])*(delta*emb_item) + 2*lmbda*emb_user\n",
        "  grad_item = (-2/df.shape[0])*(delta.T*emb_user) + 2*lmbda*emb_item\n",
        "  return grad_user, grad_item"
      ],
      "metadata": {
        "id": "-fo3KxTzVvAU"
      },
      "execution_count": 75,
      "outputs": []
    },
    {
      "cell_type": "code",
      "source": [
        "def gradient_descent(df, emb_user, emb_item, iterations = 2000, learning_rate=0.01, df_val = None):\n",
        "  Y = create_sparse_matrix(df, emb_user.shape[0], emb_item.shape[0])\n",
        "  beta = 0.9\n",
        "  grad_user, grad_item = gradient(df, emb_user, emb_item)\n",
        "  v_user = grad_user\n",
        "  v_item = grad_item\n",
        "  for i in range(iterations):\n",
        "    grad_user, grad_item = gradient(df, emb_user, emb_item)\n",
        "    v_user = beta*v_user + (1-beta)*grad_user\n",
        "    v_item = beta*v_item + (1-beta)*grad_item\n",
        "    emb_user = emb_user - learning_rate*v_user\n",
        "    emb_item = emb_item - learning_rate*v_item\n",
        "    if (i+1) % 50 == 0:\n",
        "      print('\\niteration', i+1, \":\")\n",
        "      print(\"train rmse : \", cost(df, emb_user, emb_item))\n",
        "      if df_val is not None:\n",
        "        print('validation rmse : ', cost(df_val, emb_user, emb_item))\n",
        "  return emb_user, emb_item\n",
        "\n"
      ],
      "metadata": {
        "id": "89-uolYPq0JO"
      },
      "execution_count": 76,
      "outputs": []
    },
    {
      "cell_type": "code",
      "source": [
        "emb_user = create_embeddings(num_user, 3)\n",
        "emb_item = create_embeddings(num_item, 3)\n",
        "emb_user, emb_item = gradient_descent(rating_df, emb_user, emb_item, learning_rate = 0.02)"
      ],
      "metadata": {
        "colab": {
          "base_uri": "https://localhost:8080/"
        },
        "id": "VG6rqkRqu8JY",
        "outputId": "4428596f-9f45-40a7-ee43-e9478f387986"
      },
      "execution_count": 77,
      "outputs": [
        {
          "output_type": "stream",
          "name": "stdout",
          "text": [
            "\n",
            "iteration 50 :\n",
            "train rmse :  2.1287788629884874\n",
            "\n",
            "iteration 100 :\n",
            "train rmse :  2.1115011012611005\n",
            "\n",
            "iteration 150 :\n",
            "train rmse :  2.0944499349009438\n",
            "\n",
            "iteration 200 :\n",
            "train rmse :  2.07762514179533\n",
            "\n",
            "iteration 250 :\n",
            "train rmse :  2.0610264569873795\n",
            "\n",
            "iteration 300 :\n",
            "train rmse :  2.0446535961830694\n",
            "\n",
            "iteration 350 :\n",
            "train rmse :  2.0285062454680176\n",
            "\n",
            "iteration 400 :\n",
            "train rmse :  2.012584051870826\n",
            "\n",
            "iteration 450 :\n",
            "train rmse :  1.9968866149078246\n",
            "\n",
            "iteration 500 :\n",
            "train rmse :  1.9814134790660167\n",
            "\n",
            "iteration 550 :\n",
            "train rmse :  1.9661641271812509\n",
            "\n",
            "iteration 600 :\n",
            "train rmse :  1.951137974669613\n",
            "\n",
            "iteration 650 :\n",
            "train rmse :  1.9363343645708524\n",
            "\n",
            "iteration 700 :\n",
            "train rmse :  1.9217525633633807\n",
            "\n",
            "iteration 750 :\n",
            "train rmse :  1.9073917575110106\n",
            "\n",
            "iteration 800 :\n",
            "train rmse :  1.893251050702173\n",
            "\n",
            "iteration 850 :\n",
            "train rmse :  1.8793294617429053\n",
            "\n",
            "iteration 900 :\n",
            "train rmse :  1.8656259230654029\n",
            "\n",
            "iteration 950 :\n",
            "train rmse :  1.8521392798144796\n",
            "\n",
            "iteration 1000 :\n",
            "train rmse :  1.8388682894747876\n",
            "\n",
            "iteration 1050 :\n",
            "train rmse :  1.8258116220022453\n",
            "\n",
            "iteration 1100 :\n",
            "train rmse :  1.8129678604236952\n",
            "\n",
            "iteration 1150 :\n",
            "train rmse :  1.8003355018694809\n",
            "\n",
            "iteration 1200 :\n",
            "train rmse :  1.787912959004311\n",
            "\n",
            "iteration 1250 :\n",
            "train rmse :  1.7756985618225432\n",
            "\n",
            "iteration 1300 :\n",
            "train rmse :  1.7636905597748147\n",
            "\n",
            "iteration 1350 :\n",
            "train rmse :  1.7518871241938214\n",
            "\n",
            "iteration 1400 :\n",
            "train rmse :  1.7402863509879636\n",
            "\n",
            "iteration 1450 :\n",
            "train rmse :  1.7288862635725573\n",
            "\n",
            "iteration 1500 :\n",
            "train rmse :  1.7176848160093436\n",
            "\n",
            "iteration 1550 :\n",
            "train rmse :  1.706679896326112\n",
            "\n",
            "iteration 1600 :\n",
            "train rmse :  1.6958693299893803\n",
            "\n",
            "iteration 1650 :\n",
            "train rmse :  1.6852508835042477\n",
            "\n",
            "iteration 1700 :\n",
            "train rmse :  1.674822268116748\n",
            "\n",
            "iteration 1750 :\n",
            "train rmse :  1.664581143595256\n",
            "\n",
            "iteration 1800 :\n",
            "train rmse :  1.6545251220687824\n",
            "\n",
            "iteration 1850 :\n",
            "train rmse :  1.6446517719012492\n",
            "\n",
            "iteration 1900 :\n",
            "train rmse :  1.6349586215821525\n",
            "\n",
            "iteration 1950 :\n",
            "train rmse :  1.6254431636153006\n",
            "\n",
            "iteration 2000 :\n",
            "train rmse :  1.6161028583886232\n"
          ]
        }
      ]
    },
    {
      "cell_type": "code",
      "source": [
        "def encode_new_data(val_df, user_ids, item_ids):\n",
        "  val_df_chosen = val_df['item_id'].isin(item_ids.keys())&val_df['user_id'].isin(user_ids.keys())\n",
        "  val_df = val_df[val_df_chosen]\n",
        "  val_df['user_id'] = np.array([user_ids[x] for x in val_df['user_id']])\n",
        "  val_df['item_id'] = np.array([item_ids[x] for x in val_df['item_id']])\n",
        "  return val_df\n"
      ],
      "metadata": {
        "id": "0OS_oXTPxMfd"
      },
      "execution_count": 67,
      "outputs": []
    },
    {
      "cell_type": "code",
      "source": [
        "print('before encoding :', rating_test.shape)\n",
        "rating_test = encode_new_data(rating_test, user_ids, item_ids)\n",
        "print('after encoding :', rating_test.shape)"
      ],
      "metadata": {
        "colab": {
          "base_uri": "https://localhost:8080/"
        },
        "id": "JxzT9h3rzj4X",
        "outputId": "333eec56-9aeb-49fd-a234-955802f8f5e0"
      },
      "execution_count": 68,
      "outputs": [
        {
          "output_type": "stream",
          "name": "stdout",
          "text": [
            "before encoding : (19958, 4)\n",
            "after encoding : (19958, 4)\n"
          ]
        }
      ]
    },
    {
      "cell_type": "code",
      "source": [
        "train_rmse = cost(rating_df, emb_user, emb_item)\n",
        "val_rmse = cost(rating_test, emb_user, emb_item)\n",
        "print(train_rmse, val_rmse)"
      ],
      "metadata": {
        "colab": {
          "base_uri": "https://localhost:8080/"
        },
        "id": "9MlJHHQh1xVN",
        "outputId": "e7877ff4-8cd4-4c96-dd88-d87678b1661e"
      },
      "execution_count": 79,
      "outputs": [
        {
          "output_type": "stream",
          "name": "stdout",
          "text": [
            "1.6161028583886232 1.8396235580461877\n"
          ]
        }
      ]
    },
    {
      "cell_type": "code",
      "source": [
        "rating_test"
      ],
      "metadata": {
        "colab": {
          "base_uri": "https://localhost:8080/",
          "height": 424
        },
        "id": "vt6pGrzc2Lnv",
        "outputId": "55b5f7ed-cb0e-43a5-8248-825b33eafd9b"
      },
      "execution_count": 48,
      "outputs": [
        {
          "output_type": "execute_result",
          "data": {
            "text/plain": [
              "      user_id item_id  rating\n",
              "89603      92     239       4\n",
              "61260     457     193       5\n",
              "35690     144      15       4\n",
              "36326     402     455       3\n",
              "10395      13     154       5\n",
              "...       ...     ...     ...\n",
              "77011     772     322       4\n",
              "84090     224     237       3\n",
              "23792     497     227       2\n",
              "14044     222     276       5\n",
              "28080     200     179       4\n",
              "\n",
              "[19962 rows x 3 columns]"
            ],
            "text/html": [
              "\n",
              "  <div id=\"df-cd5ec39d-5320-4adc-bc67-298cfafcc194\">\n",
              "    <div class=\"colab-df-container\">\n",
              "      <div>\n",
              "<style scoped>\n",
              "    .dataframe tbody tr th:only-of-type {\n",
              "        vertical-align: middle;\n",
              "    }\n",
              "\n",
              "    .dataframe tbody tr th {\n",
              "        vertical-align: top;\n",
              "    }\n",
              "\n",
              "    .dataframe thead th {\n",
              "        text-align: right;\n",
              "    }\n",
              "</style>\n",
              "<table border=\"1\" class=\"dataframe\">\n",
              "  <thead>\n",
              "    <tr style=\"text-align: right;\">\n",
              "      <th></th>\n",
              "      <th>user_id</th>\n",
              "      <th>item_id</th>\n",
              "      <th>rating</th>\n",
              "    </tr>\n",
              "  </thead>\n",
              "  <tbody>\n",
              "    <tr>\n",
              "      <th>89603</th>\n",
              "      <td>92</td>\n",
              "      <td>239</td>\n",
              "      <td>4</td>\n",
              "    </tr>\n",
              "    <tr>\n",
              "      <th>61260</th>\n",
              "      <td>457</td>\n",
              "      <td>193</td>\n",
              "      <td>5</td>\n",
              "    </tr>\n",
              "    <tr>\n",
              "      <th>35690</th>\n",
              "      <td>144</td>\n",
              "      <td>15</td>\n",
              "      <td>4</td>\n",
              "    </tr>\n",
              "    <tr>\n",
              "      <th>36326</th>\n",
              "      <td>402</td>\n",
              "      <td>455</td>\n",
              "      <td>3</td>\n",
              "    </tr>\n",
              "    <tr>\n",
              "      <th>10395</th>\n",
              "      <td>13</td>\n",
              "      <td>154</td>\n",
              "      <td>5</td>\n",
              "    </tr>\n",
              "    <tr>\n",
              "      <th>...</th>\n",
              "      <td>...</td>\n",
              "      <td>...</td>\n",
              "      <td>...</td>\n",
              "    </tr>\n",
              "    <tr>\n",
              "      <th>77011</th>\n",
              "      <td>772</td>\n",
              "      <td>322</td>\n",
              "      <td>4</td>\n",
              "    </tr>\n",
              "    <tr>\n",
              "      <th>84090</th>\n",
              "      <td>224</td>\n",
              "      <td>237</td>\n",
              "      <td>3</td>\n",
              "    </tr>\n",
              "    <tr>\n",
              "      <th>23792</th>\n",
              "      <td>497</td>\n",
              "      <td>227</td>\n",
              "      <td>2</td>\n",
              "    </tr>\n",
              "    <tr>\n",
              "      <th>14044</th>\n",
              "      <td>222</td>\n",
              "      <td>276</td>\n",
              "      <td>5</td>\n",
              "    </tr>\n",
              "    <tr>\n",
              "      <th>28080</th>\n",
              "      <td>200</td>\n",
              "      <td>179</td>\n",
              "      <td>4</td>\n",
              "    </tr>\n",
              "  </tbody>\n",
              "</table>\n",
              "<p>19962 rows × 3 columns</p>\n",
              "</div>\n",
              "      <button class=\"colab-df-convert\" onclick=\"convertToInteractive('df-cd5ec39d-5320-4adc-bc67-298cfafcc194')\"\n",
              "              title=\"Convert this dataframe to an interactive table.\"\n",
              "              style=\"display:none;\">\n",
              "        \n",
              "  <svg xmlns=\"http://www.w3.org/2000/svg\" height=\"24px\"viewBox=\"0 0 24 24\"\n",
              "       width=\"24px\">\n",
              "    <path d=\"M0 0h24v24H0V0z\" fill=\"none\"/>\n",
              "    <path d=\"M18.56 5.44l.94 2.06.94-2.06 2.06-.94-2.06-.94-.94-2.06-.94 2.06-2.06.94zm-11 1L8.5 8.5l.94-2.06 2.06-.94-2.06-.94L8.5 2.5l-.94 2.06-2.06.94zm10 10l.94 2.06.94-2.06 2.06-.94-2.06-.94-.94-2.06-.94 2.06-2.06.94z\"/><path d=\"M17.41 7.96l-1.37-1.37c-.4-.4-.92-.59-1.43-.59-.52 0-1.04.2-1.43.59L10.3 9.45l-7.72 7.72c-.78.78-.78 2.05 0 2.83L4 21.41c.39.39.9.59 1.41.59.51 0 1.02-.2 1.41-.59l7.78-7.78 2.81-2.81c.8-.78.8-2.07 0-2.86zM5.41 20L4 18.59l7.72-7.72 1.47 1.35L5.41 20z\"/>\n",
              "  </svg>\n",
              "      </button>\n",
              "      \n",
              "  <style>\n",
              "    .colab-df-container {\n",
              "      display:flex;\n",
              "      flex-wrap:wrap;\n",
              "      gap: 12px;\n",
              "    }\n",
              "\n",
              "    .colab-df-convert {\n",
              "      background-color: #E8F0FE;\n",
              "      border: none;\n",
              "      border-radius: 50%;\n",
              "      cursor: pointer;\n",
              "      display: none;\n",
              "      fill: #1967D2;\n",
              "      height: 32px;\n",
              "      padding: 0 0 0 0;\n",
              "      width: 32px;\n",
              "    }\n",
              "\n",
              "    .colab-df-convert:hover {\n",
              "      background-color: #E2EBFA;\n",
              "      box-shadow: 0px 1px 2px rgba(60, 64, 67, 0.3), 0px 1px 3px 1px rgba(60, 64, 67, 0.15);\n",
              "      fill: #174EA6;\n",
              "    }\n",
              "\n",
              "    [theme=dark] .colab-df-convert {\n",
              "      background-color: #3B4455;\n",
              "      fill: #D2E3FC;\n",
              "    }\n",
              "\n",
              "    [theme=dark] .colab-df-convert:hover {\n",
              "      background-color: #434B5C;\n",
              "      box-shadow: 0px 1px 3px 1px rgba(0, 0, 0, 0.15);\n",
              "      filter: drop-shadow(0px 1px 2px rgba(0, 0, 0, 0.3));\n",
              "      fill: #FFFFFF;\n",
              "    }\n",
              "  </style>\n",
              "\n",
              "      <script>\n",
              "        const buttonEl =\n",
              "          document.querySelector('#df-cd5ec39d-5320-4adc-bc67-298cfafcc194 button.colab-df-convert');\n",
              "        buttonEl.style.display =\n",
              "          google.colab.kernel.accessAllowed ? 'block' : 'none';\n",
              "\n",
              "        async function convertToInteractive(key) {\n",
              "          const element = document.querySelector('#df-cd5ec39d-5320-4adc-bc67-298cfafcc194');\n",
              "          const dataTable =\n",
              "            await google.colab.kernel.invokeFunction('convertToInteractive',\n",
              "                                                     [key], {});\n",
              "          if (!dataTable) return;\n",
              "\n",
              "          const docLinkHtml = 'Like what you see? Visit the ' +\n",
              "            '<a target=\"_blank\" href=https://colab.research.google.com/notebooks/data_table.ipynb>data table notebook</a>'\n",
              "            + ' to learn more about interactive tables.';\n",
              "          element.innerHTML = '';\n",
              "          dataTable['output_type'] = 'display_data';\n",
              "          await google.colab.output.renderOutput(dataTable, element);\n",
              "          const docLink = document.createElement('div');\n",
              "          docLink.innerHTML = docLinkHtml;\n",
              "          element.appendChild(docLink);\n",
              "        }\n",
              "      </script>\n",
              "    </div>\n",
              "  </div>\n",
              "  "
            ]
          },
          "metadata": {},
          "execution_count": 48
        }
      ]
    },
    {
      "cell_type": "code",
      "source": [],
      "metadata": {
        "id": "oVkL1-1R2Z0f"
      },
      "execution_count": null,
      "outputs": []
    }
  ]
}
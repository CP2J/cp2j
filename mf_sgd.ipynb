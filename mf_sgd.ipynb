{
  "nbformat": 4,
  "nbformat_minor": 0,
  "metadata": {
    "colab": {
      "provenance": [],
      "collapsed_sections": [
        "zoVtFSgh21wE"
      ],
      "authorship_tag": "ABX9TyMfOZn0LWgN7ljYDQdVkN/u",
      "include_colab_link": true
    },
    "kernelspec": {
      "name": "python3",
      "display_name": "Python 3"
    },
    "language_info": {
      "name": "python"
    },
    "gpuClass": "standard",
    "accelerator": "GPU"
  },
  "cells": [
    {
      "cell_type": "markdown",
      "metadata": {
        "id": "view-in-github",
        "colab_type": "text"
      },
      "source": [
        "<a href=\"https://colab.research.google.com/github/CP2J/cp2j/blob/ACJ-9-MF-SGD-/mf_sgd.ipynb\" target=\"_parent\"><img src=\"https://colab.research.google.com/assets/colab-badge.svg\" alt=\"Open In Colab\"/></a>"
      ]
    },
    {
      "cell_type": "code",
      "execution_count": null,
      "metadata": {
        "id": "-4VKCeENpw-2"
      },
      "outputs": [],
      "source": [
        "import numpy as np\n",
        "import pandas as pd"
      ]
    },
    {
      "cell_type": "code",
      "source": [
        "from google.colab import drive\n",
        "drive.mount('/content/drive')\n",
        "#rating = pd.read_csv('/content/drive/MyDrive/ml-100k/u.data', sep='\\t', header=None, names=['user_id', 'item_id', 'rating', 'timestamp'])"
      ],
      "metadata": {
        "colab": {
          "base_uri": "https://localhost:8080/"
        },
        "id": "2CkMxfW6tNVH",
        "outputId": "1f76bf16-b1aa-4d97-a926-4c0d4790154b"
      },
      "execution_count": null,
      "outputs": [
        {
          "output_type": "stream",
          "name": "stdout",
          "text": [
            "Mounted at /content/drive\n"
          ]
        }
      ]
    },
    {
      "cell_type": "code",
      "source": [
        "# 데이터 읽어 오기 \n",
        "r_cols = ['user_id', 'movie_id', 'rating', 'timestamp']\n",
        "ratings = pd.read_csv('/content/drive/MyDrive/ml-100k/u.data', names=r_cols,  sep='\\t',encoding='latin-1')\n",
        "ratings = ratings[['user_id', 'movie_id', 'rating']].astype(int)            # timestamp 제거"
      ],
      "metadata": {
        "id": "wgDyHUCCtUH2"
      },
      "execution_count": null,
      "outputs": []
    },
    {
      "cell_type": "code",
      "source": [
        "# # train test 분리\n",
        "# from sklearn.utils import shuffle\n",
        "# TRAIN_SIZE = 0.75\n",
        "# ratings = shuffle(ratings, random_state=1)\n",
        "# cutoff = int(TRAIN_SIZE * len(ratings))\n",
        "# ratings_train = ratings.iloc[:cutoff]\n",
        "# ratings_test = ratings.iloc[cutoff:]"
      ],
      "metadata": {
        "id": "5DpxnLgntbsJ"
      },
      "execution_count": null,
      "outputs": []
    },
    {
      "cell_type": "code",
      "source": [
        "# train test 분리\n",
        "# Rating df의 user_id를 타겟(종속변수, 예측값)으로 train, test stratified split 실시(user_id 기준)\n",
        "from sklearn.model_selection import train_test_split\n",
        "x = ratings.copy()\n",
        "y = ratings['user_id']\n",
        "ratings_train, ratings_test = train_test_split(x, test_size=0.25, stratify=y, random_state=12)"
      ],
      "metadata": {
        "id": "EjMKTNAEb4pz"
      },
      "execution_count": null,
      "outputs": []
    },
    {
      "cell_type": "code",
      "source": [
        "# 정확도(RMSE)를 계산하는 함수 \n",
        "def RMSE(y_true, y_pred):\n",
        "    return np.sqrt(np.mean((np.array(y_true) - np.array(y_pred))**2))"
      ],
      "metadata": {
        "id": "QkJKXYgdxYl7"
      },
      "execution_count": null,
      "outputs": []
    },
    {
      "cell_type": "markdown",
      "source": [
        "# MF-SGD"
      ],
      "metadata": {
        "id": "1NWGs_Nf26QX"
      }
    },
    {
      "cell_type": "code",
      "source": [
        "##### MF-SGD 추천 알고리즘 >>>>>>>>>>>>>>>\n",
        "class NEW_MF():\n",
        "    def __init__(self, ratings, K, alpha, beta, iterations, verbose=True):  # 클래스 생성시 실행되는 초기화 함수\n",
        "        self.R = np.array(ratings)    # df ratings를 np.array로 바꿔 self.R에 저장\n",
        "\n",
        "        item_id_index = []    # 변수 초기화\n",
        "        index_item_id = []    # 변수 초기화\n",
        "        for i, one_id in enumerate(ratings):        # df ratings의 각 items에 대해서 아래 작업 수행\n",
        "            item_id_index.append([one_id, i])       # save id - index \n",
        "            index_item_id.append([i, one_id])       # save index - id\n",
        "        self.item_id_index = dict(item_id_index)    # dict로 변환\n",
        "        self.index_item_id = dict(index_item_id)    # dict로 변환\n",
        "\n",
        "        user_id_index = []                          # 사용자에 대해서도 실행\n",
        "        index_user_id = []\n",
        "        for i, one_id in enumerate(ratings.T):\n",
        "            user_id_index.append([one_id, i])\n",
        "            index_user_id.append([i, one_id])\n",
        "        self.user_id_index = dict(user_id_index)    # dict로 변환\n",
        "        self.index_user_id = dict(index_user_id)\n",
        "\n",
        "        self.num_users, self.num_items = np.shape(self.R)\n",
        "        self.K = K                                  # 잠재요인 수\n",
        "        self.alpha = alpha                          # 학습률\n",
        "        self.beta = beta                            # 정규화계수\n",
        "        self.iterations = iterations                # SGD 계산 반복 횟수\n",
        "        self.verbose = verbose                      # 중간 학습과정 출력여부\n",
        "\n",
        "    # train set의 RMSE 계산\n",
        "    def rmse(self):                            # 현재 P,Q로 RMSE 계산\n",
        "        xs, ys = self.R.nonzero()              # R에서 평점이 있는(NOT NULL) 요소의 인덱스들\n",
        "        self.predictions = []\n",
        "        self.errors = []\n",
        "        for x, y in zip(xs, ys):                            # 평점이 있는 요소(사용자 x, 아이템 y)에 대해:\n",
        "            prediction = self.get_prediction(x, y)\n",
        "            self.predictions.append(prediction)             # 예측값을 예측리스트에,\n",
        "            self.errors.append(self.R[x, y] - prediction)   # 오차를 오차리스트에 저장\n",
        "        self.predictions = np.array(self.predictions)\n",
        "        self.errors = np.array(self.errors)\n",
        "        return np.sqrt(np.mean(self.errors**2))\n",
        "\n",
        "    # Predict Ratings for user i and item j\n",
        "    def get_prediction(self, i, j):\n",
        "        prediction = self.b + self.b_u[i] + self.b_d[j] + self.P[i, :].dot(self.Q[j, :].T)    # 평점 예측치(r^)의 식에 사용자, 아이템 편향 추가한 식\n",
        "        # b : 전체평균, b_u[i] : 사용자i 평가경향(bias), b_d[j] : 아이템j 평가경향, 넷째항 : P, Q.T를 내적한 예측평점\n",
        "        return prediction\n",
        "\n",
        "    # Stochastic gradient descent to get optimized P and Q matrix\n",
        "    def sgd(self):\n",
        "        for i, j, r in self.samples:                # samples의 (user-item-rating) set에 대해 sgd적용\n",
        "            prediction = self.get_prediction(i, j)\n",
        "            e = (r - prediction)                    # 오차 = 실제평점 - 예측\n",
        "\n",
        "            self.b_u[i] += self.alpha * (e - self.beta * self.b_u[i])     # 사용자,아이템의 경향성을 고려된 평점예측식의 편미분식으로 사용자 평가경향 업데이트\n",
        "            self.b_d[j] += self.alpha * (e - self.beta * self.b_d[j])     # 아이템 평가경향 업데이트\n",
        "\n",
        "            self.P[i, :] += self.alpha * (e * self.Q[j, :] - self.beta * self.P[i,:])   # 정규화항 추가된 평점예측식의 편미분식으로 P행렬 업뎃\n",
        "            self.Q[j, :] += self.alpha * (e * self.P[i, :] - self.beta * self.Q[j,:])   # Q 업뎃\n",
        "\n",
        "    # Test set을 선정 - 분리된 test set을 넘겨받아서 클래스 내부의 test set을 만드는 함수\n",
        "    def set_test(self, ratings_test):\n",
        "        test_set = []\n",
        "        for i in range(len(ratings_test)):\n",
        "            x = self.user_id_index[ratings_test.iloc[i, 0]]   # 현재 사용자의 인덱스를 user_id_index(매핑 리스트)에서 받아옴\n",
        "            y = self.item_id_index[ratings_test.iloc[i, 1]]   # 현재 아이템의 인덱스를 item_id_index(매핑 리스트)에서 받아옴\n",
        "            z = ratings_test.iloc[i, 2]                       # 현재 (사용자-아이템)의 평점\n",
        "            test_set.append([x, y, z])          # 현재 (사용자-아이템-평점)을 test_set에 추가\n",
        "            self.R[x, y] = 0                    # Setting test set ratings to 0 : MF는 R 전체를 사용해서 학습하기 때문에 test set은 평점을 지움\n",
        "        self.test_set = test_set                # test_set을 클래스에 저장한다.\n",
        "        return test_set                         # Return test set\n",
        "\n",
        "    # Test set의 RMSE 계산\n",
        "    def test_rmse(self):\n",
        "        error = 0\n",
        "        for one_set in self.test_set:\n",
        "            predicted = self.get_prediction(one_set[0], one_set[1])\n",
        "            error += pow(one_set[2] - predicted, 2)       # 오차(평점 실제값 - 예측평점)의 제곱을 누적한 값이 저장된다.\n",
        "        return np.sqrt(error/len(self.test_set))          # error를 RMSE로 변환해서 돌려준다.\n",
        "\n",
        "    # Training 하면서 test set의 정확도를 계산\n",
        "    def test(self):   # MF모델을 SGD방식으로 훈련하는 핵심 함수이다.\n",
        "        # Initializing user-feature and item-feature matrix\n",
        "        self.P = np.random.normal(scale=1./self.K, size=(self.num_users, self.K))   # P행렬을 (평균 0, 표준편차 1/K인 정규분포 난수)로 초기화한다.\n",
        "        self.Q = np.random.normal(scale=1./self.K, size=(self.num_items, self.K))   # Q행렬 초기화한다.\n",
        "\n",
        "        # Initializing the bias terms\n",
        "        self.b_u = np.zeros(self.num_users)           # 사용자 평가경향을 초기화, array크기는 사용자수(num_users)와 동일하다.\n",
        "        self.b_d = np.zeros(self.num_items)           # 아이템 평가경향을 초기화한다.\n",
        "        self.b = np.mean(self.R[self.R.nonzero()])    # 전체 평균을 구해서 저장한다.\n",
        "\n",
        "        # List of training samples\n",
        "        rows, columns = self.R.nonzero()              # 평점행렬 R 중에서 평점있는 요소의 인덱스를 가져온다.\n",
        "        self.samples = [(i, j, self.R[i,j]) for i, j in zip(rows, columns)]   \n",
        "        # SGD를 적용할 대상, 즉 평점이 있는 요소의 인덱스와 평점을 리스트로 만들어 samples에 저장한다.\n",
        "\n",
        "        # Stochastic gradient descent for given number of iterations\n",
        "        training_process = []                             # training_process 를 초기화한다. SGD를 한번 실행할 때마다 RMSE가 얼마나 개선되는지를 기록한다.\n",
        "        for i in range(self.iterations):                  # 지정된 반복 횟수만큼 SGD를 실행한다.\n",
        "            np.random.shuffle(self.samples)               # samples 를 임의로 섞는다. 출발점에 따라 수렴의 속도가 달라질 수 있기 때문이다.\n",
        "            self.sgd()                                    # SGD를 실행하는 함수를 호출한다.\n",
        "            rmse1 = self.rmse()                           # SGD로 P, Q, bu, bd가 업데이트 되었으므로 이에 따른 RMSE를 계산한다.\n",
        "            rmse2 = self.test_rmse()                      # test set은 별도로 계산한다.\n",
        "            training_process.append((i+1, rmse1, rmse2))  # 결과를 저장한다.\n",
        "            if self.verbose:                              # verbose가 True이면 10회 반복마다 중간 결과를 표시한다.\n",
        "                if (i+1) % 10 == 0:\n",
        "                    print(\"Iteration: %d ; Train RMSE = %.4f ; Test RMSE = %.4f\" % (i+1, rmse1, rmse2))\n",
        "        return training_process\n",
        "\n",
        "    # Ratings for given user_id and item_id\n",
        "    def get_one_prediction(self, user_id, item_id):\n",
        "        prediction = self.get_prediction(self.user_id_index[user_id], self.item_id_index[item_id])\n",
        "        return prediction\n",
        "\n",
        "    # Full user-movie rating matrix (모든 사용자의 모든 아이템에 대한 예측치(Full matrix)를 계산해서 돌려준다)\n",
        "    def full_prediction(self):\n",
        "        return self.b + self.b_u[:,np.newaxis] + self.b_d[np.newaxis,:] + self.P.dot(self.Q.T)\n",
        "        # $\\hat{r}_{ij}=b+bu_i+bd_j+\\sum_{k=1}^Kp_{ik}q_{kj}$\n"
      ],
      "metadata": {
        "id": "kyRxSHB4CLKq"
      },
      "execution_count": null,
      "outputs": []
    },
    {
      "cell_type": "code",
      "source": [
        "# MF클래스 생성 및 학습\n",
        "R_temp = ratings.pivot(index='user_id', columns='movie_id', values='rating').fillna(0)    # 전체 데이터를 full matrix로 변환한다.\n",
        "mf = NEW_MF(R_temp, K=200, alpha=0.001, beta=0.02, iterations=250, verbose=True)          # NEW-MF 클래스를 생성한다.\n",
        "test_set = mf.set_test(ratings_test)    # ratings_test를 테스트 데이터로 지정하도록 set_test() 함수를 호출한다.\n",
        "result = mf.test()                      # 정해진 파라미터에 따라 MF 훈련과 정확도 계산을 실행한다."
      ],
      "metadata": {
        "colab": {
          "base_uri": "https://localhost:8080/"
        },
        "id": "zwrF4tqY70R1",
        "outputId": "7aef0c10-9ec7-4089-8fab-76ff2cef40f8"
      },
      "execution_count": null,
      "outputs": [
        {
          "output_type": "stream",
          "name": "stdout",
          "text": [
            "Iteration: 10 ; Train RMSE = 0.9683 ; Test RMSE = 0.9777\n",
            "Iteration: 20 ; Train RMSE = 0.9436 ; Test RMSE = 0.9584\n",
            "Iteration: 30 ; Train RMSE = 0.9328 ; Test RMSE = 0.9507\n",
            "Iteration: 40 ; Train RMSE = 0.9265 ; Test RMSE = 0.9468\n",
            "Iteration: 50 ; Train RMSE = 0.9225 ; Test RMSE = 0.9444\n",
            "Iteration: 60 ; Train RMSE = 0.9196 ; Test RMSE = 0.9430\n",
            "Iteration: 70 ; Train RMSE = 0.9175 ; Test RMSE = 0.9421\n",
            "Iteration: 80 ; Train RMSE = 0.9156 ; Test RMSE = 0.9414\n",
            "Iteration: 90 ; Train RMSE = 0.9138 ; Test RMSE = 0.9408\n",
            "Iteration: 100 ; Train RMSE = 0.9119 ; Test RMSE = 0.9402\n",
            "Iteration: 110 ; Train RMSE = 0.9095 ; Test RMSE = 0.9395\n",
            "Iteration: 120 ; Train RMSE = 0.9062 ; Test RMSE = 0.9383\n",
            "Iteration: 130 ; Train RMSE = 0.9015 ; Test RMSE = 0.9366\n",
            "Iteration: 140 ; Train RMSE = 0.8950 ; Test RMSE = 0.9343\n",
            "Iteration: 150 ; Train RMSE = 0.8863 ; Test RMSE = 0.9312\n",
            "Iteration: 160 ; Train RMSE = 0.8759 ; Test RMSE = 0.9278\n",
            "Iteration: 170 ; Train RMSE = 0.8639 ; Test RMSE = 0.9245\n",
            "Iteration: 180 ; Train RMSE = 0.8506 ; Test RMSE = 0.9215\n",
            "Iteration: 190 ; Train RMSE = 0.8359 ; Test RMSE = 0.9186\n",
            "Iteration: 200 ; Train RMSE = 0.8196 ; Test RMSE = 0.9159\n",
            "Iteration: 210 ; Train RMSE = 0.8017 ; Test RMSE = 0.9135\n",
            "Iteration: 220 ; Train RMSE = 0.7823 ; Test RMSE = 0.9115\n",
            "Iteration: 230 ; Train RMSE = 0.7614 ; Test RMSE = 0.9098\n",
            "Iteration: 240 ; Train RMSE = 0.7393 ; Test RMSE = 0.9087\n",
            "Iteration: 250 ; Train RMSE = 0.7162 ; Test RMSE = 0.9080\n"
          ]
        }
      ]
    },
    {
      "cell_type": "code",
      "source": [
        "# iteration = 200\n",
        "# learning_rate = 0.01\n",
        "# lmbda = 0.01"
      ],
      "metadata": {
        "id": "ub7JfffC3ck5"
      },
      "execution_count": null,
      "outputs": []
    },
    {
      "cell_type": "code",
      "source": [
        "##### Hybrid 추천 알고리즘\n",
        "\n",
        "def recommender0(recomm_list, mf):                        # MF 알고리즘의 예측값을 받아오는 함수이다. \n",
        "    recommendations = np.array([mf.get_one_prediction(user, movie) for (user, movie) in recomm_list])\n",
        "    # 추천대상 리스트(recomm_list)의 항목 각각에 대해서 MF클래스의 get_one_prediction() 함수를 불러서 예측값을 받아온 후에 np.array로 변환한다.\n",
        "    return recommendations\n",
        "\n",
        "def recommender1(recomm_list, neighbor_size=0):           # CF 알고리즘의 예측값을 받아오는 함수이다.\n",
        "    recommendations = np.array([cf_knn(user, movie, neighbor_size) for (user, movie) in recomm_list])\n",
        "    # 추천대상 리스트(recomm_list)의 항목 각각에 대해서 cf_knn 함수로 예측값을 받아 np.array로 변환한다.\n",
        "    return recommendations\n",
        "\n",
        "recomm_list = np.array(ratings_test.iloc[:, [0, 1]])      # test set을 np.array형식의 추천 대상 리스트로 만든다.\n",
        "predictions0 = recommender0(recomm_list, mf)              # MF기반 알고리즘의 예측값을 받아온다.\n",
        "RMSE(ratings_test.iloc[:, 2], predictions0)               # MF기반 알고리즘의 RMSE를 계산한다.\n",
        "predictions1 = recommender1(recomm_list, 40)              # CF기반 알고리즘의 예측값을 받아온다.\n",
        "RMSE(ratings_test.iloc[:, 2], predictions1)               # CF기반 알고리즘의 RMSE를 계산한다.\n",
        "\n",
        "weight = [0.8, 0.2]                                                 # 두 알고리즘의 결합 가중치를 지정한다.\n",
        "predictions = predictions0 * weight[0] + predictions1 * weight[1]   # 가중치에 따라 두 추천 알고리즘에서 가져온 예측값을 가중평균한다.\n",
        "RMSE(ratings_test.iloc[:, 2], predictions)                          # 하이브리드 모델의 RMSE를 계산한다."
      ],
      "metadata": {
        "colab": {
          "base_uri": "https://localhost:8080/"
        },
        "id": "DxWG_gO3HJtP",
        "outputId": "53561ee3-efe8-4913-ffa1-7a6f6edcc527"
      },
      "execution_count": null,
      "outputs": [
        {
          "output_type": "execute_result",
          "data": {
            "text/plain": [
              "0.9084824873848214"
            ]
          },
          "metadata": {},
          "execution_count": 15
        }
      ]
    },
    {
      "cell_type": "code",
      "source": [
        "# 가중치를 0~1까지 0.01 간격으로 바꿔가면서 RMSE 계산\n",
        "for i in np.arange(0, 1, 0.01):\n",
        "    weight = [i, 1.0 - i]\n",
        "    predictions = predictions0 * weight[0] + predictions1 * weight[1]\n",
        "    print(\"Weights - %.2f : %.2f ; RMSE = %.7f\" % (weight[0], \n",
        "           weight[1], RMSE(ratings_test.iloc[:, 2], predictions)))"
      ],
      "metadata": {
        "colab": {
          "base_uri": "https://localhost:8080/"
        },
        "id": "9E1mKDWsRGRa",
        "outputId": "6dd3514f-992a-4ecf-aa14-9f252ea701c9"
      },
      "execution_count": null,
      "outputs": [
        {
          "output_type": "stream",
          "name": "stdout",
          "text": [
            "Weights - 0.00 : 1.00 ; RMSE = 1.0107966\n",
            "Weights - 0.01 : 0.99 ; RMSE = 1.0086377\n",
            "Weights - 0.02 : 0.98 ; RMSE = 1.0064981\n",
            "Weights - 0.03 : 0.97 ; RMSE = 1.0043780\n",
            "Weights - 0.04 : 0.96 ; RMSE = 1.0022775\n",
            "Weights - 0.05 : 0.95 ; RMSE = 1.0001967\n",
            "Weights - 0.06 : 0.94 ; RMSE = 0.9981356\n",
            "Weights - 0.07 : 0.93 ; RMSE = 0.9960946\n",
            "Weights - 0.08 : 0.92 ; RMSE = 0.9940736\n",
            "Weights - 0.09 : 0.91 ; RMSE = 0.9920728\n",
            "Weights - 0.10 : 0.90 ; RMSE = 0.9900923\n",
            "Weights - 0.11 : 0.89 ; RMSE = 0.9881322\n",
            "Weights - 0.12 : 0.88 ; RMSE = 0.9861927\n",
            "Weights - 0.13 : 0.87 ; RMSE = 0.9842739\n",
            "Weights - 0.14 : 0.86 ; RMSE = 0.9823759\n",
            "Weights - 0.15 : 0.85 ; RMSE = 0.9804988\n",
            "Weights - 0.16 : 0.84 ; RMSE = 0.9786428\n",
            "Weights - 0.17 : 0.83 ; RMSE = 0.9768079\n",
            "Weights - 0.18 : 0.82 ; RMSE = 0.9749943\n",
            "Weights - 0.19 : 0.81 ; RMSE = 0.9732021\n",
            "Weights - 0.20 : 0.80 ; RMSE = 0.9714314\n",
            "Weights - 0.21 : 0.79 ; RMSE = 0.9696823\n",
            "Weights - 0.22 : 0.78 ; RMSE = 0.9679550\n",
            "Weights - 0.23 : 0.77 ; RMSE = 0.9662496\n",
            "Weights - 0.24 : 0.76 ; RMSE = 0.9645661\n",
            "Weights - 0.25 : 0.75 ; RMSE = 0.9629048\n",
            "Weights - 0.26 : 0.74 ; RMSE = 0.9612656\n",
            "Weights - 0.27 : 0.73 ; RMSE = 0.9596488\n",
            "Weights - 0.28 : 0.72 ; RMSE = 0.9580545\n",
            "Weights - 0.29 : 0.71 ; RMSE = 0.9564827\n",
            "Weights - 0.30 : 0.70 ; RMSE = 0.9549336\n",
            "Weights - 0.31 : 0.69 ; RMSE = 0.9534072\n",
            "Weights - 0.32 : 0.68 ; RMSE = 0.9519037\n",
            "Weights - 0.33 : 0.67 ; RMSE = 0.9504233\n",
            "Weights - 0.34 : 0.66 ; RMSE = 0.9489659\n",
            "Weights - 0.35 : 0.65 ; RMSE = 0.9475317\n",
            "Weights - 0.36 : 0.64 ; RMSE = 0.9461209\n",
            "Weights - 0.37 : 0.63 ; RMSE = 0.9447334\n",
            "Weights - 0.38 : 0.62 ; RMSE = 0.9433695\n",
            "Weights - 0.39 : 0.61 ; RMSE = 0.9420293\n",
            "Weights - 0.40 : 0.60 ; RMSE = 0.9407127\n",
            "Weights - 0.41 : 0.59 ; RMSE = 0.9394200\n",
            "Weights - 0.42 : 0.58 ; RMSE = 0.9381512\n",
            "Weights - 0.43 : 0.57 ; RMSE = 0.9369064\n",
            "Weights - 0.44 : 0.56 ; RMSE = 0.9356857\n",
            "Weights - 0.45 : 0.55 ; RMSE = 0.9344893\n",
            "Weights - 0.46 : 0.54 ; RMSE = 0.9333171\n",
            "Weights - 0.47 : 0.53 ; RMSE = 0.9321694\n",
            "Weights - 0.48 : 0.52 ; RMSE = 0.9310461\n",
            "Weights - 0.49 : 0.51 ; RMSE = 0.9299474\n",
            "Weights - 0.50 : 0.50 ; RMSE = 0.9288734\n",
            "Weights - 0.51 : 0.49 ; RMSE = 0.9278241\n",
            "Weights - 0.52 : 0.48 ; RMSE = 0.9267997\n",
            "Weights - 0.53 : 0.47 ; RMSE = 0.9258001\n",
            "Weights - 0.54 : 0.46 ; RMSE = 0.9248256\n",
            "Weights - 0.55 : 0.45 ; RMSE = 0.9238761\n",
            "Weights - 0.56 : 0.44 ; RMSE = 0.9229518\n",
            "Weights - 0.57 : 0.43 ; RMSE = 0.9220528\n",
            "Weights - 0.58 : 0.42 ; RMSE = 0.9211790\n",
            "Weights - 0.59 : 0.41 ; RMSE = 0.9203306\n",
            "Weights - 0.60 : 0.40 ; RMSE = 0.9195076\n",
            "Weights - 0.61 : 0.39 ; RMSE = 0.9187102\n",
            "Weights - 0.62 : 0.38 ; RMSE = 0.9179383\n",
            "Weights - 0.63 : 0.37 ; RMSE = 0.9171921\n",
            "Weights - 0.64 : 0.36 ; RMSE = 0.9164715\n",
            "Weights - 0.65 : 0.35 ; RMSE = 0.9157768\n",
            "Weights - 0.66 : 0.34 ; RMSE = 0.9151079\n",
            "Weights - 0.67 : 0.33 ; RMSE = 0.9144648\n",
            "Weights - 0.68 : 0.32 ; RMSE = 0.9138477\n",
            "Weights - 0.69 : 0.31 ; RMSE = 0.9132566\n",
            "Weights - 0.70 : 0.30 ; RMSE = 0.9126915\n",
            "Weights - 0.71 : 0.29 ; RMSE = 0.9121525\n",
            "Weights - 0.72 : 0.28 ; RMSE = 0.9116397\n",
            "Weights - 0.73 : 0.27 ; RMSE = 0.9111530\n",
            "Weights - 0.74 : 0.26 ; RMSE = 0.9106925\n",
            "Weights - 0.75 : 0.25 ; RMSE = 0.9102583\n",
            "Weights - 0.76 : 0.24 ; RMSE = 0.9098504\n",
            "Weights - 0.77 : 0.23 ; RMSE = 0.9094689\n",
            "Weights - 0.78 : 0.22 ; RMSE = 0.9091137\n",
            "Weights - 0.79 : 0.21 ; RMSE = 0.9087849\n",
            "Weights - 0.80 : 0.20 ; RMSE = 0.9084825\n",
            "Weights - 0.81 : 0.19 ; RMSE = 0.9082066\n",
            "Weights - 0.82 : 0.18 ; RMSE = 0.9079571\n",
            "Weights - 0.83 : 0.17 ; RMSE = 0.9077342\n",
            "Weights - 0.84 : 0.16 ; RMSE = 0.9075377\n",
            "Weights - 0.85 : 0.15 ; RMSE = 0.9073678\n",
            "Weights - 0.86 : 0.14 ; RMSE = 0.9072245\n",
            "Weights - 0.87 : 0.13 ; RMSE = 0.9071077\n",
            "Weights - 0.88 : 0.12 ; RMSE = 0.9070175\n",
            "Weights - 0.89 : 0.11 ; RMSE = 0.9069539\n",
            "Weights - 0.90 : 0.10 ; RMSE = 0.9069168\n",
            "Weights - 0.91 : 0.09 ; RMSE = 0.9069064\n",
            "Weights - 0.92 : 0.08 ; RMSE = 0.9069225\n",
            "Weights - 0.93 : 0.07 ; RMSE = 0.9069653\n",
            "Weights - 0.94 : 0.06 ; RMSE = 0.9070346\n",
            "Weights - 0.95 : 0.05 ; RMSE = 0.9071305\n",
            "Weights - 0.96 : 0.04 ; RMSE = 0.9072529\n",
            "Weights - 0.97 : 0.03 ; RMSE = 0.9074019\n",
            "Weights - 0.98 : 0.02 ; RMSE = 0.9075775\n",
            "Weights - 0.99 : 0.01 ; RMSE = 0.9077796\n"
          ]
        }
      ]
    },
    {
      "cell_type": "markdown",
      "source": [
        "- 베스트 : Weights - 0.91 : 0.09 ; RMSE = 0.9069064\n",
        "\n",
        "\n",
        "                    (MF-SGD 91%, CF-KNN 9%)"
      ],
      "metadata": {
        "id": "PYuPRVdHSAhF"
      }
    }
  ]
}